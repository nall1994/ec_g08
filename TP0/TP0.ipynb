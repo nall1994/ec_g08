{
 "cells": [
  {
   "cell_type": "markdown",
   "metadata": {},
   "source": [
    "# Trabalho Prático 0"
   ]
  },
  {
   "cell_type": "markdown",
   "metadata": {},
   "source": [
    "## Introdução"
   ]
  },
  {
   "cell_type": "markdown",
   "metadata": {},
   "source": [
    "A resolução deste trabalho prático tem como objetivo servir de iniciação à componente prática da unidade curricular de Estruturas criptográficas, onde se pretende:\n",
    "   - Instalar as ferramentas computacionais necessárias para a realização dos trabalhos práticos.\n",
    "   - Demonstrar pequenas aplicações implementadas em **Python** e em **SageMath**.\n",
    "\n",
    "A aplicação em **Python** deve ser implementada de tal forma que permita a comunicação entre um emissor e um recetor, com as seguintes caracteristicas:\n",
    "   - Criptograma e metadados devem ser autenticados.\n",
    "   - Utilizar uma _stream cipher_.\n",
    "   - Autenticar previamente a chave.\n",
    "    \n",
    "A aplicação em **SageMath** deve ser implementada de tal forma que:\n",
    "   - Crie 4 corpos finitos primos.\n",
    "   - Crie um _plot_ de uma função em cada um dos corpos finitos primos.\n",
    "   - Teste, por amostragem, uma proposição."
   ]
  },
  {
   "cell_type": "markdown",
   "metadata": {},
   "source": [
    "## Aplicação Python"
   ]
  },
  {
   "cell_type": "markdown",
   "metadata": {},
   "source": [
    "### Imports"
   ]
  },
  {
   "cell_type": "markdown",
   "metadata": {},
   "source": [
    "Esta secção executa os _imports_ de **Python** que contêm as funções necessárias para executar a aplicação desenvolvida."
   ]
  },
  {
   "cell_type": "code",
   "execution_count": 12,
   "metadata": {},
   "outputs": [],
   "source": [
    "import os\n",
    "from getpass import getpass\n",
    "from multiprocessing import Process,Pipe\n",
    "from cryptography.hazmat.backends import default_backend\n",
    "from cryptography.hazmat.primitives import hashes, hmac\n",
    "from cryptography.hazmat.primitives.kdf.pbkdf2 import PBKDF2HMAC\n",
    "from cryptography.hazmat.primitives.ciphers import Cipher, algorithms, modes"
   ]
  },
  {
   "cell_type": "markdown",
   "metadata": {},
   "source": [
    "### Definição da classe de multiprocessamento"
   ]
  },
  {
   "cell_type": "markdown",
   "metadata": {},
   "source": [
    "Esta secção tem o propósito de definir a classe de multiprocessamento, que permite uma comunicação bidireccional com o _Emitter_ e o _Receiver_."
   ]
  },
  {
   "cell_type": "code",
   "execution_count": 5,
   "metadata": {},
   "outputs": [],
   "source": [
    "class BiConnection(object):\n",
    "    def __init__(self,right,left):\n",
    "        left_side,right_side = Pipe()\n",
    "        self.timeout = None\n",
    "        self.left_process = Process(target=left,args=(left_side,))\n",
    "        self.right_process = Process(target=right,args=(right_side,))\n",
    "        self.left = lambda : left(left_side)\n",
    "        self.right = lambda : right(right_side)\n",
    "    \n",
    "    def manual(self): # Execução manual apenas devido ao facto de a password ter que ser lida em ambos os lados do Pipe\n",
    "        self.left()\n",
    "        self.right()\n",
    "    "
   ]
  },
  {
   "cell_type": "markdown",
   "metadata": {},
   "source": [
    "### Definição do Emissor e do Recetor"
   ]
  },
  {
   "cell_type": "markdown",
   "metadata": {},
   "source": [
    "Esta secção tem o propósito de definir o emissor e o recetor nesta comunicação bidireccional, bem como as acções que cada um deve executar nesta aplicação."
   ]
  },
  {
   "cell_type": "code",
   "execution_count": 22,
   "metadata": {},
   "outputs": [],
   "source": [
    "def Emissor(connection):\n",
    "    con_salt = os.urandom(16)\n",
    "    passwd = bytes(getpass('Password do emissor: '),'utf-8')\n",
    "    text_to_send = os.urandom(1024)\n",
    "    try:\n",
    "        derivation = PBKDF2HMAC(\n",
    "                algorithm = hashes.SHA256(),\n",
    "                length = 64,\n",
    "                salt = con_salt,\n",
    "                iterations = 100000,\n",
    "                backend = default_backend()\n",
    "        )\n",
    "        full_key = derivation.derive(passwd)\n",
    "        cript_key = full_key[:32]\n",
    "        mac_key = full_key[32:]\n",
    "        # Utilizar o AES com um dos modos que simula a stream cipher.\n",
    "        nonce = os.urandom(16)\n",
    "        cipher = Cipher(algorithm = algorithms.AES(cript_key),mode= modes.CTR(nonce),backend = default_backend())\n",
    "        cryptogram = cipher.encryptor().update(text_to_send)\n",
    "        message_to_authenticate = cryptogram + nonce\n",
    "        hash_msg = hmac.HMAC(mac_key,hashes.SHA256(),default_backend()).update(message_to_authenticate)\n",
    "        obj = {'cryptogram': cryptogram, 'mac_code': hash_msg, 'salt': con_salt, 'nonce': nonce}\n",
    "        connection.send(obj)\n",
    "    except Exception as e:\n",
    "        print(e)\n"
   ]
  },
  {
   "cell_type": "code",
   "execution_count": null,
   "metadata": {},
   "outputs": [],
   "source": []
  }
 ],
 "metadata": {
  "kernelspec": {
   "display_name": "Python 3",
   "language": "python",
   "name": "python3"
  },
  "language_info": {
   "codemirror_mode": {
    "name": "ipython",
    "version": 3
   },
   "file_extension": ".py",
   "mimetype": "text/x-python",
   "name": "python",
   "nbconvert_exporter": "python",
   "pygments_lexer": "ipython3",
   "version": "3.7.2"
  }
 },
 "nbformat": 4,
 "nbformat_minor": 2
}
