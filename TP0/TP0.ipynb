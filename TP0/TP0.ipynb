{
 "cells": [
  {
   "cell_type": "markdown",
   "metadata": {},
   "source": [
    "# Trabalho Prático 0"
   ]
  },
  {
   "cell_type": "markdown",
   "metadata": {},
   "source": [
    "## Introdução"
   ]
  },
  {
   "cell_type": "markdown",
   "metadata": {},
   "source": [
    "A resolução deste trabalho prático tem como objetivo servir de iniciação à componente prática da unidade curricular de Estruturas criptográficas, onde se pretende:\n",
    "   - Instalar as ferramentas computacionais necessárias para a realização dos trabalhos práticos.\n",
    "   - Demonstrar pequenas aplicações implementadas em **Python** e em **SageMath**.\n",
    "\n",
    "A aplicação em **Python** deve ser implementada de tal forma que permita a comunicação entre um emissor e um recetor, com as seguintes caracteristicas:\n",
    "   - Criptograma e metadados devem ser autenticados.\n",
    "   - Utilizar uma cifra simétrica em modo _stream cipher_.\n",
    "   - Autenticar previamente a chave.\n",
    "    \n",
    "A aplicação em **SageMath** deve ser implementada de tal forma que:\n",
    "   - Crie 4 corpos finitos primos.\n",
    "   - Crie um _plot_ de uma função em cada um dos corpos finitos primos.\n",
    "   - Teste, por amostragem, o facto de que, considerando um expoente _n_, um elemento primitivo de um corpo _g_ e um número primo _p_, se $g ^ n = 1$ , então $n = 0 mod (p-1)$."
   ]
  },
  {
   "cell_type": "markdown",
   "metadata": {},
   "source": [
    "## Aplicação Python"
   ]
  },
  {
   "cell_type": "markdown",
   "metadata": {},
   "source": [
    "### Imports"
   ]
  },
  {
   "cell_type": "markdown",
   "metadata": {},
   "source": [
    "Esta secção executa os _imports_ de **Python** que contêm as funções necessárias para desenvolver a aplicação enunciada."
   ]
  },
  {
   "cell_type": "code",
   "execution_count": 1,
   "metadata": {},
   "outputs": [],
   "source": [
    "import os\n",
    "from getpass import getpass\n",
    "from multiprocessing import Process,Pipe\n",
    "from cryptography.hazmat.backends import default_backend\n",
    "from cryptography.hazmat.primitives import hashes, hmac\n",
    "from cryptography.hazmat.primitives.kdf.pbkdf2 import PBKDF2HMAC\n",
    "from cryptography.hazmat.primitives.ciphers import Cipher, algorithms, modes\n",
    "from cryptography.exceptions import InvalidSignature\n",
    "from base64 import b64encode, b64decode"
   ]
  },
  {
   "cell_type": "markdown",
   "metadata": {},
   "source": [
    "### Definição da classe de multiprocessamento"
   ]
  },
  {
   "cell_type": "markdown",
   "metadata": {},
   "source": [
    "Esta secção tem o propósito de definir a classe de multiprocessamento, que permite uma comunicação bidireccional com o _Emitter_ e o _Receiver_, sendo estes dois processos criados e implementados pela **API** [**multiprocessing**](https://docs.python.org/2/library/multiprocessing.html)."
   ]
  },
  {
   "cell_type": "code",
   "execution_count": 2,
   "metadata": {},
   "outputs": [],
   "source": [
    "class BiConnection(object):\n",
    "    def __init__(self,left,right):\n",
    "        left_side,right_side = Pipe()\n",
    "        self.timeout = None\n",
    "        self.left_process = Process(target=left,args=(left_side,))\n",
    "        self.right_process = Process(target=right,args=(right_side,))\n",
    "        self.left = lambda : left(left_side)\n",
    "        self.right = lambda : right(right_side)\n",
    "    \n",
    "    def manual(self): # Execução manual apenas devido ao facto de a password ter que ser lida em ambos os lados do Pipe\n",
    "        self.left()\n",
    "        self.right()\n",
    "    "
   ]
  },
  {
   "cell_type": "markdown",
   "metadata": {},
   "source": [
    "### Definição do Emissor e do Recetor"
   ]
  },
  {
   "cell_type": "markdown",
   "metadata": {},
   "source": [
    "Nesta secção encontram-se implementados os comportamentos do emissor e do recetor que participam na comunicação bidireccional da aplicação."
   ]
  },
  {
   "cell_type": "code",
   "execution_count": 3,
   "metadata": {},
   "outputs": [],
   "source": [
    "def Emissor(connection):\n",
    "    con_salt = os.urandom(16)\n",
    "    passwd = bytes(getpass('Password do emissor: '),'utf-8')\n",
    "    text_to_send = os.urandom(128)\n",
    "    print('Texto a cifrar e enviar:')\n",
    "    print(b64encode(text_to_send))\n",
    "    try:\n",
    "        #derivar a chave apartir da password\n",
    "        derivation = PBKDF2HMAC(\n",
    "                algorithm = hashes.SHA256(),\n",
    "                length = 96,\n",
    "                salt = con_salt,\n",
    "                iterations = 100000,\n",
    "                backend = default_backend()\n",
    "        )\n",
    "        #Separar a password para cifragem e autenticação\n",
    "        full_key = derivation.derive(passwd)\n",
    "        cript_key = full_key[:32]\n",
    "        mac_key = full_key[32:64]\n",
    "        mac_passwd_key = full_key[64:]\n",
    "        \n",
    "        # Utilizar o AES com um dos modos que o torna numa stream cipher para cifrar o criptograma.\n",
    "        nonce = os.urandom(16)\n",
    "        cipher = Cipher(algorithm = algorithms.AES(cript_key),mode= modes.CTR(nonce),backend = default_backend())\n",
    "        cryptogram = cipher.encryptor().update(text_to_send)\n",
    "        \n",
    "        #geração do código de autenticação do criptograma e dos metadados\n",
    "        message_to_authenticate = cryptogram + nonce + con_salt\n",
    "        hasher = hmac.HMAC(mac_key,hashes.SHA256(),default_backend())\n",
    "        hasher.update(message_to_authenticate)\n",
    "        hash_msg = hasher.finalize()\n",
    "        \n",
    "        #geração do código de autenticação da chave\n",
    "        #esforço computacional é reduzido no recetor caso insira a password errada.\n",
    "        hasher_passwd = hmac.HMAC(mac_passwd_key,hashes.SHA256(),default_backend())\n",
    "        hasher_passwd.update(cript_key)\n",
    "        hash_pass = hasher_passwd.finalize()\n",
    "        obj = {'cryptogram': cryptogram, 'mac_code': hash_msg,'pass_code': hash_pass, 'salt': con_salt, 'nonce': nonce}\n",
    "        connection.send(obj)\n",
    "    except Exception as e:\n",
    "        print(e)\n",
    "def Recetor(connection):\n",
    "    passwd = bytes(getpass('Password do recetor: '), 'utf-8')\n",
    "    try:\n",
    "        obj = connection.recv()\n",
    "        \n",
    "        #Obter parâmetros no objeto\n",
    "        pass_code = obj['pass_code']\n",
    "        cryptogram = obj['cryptogram']\n",
    "        mac_code = obj['mac_code']\n",
    "        salt = obj['salt']\n",
    "        nonce = obj['nonce']\n",
    "        \n",
    "        #derivar a chave apartir da password lida\n",
    "        derivation = PBKDF2HMAC(\n",
    "                algorithm = hashes.SHA256(),\n",
    "                length = 96,\n",
    "                salt = salt,\n",
    "                iterations = 100000,\n",
    "                backend = default_backend()\n",
    "        )\n",
    "        #Separar a password para cifragem e autenticação\n",
    "        full_key = derivation.derive(passwd)\n",
    "        cript_key = full_key[:32]\n",
    "        mac_key = full_key[32:64]\n",
    "        mac_passwd_key = full_key[64:]\n",
    "        \n",
    "        \n",
    "        \n",
    "        #Autenticação prévia da chave\n",
    "        hasher_passwd = hmac.HMAC(mac_passwd_key,hashes.SHA256(),default_backend())\n",
    "        hasher_passwd.update(cript_key)\n",
    "        hasher_passwd.verify(pass_code)\n",
    "        \n",
    "        #Autenticação do criptograma e metadados\n",
    "        message_to_authenticate = cryptogram + nonce + salt\n",
    "        hash_msg = hmac.HMAC(mac_key,hashes.SHA256(),default_backend())\n",
    "        hash_msg.update(message_to_authenticate)\n",
    "        try:\n",
    "            hash_msg.verify(mac_code)\n",
    "            \n",
    "            #Decifrar criptograma\n",
    "            cipher = Cipher(algorithm = algorithms.AES(cript_key),mode = modes.CTR(nonce),backend = default_backend())\n",
    "            plain_text = cipher.decryptor().update(cryptogram)\n",
    "            print('Texto decifrado:')\n",
    "            print(b64encode(plain_text))\n",
    "        except InvalidSignature as i:\n",
    "            print(\"Código de autenticação não é válido!\")\n",
    "    except Exception as e:\n",
    "        print(e)\n",
    "    connection.close()\n",
    "        \n",
    "        \n"
   ]
  },
  {
   "cell_type": "markdown",
   "metadata": {},
   "source": [
    "### Iniciação do processo"
   ]
  },
  {
   "cell_type": "markdown",
   "metadata": {},
   "source": [
    "Por último, resta apenas criar um objeto de conexão bidireccional passando-lhe como argumentos o emissor e o recetor definidos e, finalmente, prosseguindo com a execução de ambos os processos através da chamada à função manual."
   ]
  },
  {
   "cell_type": "code",
   "execution_count": 4,
   "metadata": {},
   "outputs": [
    {
     "name": "stdout",
     "output_type": "stream",
     "text": [
      "Password do emissor: ········\n",
      "Texto a cifrar e enviar:\n",
      "b'EPDPQ2UhDbb7HTpZKIWNH/kTD8ignHMIHO0lpCrH++GDkdm3Eq8UieF+CQq5c3KH99iOzyXnOjNFNrEWdcbS3eHXco6upMKY6EVrJGcZyuZONOJX1PIvTmsDFOYnHIta5+TZ4k4LiUb6010QBCHVvM1cGi6hQty35HdGSskbwjc='\n",
      "Password do recetor: ········\n",
      "Texto decifrado:\n",
      "b'EPDPQ2UhDbb7HTpZKIWNH/kTD8ignHMIHO0lpCrH++GDkdm3Eq8UieF+CQq5c3KH99iOzyXnOjNFNrEWdcbS3eHXco6upMKY6EVrJGcZyuZONOJX1PIvTmsDFOYnHIta5+TZ4k4LiUb6010QBCHVvM1cGi6hQty35HdGSskbwjc='\n"
     ]
    }
   ],
   "source": [
    "BiConnection(Emissor,Recetor).manual()"
   ]
  },
  {
   "cell_type": "markdown",
   "metadata": {},
   "source": [
    "Através de uma ligera comparação entre o texto antes de ser cifrado e depois de ser decifrado, pode-se verificar que é exatamente o mesmo."
   ]
  }
 ],
 "metadata": {
  "kernelspec": {
   "display_name": "Python 3",
   "language": "python",
   "name": "python3"
  },
  "language_info": {
   "codemirror_mode": {
    "name": "ipython",
    "version": 3
   },
   "file_extension": ".py",
   "mimetype": "text/x-python",
   "name": "python",
   "nbconvert_exporter": "python",
   "pygments_lexer": "ipython3",
   "version": "3.7.2"
  }
 },
 "nbformat": 4,
 "nbformat_minor": 2
}
