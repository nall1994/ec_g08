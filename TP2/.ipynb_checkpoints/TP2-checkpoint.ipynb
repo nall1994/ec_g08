{
 "cells": [
  {
   "cell_type": "markdown",
   "metadata": {},
   "source": [
    "# Trabalho Prático 2"
   ]
  },
  {
   "cell_type": "markdown",
   "metadata": {},
   "source": [
    "## Introdução"
   ]
  },
  {
   "cell_type": "markdown",
   "metadata": {},
   "source": [
    "A resolução deste trabalho prático tem como propósito introduzir o **SageMath**, corpos finitos primos, curvas elípticas sobre esses corpos e esquemas criptográficos baseados nos mesmos.\n",
    "Os principais objetivos passam por:\n",
    "\n",
    "- Implementar um esquema _RSA_ como uma classe **Python**.\n",
    "- Implementar um esquema _ECDSA_ como uma classe **Python**.\n",
    "- Implementar um esquema _ECDH_ como uma classe **Python**.\n",
    "\n",
    "Além disso, devem ser aplicadas as seguintes particularidades aos esquemas desenvolvidos:\n",
    "\n",
    "- O esquema _RSA_ deve fornecer métodos para cifrar, decifrar, assinar e verificar uma mensagem.\n",
    "- O esquema _ECDSA_ deve utilizar uma das curvas primas definidas no **FIPS186-4**.\n",
    "- O esquema _ECDH_ deve utilizar curvas elíticas binárias.\n",
    "\n",
    "O relatório está dividido em três partes, uma por cada um dos objetivos a cumprir. Além disso, está estruturado de forma a que o texto entre os _snippets_ de código seja suficientemente explicativo, sobre a implementação e desenho da solução."
   ]
  },
  {
   "cell_type": "markdown",
   "metadata": {},
   "source": [
    "**PODERÁ SER PRECISO ALGO AQUI, COMO IMPORTS DO SAGEMATH OU ASSIM**"
   ]
  },
  {
   "cell_type": "markdown",
   "metadata": {},
   "source": [
    "## Esquema RSA"
   ]
  },
  {
   "cell_type": "markdown",
   "metadata": {},
   "source": [
    "O objetivo desta secção passa por definir a classe **Python** que implementa o algoritmo **RSA**. Esta permitirá inicializar uma intância, fornecendo-lhe o parâmetro de segurança (tamanho de chave). Após criada a instância, a mesma permitirá:\n",
    "\n",
    "- Cifrar uma mensagem.\n",
    "- Decifrar uma mensagem previamente cifrada.\n",
    "- Assinar digitalmente uma mensagem.\n",
    "- Verificar uma assinatura digital de uma mensagem, previamente produzida."
   ]
  },
  {
   "cell_type": "markdown",
   "metadata": {},
   "source": [
    "### Definição do esquema RSA"
   ]
  },
  {
   "cell_type": "code",
   "execution_count": 74,
   "metadata": {},
   "outputs": [],
   "source": [
    "# import hashlib - Se for necessária calcular o hash da assinatura.\n",
    "# Se for um esquema RSA simples aqui não é necessário!\n",
    "from sage.crypto.util import ascii_to_bin, bin_to_ascii\n",
    "\n",
    "class RSA:\n",
    "    \n",
    "    def __init__(self,l):\n",
    "        r = random_prime(2**((l/2) + 1)/2,(2**(l/2))/2)\n",
    "        p = random_prime((2*r + 1)**2, 2*r + 1)\n",
    "        self.q = p * r\n",
    "        phi = (p - 1) * (r - 1)\n",
    "        \n",
    "        k = ZZ.random_element(phi)\n",
    "        while gcd(k, phi) != 1:\n",
    "             k = ZZ.random_element(phi)\n",
    "        self.k = k\n",
    "        \n",
    "        self.s = inverse_mod(self.k,phi)\n",
    "    \n",
    "    def encrypt(self,plaintext):\n",
    "        raw = ascii_to_bin(plaintext)\n",
    "        plaintext = ZZ(int(str(raw),2))\n",
    "        return power_mod(plaintext,self.k,self.q)       \n",
    "    \n",
    "    def decrypt(self,ciphertext):\n",
    "        raw = power_mod(ciphertext,self.s,self.q)\n",
    "        raw_b = raw.binary()\n",
    "        \n",
    "        #Acrescentar bits 0 menos significativos para que seja multiplo de 8\n",
    "        bits_missing = 8 - Mod(len(raw_b),8)\n",
    "        raw = ('0' * bits_missing) + raw_b\n",
    "\n",
    "        return bin_to_ascii(raw)\n",
    "    \n",
    "    def sign(self,message):\n",
    "        raw = ascii_to_bin(message)\n",
    "        message = ZZ(int(str(raw),2))\n",
    "        return power_mod(message,self.s,self.q)        \n",
    "    \n",
    "    def verify(self,message,signature):\n",
    "        mk = power_mod(signature,self.k,self.q)\n",
    "        mk_raw = mk.binary()\n",
    "        \n",
    "        #Acrescentar bits 0 menos significativos para que seja multiplo de 8\n",
    "        bits_missing = 8 - Mod(len(mk_raw),8)\n",
    "        mk_raw = ('0' * bits_missing) + mk_raw\n",
    "        \n",
    "        mk_raw = bin_to_ascii(mk_raw)\n",
    "        return mk_raw == message"
   ]
  },
  {
   "cell_type": "markdown",
   "metadata": {},
   "source": [
    "### Teste ao Esquema RSA"
   ]
  },
  {
   "cell_type": "code",
   "execution_count": 73,
   "metadata": {},
   "outputs": [
    {
     "name": "stdout",
     "output_type": "stream",
     "text": [
      "Estruturas Criptográficas - Trabalho 2 - Iniciação SageMath - Esquema RSA\n",
      "10221933963982756647669797174145788403694533287217624860221007086933576001091168818155011224978544331716858476907126795268918681525860283178315534856332879342124698199911938956178613280312904990318506111351486173583608700256518392230300227884774530051597950019305502428304566417744828766157893122613819944493308802541483037775695899250138177559962109803423415396921726283028079296077252151279430513021490494457644732060637658219131505195961448170009838018239038971954714674814862585051122734354272115056774104308726863459743223311886531201897337086387564248007255339709584132607300667666208171285244690902845757391986153266559012134434932996610821176320613558985788132989745662688126239884647263316111395385095929291503235897555171501343994938583101830055807231078396873259130606319336303630205272456348484457133453933598310986069363474251133748026629572773626856268584167723971532458374742193105810863715664352486445055987410\n",
      "Estruturas Criptográficas - Trabalho 2 - Iniciação SageMath - Esquema RSA\n",
      "OK\n"
     ]
    }
   ],
   "source": [
    "r = RSA(2048)\n",
    "msg = \"Estruturas Criptográficas - Trabalho 2 - Iniciação SageMath - Esquema RSA\"\n",
    "print(msg)\n",
    "ciphertext = r.encrypt(msg)\n",
    "\n",
    "print(ciphertext)\n",
    "\n",
    "plaintext = r.decrypt(ciphertext)\n",
    "print(plaintext)\n",
    "\n",
    "sig = r.sign(msg)\n",
    "if(r.verify(msg,sig)):\n",
    "    print('OK')\n",
    "else: print('Not OK!')"
   ]
  },
  {
   "cell_type": "markdown",
   "metadata": {},
   "source": [
    "## Esquema ECDSA"
   ]
  },
  {
   "cell_type": "markdown",
   "metadata": {},
   "source": [
    "## Esquema ECDH"
   ]
  },
  {
   "cell_type": "code",
   "execution_count": null,
   "metadata": {},
   "outputs": [],
   "source": []
  },
  {
   "cell_type": "markdown",
   "metadata": {},
   "source": [
    "## Conclusão"
   ]
  },
  {
   "cell_type": "markdown",
   "metadata": {},
   "source": []
  },
  {
   "cell_type": "markdown",
   "metadata": {},
   "source": [
    "## Referências"
   ]
  },
  {
   "cell_type": "markdown",
   "metadata": {},
   "source": []
  },
  {
   "cell_type": "code",
   "execution_count": null,
   "metadata": {},
   "outputs": [],
   "source": []
  }
 ],
 "metadata": {
  "kernelspec": {
   "display_name": "SageMath 8.6",
   "language": "",
   "name": "sagemath"
  },
  "language_info": {
   "codemirror_mode": {
    "name": "ipython",
    "version": 2
   },
   "file_extension": ".py",
   "mimetype": "text/x-python",
   "name": "python",
   "nbconvert_exporter": "python",
   "pygments_lexer": "ipython2",
   "version": "2.7.15"
  }
 },
 "nbformat": 4,
 "nbformat_minor": 2
}
