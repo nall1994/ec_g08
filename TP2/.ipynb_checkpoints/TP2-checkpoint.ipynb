{
 "cells": [
  {
   "cell_type": "markdown",
   "metadata": {},
   "source": [
    "# Trabalho Prático 2"
   ]
  },
  {
   "cell_type": "markdown",
   "metadata": {},
   "source": [
    "## Introdução"
   ]
  },
  {
   "cell_type": "markdown",
   "metadata": {},
   "source": [
    "A resolução deste trabalho prático tem como propósito introduzir o **SageMath**, corpos finitos primos, curvas elípticas sobre esses corpos e esquemas criptográficos baseados nos mesmos.\n",
    "Os principais objetivos passam por:\n",
    "\n",
    "- Implementar um esquema _RSA_ como uma classe **Python**.\n",
    "- Implementar um esquema _ECDSA_ como uma classe **Python**.\n",
    "- Implementar um esquema _ECDH_ como uma classe **Python**.\n",
    "\n",
    "Além disso, devem ser aplicadas as seguintes particularidades aos esquemas desenvolvidos:\n",
    "\n",
    "- O esquema _RSA_ deve fornecer métodos para cifrar, decifrar, assinar e verificar uma mensagem.\n",
    "- O esquema _ECDSA_ deve utilizar uma das curvas primas definidas no **FIPS186-4**.\n",
    "- O esquema _ECDH_ deve utilizar curvas elíticas binárias.\n",
    "\n",
    "O relatório está dividido em três partes, uma por cada um dos objetivos a cumprir. Além disso, está estruturado de forma a que o texto entre os _snippets_ de código seja suficientemente explicativo, sobre a implementação e desenho da solução."
   ]
  },
  {
   "cell_type": "markdown",
   "metadata": {},
   "source": [
    "## Imports e funções comuns"
   ]
  },
  {
   "cell_type": "markdown",
   "metadata": {},
   "source": [
    "Esta secção tem como objetivo importar as bibliotecas que serão necessárias na definição dos esquemas implementados neste trabalho, bem como qualquer função que seja comum aos mesmos e que possa ser utilizada em dois ou mais casos."
   ]
  },
  {
   "cell_type": "code",
   "execution_count": 2,
   "metadata": {},
   "outputs": [],
   "source": [
    "import hashlib\n",
    "from sage.crypto.util import ascii_to_bin, bin_to_ascii\n",
    "\n",
    "def hash_message(message):\n",
    "    digest = hashlib.sha256(message).hexdigest()\n",
    "    return digest\n",
    "\n",
    "def convert_to_ZZ(message):\n",
    "    raw = ascii_to_bin(message)\n",
    "    return ZZ(int(str(raw),2))\n",
    "\n",
    "def bpf(factors):\n",
    "    f = 0\n",
    "    for pair in factors:\n",
    "        p = pair[0]\n",
    "        if p > f:\n",
    "            f = p\n",
    "    return f\n",
    "    "
   ]
  },
  {
   "cell_type": "markdown",
   "metadata": {},
   "source": [
    "## Esquema RSA"
   ]
  },
  {
   "cell_type": "markdown",
   "metadata": {},
   "source": [
    "O objetivo desta secção passa por definir a classe **Python** que implementa o algoritmo **RSA**. Esta permitirá inicializar uma intância, fornecendo-lhe o parâmetro de segurança (tamanho de chave). Após criada a instância, a mesma permitirá:\n",
    "\n",
    "- Cifrar uma mensagem.\n",
    "- Decifrar uma mensagem previamente cifrada.\n",
    "- Assinar digitalmente uma mensagem.\n",
    "- Verificar uma assinatura digital de uma mensagem, previamente produzida."
   ]
  },
  {
   "cell_type": "markdown",
   "metadata": {},
   "source": [
    "### Definição do esquema RSA"
   ]
  },
  {
   "cell_type": "code",
   "execution_count": null,
   "metadata": {},
   "outputs": [],
   "source": [
    "class RSA:\n",
    "    \n",
    "    def __init__(self,l):\n",
    "        while True:\n",
    "            r = random_prime(2**l-1,True,2**(l-1))\n",
    "            p = random_prime(2**(l+1),True, 2**l)\n",
    "            if 2*r >= 2**(l/2) and p > 2*r:\n",
    "                break\n",
    "        self.q = p * r\n",
    "        phi = (p - 1) * (r - 1)\n",
    "        \n",
    "        k = ZZ.random_element(phi)\n",
    "        while gcd(k, phi) != 1:\n",
    "             k = ZZ.random_element(phi)\n",
    "        self.k = k\n",
    "        \n",
    "        self.s = inverse_mod(self.k,phi)\n",
    "    \n",
    "    def encrypt(self,plaintext):\n",
    "        plaintext = convert_to_ZZ(plaintext)\n",
    "        ciphertext_zz = power_mod(plaintext,self.k,self.q)\n",
    "        ciphertext_zz_raw = ciphertext_zz.binary()\n",
    "        \n",
    "        bits_missing = 8 - Mod(len(ciphertext_zz_raw),8)\n",
    "        raw = ('0' * bits_missing) + ciphertext_zz_raw\n",
    "        ciphertext = bin_to_ascii(raw)\n",
    "        \n",
    "        return ciphertext      \n",
    "    \n",
    "    def decrypt(self,ciphertext):\n",
    "        ciphertext = convert_to_ZZ(ciphertext)\n",
    "        plaintext = power_mod(ciphertext,self.s,self.q)\n",
    "        raw_b = plaintext.binary()\n",
    "        \n",
    "        bits_missing = 8 - Mod(len(raw_b),8)\n",
    "        raw = ('0' * bits_missing) + raw_b\n",
    "\n",
    "        return bin_to_ascii(raw)        \n",
    "    \n",
    "    def sign(self,message):\n",
    "        msg_hash = hash_message(message)\n",
    "        message = convert_to_ZZ(msg_hash)\n",
    "        return power_mod(message,self.s,self.q)        \n",
    "    \n",
    "    def verify(self,message,signature):\n",
    "        mk = power_mod(signature,self.k,self.q)\n",
    "        mk_raw = mk.binary()\n",
    "        \n",
    "        bits_missing = 8 - Mod(len(mk_raw),8)\n",
    "        mk_raw = ('0' * bits_missing) + mk_raw\n",
    "        \n",
    "        message = hash_message(message)\n",
    "        mk_raw = bin_to_ascii(mk_raw)\n",
    "        return mk_raw == message"
   ]
  },
  {
   "cell_type": "markdown",
   "metadata": {},
   "source": [
    "### Teste ao Esquema RSA"
   ]
  },
  {
   "cell_type": "code",
   "execution_count": null,
   "metadata": {},
   "outputs": [],
   "source": [
    "# Iniciar uma instância RSA com parâmetro de segurança de 1024.\n",
    "r = RSA(1024)\n",
    "msg = \"Estruturas Criptográficas - Trabalho 2 - Iniciação SageMath - Esquema RSA\"\n",
    "print('message:')\n",
    "print(msg)\n",
    "\n",
    "#cifrar a mensagem com a instância previamente criada\n",
    "ciphertext = r.encrypt(msg)\n",
    "\n",
    "print('\\n ciphertext:')\n",
    "print(ciphertext)\n",
    "print('\\n')\n",
    "\n",
    "#Decifrar o criptograma previamente produzido\n",
    "plaintext = r.decrypt(ciphertext)\n",
    "print('decrypted:')\n",
    "print(plaintext)\n",
    "\n",
    "#Assinar e verificar a assinatura\n",
    "print('\\n')\n",
    "print('signature result:')\n",
    "sig = r.sign(msg)\n",
    "if(r.verify(msg,sig)):\n",
    "    print('OK')\n",
    "else: print('Not OK!')"
   ]
  },
  {
   "cell_type": "markdown",
   "metadata": {},
   "source": [
    "## Esquema ECDSA"
   ]
  },
  {
   "cell_type": "markdown",
   "metadata": {},
   "source": [
    "### Definição da curva _NIST_"
   ]
  },
  {
   "cell_type": "code",
   "execution_count": null,
   "metadata": {},
   "outputs": [],
   "source": [
    "NIST = dict()\n",
    "NIST['P-256'] = {\n",
    "    'p': 115792089210356248762697446949407573530086143415290314195533631308867097853951,\n",
    "    'n': 115792089210356248762697446949407573529996955224135760342422259061068512044369,\n",
    "    'seed': 'c49d360886e704936a6678e1139d26b7819f7e90',\n",
    "    'c': '7efba1662985be9403cb055c75d4f7e0ce8d84a9c5114abcaf3177680104fa0d',\n",
    "    'b': '5ac635d8aa3a93e7b3ebbd55769886bc651d06b0cc53b0f63bce3c3e27d2604b',\n",
    "    'Gx': '6b17d1f2e12c4247f8bce6e563a440f277037d812deb33a0f4a13945d898c296',\n",
    "    'Gy': '4fe342e2fe1a7f9b8ee7eb4a7c0f9e162bce33576b315ececbb6406837bf51f5'\n",
    "}"
   ]
  },
  {
   "cell_type": "markdown",
   "metadata": {},
   "source": [
    "### Definição do esquema ECDSA"
   ]
  },
  {
   "cell_type": "code",
   "execution_count": null,
   "metadata": {},
   "outputs": [],
   "source": [
    "class ECDSA:\n",
    "    \n",
    "    def __init__(self):\n",
    "        curve = NIST['P-256']\n",
    "        p = curve['p']\n",
    "        self.n = curve['n']\n",
    "        b = ZZ(curve['b'],16)\n",
    "        Gx = ZZ(curve['Gx'],16)\n",
    "        Gy = ZZ(curve['Gy'],16)\n",
    "        self.E = EllipticCurve(GF(p),[-3,b])\n",
    "        self.G = self.E((Gx,Gy))\n",
    "    \n",
    "    def generate_key_pair(self):\n",
    "        private_key = ZZ.random_element(1,self.n - 1)\n",
    "        public_key = private_key * self.G\n",
    "        return (private_key,public_key)\n",
    "    \n",
    "    def sign(self,message,sk):\n",
    "        digest = hash_message(message)\n",
    "        digest = convert_to_ZZ(digest)\n",
    "        back_to_1 = False\n",
    "        while not back_to_1:\n",
    "            ok = False\n",
    "            k = ZZ.random_element(1,self.n-1)\n",
    "            r_point = k * self.G\n",
    "            r = Mod(r_point[0],self.n)\n",
    "            if r == 0:\n",
    "                back_to_1 = False\n",
    "            else :\n",
    "                while not ok:\n",
    "                    k_inverse = inverse_mod(k,self.n)\n",
    "                    temp_calc = k_inverse * (digest + (r*sk))\n",
    "                    s = ZZ(Mod(temp_calc,self.n))\n",
    "                    if s == 0:\n",
    "                        ok = True\n",
    "                    else:\n",
    "                        ok = True\n",
    "                        back_to_1 = True\n",
    "        \n",
    "        return r,s\n",
    "    \n",
    "    def verify(self,message,signature,pk):\n",
    "        sig_r = signature[0]\n",
    "        sig_s = signature[1]\n",
    "        if (sig_r < 1 or sig_r > self.n -1 or sig_s < 1 or sig_s > self.n - 1):\n",
    "            return False\n",
    "        else:\n",
    "            digest = hash_message(message)\n",
    "            digest = convert_to_ZZ(digest)\n",
    "            w = inverse_mod(sig_s,self.n)\n",
    "            u1 = ZZ(Mod(digest*w,self.n))\n",
    "            u2 = ZZ(Mod(sig_r*w,self.n))\n",
    "            cp = u1*self.G + u2*pk\n",
    "            # verificar se cp é o ponto no infinito. se for assinatura invalida\n",
    "            if Mod(cp[0],self.n) == Mod(sig_r,self.n):\n",
    "                return True\n",
    "            else:\n",
    "                return False"
   ]
  },
  {
   "cell_type": "markdown",
   "metadata": {},
   "source": [
    "### Teste ao esquema ECDSA"
   ]
  },
  {
   "cell_type": "code",
   "execution_count": null,
   "metadata": {},
   "outputs": [],
   "source": [
    "e = ECDSA()\n",
    "key_pair = e.generate_key_pair()\n",
    "msg = \"Estruturas Criptográficas - Trabalho 2 - Iniciação SageMath - Esquema RSA\"\n",
    "r,s = e.sign(msg,key_pair[0])\n",
    "if e.verify(msg,(r,s),key_pair[1]):\n",
    "    print 'OK'\n",
    "else:\n",
    "    print 'Not OK'"
   ]
  },
  {
   "cell_type": "markdown",
   "metadata": {},
   "source": [
    "## Esquema ECDH"
   ]
  },
  {
   "cell_type": "markdown",
   "metadata": {},
   "source": [
    "### Definição do esquema ECDH"
   ]
  },
  {
   "cell_type": "code",
   "execution_count": 3,
   "metadata": {},
   "outputs": [],
   "source": [
    "class ECDH:\n",
    "    \n",
    "    def __init__(self,n):\n",
    "        K.<t> = GF(2^n)\n",
    "        ok = False\n",
    "        while not ok:\n",
    "            b = K.random_element()\n",
    "            E = EllipticCurve(K,[1,1,0,0,b])\n",
    "            e_order = E.order()\n",
    "            F = factor(e_order)\n",
    "            N = bpf(list(F))\n",
    "            if N < 2^(n-1):\n",
    "                pass\n",
    "            else:\n",
    "                while True:\n",
    "                    P = E.random_element()\n",
    "                    P_order = P.order()\n",
    "                    if P_order < N:\n",
    "                        pass\n",
    "                    elif P_order > N:\n",
    "                        h = P_order/N\n",
    "                        G = h*P\n",
    "                        self.N = N\n",
    "                        self.b = b\n",
    "                        self.G = G\n",
    "                        ok = True\n",
    "                        break\n",
    "                    else:\n",
    "                        self.N = N\n",
    "                        self.b = b\n",
    "                        self.G = P\n",
    "                        ok = True\n",
    "                        break\n",
    "        \n",
    "    def generate_key_pair(self):\n",
    "        private_key = ZZ.random_element(1,self.N-1)\n",
    "        public_key = private_key * self.G\n",
    "        return (private_key,public_key)\n",
    "        \n",
    "    def exchange(self,sk,peer_public_key):\n",
    "        shared_key = sk * peer_public_key\n",
    "        return shared_key"
   ]
  },
  {
   "cell_type": "markdown",
   "metadata": {},
   "source": [
    "### Teste ao esquema ECDH"
   ]
  },
  {
   "cell_type": "code",
   "execution_count": 4,
   "metadata": {},
   "outputs": [
    {
     "ename": "TypeError",
     "evalue": "unsupported operand parent(s) for *: 'Rational Field' and 'Abelian group of points on Elliptic Curve defined by y^2 + x*y = x^3 + x^2 + (t^162+t^161+t^160+t^159+t^158+t^156+t^154+t^153+t^151+t^150+t^148+t^140+t^135+t^134+t^133+t^128+t^127+t^123+t^119+t^118+t^116+t^115+t^114+t^109+t^105+t^103+t^102+t^99+t^98+t^95+t^94+t^93+t^91+t^90+t^88+t^87+t^85+t^80+t^78+t^75+t^73+t^72+t^68+t^60+t^59+t^56+t^54+t^48+t^47+t^46+t^45+t^44+t^43+t^42+t^41+t^38+t^36+t^35+t^34+t^33+t^32+t^29+t^26+t^25+t^22+t^19+t^18+t^12+t^11+t^8+t^6+t^5+t^4+t^2+t+1) over Finite Field in t of size 2^163'",
     "output_type": "error",
     "traceback": [
      "\u001b[0;31m---------------------------------------------------------------------------\u001b[0m",
      "\u001b[0;31mTypeError\u001b[0m                                 Traceback (most recent call last)",
      "\u001b[0;32m<ipython-input-4-f09b3cac7a61>\u001b[0m in \u001b[0;36m<module>\u001b[0;34m()\u001b[0m\n\u001b[0;32m----> 1\u001b[0;31m \u001b[0mecdh\u001b[0m \u001b[0;34m=\u001b[0m \u001b[0mECDH\u001b[0m\u001b[0;34m(\u001b[0m\u001b[0mInteger\u001b[0m\u001b[0;34m(\u001b[0m\u001b[0;36m163\u001b[0m\u001b[0;34m)\u001b[0m\u001b[0;34m)\u001b[0m\u001b[0;34m\u001b[0m\u001b[0m\n\u001b[0m\u001b[1;32m      2\u001b[0m \u001b[0mecdh\u001b[0m\u001b[0;34m.\u001b[0m\u001b[0mcheck_order\u001b[0m\u001b[0;34m(\u001b[0m\u001b[0;34m)\u001b[0m\u001b[0;34m\u001b[0m\u001b[0m\n\u001b[1;32m      3\u001b[0m \u001b[0malice\u001b[0m \u001b[0;34m=\u001b[0m \u001b[0mecdh\u001b[0m\u001b[0;34m.\u001b[0m\u001b[0mgenerate_key_pair\u001b[0m\u001b[0;34m(\u001b[0m\u001b[0;34m)\u001b[0m \u001b[0;31m#pair (alice_private_key,alice_public_key)\u001b[0m\u001b[0;34m\u001b[0m\u001b[0m\n\u001b[1;32m      4\u001b[0m \u001b[0mbob\u001b[0m \u001b[0;34m=\u001b[0m \u001b[0mecdh\u001b[0m\u001b[0;34m.\u001b[0m\u001b[0mgenerate_key_pair\u001b[0m\u001b[0;34m(\u001b[0m\u001b[0;34m)\u001b[0m \u001b[0;31m#pair (bob_private_key,bob_public_key)\u001b[0m\u001b[0;34m\u001b[0m\u001b[0m\n\u001b[1;32m      5\u001b[0m \u001b[0malice_shared\u001b[0m \u001b[0;34m=\u001b[0m \u001b[0mecdh\u001b[0m\u001b[0;34m.\u001b[0m\u001b[0mexchange\u001b[0m\u001b[0;34m(\u001b[0m\u001b[0malice\u001b[0m\u001b[0;34m[\u001b[0m\u001b[0mInteger\u001b[0m\u001b[0;34m(\u001b[0m\u001b[0;36m0\u001b[0m\u001b[0;34m)\u001b[0m\u001b[0;34m]\u001b[0m\u001b[0;34m,\u001b[0m\u001b[0mbob\u001b[0m\u001b[0;34m[\u001b[0m\u001b[0mInteger\u001b[0m\u001b[0;34m(\u001b[0m\u001b[0;36m1\u001b[0m\u001b[0;34m)\u001b[0m\u001b[0;34m]\u001b[0m\u001b[0;34m)\u001b[0m\u001b[0;34m\u001b[0m\u001b[0m\n",
      "\u001b[0;32m<ipython-input-3-a02b5de64cca>\u001b[0m in \u001b[0;36m__init__\u001b[0;34m(self, n)\u001b[0m\n\u001b[1;32m     20\u001b[0m                     \u001b[0;32melif\u001b[0m \u001b[0mP_order\u001b[0m \u001b[0;34m>\u001b[0m \u001b[0mN\u001b[0m\u001b[0;34m:\u001b[0m\u001b[0;34m\u001b[0m\u001b[0m\n\u001b[1;32m     21\u001b[0m                         \u001b[0mh\u001b[0m \u001b[0;34m=\u001b[0m \u001b[0mP_order\u001b[0m\u001b[0;34m/\u001b[0m\u001b[0mN\u001b[0m\u001b[0;34m\u001b[0m\u001b[0m\n\u001b[0;32m---> 22\u001b[0;31m                         \u001b[0mG\u001b[0m \u001b[0;34m=\u001b[0m \u001b[0mh\u001b[0m\u001b[0;34m*\u001b[0m\u001b[0mP\u001b[0m\u001b[0;34m\u001b[0m\u001b[0m\n\u001b[0m\u001b[1;32m     23\u001b[0m                         \u001b[0mself\u001b[0m\u001b[0;34m.\u001b[0m\u001b[0mN\u001b[0m \u001b[0;34m=\u001b[0m \u001b[0mN\u001b[0m\u001b[0;34m\u001b[0m\u001b[0m\n\u001b[1;32m     24\u001b[0m                         \u001b[0mself\u001b[0m\u001b[0;34m.\u001b[0m\u001b[0mb\u001b[0m \u001b[0;34m=\u001b[0m \u001b[0mb\u001b[0m\u001b[0;34m\u001b[0m\u001b[0m\n",
      "\u001b[0;32m/usr/lib/python2.7/site-packages/sage/rings/rational.pyx\u001b[0m in \u001b[0;36msage.rings.rational.Rational.__mul__ (build/cythonized/sage/rings/rational.c:20728)\u001b[0;34m()\u001b[0m\n\u001b[1;32m   2407\u001b[0m             \u001b[0;32mreturn\u001b[0m \u001b[0mx\u001b[0m\u001b[0;34m\u001b[0m\u001b[0m\n\u001b[1;32m   2408\u001b[0m \u001b[0;34m\u001b[0m\u001b[0m\n\u001b[0;32m-> 2409\u001b[0;31m         \u001b[0;32mreturn\u001b[0m \u001b[0mcoercion_model\u001b[0m\u001b[0;34m.\u001b[0m\u001b[0mbin_op\u001b[0m\u001b[0;34m(\u001b[0m\u001b[0mleft\u001b[0m\u001b[0;34m,\u001b[0m \u001b[0mright\u001b[0m\u001b[0;34m,\u001b[0m \u001b[0moperator\u001b[0m\u001b[0;34m.\u001b[0m\u001b[0mmul\u001b[0m\u001b[0;34m)\u001b[0m\u001b[0;34m\u001b[0m\u001b[0m\n\u001b[0m\u001b[1;32m   2410\u001b[0m \u001b[0;34m\u001b[0m\u001b[0m\n\u001b[1;32m   2411\u001b[0m     \u001b[0mcpdef\u001b[0m \u001b[0m_mul_\u001b[0m\u001b[0;34m(\u001b[0m\u001b[0mself\u001b[0m\u001b[0;34m,\u001b[0m \u001b[0mright\u001b[0m\u001b[0;34m)\u001b[0m\u001b[0;34m:\u001b[0m\u001b[0;34m\u001b[0m\u001b[0m\n",
      "\u001b[0;32m/usr/lib/python2.7/site-packages/sage/structure/coerce.pyx\u001b[0m in \u001b[0;36msage.structure.coerce.CoercionModel_cache_maps.bin_op (build/cythonized/sage/structure/coerce.c:11198)\u001b[0;34m()\u001b[0m\n\u001b[1;32m   1209\u001b[0m         \u001b[0;31m# We should really include the underlying error.\u001b[0m\u001b[0;34m\u001b[0m\u001b[0;34m\u001b[0m\u001b[0m\n\u001b[1;32m   1210\u001b[0m         \u001b[0;31m# This causes so much headache.\u001b[0m\u001b[0;34m\u001b[0m\u001b[0;34m\u001b[0m\u001b[0m\n\u001b[0;32m-> 1211\u001b[0;31m         \u001b[0;32mraise\u001b[0m \u001b[0mbin_op_exception\u001b[0m\u001b[0;34m(\u001b[0m\u001b[0mop\u001b[0m\u001b[0;34m,\u001b[0m \u001b[0mx\u001b[0m\u001b[0;34m,\u001b[0m \u001b[0my\u001b[0m\u001b[0;34m)\u001b[0m\u001b[0;34m\u001b[0m\u001b[0m\n\u001b[0m\u001b[1;32m   1212\u001b[0m \u001b[0;34m\u001b[0m\u001b[0m\n\u001b[1;32m   1213\u001b[0m     \u001b[0mcpdef\u001b[0m \u001b[0mcanonical_coercion\u001b[0m\u001b[0;34m(\u001b[0m\u001b[0mself\u001b[0m\u001b[0;34m,\u001b[0m \u001b[0mx\u001b[0m\u001b[0;34m,\u001b[0m \u001b[0my\u001b[0m\u001b[0;34m)\u001b[0m\u001b[0;34m:\u001b[0m\u001b[0;34m\u001b[0m\u001b[0m\n",
      "\u001b[0;31mTypeError\u001b[0m: unsupported operand parent(s) for *: 'Rational Field' and 'Abelian group of points on Elliptic Curve defined by y^2 + x*y = x^3 + x^2 + (t^162+t^161+t^160+t^159+t^158+t^156+t^154+t^153+t^151+t^150+t^148+t^140+t^135+t^134+t^133+t^128+t^127+t^123+t^119+t^118+t^116+t^115+t^114+t^109+t^105+t^103+t^102+t^99+t^98+t^95+t^94+t^93+t^91+t^90+t^88+t^87+t^85+t^80+t^78+t^75+t^73+t^72+t^68+t^60+t^59+t^56+t^54+t^48+t^47+t^46+t^45+t^44+t^43+t^42+t^41+t^38+t^36+t^35+t^34+t^33+t^32+t^29+t^26+t^25+t^22+t^19+t^18+t^12+t^11+t^8+t^6+t^5+t^4+t^2+t+1) over Finite Field in t of size 2^163'"
     ]
    }
   ],
   "source": [
    "ecdh = ECDH(163)\n",
    "ecdh.check_order()\n",
    "alice = ecdh.generate_key_pair() #pair (alice_private_key,alice_public_key)\n",
    "bob = ecdh.generate_key_pair() #pair (bob_private_key,bob_public_key)\n",
    "alice_shared = ecdh.exchange(alice[0],bob[1])\n",
    "bob_shared = ecdh.exchange(bob[0],alice[1])\n",
    "\n",
    "if alice_shared == bob_shared:\n",
    "    print 'OK'"
   ]
  },
  {
   "cell_type": "markdown",
   "metadata": {},
   "source": [
    "## Conclusão"
   ]
  },
  {
   "cell_type": "markdown",
   "metadata": {},
   "source": []
  },
  {
   "cell_type": "markdown",
   "metadata": {},
   "source": [
    "## Referências"
   ]
  },
  {
   "cell_type": "markdown",
   "metadata": {},
   "source": []
  },
  {
   "cell_type": "code",
   "execution_count": null,
   "metadata": {},
   "outputs": [],
   "source": []
  }
 ],
 "metadata": {
  "kernelspec": {
   "display_name": "SageMath 8.6",
   "language": "",
   "name": "sagemath"
  },
  "language_info": {
   "codemirror_mode": {
    "name": "ipython",
    "version": 2
   },
   "file_extension": ".py",
   "mimetype": "text/x-python",
   "name": "python",
   "nbconvert_exporter": "python",
   "pygments_lexer": "ipython2",
   "version": "2.7.16"
  }
 },
 "nbformat": 4,
 "nbformat_minor": 2
}
