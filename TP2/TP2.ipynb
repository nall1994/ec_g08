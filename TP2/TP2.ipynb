{
 "cells": [
  {
   "cell_type": "markdown",
   "metadata": {},
   "source": [
    "# Trabalho Prático 2"
   ]
  },
  {
   "cell_type": "markdown",
   "metadata": {},
   "source": [
    "## Introdução"
   ]
  },
  {
   "cell_type": "markdown",
   "metadata": {},
   "source": [
    "A resolução deste trabalho prático tem como propósito introduzir o **SageMath**, corpos finitos primos, curvas elípticas sobre esses corpos e esquemas criptográficos baseados nos mesmos.\n",
    "Os principais objetivos passam por:\n",
    "\n",
    "- Implementar um esquema _RSA_ como uma classe **Python**.\n",
    "- Implementar um esquema _ECDSA_ como uma classe **Python**.\n",
    "- Implementar um esquema _ECDH_ como uma classe **Python**.\n",
    "\n",
    "Além disso, devem ser aplicadas as seguintes particularidades aos esquemas desenvolvidos:\n",
    "\n",
    "- O esquema _RSA_ deve fornecer métodos para cifrar, decifrar, assinar e verificar uma mensagem.\n",
    "- O esquema _ECDSA_ deve utilizar uma das curvas primas definidas no **FIPS186-4**.\n",
    "- O esquema _ECDH_ deve utilizar curvas elíticas binárias.\n",
    "\n",
    "O relatório está dividido em três partes, uma por cada um dos objetivos a cumprir. Além disso, está estruturado de forma a que o texto entre os _snippets_ de código seja suficientemente explicativo, sobre a implementação e desenho da solução."
   ]
  },
  {
   "cell_type": "markdown",
   "metadata": {},
   "source": [
    "**PODERÁ SER PRECISO ALGO AQUI, COMO IMPORTS DO SAGEMATH OU ASSIM**"
   ]
  },
  {
   "cell_type": "markdown",
   "metadata": {},
   "source": [
    "## Esquema RSA"
   ]
  },
  {
   "cell_type": "markdown",
   "metadata": {},
   "source": [
    "O objetivo desta secção passa por definir a classe **Python** que implementa o algoritmo **RSA**. Esta permitirá inicializar uma intância, fornecendo-lhe o parâmetro de segurança (tamanho de chave). Após criada a instância, a mesma permitirá:\n",
    "\n",
    "- Cifrar uma mensagem.\n",
    "- Decifrar uma mensagem previamente cifrada.\n",
    "- Assinar digitalmente uma mensagem.\n",
    "- Verificar uma assinatura digital de uma mensagem, previamente produzida."
   ]
  },
  {
   "cell_type": "markdown",
   "metadata": {},
   "source": [
    "### Definição do esquema RSA"
   ]
  },
  {
   "cell_type": "code",
   "execution_count": 1,
   "metadata": {},
   "outputs": [],
   "source": [
    "import hashlib\n",
    "from sage.crypto.util import ascii_to_bin, bin_to_ascii\n",
    "\n",
    "class RSA:\n",
    "    \n",
    "    def __init__(self,l):\n",
    "        r = random_prime(2**((l/2) + 1)/2,True,(2**(l/2))/2)\n",
    "        p = random_prime((2*r + 1)**2,True, 2*r + 1)\n",
    "        self.q = p * r\n",
    "        phi = (p - 1) * (r - 1)\n",
    "        \n",
    "        k = ZZ.random_element(phi)\n",
    "        while gcd(k, phi) != 1:\n",
    "             k = ZZ.random_element(phi)\n",
    "        self.k = k\n",
    "        \n",
    "        self.s = inverse_mod(self.k,phi)\n",
    "    \n",
    "    def encrypt(self,plaintext):\n",
    "        raw = ascii_to_bin(plaintext)\n",
    "        plaintext = ZZ(int(str(raw),2))\n",
    "        return power_mod(plaintext,self.k,self.q)       \n",
    "    \n",
    "    def decrypt(self,ciphertext):\n",
    "        raw = power_mod(ciphertext,self.s,self.q)\n",
    "        raw_b = raw.binary()\n",
    "        \n",
    "        #Acrescentar bits 0 menos significativos para que seja multiplo de 8\n",
    "        bits_missing = 8 - Mod(len(raw_b),8)\n",
    "        raw = ('0' * bits_missing) + raw_b\n",
    "\n",
    "        return bin_to_ascii(raw)\n",
    "    \n",
    "    def hash(self, message):\n",
    "        hash_context = hashlib.sha256(message).hexdigest()\n",
    "        return hash_context\n",
    "        \n",
    "    \n",
    "    def sign(self,message):\n",
    "        msg_hash = self.hash(message)\n",
    "        raw = ascii_to_bin(msg_hash)\n",
    "        message = ZZ(int(str(raw),2))\n",
    "        return power_mod(message,self.s,self.q)        \n",
    "    \n",
    "    def verify(self,message,signature):\n",
    "        mk = power_mod(signature,self.k,self.q)\n",
    "        mk_raw = mk.binary()\n",
    "        \n",
    "        #Acrescentar bits 0 menos significativos para que seja multiplo de 8\n",
    "        bits_missing = 8 - Mod(len(mk_raw),8)\n",
    "        mk_raw = ('0' * bits_missing) + mk_raw\n",
    "        \n",
    "        message = self.hash(message)\n",
    "        mk_raw = bin_to_ascii(mk_raw)\n",
    "        return mk_raw == message"
   ]
  },
  {
   "cell_type": "markdown",
   "metadata": {},
   "source": [
    "### Teste ao Esquema RSA"
   ]
  },
  {
   "cell_type": "code",
   "execution_count": 2,
   "metadata": {},
   "outputs": [
    {
     "name": "stdout",
     "output_type": "stream",
     "text": [
      "Estruturas Criptográficas - Trabalho 2 - Iniciação SageMath - Esquema RSA\n",
      "1205476194486712495392984932084025593918836594167186910792914193785929149741658224969215856620926130417391739300461886928650266346578218613215915900343651907029099608790373829678823285853530487629632927003969496276671806492804864739561760128077203563077884016283462206050756206461510251758254235204011510741781918339654311185921782177908918041049981186186597639380998545736843022886085234446719032836593745664247520614984835193083838623878373088228773505553651859813274284923931606223709430556124762488687633130297917108013410238395222518876614370238145705474498464861849168565569551449923459738989973475246405403135170203784736618179941332297017300872754880135640353745318216285661614309059023009201258177325360651519805286533669436674925753749951760397071243064118883371216385335290872494547838098589932028749739217773279546557101723053431581189268222398044133924402338432720488730897602907916654494334212159140491737337376\n",
      "Estruturas Criptográficas - Trabalho 2 - Iniciação SageMath - Esquema RSA\n",
      "OK\n"
     ]
    }
   ],
   "source": [
    "r = RSA(2048)\n",
    "msg = \"Estruturas Criptográficas - Trabalho 2 - Iniciação SageMath - Esquema RSA\"\n",
    "print(msg)\n",
    "ciphertext = r.encrypt(msg)\n",
    "\n",
    "print(ciphertext)\n",
    "\n",
    "plaintext = r.decrypt(ciphertext)\n",
    "print(plaintext)\n",
    "\n",
    "sig = r.sign(msg)\n",
    "if(r.verify(msg,sig)):\n",
    "    print('OK')\n",
    "else: print('Not OK!')"
   ]
  },
  {
   "cell_type": "markdown",
   "metadata": {},
   "source": [
    "## Esquema ECDSA"
   ]
  },
  {
   "cell_type": "markdown",
   "metadata": {},
   "source": [
    "### Definição do esquema ECDSA"
   ]
  },
  {
   "cell_type": "code",
   "execution_count": 75,
   "metadata": {},
   "outputs": [
    {
     "ename": "SyntaxError",
     "evalue": "invalid syntax (<ipython-input-75-3638a8099f06>, line 4)",
     "output_type": "error",
     "traceback": [
      "\u001b[0;36m  File \u001b[0;32m\"<ipython-input-75-3638a8099f06>\"\u001b[0;36m, line \u001b[0;32m4\u001b[0m\n\u001b[0;31m    def __init(self,?):\u001b[0m\n\u001b[0m                    ^\u001b[0m\n\u001b[0;31mSyntaxError\u001b[0m\u001b[0;31m:\u001b[0m invalid syntax\n"
     ]
    }
   ],
   "source": [
    "\n",
    "class ECDSA:\n",
    "    \n",
    "    def __init(self,?):\n",
    "    \n",
    "    def sign(self,message):\n",
    "    \n",
    "    def verify(self,message,signature):"
   ]
  },
  {
   "cell_type": "markdown",
   "metadata": {},
   "source": [
    "### Teste ao esquema ECDSA"
   ]
  },
  {
   "cell_type": "code",
   "execution_count": null,
   "metadata": {},
   "outputs": [],
   "source": []
  },
  {
   "cell_type": "markdown",
   "metadata": {},
   "source": [
    "## Esquema ECDH"
   ]
  },
  {
   "cell_type": "markdown",
   "metadata": {},
   "source": [
    "### Definição do esquema ECDH"
   ]
  },
  {
   "cell_type": "code",
   "execution_count": null,
   "metadata": {},
   "outputs": [],
   "source": []
  },
  {
   "cell_type": "markdown",
   "metadata": {},
   "source": [
    "### Teste ao esquema ECDH"
   ]
  },
  {
   "cell_type": "code",
   "execution_count": null,
   "metadata": {},
   "outputs": [],
   "source": []
  },
  {
   "cell_type": "markdown",
   "metadata": {},
   "source": [
    "## Conclusão"
   ]
  },
  {
   "cell_type": "markdown",
   "metadata": {},
   "source": []
  },
  {
   "cell_type": "markdown",
   "metadata": {},
   "source": [
    "## Referências"
   ]
  },
  {
   "cell_type": "markdown",
   "metadata": {},
   "source": []
  },
  {
   "cell_type": "code",
   "execution_count": null,
   "metadata": {},
   "outputs": [],
   "source": []
  }
 ],
 "metadata": {
  "kernelspec": {
   "display_name": "SageMath 8.6",
   "language": "",
   "name": "sagemath"
  },
  "language_info": {
   "codemirror_mode": {
    "name": "ipython",
    "version": 2
   },
   "file_extension": ".py",
   "mimetype": "text/x-python",
   "name": "python",
   "nbconvert_exporter": "python",
   "pygments_lexer": "ipython2",
   "version": "2.7.15"
  }
 },
 "nbformat": 4,
 "nbformat_minor": 2
}
