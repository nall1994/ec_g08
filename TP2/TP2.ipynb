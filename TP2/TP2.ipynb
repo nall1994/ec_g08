{
 "cells": [
  {
   "cell_type": "markdown",
   "metadata": {},
   "source": [
    "# Trabalho Prático 2"
   ]
  },
  {
   "cell_type": "markdown",
   "metadata": {},
   "source": [
    "## Introdução"
   ]
  },
  {
   "cell_type": "markdown",
   "metadata": {},
   "source": [
    "A resolução deste trabalho prático tem como propósito introduzir o **SageMath**, corpos finitos primos, curvas elípticas sobre esses corpos e esquemas criptográficos baseados nos mesmos.\n",
    "Os principais objetivos passam por:\n",
    "\n",
    "- Implementar um esquema _RSA_ como uma classe **Python**.\n",
    "- Implementar um esquema _ECDSA_ como uma classe **Python**.\n",
    "- Implementar um esquema _ECDH_ como uma classe **Python**.\n",
    "\n",
    "Além disso, devem ser aplicadas as seguintes particularidades aos esquemas desenvolvidos:\n",
    "\n",
    "- O esquema _RSA_ deve fornecer métodos para cifrar, decifrar, assinar e verificar uma mensagem.\n",
    "- O esquema _ECDSA_ deve utilizar uma das curvas primas definidas no **FIPS186-4**.\n",
    "- O esquema _ECDH_ deve utilizar curvas elíticas binárias.\n",
    "\n",
    "O relatório está dividido em três partes, uma por cada um dos objetivos a cumprir. Além disso, está estruturado de forma a que o texto entre os _snippets_ de código seja suficientemente explicativo, sobre a implementação e desenho da solução."
   ]
  },
  {
   "cell_type": "markdown",
   "metadata": {},
   "source": [
    "## Imports e funções comuns"
   ]
  },
  {
   "cell_type": "markdown",
   "metadata": {},
   "source": [
    "Esta secção tem como objetivo importar as bibliotecas que serão necessárias na definição dos esquemas implementados neste trabalho, bem como qualquer função que seja comum aos mesmos e que possa ser utilizada em dois ou mais casos."
   ]
  },
  {
   "cell_type": "code",
   "execution_count": 1,
   "metadata": {},
   "outputs": [],
   "source": [
    "import hashlib\n",
    "from sage.crypto.util import ascii_to_bin, bin_to_ascii\n",
    "\n",
    "def hash_message(message):\n",
    "    digest = hashlib.sha256(message).hexdigest()\n",
    "    return digest\n",
    "\n",
    "def convert_to_ZZ(message):\n",
    "    raw = ascii_to_bin(message)\n",
    "    return ZZ(int(str(raw),2))\n",
    "\n",
    "def bpf(factors):\n",
    "    f = 0\n",
    "    for pair in factors:\n",
    "        p = pair[0]\n",
    "        if p > f:\n",
    "            f = p\n",
    "    return f\n",
    "    "
   ]
  },
  {
   "cell_type": "markdown",
   "metadata": {},
   "source": [
    "## Esquema RSA"
   ]
  },
  {
   "cell_type": "markdown",
   "metadata": {},
   "source": [
    "O objetivo desta secção passa por definir a classe **Python** que implementa o algoritmo **RSA**. Esta permitirá inicializar uma intância, fornecendo-lhe o parâmetro de segurança (tamanho de chave). Após criada a instância, a mesma permitirá:\n",
    "\n",
    "- Cifrar uma mensagem.\n",
    "- Decifrar uma mensagem previamente cifrada.\n",
    "- Assinar digitalmente uma mensagem.\n",
    "- Verificar uma assinatura digital de uma mensagem, previamente produzida."
   ]
  },
  {
   "cell_type": "markdown",
   "metadata": {},
   "source": [
    "### Definição do esquema RSA"
   ]
  },
  {
   "cell_type": "code",
   "execution_count": 2,
   "metadata": {},
   "outputs": [],
   "source": [
    "class RSA:\n",
    "    \n",
    "    def __init__(self,l):\n",
    "        while True:\n",
    "            r = random_prime(2**l-1,True,2**(l-1))\n",
    "            p = random_prime(2**(l+1),True, 2**l)\n",
    "            if 2*r >= 2**(l/2) and p > 2*r:\n",
    "                break\n",
    "        self.q = p * r\n",
    "        phi = (p - 1) * (r - 1)\n",
    "        \n",
    "        k = ZZ.random_element(phi)\n",
    "        while gcd(k, phi) != 1:\n",
    "             k = ZZ.random_element(phi)\n",
    "        self.public_key = k\n",
    "        \n",
    "        self.private_key = inverse_mod(self.public_key,phi)\n",
    "    \n",
    "    def encrypt(self,plaintext):\n",
    "        plaintext = convert_to_ZZ(plaintext)\n",
    "        ciphertext_zz = power_mod(plaintext,self.public_key,self.q)\n",
    "        ciphertext_zz_raw = ciphertext_zz.binary()\n",
    "        \n",
    "        bits_missing = 8 - Mod(len(ciphertext_zz_raw),8)\n",
    "        raw = ('0' * bits_missing) + ciphertext_zz_raw\n",
    "        ciphertext = bin_to_ascii(raw)\n",
    "        \n",
    "        return ciphertext      \n",
    "    \n",
    "    def decrypt(self,ciphertext):\n",
    "        ciphertext = convert_to_ZZ(ciphertext)\n",
    "        plaintext = power_mod(ciphertext,self.private_key,self.q)\n",
    "        raw_b = plaintext.binary()\n",
    "        \n",
    "        bits_missing = 8 - Mod(len(raw_b),8)\n",
    "        raw = ('0' * bits_missing) + raw_b\n",
    "\n",
    "        return bin_to_ascii(raw)        \n",
    "    \n",
    "    def sign(self,message):\n",
    "        msg_hash = hash_message(message)\n",
    "        message = convert_to_ZZ(msg_hash)\n",
    "        return power_mod(message,self.private_key,self.q)        \n",
    "    \n",
    "    def verify(self,message,signature):\n",
    "        mk = power_mod(signature,self.public_key,self.q)\n",
    "        mk_raw = mk.binary()\n",
    "        \n",
    "        bits_missing = 8 - Mod(len(mk_raw),8)\n",
    "        mk_raw = ('0' * bits_missing) + mk_raw\n",
    "        \n",
    "        message = hash_message(message)\n",
    "        mk_raw = bin_to_ascii(mk_raw)\n",
    "        return mk_raw == message"
   ]
  },
  {
   "cell_type": "markdown",
   "metadata": {},
   "source": [
    "### Teste ao Esquema RSA"
   ]
  },
  {
   "cell_type": "code",
   "execution_count": 3,
   "metadata": {},
   "outputs": [
    {
     "name": "stdout",
     "output_type": "stream",
     "text": [
      "message:\n",
      "Estruturas Criptográficas - Trabalho 2 - Iniciação SageMath - Esquema RSA\n",
      "\n",
      " ciphertext:\n",
      ")�\u001f\u0012р�^ܢ�!\u0017��Ȧ\u0018v�F��s�\u0001\u000f�5�\u0018�\u000b",
      "����Ȃ\u0014����1b\u0002�\u0000s\th)W����j�D�\u001c",
      "���y(6h0�iױ�՛�[x�\u001a��o� �f�J����Ȭ0�$h�>�ٞ���\u0000\u0000ES���\b�l����\\�=�\u0014��\b�\u001e",
      "\u0012�B�f�t[#��������Z����\u0019�8\u001c",
      "�bp\u0010D\u0016�\u0019lh##�6ȓ���|?1\u0013Nү%\u0018�g��\u0005�\u0012b���Y1\u0000���dٽ�v��Xw��\u0011���p�V&\u0007���\u001c",
      "%��\f",
      "�\u0002��n�ɦ��$��*kO�v\u001c",
      "\n",
      "\n",
      "\n",
      "decrypted:\n",
      "Estruturas Criptográficas - Trabalho 2 - Iniciação SageMath - Esquema RSA\n",
      "\n",
      "\n",
      "signature result:\n",
      "OK\n"
     ]
    }
   ],
   "source": [
    "# Iniciar uma instância RSA com parâmetro de segurança de 1024.\n",
    "r = RSA(1024)\n",
    "msg = \"Estruturas Criptográficas - Trabalho 2 - Iniciação SageMath - Esquema RSA\"\n",
    "print('message:')\n",
    "print(msg)\n",
    "\n",
    "#cifrar a mensagem com a instância previamente criada\n",
    "ciphertext = r.encrypt(msg)\n",
    "\n",
    "print('\\n ciphertext:')\n",
    "print(ciphertext)\n",
    "print('\\n')\n",
    "\n",
    "#Decifrar o criptograma previamente produzido\n",
    "plaintext = r.decrypt(ciphertext)\n",
    "print('decrypted:')\n",
    "print(plaintext)\n",
    "\n",
    "#Assinar e verificar a assinatura\n",
    "print('\\n')\n",
    "print('signature result:')\n",
    "sig = r.sign(msg)\n",
    "if(r.verify(msg,sig)):\n",
    "    print('OK')\n",
    "else: print('Not OK!')"
   ]
  },
  {
   "cell_type": "markdown",
   "metadata": {},
   "source": [
    "## Esquema ECDSA"
   ]
  },
  {
   "cell_type": "markdown",
   "metadata": {},
   "source": [
    "### Definição da curva _NIST_"
   ]
  },
  {
   "cell_type": "code",
   "execution_count": 4,
   "metadata": {},
   "outputs": [],
   "source": [
    "NIST = dict()\n",
    "NIST['P-256'] = {\n",
    "    'p': 115792089210356248762697446949407573530086143415290314195533631308867097853951,\n",
    "    'n': 115792089210356248762697446949407573529996955224135760342422259061068512044369,\n",
    "    'seed': 'c49d360886e704936a6678e1139d26b7819f7e90',\n",
    "    'c': '7efba1662985be9403cb055c75d4f7e0ce8d84a9c5114abcaf3177680104fa0d',\n",
    "    'b': '5ac635d8aa3a93e7b3ebbd55769886bc651d06b0cc53b0f63bce3c3e27d2604b',\n",
    "    'Gx': '6b17d1f2e12c4247f8bce6e563a440f277037d812deb33a0f4a13945d898c296',\n",
    "    'Gy': '4fe342e2fe1a7f9b8ee7eb4a7c0f9e162bce33576b315ececbb6406837bf51f5'\n",
    "}"
   ]
  },
  {
   "cell_type": "markdown",
   "metadata": {},
   "source": [
    "### Definição do esquema ECDSA"
   ]
  },
  {
   "cell_type": "code",
   "execution_count": 5,
   "metadata": {},
   "outputs": [],
   "source": [
    "class ECDSA:\n",
    "    \n",
    "    def __init__(self):\n",
    "        curve = NIST['P-256']\n",
    "        p = curve['p']\n",
    "        self.n = curve['n']\n",
    "        b = ZZ(curve['b'],16)\n",
    "        Gx = ZZ(curve['Gx'],16)\n",
    "        Gy = ZZ(curve['Gy'],16)\n",
    "        self.E = EllipticCurve(GF(p),[-3,b])\n",
    "        self.G = self.E((Gx,Gy))\n",
    "        self.private_key = ZZ.random_element(1,self.n - 1)\n",
    "        self.public_key = self.private_key * self.G\n",
    "    \n",
    "    \n",
    "    def sign(self,message):\n",
    "        digest = hash_message(message)\n",
    "        digest = convert_to_ZZ(digest)\n",
    "        back_to_1 = False\n",
    "        while not back_to_1:\n",
    "            ok = False\n",
    "            k = ZZ.random_element(1,self.n-1)\n",
    "            r_point = k * self.G\n",
    "            r = Mod(r_point[0],self.n)\n",
    "            if r == 0:\n",
    "                back_to_1 = False\n",
    "            else :\n",
    "                while not ok:\n",
    "                    k_inverse = inverse_mod(k,self.n)\n",
    "                    temp_calc = k_inverse * (digest + (r*self.private_key))\n",
    "                    s = ZZ(Mod(temp_calc,self.n))\n",
    "                    if s == 0:\n",
    "                        ok = True\n",
    "                    else:\n",
    "                        ok = True\n",
    "                        back_to_1 = True\n",
    "        \n",
    "        return r,s\n",
    "    \n",
    "    def verify(self,message,signature):\n",
    "        sig_r = signature[0]\n",
    "        sig_s = signature[1]\n",
    "        if (sig_r < 1 or sig_r > self.n -1 or sig_s < 1 or sig_s > self.n - 1):\n",
    "            return False\n",
    "        else:\n",
    "            digest = hash_message(message)\n",
    "            digest = convert_to_ZZ(digest)\n",
    "            w = inverse_mod(sig_s,self.n)\n",
    "            u1 = ZZ(Mod(digest*w,self.n))\n",
    "            u2 = ZZ(Mod(sig_r*w,self.n))\n",
    "            cp = u1*self.G + u2*self.public_key\n",
    "            if Mod(cp[0],self.n) == Mod(sig_r,self.n):\n",
    "                return True\n",
    "            else:\n",
    "                return False"
   ]
  },
  {
   "cell_type": "markdown",
   "metadata": {},
   "source": [
    "### Teste ao esquema ECDSA"
   ]
  },
  {
   "cell_type": "code",
   "execution_count": 6,
   "metadata": {},
   "outputs": [
    {
     "name": "stdout",
     "output_type": "stream",
     "text": [
      "OK\n"
     ]
    }
   ],
   "source": [
    "e = ECDSA()\n",
    "msg = \"Estruturas Criptográficas - Trabalho 2 - Iniciação SageMath - Esquema RSA\"\n",
    "r,s = e.sign(msg)\n",
    "if e.verify(msg,(r,s)):\n",
    "    print 'OK'\n",
    "else:\n",
    "    print 'Not OK'"
   ]
  },
  {
   "cell_type": "markdown",
   "metadata": {},
   "source": [
    "## Esquema ECDH"
   ]
  },
  {
   "cell_type": "markdown",
   "metadata": {},
   "source": [
    "### Definição do esquema ECDH"
   ]
  },
  {
   "cell_type": "code",
   "execution_count": 7,
   "metadata": {},
   "outputs": [],
   "source": [
    "class ECDH:\n",
    "    \n",
    "    def __init__(self,n):\n",
    "        K.<t> = GF(2^n)\n",
    "        ok = False\n",
    "        while not ok:\n",
    "            b = K.random_element()\n",
    "            E = EllipticCurve(K,[1,1,0,0,b])\n",
    "            e_order = E.order()\n",
    "            F = factor(e_order)\n",
    "            N = bpf(list(F))\n",
    "            if N < 2^(n-1):\n",
    "                pass\n",
    "            else:\n",
    "                while True:\n",
    "                    P = E.random_point()\n",
    "                    P_order = P.order()\n",
    "                    if P_order < N:\n",
    "                        pass\n",
    "                    elif P_order > N:\n",
    "                        h = ZZ(P_order/N)\n",
    "                        self.G = h*P\n",
    "                        self.N = N\n",
    "                        self.b = b\n",
    "                        ok = True\n",
    "                        break\n",
    "                    else:\n",
    "                        self.N = N\n",
    "                        self.b = b\n",
    "                        self.G = P\n",
    "                        ok = True\n",
    "                        break\n",
    "        \n",
    "    def generate_key_pair(self):\n",
    "        private_key = ZZ.random_element(1,self.N-1)\n",
    "        public_key = private_key * self.G\n",
    "        return (private_key,public_key)\n",
    "        \n",
    "    def exchange(self,sk,peer_public_key):\n",
    "        shared_key = sk * peer_public_key\n",
    "        return shared_key"
   ]
  },
  {
   "cell_type": "markdown",
   "metadata": {},
   "source": [
    "### Teste ao esquema ECDH"
   ]
  },
  {
   "cell_type": "code",
   "execution_count": 8,
   "metadata": {},
   "outputs": [
    {
     "name": "stdout",
     "output_type": "stream",
     "text": [
      "OK\n"
     ]
    }
   ],
   "source": [
    "ecdh = ECDH(163)\n",
    "alice = ecdh.generate_key_pair() #pair (alice_private_key,alice_public_key)\n",
    "bob = ecdh.generate_key_pair() #pair (bob_private_key,bob_public_key)\n",
    "alice_shared = ecdh.exchange(alice[0],bob[1])\n",
    "bob_shared = ecdh.exchange(bob[0],alice[1])\n",
    "\n",
    "if alice_shared == bob_shared:\n",
    "    print 'OK'\n",
    "else:\n",
    "    print 'Not OK'"
   ]
  },
  {
   "cell_type": "markdown",
   "metadata": {},
   "source": [
    "## Conclusão"
   ]
  },
  {
   "cell_type": "markdown",
   "metadata": {},
   "source": []
  },
  {
   "cell_type": "markdown",
   "metadata": {},
   "source": [
    "## Referências"
   ]
  },
  {
   "cell_type": "markdown",
   "metadata": {},
   "source": []
  },
  {
   "cell_type": "code",
   "execution_count": null,
   "metadata": {},
   "outputs": [],
   "source": []
  }
 ],
 "metadata": {
  "kernelspec": {
   "display_name": "SageMath 8.6",
   "language": "",
   "name": "sagemath"
  },
  "language_info": {
   "codemirror_mode": {
    "name": "ipython",
    "version": 2
   },
   "file_extension": ".py",
   "mimetype": "text/x-python",
   "name": "python",
   "nbconvert_exporter": "python",
   "pygments_lexer": "ipython2",
   "version": "2.7.16"
  }
 },
 "nbformat": 4,
 "nbformat_minor": 2
}
