{
 "cells": [
  {
   "cell_type": "markdown",
   "metadata": {},
   "source": [
    "# Trabalho Prático 2"
   ]
  },
  {
   "cell_type": "markdown",
   "metadata": {},
   "source": [
    "## Introdução"
   ]
  },
  {
   "cell_type": "markdown",
   "metadata": {},
   "source": [
    "A resolução deste trabalho prático tem como propósito introduzir o **SageMath**, corpos finitos primos, curvas elípticas sobre esses corpos e esquemas criptográficos baseados nos mesmos.\n",
    "Os principais objetivos passam por:\n",
    "\n",
    "- Implementar um esquema _RSA_ como uma classe **Python**.\n",
    "- Implementar um esquema _ECDSA_ como uma classe **Python**.\n",
    "- Implementar um esquema _ECDH_ como uma classe **Python**.\n",
    "\n",
    "Além disso, devem ser aplicadas as seguintes particularidades aos esquemas desenvolvidos:\n",
    "\n",
    "- O esquema _RSA_ deve fornecer métodos para cifrar, decifrar, assinar e verificar uma mensagem.\n",
    "- O esquema _ECDSA_ deve utilizar uma das curvas primas definidas no **FIPS186-4**.\n",
    "- O esquema _ECDH_ deve utilizar curvas elíticas binárias.\n",
    "\n",
    "O relatório está dividido em três partes, uma por cada um dos objetivos a cumprir. Além disso, está estruturado de forma a que o texto entre os _snippets_ de código seja suficientemente explicativo, sobre a implementação e desenho da solução."
   ]
  },
  {
   "cell_type": "markdown",
   "metadata": {},
   "source": [
    "## Imports e funções comuns"
   ]
  },
  {
   "cell_type": "markdown",
   "metadata": {},
   "source": [
    "Esta secção tem como objetivo importar as bibliotecas que serão necessárias na definição dos esquemas implementados neste trabalho, bem como qualquer função que seja comum aos mesmos e que possa ser utilizada em dois ou mais casos."
   ]
  },
  {
   "cell_type": "code",
   "execution_count": 1,
   "metadata": {},
   "outputs": [],
   "source": [
    "import hashlib\n",
    "from sage.crypto.util import ascii_to_bin, bin_to_ascii\n",
    "\n",
    "def hash_message(message):\n",
    "    digest = hashlib.sha256(message).hexdigest()\n",
    "    return digest\n",
    "\n",
    "def convert_to_ZZ(message):\n",
    "    raw = ascii_to_bin(message)\n",
    "    return ZZ(int(str(raw),2))\n",
    "    "
   ]
  },
  {
   "cell_type": "markdown",
   "metadata": {},
   "source": [
    "## Esquema RSA"
   ]
  },
  {
   "cell_type": "markdown",
   "metadata": {},
   "source": [
    "O objetivo desta secção passa por definir a classe **Python** que implementa o algoritmo **RSA**. Esta permitirá inicializar uma intância, fornecendo-lhe o parâmetro de segurança (tamanho de chave). Após criada a instância, a mesma permitirá:\n",
    "\n",
    "- Cifrar uma mensagem.\n",
    "- Decifrar uma mensagem previamente cifrada.\n",
    "- Assinar digitalmente uma mensagem.\n",
    "- Verificar uma assinatura digital de uma mensagem, previamente produzida."
   ]
  },
  {
   "cell_type": "markdown",
   "metadata": {},
   "source": [
    "### Definição do esquema RSA"
   ]
  },
  {
   "cell_type": "code",
   "execution_count": 2,
   "metadata": {},
   "outputs": [],
   "source": [
    "class RSA:\n",
    "    \n",
    "    def __init__(self,l):\n",
    "        r = random_prime(2**((l/2) + 1)/2,True,(2**(l/2))/2)\n",
    "        p = random_prime((2*r + 1)**2,True, 2*r + 1)\n",
    "        self.q = p * r\n",
    "        phi = (p - 1) * (r - 1)\n",
    "        \n",
    "        k = ZZ.random_element(phi)\n",
    "        while gcd(k, phi) != 1:\n",
    "             k = ZZ.random_element(phi)\n",
    "        self.k = k\n",
    "        \n",
    "        self.s = inverse_mod(self.k,phi)\n",
    "    \n",
    "    def encrypt(self,plaintext):\n",
    "        raw = ascii_to_bin(plaintext)\n",
    "        plaintext = ZZ(int(str(raw),2))\n",
    "        return power_mod(plaintext,self.k,self.q)       \n",
    "    \n",
    "    def decrypt(self,ciphertext):\n",
    "        raw = power_mod(ciphertext,self.s,self.q)\n",
    "        raw_b = raw.binary()\n",
    "        \n",
    "        #Acrescentar bits 0 menos significativos para que seja multiplo de 8\n",
    "        bits_missing = 8 - Mod(len(raw_b),8)\n",
    "        raw = ('0' * bits_missing) + raw_b\n",
    "\n",
    "        return bin_to_ascii(raw)        \n",
    "    \n",
    "    def sign(self,message):\n",
    "        msg_hash = hash_message(message)\n",
    "        message = convert_to_ZZ(msg_hash)\n",
    "        return power_mod(message,self.s,self.q)        \n",
    "    \n",
    "    def verify(self,message,signature):\n",
    "        mk = power_mod(signature,self.k,self.q)\n",
    "        mk_raw = mk.binary()\n",
    "        \n",
    "        #Acrescentar bits 0 menos significativos para que seja multiplo de 8\n",
    "        bits_missing = 8 - Mod(len(mk_raw),8)\n",
    "        mk_raw = ('0' * bits_missing) + mk_raw\n",
    "        \n",
    "        message = hash_message(message)\n",
    "        mk_raw = bin_to_ascii(mk_raw)\n",
    "        return mk_raw == message"
   ]
  },
  {
   "cell_type": "markdown",
   "metadata": {},
   "source": [
    "### Teste ao Esquema RSA"
   ]
  },
  {
   "cell_type": "code",
   "execution_count": 3,
   "metadata": {},
   "outputs": [
    {
     "name": "stdout",
     "output_type": "stream",
     "text": [
      "Estruturas Criptográficas - Trabalho 2 - Iniciação SageMath - Esquema RSA\n",
      "1677690542171917910747153447903387821938348905760778634132213272453061060960187032595292217164166159873786374087416279614748370551123920349766775649259431283852671351798192162003925825101288333254987946250713898356248430679597443323500109760305650801595315236123181635991021039899508305701867107272610297381359966792283574389082338601019446198798060446922588682929110482464051183043649228412048639992443277275177218470950841986378616974655132160309427340336355332850115390402606503119833602964298113840654848763214644162374034036325902375581947236254237707979041162661550328752674864952371106739074391115412850759955165286903736304406134681537560933182209158050355519230232481350992022513760688008218074766405778256751552476656325385278268075457852444957662518696232668093060077357218307164395224740856278195531852396463942651096117314684641765806070548323461351723976701633460825715251298983639814627211245597691077989807344\n",
      "Estruturas Criptográficas - Trabalho 2 - Iniciação SageMath - Esquema RSA\n",
      "OK\n"
     ]
    }
   ],
   "source": [
    "r = RSA(2048)\n",
    "msg = \"Estruturas Criptográficas - Trabalho 2 - Iniciação SageMath - Esquema RSA\"\n",
    "print(msg)\n",
    "ciphertext = r.encrypt(msg)\n",
    "\n",
    "print(ciphertext)\n",
    "\n",
    "plaintext = r.decrypt(ciphertext)\n",
    "print(plaintext)\n",
    "\n",
    "sig = r.sign(msg)\n",
    "if(r.verify(msg,sig)):\n",
    "    print('OK')\n",
    "else: print('Not OK!')"
   ]
  },
  {
   "cell_type": "markdown",
   "metadata": {},
   "source": [
    "## Esquema ECDSA"
   ]
  },
  {
   "cell_type": "markdown",
   "metadata": {},
   "source": [
    "### Definição da curva _NIST_"
   ]
  },
  {
   "cell_type": "code",
   "execution_count": 4,
   "metadata": {},
   "outputs": [],
   "source": [
    "NIST = dict()\n",
    "NIST['P-256'] = {\n",
    "    'p': 115792089210356248762697446949407573530086143415290314195533631308867097853951,\n",
    "    'n': 115792089210356248762697446949407573529996955224135760342422259061068512044369,\n",
    "    'seed': 'c49d360886e704936a6678e1139d26b7819f7e90',\n",
    "    'c': '7efba1662985be9403cb055c75d4f7e0ce8d84a9c5114abcaf3177680104fa0d',\n",
    "    'b': '5ac635d8aa3a93e7b3ebbd55769886bc651d06b0cc53b0f63bce3c3e27d2604b',\n",
    "    'Gx': '6b17d1f2e12c4247f8bce6e563a440f277037d812deb33a0f4a13945d898c296',\n",
    "    'Gy': '4fe342e2fe1a7f9b8ee7eb4a7c0f9e162bce33576b315ececbb6406837bf51f5'\n",
    "}"
   ]
  },
  {
   "cell_type": "markdown",
   "metadata": {},
   "source": [
    "### Definição do esquema ECDSA"
   ]
  },
  {
   "cell_type": "code",
   "execution_count": 5,
   "metadata": {},
   "outputs": [],
   "source": [
    "class ECDSA:\n",
    "    \n",
    "    def __init__(self):\n",
    "        curve = NIST['P-256']\n",
    "        p = curve['p']\n",
    "        self.n = curve['n']\n",
    "        b = ZZ(curve['b'],16)\n",
    "        Gx = ZZ(curve['Gx'],16)\n",
    "        Gy = ZZ(curve['Gy'],16)\n",
    "        self.E = EllipticCurve(GF(p),[-3,b])\n",
    "        self.G = self.E((Gx,Gy))\n",
    "        self.private_key = ZZ.random_element(1,self.n - 1)\n",
    "        self.public_key = self.private_key * self.G\n",
    "    \n",
    "    def sign(self,message):\n",
    "        digest = hash_message(message)\n",
    "        digest = convert_to_ZZ(digest)\n",
    "        ok = False\n",
    "        while not ok:\n",
    "            k = ZZ.random_element(1,self.n-1)\n",
    "            r_point = k * self.G\n",
    "            r = Mod(r_point[0],self.n)\n",
    "            if r == 0:\n",
    "                ok = False\n",
    "            else :\n",
    "                while not ok:\n",
    "                    k_inverse = inverse_mod(k,self.n)\n",
    "                    temp_calc = k_inverse * (digest + (r*self.private_key))\n",
    "                    s = ZZ(Mod(temp_calc,self.n))\n",
    "                    if s == 0:\n",
    "                        ok = False\n",
    "                    else:\n",
    "                        ok = True\n",
    "        \n",
    "        return r,s\n",
    "    \n",
    "    def verify(self,message,signature):\n",
    "        sig_r = signature[0]\n",
    "        sig_s = signature[1]\n",
    "        if (sig_r < 1 or sig_r > self.n -1 or sig_s < 1 or sig_s > self.n - 1):\n",
    "            return False\n",
    "        else:\n",
    "            digest = hash_message(message)\n",
    "            digest = convert_to_ZZ(digest)\n",
    "            w = inverse_mod(sig_s,self.n)\n",
    "            u1 = ZZ(Mod(digest*w,self.n))\n",
    "            u2 = ZZ(Mod(sig_r*w,self.n))\n",
    "            cp = u1*self.G + u2*self.public_key\n",
    "            # verificar se cp é o ponto no infinito. se for assinatura invalida\n",
    "            if Mod(cp[0],self.n) == Mod(sig_r,self.n):\n",
    "                return True\n",
    "            else:\n",
    "                return False"
   ]
  },
  {
   "cell_type": "markdown",
   "metadata": {},
   "source": [
    "### Teste ao esquema ECDSA"
   ]
  },
  {
   "cell_type": "code",
   "execution_count": 6,
   "metadata": {},
   "outputs": [
    {
     "name": "stdout",
     "output_type": "stream",
     "text": [
      "OK\n"
     ]
    }
   ],
   "source": [
    "e = ECDSA()\n",
    "r,s = e.sign('little brown fox')\n",
    "if e.verify('little brown fox',(r,s)):\n",
    "    print 'OK'\n",
    "else:\n",
    "    print 'Not OK'"
   ]
  },
  {
   "cell_type": "markdown",
   "metadata": {},
   "source": [
    "## Esquema ECDH"
   ]
  },
  {
   "cell_type": "markdown",
   "metadata": {},
   "source": [
    "### Definição do esquema ECDH"
   ]
  },
  {
   "cell_type": "code",
   "execution_count": null,
   "metadata": {},
   "outputs": [],
   "source": []
  },
  {
   "cell_type": "markdown",
   "metadata": {},
   "source": [
    "### Teste ao esquema ECDH"
   ]
  },
  {
   "cell_type": "code",
   "execution_count": null,
   "metadata": {},
   "outputs": [],
   "source": []
  },
  {
   "cell_type": "markdown",
   "metadata": {},
   "source": [
    "## Conclusão"
   ]
  },
  {
   "cell_type": "markdown",
   "metadata": {},
   "source": []
  },
  {
   "cell_type": "markdown",
   "metadata": {},
   "source": [
    "## Referências"
   ]
  },
  {
   "cell_type": "markdown",
   "metadata": {},
   "source": []
  },
  {
   "cell_type": "code",
   "execution_count": null,
   "metadata": {},
   "outputs": [],
   "source": []
  }
 ],
 "metadata": {
  "kernelspec": {
   "display_name": "SageMath 8.6",
   "language": "",
   "name": "sagemath"
  },
  "language_info": {
   "codemirror_mode": {
    "name": "ipython",
    "version": 2
   },
   "file_extension": ".py",
   "mimetype": "text/x-python",
   "name": "python",
   "nbconvert_exporter": "python",
   "pygments_lexer": "ipython2",
   "version": "2.7.15"
  }
 },
 "nbformat": 4,
 "nbformat_minor": 2
}
