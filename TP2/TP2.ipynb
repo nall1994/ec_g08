{
 "cells": [
  {
   "cell_type": "markdown",
   "metadata": {},
   "source": [
    "# Trabalho Prático 2"
   ]
  },
  {
   "cell_type": "markdown",
   "metadata": {},
   "source": [
    "## Introdução"
   ]
  },
  {
   "cell_type": "markdown",
   "metadata": {},
   "source": [
    "A resolução deste trabalho prático tem como propósito introduzir o **SageMath**, corpos finitos primos, curvas elípticas sobre esses corpos e esquemas criptográficos baseados nos mesmos.\n",
    "Os principais objetivos passam por:\n",
    "\n",
    "- Implementar um esquema _RSA_ como uma classe **Python**.\n",
    "- Implementar um esquema _ECDSA_ como uma classe **Python**.\n",
    "- Implementar um esquema _ECDH_ como uma classe **Python**.\n",
    "\n",
    "Além disso, devem ser aplicadas as seguintes particularidades aos esquemas desenvolvidos:\n",
    "\n",
    "- O esquema _RSA_ deve fornecer métodos para cifrar, decifrar, assinar e verificar uma mensagem.\n",
    "- O esquema _ECDSA_ deve utilizar uma das curvas primas definidas no **FIPS186-4**.\n",
    "- O esquema _ECDH_ deve utilizar curvas elíticas binárias.\n",
    "\n",
    "O relatório está dividido em três partes, uma por cada um dos objetivos a cumprir. Além disso, está estruturado de forma a que o texto entre os _snippets_ de código seja suficientemente explicativo, sobre a implementação e desenho da solução."
   ]
  },
  {
   "cell_type": "markdown",
   "metadata": {},
   "source": [
    "**PODERÁ SER PRECISO ALGO AQUI, COMO IMPORTS DO SAGEMATH OU ASSIM**"
   ]
  },
  {
   "cell_type": "markdown",
   "metadata": {},
   "source": [
    "## Esquema RSA"
   ]
  },
  {
   "cell_type": "markdown",
   "metadata": {},
   "source": [
    "O objetivo desta secção passa por definir a classe **Python** que implementa o algoritmo **RSA**. Esta permitirá inicializar uma intância, fornecendo-lhe o parâmetro de segurança (tamanho de chave). Após criada a instância, a mesma permitirá:\n",
    "\n",
    "- Cifrar uma mensagem.\n",
    "- Decifrar uma mensagem previamente cifrada.\n",
    "- Assinar digitalmente uma mensagem.\n",
    "- Verificar uma assinatura digital de uma mensagem, previamente produzida."
   ]
  },
  {
   "cell_type": "code",
   "execution_count": 10,
   "metadata": {},
   "outputs": [],
   "source": [
    "class RSA:\n",
    "    \n",
    "    def __init__(self,l):\n",
    "        r = random_prime(2**((l/2) + 1)/2,(2**(l/2))/2)\n",
    "        p = random_prime((2*r + 1)**2, 2*r + 1)\n",
    "        self.q = p * r\n",
    "        phi = (p - 1) * (r - 1)\n",
    "        \n",
    "        k = ZZ.random_element(phi)\n",
    "        while gcd(k, phi) != 1:\n",
    "             k = ZZ.random_element(phi)\n",
    "        self.k = k\n",
    "        \n",
    "        self.s = inverse_mod(self.k,phi)\n",
    "    \n",
    "    def encrypt(self,plaintext):\n",
    "        return power_mod(plaintext,self.k,self.q)        \n",
    "    \n",
    "    def decrypt(self,ciphertext):\n",
    "        return power_mod(ciphertext,self.s,self.q)\n",
    "    \n",
    "    def sign(self,message):\n",
    "        return power_mod(message,self.s,self.q)        \n",
    "    \n",
    "    def verify(self,message,signature):\n",
    "        mk = power_mod(signature,self.k,self.q)\n",
    "        return mk == message"
   ]
  },
  {
   "cell_type": "code",
   "execution_count": 11,
   "metadata": {},
   "outputs": [
    {
     "name": "stdout",
     "output_type": "stream",
     "text": [
      "114741538318899128783020272867901617965692384029848676537666\n",
      "114741538318899128783020272867901617965692384029848676537666\n",
      "OK\n"
     ]
    }
   ],
   "source": [
    "r = RSA(1024)\n",
    "# Se a mensagem for maior do que o q, não funciona!\n",
    "# Ver como fazer nesses casos\n",
    "# Ver como generalizar, convertendo uma string num número inteiro para que possa ser passada qualquer mensagem\n",
    "# Possivelmente teremos que cifrar em blocos e fazer padding\n",
    "msg = ZZ.random_element(2**100,2**200)\n",
    "print(msg)\n",
    "ciphertext = r.encrypt(msg)\n",
    "\n",
    "plaintext = r.decrypt(ciphertext)\n",
    "print(plaintext)\n",
    "\n",
    "sig = r.sign(msg)\n",
    "if(r.verify(msg,sig)):\n",
    "    print('OK')\n",
    "else: print('Not OK!')"
   ]
  },
  {
   "cell_type": "markdown",
   "metadata": {},
   "source": [
    "## Esquema ECDSA"
   ]
  },
  {
   "cell_type": "markdown",
   "metadata": {},
   "source": [
    "## Esquema ECDH"
   ]
  },
  {
   "cell_type": "code",
   "execution_count": null,
   "metadata": {},
   "outputs": [],
   "source": []
  },
  {
   "cell_type": "markdown",
   "metadata": {},
   "source": [
    "## Conclusão"
   ]
  },
  {
   "cell_type": "markdown",
   "metadata": {},
   "source": []
  },
  {
   "cell_type": "markdown",
   "metadata": {},
   "source": [
    "## Referências"
   ]
  },
  {
   "cell_type": "markdown",
   "metadata": {},
   "source": []
  },
  {
   "cell_type": "code",
   "execution_count": null,
   "metadata": {},
   "outputs": [],
   "source": []
  }
 ],
 "metadata": {
  "kernelspec": {
   "display_name": "SageMath 7.4",
   "language": "",
   "name": "sagemath"
  },
  "language_info": {
   "codemirror_mode": {
    "name": "ipython",
    "version": 2
   },
   "file_extension": ".py",
   "mimetype": "text/x-python",
   "name": "python",
   "nbconvert_exporter": "python",
   "pygments_lexer": "ipython2",
   "version": "2.7.13"
  }
 },
 "nbformat": 4,
 "nbformat_minor": 2
}
