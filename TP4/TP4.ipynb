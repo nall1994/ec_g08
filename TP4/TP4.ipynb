{
 "cells": [
  {
   "cell_type": "markdown",
   "metadata": {},
   "source": [
    "### Trabalho Prático 4"
   ]
  },
  {
   "cell_type": "markdown",
   "metadata": {},
   "source": [
    "## Introdução"
   ]
  },
  {
   "cell_type": "markdown",
   "metadata": {},
   "source": [
    "A resolução deste trabalho prático tem 2 objetivos principais:\n",
    "    \n",
    "    - A implementação de um esquema criptográfico CRISTALIS.\n",
    "    - A implementação de um esquema criptográfico qTESLA.\n",
    "   \n",
    "Estes dois esquemas criptográficos a implementar são dois candidatos ao concurso de standards para criptografia pós-quântica promovido pela **NIST**.\n",
    "\n",
    "Este relatório está, desta forma, dividido em duas partes, cada parte correspondente à resolução de um dos problemas e, além disso, está estruturado de forma a que o texto entre os _snippets_ de código seja suficientemente explicativo sobre a implementação e desenho da solução em cada um dos problemas."
   ]
  },
  {
   "cell_type": "markdown",
   "metadata": {},
   "source": [
    "### Definição dos geradores necessários"
   ]
  },
  {
   "cell_type": "code",
   "execution_count": null,
   "metadata": {},
   "outputs": [],
   "source": [
    "# Gerador aproximadamente gaussiano\n",
    "\n",
    "def D(alfa,size=None):\n",
    "    if alfa > 0 and 4*alfa < 1:\n",
    "        _rnd  = lambda s : int(round(math.fmod(s*alfa*q,1+r)))\n",
    "    \n",
    "        if size == None:\n",
    "            return _rnd(np.random.standard_normal())\n",
    "        else:\n",
    "            if size > 0:\n",
    "                return map(_rnd, np.random.standard_normal(size))\n",
    "            else:\n",
    "                print \"O número de elementos na amostra tem de ser positivo!\"\n",
    "    else:\n",
    "        print \"O parâmetro alfa tem de ser positivo e menor que 1/4\"\n",
    "     \n",
    "    \n",
    "# Gerador binário\n",
    "\n",
    "def binary(size=n):\n",
    "    return list(np.random.choice([-1,1],size))\n",
    "    \n",
    "# Gerador RLWE\n",
    "def RLWE(s,alfa=0.2):\n",
    "    x = R.random_element(); e = R(D(alfa,n))\n",
    "    return (x,x*s+e)\n",
    "\n",
    "#auxiliar\n",
    "def rnd(pol):\n",
    "    return [k if k <= r else k - q for k in map(lift,pol.list())]"
   ]
  },
  {
   "cell_type": "markdown",
   "metadata": {},
   "source": [
    "## CRISTALIS"
   ]
  },
  {
   "cell_type": "markdown",
   "metadata": {},
   "source": [
    "Nesta secção, é definido o esquema criptográfico CRISTALIS."
   ]
  },
  {
   "cell_type": "code",
   "execution_count": null,
   "metadata": {},
   "outputs": [],
   "source": [
    "q = 2**23 - 2**13 + 1\n",
    "n = 256\n",
    "K.<z> = GF(q)[]\n",
    "R.<z> = K.quotient(z^n + 1)"
   ]
  },
  {
   "cell_type": "markdown",
   "metadata": {},
   "source": [
    "## qTESLA"
   ]
  },
  {
   "cell_type": "markdown",
   "metadata": {},
   "source": [
    "Nesta secção, é definido o esquema criptográfico qTESLA."
   ]
  },
  {
   "cell_type": "markdown",
   "metadata": {},
   "source": [
    "### Definição do esquema qTESLA"
   ]
  },
  {
   "cell_type": "code",
   "execution_count": null,
   "metadata": {},
   "outputs": [],
   "source": [
    "        "
   ]
  },
  {
   "cell_type": "markdown",
   "metadata": {},
   "source": [
    "## Conclusão"
   ]
  },
  {
   "cell_type": "markdown",
   "metadata": {},
   "source": []
  },
  {
   "cell_type": "markdown",
   "metadata": {},
   "source": [
    "## Referências"
   ]
  },
  {
   "cell_type": "markdown",
   "metadata": {},
   "source": []
  }
 ],
 "metadata": {
  "kernelspec": {
   "display_name": "SageMath 8.7",
   "language": "",
   "name": "sagemath"
  },
  "language_info": {
   "codemirror_mode": {
    "name": "ipython",
    "version": 2
   },
   "file_extension": ".py",
   "mimetype": "text/x-python",
   "name": "python",
   "nbconvert_exporter": "python",
   "pygments_lexer": "ipython2",
   "version": "2.7.16"
  }
 },
 "nbformat": 4,
 "nbformat_minor": 2
}
