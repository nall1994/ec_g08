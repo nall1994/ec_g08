{
 "cells": [
  {
   "cell_type": "markdown",
   "metadata": {},
   "source": [
    "# Trabalho Prático 3"
   ]
  },
  {
   "cell_type": "markdown",
   "metadata": {},
   "source": [
    "## Introdução"
   ]
  },
  {
   "cell_type": "markdown",
   "metadata": {},
   "source": [
    "A resolução deste trabalho prático tem 3 objetivos principais:\n",
    "\n",
    "- Criar uma classe **Python** que implemente o algoritmo de _Boneh & Venkatesan_ .\n",
    "- Implementação de um esquema de assinaturas digitais _FALCON_ .\n",
    "- Estudar gamas de valores de determinados parâmetros que tornem viável um ataque de inversão de chave pública ou inversão do criptograma utilizando redução de bases.\n",
    "\n",
    "Este relatório está, desta forma, dividido em três partes, cada parte correspondente à resolução de um dos problemas e, além disso, está estruturado de forma a que o texto entre os _snippets_ de código seja suficientemente explicativo sobre a implementação e desenho da solução em cada um dos problemas."
   ]
  },
  {
   "cell_type": "markdown",
   "metadata": {},
   "source": [
    "## Algoritmo de Boneh & Venkatesan"
   ]
  },
  {
   "cell_type": "markdown",
   "metadata": {},
   "source": [
    "Esta secção tem como propósito definir uma classe **Python** que implemente o algoritmo de _Boneh & Venkatesan_ , que explora o _Hidden Number Problem_ que, se bem sucedido, permite obter um segredo a partir de um conjunto de dados. Além disso, a secção está dividida em quatro partes:\n",
    "\n",
    "- A primeira parte define o oráculo HNP, que gera um segredo,permite calcular o msb e compara um segredo calculado com o gerado;\n",
    "- A segunda parte define as funções de geração do vetor aleatório **x** e do vetor composto por $ ui = msb(xi,s) $ para $ i=0 $ até $ i = l - 1 $.\n",
    "- A terceira parte define apenas o algoritmo de _Boneh & Venkatesan_ .\n",
    "- A quarta parte, apelidada de teste, fornece os parâmetros necessários à instância do algoritmo para que ele descubra o segredo **s** a partir dos mesmos."
   ]
  },
  {
   "cell_type": "markdown",
   "metadata": {},
   "source": [
    "### Definição do oráculo HNP"
   ]
  },
  {
   "cell_type": "markdown",
   "metadata": {},
   "source": [
    "O propósito desta secção passa por definir o oráculo que gera um segredo e, posteriormente, retorna o vetor u, com l elementos, onde cada um é um inteiro representativo dos k bits mais significativos de $ s * xi $."
   ]
  },
  {
   "cell_type": "code",
   "execution_count": 52,
   "metadata": {},
   "outputs": [],
   "source": [
    "\n",
    "class HNPOracle:\n",
    "    \n",
    "    def __init__(self,p):\n",
    "        # gerar o segredo.\n",
    "        self.secret = ZZ.random_element(p)\n",
    "        print 'secret'\n",
    "        print self.secret\n",
    "    \n",
    "    def msb(self,k,p,xi):\n",
    "        value = ZZ(Mod(xi*self.secret,p))\n",
    "        binary_value = value.digits(2)\n",
    "        binary_value.reverse()\n",
    "        value_str = ''\n",
    "        if len(binary_value) < k:\n",
    "            for i in range(0,len(binary_value)):\n",
    "                value_str += str(binary_value[i])\n",
    "        else:\n",
    "            for i in range(0,k):\n",
    "                value_str += str(binary_value[i])\n",
    "        return value_str\n",
    "    \n",
    "    def compare_secret(self,calculated_secret):\n",
    "        if calculated_secret == self.secret:\n",
    "            return True\n",
    "        else:\n",
    "            return False"
   ]
  },
  {
   "cell_type": "markdown",
   "metadata": {},
   "source": [
    "### Definição da função de geração do vetor aletório e vetor u"
   ]
  },
  {
   "cell_type": "code",
   "execution_count": 53,
   "metadata": {},
   "outputs": [],
   "source": [
    "def generate_l_random_elements(l,p):\n",
    "    x = []\n",
    "    for i in range(0,l):\n",
    "        x.append(ZZ.random_element(p))\n",
    "    return x\n",
    "\n",
    "def calculate_u_vector(x_vector,k,p,oracle):\n",
    "    u_vector = []\n",
    "    for xi in x_vector:\n",
    "        ui = oracle.msb(k,p,xi)\n",
    "        ui = ZZ(int(ui,2))\n",
    "        u_vector.append(ui)\n",
    "    return u_vector  "
   ]
  },
  {
   "cell_type": "markdown",
   "metadata": {},
   "source": [
    "### Definição do algoritmo de Boneh & Venkatesan"
   ]
  },
  {
   "cell_type": "code",
   "execution_count": 54,
   "metadata": {},
   "outputs": [],
   "source": [
    "import sage.modules.free_module_integer as fmi\n",
    "import numpy as np\n",
    "\n",
    "class BV:\n",
    "    \n",
    "    def __init__(self,u,x,k,p,l):\n",
    "        # construir a matriz L , lambda,o target T e, finalmente, o reticulado Lret\n",
    "        self.param_lambda = 2^(k+1)\n",
    "        self.L = self.param_lambda * p * matrix.identity(l)\n",
    "        self.L = self.L.transpose()\n",
    "        self.L = self.L.insert_row(l,zero_vector(l))\n",
    "        self.L = self.L.transpose()\n",
    "        temp_x = [self.param_lambda * i for i in x]\n",
    "        temp_x.append(1)\n",
    "        self.L = self.L.insert_row(l,temp_x)\n",
    "        self.target = [self.param_lambda * i for i in u]\n",
    "        self.target.append(0)\n",
    "        self.target = matrix(self.target)\n",
    "        self.Lret = fmi.IntegerLattice(self.L)\n",
    "        \n",
    "    \n",
    "    def solve(self,x,p,l):\n",
    "        # Calcular o CVP aproximado do reticulado Lret\n",
    "        L = matrix(self.Lret.reduced_basis)\n",
    "        t = matrix(1,l+1,list(-self.target))\n",
    "        zero = matrix(l+1,1,[0]*(l+1))\n",
    "        M = matrix(1,1,p**2)\n",
    "        L1 = block_matrix(2,2,[[L,zero],[t,M]])\n",
    "        ret = fmi.IntegerLattice(L1).reduced_basis\n",
    "        error1 = np.array(ret[l+1][:-1])\n",
    "        y1 = error1 + self.target\n",
    "        return y1[0][l] # última componente do vetor resultante.\n",
    "        "
   ]
  },
  {
   "cell_type": "markdown",
   "metadata": {},
   "source": [
    "### Teste ao algoritmo de Boneh & Venkatesan"
   ]
  },
  {
   "cell_type": "code",
   "execution_count": 78,
   "metadata": {},
   "outputs": [
    {
     "name": "stdout",
     "output_type": "stream",
     "text": [
      "secret\n",
      "6981224216842594255\n",
      "calculated_secret\n",
      "6981224216842594255\n",
      "Algoritmo aproximado calculou o segredo com sucesso!\n"
     ]
    }
   ],
   "source": [
    "l = 2^7\n",
    "k = 64\n",
    "p = 2^64\n",
    "x_vector = generate_l_random_elements(l,p)\n",
    "oracle = HNPOracle(p)\n",
    "u_vector = calculate_u_vector(x_vector,k,p,oracle)\n",
    "bv = BV(u_vector,x_vector,k,p,l)\n",
    "calculated_secret = bv.solve(x_vector,p,l)\n",
    "print 'calculated_secret'\n",
    "print calculated_secret\n",
    "if oracle.compare_secret(calculated_secret):\n",
    "    print 'Algoritmo aproximado calculou o segredo com sucesso!'\n",
    "else:\n",
    "    print 'Algoritmo aproximado não conseguiu calcular o segredo com sucesso!'"
   ]
  },
  {
   "cell_type": "markdown",
   "metadata": {},
   "source": [
    "## Definição do Esquema NTRU-Encrypt"
   ]
  },
  {
   "cell_type": "markdown",
   "metadata": {},
   "source": [
    "Nesta secção foi definido um esquema criptográfico, com base na cifra NTRU disponibilizada num notebook Sage, o artigo de Joseph Silverman e a documentação das candidaturas NTRU-Encrypt e NTRU-Prime apresentadas ao concurso *NIST* de standards *PQC*, de uma destas.\n",
    "\n",
    "A implementação aqui documentada, refere-se ao esquema criptográfico definido como *ntru-pke*, que consiste em criptografia de chave pública."
   ]
  },
  {
   "cell_type": "markdown",
   "metadata": {},
   "source": [
    "### Módulos Importados e Parâmetros Públicos"
   ]
  },
  {
   "cell_type": "markdown",
   "metadata": {},
   "source": [
    "Antes da definição dos algoritmos, é necessário definir os seguintes parâmetros públicos e importar os módulos necessários."
   ]
  },
  {
   "cell_type": "code",
   "execution_count": 260,
   "metadata": {},
   "outputs": [],
   "source": [
    "import random\n",
    "import hashlib\n",
    "from datetime import datetime\n",
    "from sage.crypto.util import ascii_to_bin, bin_to_ascii\n",
    "\n",
    "name        = \"NTRU_PKE_443\"\n",
    "d           = 115\n",
    "N           = 443\n",
    "p           = 3\n",
    "q           = next_prime(p*N)       \n",
    "max_msg_len = 33 \n",
    "Z.<x>       = ZZ[]\n",
    "Q.<x>       = PolynomialRing(GF(q),name='x').quotient(x^N-1)"
   ]
  },
  {
   "cell_type": "markdown",
   "metadata": {},
   "source": [
    "O parâmetro `q` foi definido pela primitiva `next_prime(p*N)`, com base no notebook Sage, embora a candidatura tenha usado 2048, para o valor deste. Isto deveu-se ao facto do método `lift` resultar na seguinte mensagem de erro, aquando do uso desse valor para o parâmetro `q`."
   ]
  },
  {
   "cell_type": "raw",
   "metadata": {},
   "source": [
    "# --------------------------------------------------------------------\n",
    "\n",
    "/usr/lib/python2.7/site-packages/sage/misc/functional.pyc in lift(x)\n",
    "    972         return x.lift()\n",
    "    973     except AttributeError:\n",
    "--> 974         raise ArithmeticError(\"no lift defined.\")\n",
    "    975 \n",
    "    976 \n",
    "\n",
    "ArithmeticError: no lift defined."
   ]
  },
  {
   "cell_type": "markdown",
   "metadata": {},
   "source": [
    "### Definição de Funções auxiliares\n",
    "\n",
    "Feito isto, definiram-se algumas funções auxiliares, que facilitaram a implementação dos algoritmos descritos na próxima secção."
   ]
  },
  {
   "cell_type": "code",
   "execution_count": 261,
   "metadata": {},
   "outputs": [],
   "source": [
    "def pad(msg):    \n",
    "    msg_len = len(msg)/8\n",
    "    if msg_len > max_msg_len:\n",
    "        raise Exception('msg_len should not exceed {}. The value of msg_len was: {}'\n",
    "                        .format(max_msg_len, msg_len))\n",
    "        \n",
    "    r = N - (167 + 6 + msg_len*8)\n",
    "    lr = list(0 for i in (0..r-1))\n",
    "    \n",
    "    msg_len = \"{0:06b}\".format(int(msg_len))\n",
    "    msg_len = [int(d) for d in msg_len[:6]];\n",
    "        \n",
    "    m = msg + lr + vec(167) + msg_len;\n",
    "        \n",
    "    return m\n",
    "\n",
    "def hash_message(m, h):\n",
    "    m = ''.join([str(x) for x in m])\n",
    "    hm = hashlib.sha512(m)\n",
    "    lh = map(lift,h.list())\n",
    "    sh = ''.join(str(x) for x in lh)\n",
    "    hh = hashlib.sha512(sh)\n",
    "    rseed = str(hm) + str(hh)\n",
    "    return rseed\n",
    "\n",
    "def vec(n):\n",
    "    return  [choice([-1,0,1]) for k in range(n)]\n",
    "\n",
    "# arredondamento módulo 'q'\n",
    "def qrnd(f):\n",
    "    qq = (q-1)//2 ; ll = map(lift,f.list())\n",
    "    return [n if n <= qq else n - q  for n in ll]\n",
    "\n",
    "# arredondamento módulo 'p'\n",
    "def prnd(l):\n",
    "    pp = (p-1)//2\n",
    "    rr = lambda x: x if x <= pp else x - p        \n",
    "    return [rr(n%p) if n>=0 else -rr((-n)%p) for n in l]\n",
    "\n",
    "def extract(m):\n",
    "    msg_len = m[-6:]\n",
    "    msg_len = ''.join(str(x) for x in msg_len)\n",
    "    msg_len = int(msg_len,2)\n",
    "    \n",
    "    msg = m[:msg_len*8]\n",
    "        \n",
    "    return msg, msg_len"
   ]
  },
  {
   "cell_type": "markdown",
   "metadata": {},
   "source": [
    "### Definição do Esquema"
   ]
  },
  {
   "cell_type": "markdown",
   "metadata": {},
   "source": [
    "De seguida, num sistema criptográfico **NTRU**, `f` é a chave privada e `h` a chave pública. Estas são definidas pelo seguinte algoritmo e implementadas no método `keypair`.\n",
    "\n",
    "---\n",
    "*NTRU.keypair*\n",
    "\n",
    "**Input:** $seed$\n",
    "\n",
    "1. Instanciar um *Sampler* e uma seed\n",
    "2. f <- *Sampler*\n",
    "3. Se *f* não fôr invertível $\\mod q$, voltar ao passo 2\n",
    "4. g <- *Sampler*\n",
    "5. $ h = g/(pf + 1) \\mod q $\n",
    "\n",
    "**Output:** Chave pública **h** e chave privada $(pf, g)$\n",
    "\n",
    "Posto isto, o algoritmo utilizado para cifrar as mensagem, encontra-se assim definido de acordo com a candidatura, e implementado no método `encrypt`, da seguinte forma:\n",
    "\n",
    "---\n",
    "*NTRU.encrypt*\n",
    "\n",
    "**Input:** Mensagem $msg$ (representada sob a forma de uma lista de bits)\n",
    "\n",
    "1. $m = pad(msg)$\n",
    "2. $rseed = hash(m|h)$\n",
    "3. Instanciar um $Sampler$ com $rseed$\n",
    "4. r <- $Sampler$\n",
    "5. $t = r \\times h$\n",
    "6. $tseed = hash(m|h)$\n",
    "7. Instanciar um $Sampler$ com $tseed$\n",
    "8. $m_{mask}$ <- $Sampler$\n",
    "9. $m' = m - m_{mask}$\n",
    "10. $c = t + m'$\n",
    "\n",
    "**Output:** Texto cifrado c\n",
    "\n",
    "Por último, definiu-se o algoritmo para decifrar o texto, implementado no método `decrypt`, da seguinte forma:\n",
    "\n",
    "---\n",
    "*NTRU.decrypt*\n",
    "\n",
    "**Input:** Texto cifrado $c$\n",
    "\n",
    "1. $m' = f \\times c (\\mod p)$\n",
    "2. $t = c- m$\n",
    "3. $tseed = hash(t)$\n",
    "4. Instanciar um $Sampler$ com $tseed$\n",
    "5. $m_{mask}$ <- $Sampler$\n",
    "6. $m = m' + m_{mask} (\\mod p)$\n",
    "7. $rseed = hash(m|h)$\n",
    "8. Instanciar um $Sampler$ com $rseed$\n",
    "9. $r$ <- $Sampler$\n",
    "10. $msg,msg\\_len = extract(m)$\n",
    "\n",
    "**Output:** $msg$"
   ]
  },
  {
   "cell_type": "code",
   "execution_count": 262,
   "metadata": {},
   "outputs": [],
   "source": [
    "\n",
    "class NTRU:\n",
    "    \n",
    "    def __init__(self):\n",
    "        print('Name:\\t' + name)\n",
    "        print('d:\\t' + str(d))\n",
    "        print('N:\\t' + str(N))\n",
    "        print('p:\\t' + str(p))\n",
    "        print('q:\\t' + str(q))\n",
    "        print Z\n",
    "        print Q\n",
    "    \n",
    "    def keypair(self, seed):\n",
    "        f = Q(0)\n",
    "        random.seed(seed)\n",
    "        while not f.is_unit():\n",
    "            F = Q(vec(N)); f = 1 + p*F\n",
    "        G = Q([choice([-1,0,1]) for k in range(N)]) ; g = p*G\n",
    "        self.f = f\n",
    "        self.h = f^(-1) * g\n",
    "    \n",
    "    def encrypt(self, msg):\n",
    "        m = pad(msg)\n",
    "        \n",
    "        rseed = hash_message(m, self.h)\n",
    "        random.seed(rseed)        \n",
    "        r = [random.choice([-1,0,1]) for k in range(N)]\n",
    "        \n",
    "        t = Q(r) * self.h\n",
    "\n",
    "        lt = map(lift,t.list())\n",
    "        st = ''.join(str(x) for x in lt)\n",
    "        tseed = hashlib.sha512(st)\n",
    "        random.seed(tseed)\n",
    "        \n",
    "        m_mask = [random.choice([-1,0,1]) for k in range(N)]\n",
    "        mm = prnd(qrnd(Q(m) - Q(m_mask)))\n",
    "        \n",
    "        c = t + Q(mm)\n",
    "        \n",
    "        return c\n",
    "    \n",
    "    def decrypt(self,e):\n",
    "        mm = prnd(qrnd(self.f * e))\n",
    "        t = e - Q(mm)\n",
    "        \n",
    "        lt = map(lift,t.list())\n",
    "        st = ''.join(str(x) for x in lt)\n",
    "        tseed = hashlib.sha512(st)\n",
    "        \n",
    "        random.seed(tseed)\n",
    "        m_mask = [random.choice([-1,0,1]) for k in range(N)]\n",
    "        \n",
    "        m = prnd(qrnd(Q(mm) + Q(m_mask)))\n",
    "        \n",
    "        rseed = hash_message(m, self.h)\n",
    "        random.seed(rseed)\n",
    "        r = [random.choice([-1,0,1]) for k in range(N)]\n",
    "        \n",
    "        msg,msg_len = extract(m)\n",
    "        \n",
    "        return msg"
   ]
  },
  {
   "cell_type": "markdown",
   "metadata": {},
   "source": [
    "### Teste ao esquema NTRU"
   ]
  },
  {
   "cell_type": "code",
   "execution_count": 263,
   "metadata": {},
   "outputs": [
    {
     "name": "stdout",
     "output_type": "stream",
     "text": [
      "Name:\tNTRU_PKE_443\n",
      "d:\t115\n",
      "N:\t443\n",
      "p:\t3\n",
      "q:\t1361\n",
      "Univariate Polynomial Ring in x over Integer Ring\n",
      "Univariate Quotient Polynomial Ring in x over Finite Field of size 1361 with modulus x^443 + 1360\n",
      "\n",
      "message:\t[0, 0, 0, 0, 0, -1, 1, 1, -1, -1, -1, 0, -1, 0, 0, 0, 0, 1, -1, 1, 1, -1, 0, -1, -1, 0, 0, -1, -1, 1, -1, 1, 1, -1, -1, 1, 1, -1, 0, 0, -1, 0, -1, 0, 0, 1, -1, 0, 0, 1, 0, 0, 1, 0, -1, 0, 0, -1, 1, -1, 0, -1, 0, 1, 1, 1, 0, 1, 1, -1, 1, 0, -1, -1, 1, 1, 0, 1, -1, 1, -1, 1, 1, 0, 0, 0, 0, -1, 1, 0, 0, -1, 0, -1, -1, 1, 0, 0, 1, 0, 1, -1, -1, 0, 1, -1, 1, 0, -1, -1, -1, -1, 1, 0, 1, -1, -1, 0, -1, 0, -1, -1, 1, 0, -1, 0, 0, 0, 0, 1, 0, 1, 0, -1, 0, -1, -1, -1, 0, 1, 0, 0, 1, 1, -1, -1, -1, 1, 1, -1, 0, 0, 1, -1, 0, -1, -1, 1, 0, 0, -1, 0, 0, -1, 1, 1, -1, 0, 1, 0, 0, 1, 1, 1, 1, 1, -1, -1, -1, 0, -1, 1, 0, 0, 0, -1, 0, 1, -1, -1, 1, 0, 1, 0, -1, 1, 0, 0, 0, 1, -1, 0, -1, -1, -1, -1, 0, 1, 1, -1, 1, 0, 0, 0, 1, 0, 0, 0, -1, -1, -1, -1, -1, 0, 1, 1, 1, -1, -1, 1, 0, 0, 0, 0, 0, 1, -1, 0, 0, 0, 1, -1, 0, 0, 0, -1, -1, 1, 1, 0, 0, -1, 1, 0, -1, 1, 0, -1, -1, -1, 1, 1, 1, 1]\n",
      "message length:\t33 bytes\n",
      "\n",
      "True\n"
     ]
    }
   ],
   "source": [
    "K = NTRU()\n",
    "\n",
    "msg = vec(33 * 8)\n",
    "print('\\nmessage:\\t' + str(msg))\n",
    "print('message length:\\t' + str(len(msg)/8) + ' bytes' + '\\n')\n",
    "\n",
    "seed = datetime.now()\n",
    "K.keypair(seed)\n",
    "e = K.encrypt(msg)\n",
    "print msg == K.decrypt(e)\n"
   ]
  },
  {
   "cell_type": "markdown",
   "metadata": {},
   "source": [
    "## Ataques de inversão"
   ]
  },
  {
   "cell_type": "markdown",
   "metadata": {},
   "source": [
    "### Definição da classe NTRU e da classe LAT"
   ]
  },
  {
   "cell_type": "code",
   "execution_count": 89,
   "metadata": {},
   "outputs": [],
   "source": [
    "import sage.modules.free_module_integer as fmi\n",
    "# http://doc.sagemath.org/html/en/reference/modules/sage/modules/free_module_integer.html\n",
    "\n",
    "d = 6\n",
    "\n",
    "N = 13\n",
    "p = 3\n",
    "q = next_prime(p*N)\n",
    "\n",
    "Z.<x>  = ZZ[]        # polinómios de coeficientes inteiros\n",
    "Q.<x>  = PolynomialRing(GF(q),name='x').quotient(x^N-1)\n",
    "\n",
    "def vec():\n",
    "    return  [choice([-1,0,1]) for k in range(N)]\n",
    "\n",
    "# arredondamento módulo 'q'\n",
    "def qrnd(f):    # argumento em 'Q'\n",
    "    qq = (q-1)//2 ; ll = map(lift,f.list())\n",
    "    return [n if n <= qq else n - q  for n in ll]\n",
    "\n",
    "# arredondamento módulo 'p'\n",
    "def prnd(l):\n",
    "    pp = (p-1)//2\n",
    "    rr = lambda x: x if x <= pp else x - p        \n",
    "    return [rr(n%p) if n>=0 else -rr((-n)%p) for n in l]\n",
    "\n",
    "class NTRU(object):\n",
    "    def __init__(self):\n",
    "        # calcular um 'f' invertível\n",
    "        f = Q(0)\n",
    "        while not f.is_unit():\n",
    "            F = Q(vec()); f = 1 + p*F\n",
    "        # gerar as chaves\n",
    "        G = Q(vec()) ; g = p*G\n",
    "        self.f = f\n",
    "        self.h = f^(-1) * g\n",
    "        \n",
    "    def encrypt(self,m):\n",
    "        r = Q(vec()) \n",
    "        return r*self.h + Q(m)\n",
    "\n",
    "    def decrypt(self,e):\n",
    "        a = e*self.f\n",
    "        return prnd(qrnd(a))\n",
    "\n",
    "class Lat(NTRU):\n",
    "    def __init__(self):\n",
    "        super(Lat,self).__init__()\n",
    "        B1 = identity_matrix(ZZ,N); Bq = q*B1; B0 = matrix(ZZ,N,N,[0]*(N^2))\n",
    "        h = qrnd(self.h)\n",
    "        # rodar um vetor\n",
    "        H = [h]\n",
    "        for k in range(N-1):\n",
    "            h = [h[-1]] + h[:-1]   # shift right rotate\n",
    "            H = H + [h]\n",
    "        H = matrix(ZZ,N,N,H)\n",
    "        self.L = fmi.IntegerLattice(block_matrix([[Bq,B0],[H,B1]])) \n"
   ]
  },
  {
   "cell_type": "markdown",
   "metadata": {},
   "source": [
    "### Inversão da chave pública"
   ]
  },
  {
   "cell_type": "markdown",
   "metadata": {},
   "source": [
    "Segundo o artigo de _Silverman_, encontrar a chave privada f a partir da chave pública h, é equivalente a encontrar um vetor curto no reticulado **L(h)** definido em cima, para parâmetros apropriados."
   ]
  },
  {
   "cell_type": "code",
   "execution_count": 95,
   "metadata": {
    "scrolled": true
   },
   "outputs": [
    {
     "name": "stdout",
     "output_type": "stream",
     "text": [
      "x^12 + 40*x^9 + x^8 + x^6 + 40*x^5 + x^3 + x^2 + 39*x\n",
      "40*x^12 + 40*x^11 + x^10 + 2*x^9 + 39*x^8 + 39*x^7 + x^4 + 39*x^3 + 40\n",
      "3*x^12 + 38*x^11 + 38*x^9 + 3*x^7 + 3*x^4 + 3*x^3 + 3*x + 39\n"
     ]
    }
   ],
   "source": [
    "import numpy as np\n",
    "\n",
    "# Isto ainda são tudo experiências!\n",
    "\n",
    "l = Lat()\n",
    "lredmat = l.L.reduced_basis.LLL()\n",
    "lred = fmi.IntegerLattice(lredmat)\n",
    "#lred2mat = lred.reduced_basis.LLL()\n",
    "#lred2 = fmi.IntegerLattice(lred2mat)\n",
    "\n",
    "short_aproximate = np.array(lredmat[0][:-1]) #SVP aproximado\n",
    "short_aproximate_2 = np.array(lredmat[1][:-1])\n",
    "#short = lred.shortest_vector()\n",
    "#print Q(prnd(short))\n",
    "print Q(prnd(list(short_aproximate)))\n",
    "print Q(prnd(list(short_aproximate_2)))\n",
    "print l.f\n",
    "\n",
    "#print prnd(list(short))\n",
    "#print prnd(short)\n",
    "#short = list(short)\n",
    "#vect = []\n",
    "#for i in range(0,13):\n",
    "#    vect.append(short[i])\n",
    "#print vect\n",
    "#print prnd(vect)\n",
    "#cl = map(lift,Q(prnd(vect)).list())\n",
    "#print prnd(cl)\n",
    "#print qrnd(l.f)\n",
    "#print Q(prnd(short))\n",
    "#print l.f\n",
    "#print (prnd(qrnd(l.f)))\n",
    "#print prnd(short)\n",
    "#print qrnd(l.f)\n",
    "#print l.f\n",
    "#print Q(prnd(short))\n",
    "#ls = Q(prnd(short_aproximate))\n",
    "#lsl = map(lift,ls.list())\n",
    "#ll = map(lift,l.f.list())\n",
    "#print ll\n",
    "#print lsl\n",
    "#print l.f\n",
    "#print Q(prnd(short_aproximate))\n",
    "#print Q(prnd(short))\n",
    "#print prnd(qrnd(l.f))\n",
    "#print prnd(short)\n",
    "#short = l.L.shortest_vector() # SVP exato\n",
    "#m = vec()\n",
    "#e = l.encrypt(m)\n",
    "#e = e.list()\n",
    "#vector = [0]\n",
    "#vector = vector + e\n",
    "#print vector\n",
    "#target = vector\n",
    "#closest = l.L.closest_vector(tuple(target)) # CVP exato\n",
    "#print closest\n",
    "\n",
    "#Q(short)\n",
    "#print short\n",
    "#error1 = np.array(lred[N][:-1])\n",
    "#print error1 #+ matrix(1,N,l.h.list())\n",
    "#print l.f\n",
    "#llist = l.h.list()\n",
    "#t = matrix(1,N,list(-matrix(l.h.list())))\n",
    "#zero = matrix(N^2,1,[0]*(N^2))\n",
    "#M = matrix(1,1,2**q)\n",
    "#L1 = block_matrix(2,2,[[lred,zero],[t,M]])\n",
    "#L1\n",
    "#print list(-matrix(1,N,llist))\n",
    "\n",
    "\n",
    "# l.h.list() retorna os coeficientes \n",
    "\n",
    "## NOTA - SEGUNDO O ARTIGO DE SILVERMAN, RECUPERAR A CHAVE PRIVADA F A PARTIR DA CHAVE PÚBLICA H É EQUIVALENTE A ENCONTRAR\n",
    "# O VETOR MAIS CURTO NO RETICULADO Lh. -> resolver SVP aproximado\n",
    "\n",
    "## RECUPERAR A MENSAGEM M A PARTIR DO CIPHERTEXT C E DA CHAVE PUBLICA H É EQUIVALENTE A ENCONTRAR O VETOR EM Lh QUE\n",
    "# É MAIS PRÓXIMO DO VETOR [0,CIPHERTEXT]. -> resolver CVP aproximado com target [0,ciphertext] possivelmente??"
   ]
  },
  {
   "cell_type": "markdown",
   "metadata": {},
   "source": [
    "### Inversão do criptograma"
   ]
  },
  {
   "cell_type": "markdown",
   "metadata": {},
   "source": [
    "Segundo o artigo de _Silverman_, recuperar a mensagem original a partir do criptograma e da chave pública, é equivalente a encontrar o vetor mais próximo do target $ [0,criptograma] $, no reticulado **L(h)**."
   ]
  },
  {
   "cell_type": "code",
   "execution_count": null,
   "metadata": {},
   "outputs": [],
   "source": []
  },
  {
   "cell_type": "markdown",
   "metadata": {},
   "source": [
    "## Conclusão"
   ]
  },
  {
   "cell_type": "markdown",
   "metadata": {},
   "source": [
    "Os resultados da realização deste trabalho prático não são, desta vez, tão satisfatórios como nos trabalhos anteriores visto que, apesar de termos conseguido implementar o algoritmo de **Boneh & Venkatesan** e o esquema **NTRUEncrypt**, não conseguimos implementar os ataques de inversão referidos no enunciado. Como é dito em cima, conseguimos entender a relação entre o cálculo do vector mais curto e o cálculo do vetor mais próximo com as inversões da chave pública e criptograma, respetivamente, mas não conseguimos implementar de forma a que conseguíssemos obter esses mesmos resultados.\n",
    "\n",
    "Como deve ser óbvio nesta altura, este trabalho apresentou imensas dificuldades, especialmente e decididamente na pergunta 3, mas também no esquema **NTRUEncrypt**, apesar de que, nesse caso, ainda o conseguimos implementar de forma a que consiga cifrar e decifrar uma mensagem."
   ]
  },
  {
   "cell_type": "markdown",
   "metadata": {},
   "source": [
    "## Referências"
   ]
  },
  {
   "cell_type": "markdown",
   "metadata": {},
   "source": [
    "1. [Worksheets TP4 do professor](https://www.dropbox.com/sh/f0j9adiaw4v3deb/AADiMJL2SBP8IMjAxA-SxX2Za/WorkSheets/TP4?dl=0&subfolder_nav_tracking=1)\n",
    "2. [NTRU and Lattice-Based Crypto: Past, Present, and Future de Joseph H. Silverman](http://archive.dimacs.rutgers.edu/Workshops/Post-Quantum/Slides/Silverman.pdf)\n",
    "3. [NTRUEncrypt Supporting Documentation](https://www.dropbox.com/sh/ejlraszbb4ogbod/AABacbwfTbUKwRPmPfkgEIuIa/NTRUEncrypt/Supporting_Documentation?dl=0&subfolder_nav_tracking=1)\n",
    "4. [HNP e abordagem de Boneh & Venkatesan](https://paper.dropbox.com/doc/Hidden-Number-Problem-HXjSmxuD62Xr6nEXocfjg)"
   ]
  },
  {
   "cell_type": "code",
   "execution_count": null,
   "metadata": {},
   "outputs": [],
   "source": []
  }
 ],
 "metadata": {
  "kernelspec": {
   "display_name": "SageMath 8.7",
   "language": "",
   "name": "sagemath"
  },
  "language_info": {
   "codemirror_mode": {
    "name": "ipython",
    "version": 2
   },
   "file_extension": ".py",
   "mimetype": "text/x-python",
   "name": "python",
   "nbconvert_exporter": "python",
   "pygments_lexer": "ipython2",
   "version": "2.7.16"
  }
 },
 "nbformat": 4,
 "nbformat_minor": 2
}
