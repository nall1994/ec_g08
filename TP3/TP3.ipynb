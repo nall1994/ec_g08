{
 "cells": [
  {
   "cell_type": "markdown",
   "metadata": {},
   "source": [
    "# Trabalho Prático 3"
   ]
  },
  {
   "cell_type": "markdown",
   "metadata": {},
   "source": [
    "## Introdução"
   ]
  },
  {
   "cell_type": "markdown",
   "metadata": {},
   "source": [
    "A resolução deste trabalho prático tem 3 objetivos principais:\n",
    "\n",
    "- Criar uma classe **Python** que implemente o algoritmo de _Boneh & Venkatesan_ .\n",
    "- Implementação de um esquema de assinaturas digitais _FALCON_ .\n",
    "- Estudar gamas de valores de determinados parâmetros que tornem viável um ataque de inversão de chave pública ou inversão do criptograma utilizando redução de bases.\n",
    "\n",
    "Este relatório está, desta forma, dividido em três partes, cada parte correspondente à resolução de um dos problemas e, além disso, está estruturado de forma a que o texto entre os _snippets_ de código seja suficientemente explicativo sobre a implementação e desenho da solução em cada um dos problemas."
   ]
  },
  {
   "cell_type": "markdown",
   "metadata": {},
   "source": [
    "## Algoritmo de Boneh & Venkatesan"
   ]
  },
  {
   "cell_type": "markdown",
   "metadata": {},
   "source": [
    "Esta secção tem como propósito definir uma classe **Python** que implemente o algoritmo de _Boneh & Venkatesan_ , que explora o _Hidden Number Problem_ que, se bem sucedido, permite obter um segredo a partir de um conjunto de dados. Além disso, a secção está dividida em duas partes:\n",
    "\n",
    "- A primeira parte define apenas o algoritmo de _Boneh & Venkatesan_ .\n",
    "- A segunda parte, apelidade de teste, fornece os parâmetros necessários à instância do algoritmo para que ele descubra o segredo **s** a partir dos mesmos.\n",
    "\n",
    "**CONVÉM DEFINIR UM BOCADO O HNP AQUI. DIZER O QUE É.**"
   ]
  },
  {
   "cell_type": "markdown",
   "metadata": {},
   "source": [
    "### Definição do oráculo HNP"
   ]
  },
  {
   "cell_type": "markdown",
   "metadata": {},
   "source": [
    "O propósito desta secção passa por definir o oráculo que gera um segredo e, posteriormente, retorna o vetor u, com l elementos, onde cada um é um inteiro representativo dos k bits mais significativos de $ s * xi $."
   ]
  },
  {
   "cell_type": "code",
   "execution_count": 11,
   "metadata": {},
   "outputs": [],
   "source": [
    "class HNPOracle:\n",
    "    \n",
    "    def __init__(self,p):\n",
    "        # gerar o segredo.\n",
    "        self.secret = ZZ.random_element(p)\n",
    "        print 'secret'\n",
    "        print self.secret\n",
    "    \n",
    "    def calculate_u_vector(self,x_vector,k,p):\n",
    "        # k - nr de bits significativos do produto entre x e self.secret mod p\n",
    "        # calcular o vetor u.\n",
    "        u_vector = []\n",
    "        for xi in x_vector:\n",
    "            sxi = ZZ(Mod(self.secret*xi,p))\n",
    "            sxi = sxi.digits(2)\n",
    "            sxi.reverse()\n",
    "            sxi_string = ''\n",
    "            if len(sxi) < k:\n",
    "                for i in range(0,len(sxi)):\n",
    "                    sxi_string = sxi_string + str(sxi[i])\n",
    "            else:\n",
    "                for i in range(0,k):\n",
    "                    sxi_string = sxi_string + str(sxi[i])\n",
    "            u_vector.append(ZZ(int(sxi_string,2)))\n",
    "        return u_vector\n",
    "            \n",
    "        \n",
    "    def compare_secret(self,calculated_secret):\n",
    "        # comparar o segredo calculado com o segredo gerado\n",
    "        if self.secret == calculated_secret:\n",
    "            return True\n",
    "        else:\n",
    "            return False"
   ]
  },
  {
   "cell_type": "markdown",
   "metadata": {},
   "source": [
    "### Definição da função de geração do vetor aleatório"
   ]
  },
  {
   "cell_type": "code",
   "execution_count": 12,
   "metadata": {},
   "outputs": [],
   "source": [
    "def generate_l_random_elements(l,p):\n",
    "    x = []\n",
    "    for i in range(0,l):\n",
    "        x.append(ZZ.random_element(p))\n",
    "    return x"
   ]
  },
  {
   "cell_type": "markdown",
   "metadata": {},
   "source": [
    "### Definição do algoritmo de Boneh & Venkatesan"
   ]
  },
  {
   "cell_type": "code",
   "execution_count": 39,
   "metadata": {},
   "outputs": [],
   "source": [
    "import sage.modules.free_module_integer as fmi\n",
    "import numpy as np\n",
    "\n",
    "class BV:\n",
    "    \n",
    "    def __init__(self,u,x,k,p,l):\n",
    "        # construir a matriz L , lambda e o target T\n",
    "        self.param_lambda = 2^(k+1)\n",
    "        self.L = self.param_lambda * p * matrix.identity(l)\n",
    "        self.L = self.L.transpose()\n",
    "        self.L = self.L.insert_row(l,zero_vector(l))\n",
    "        self.L = self.L.transpose()\n",
    "        temp_x = [self.param_lambda * i for i in x]\n",
    "        temp_x.append(1)\n",
    "        self.L = self.L.insert_row(l,temp_x)\n",
    "        self.target = [self.param_lambda * i for i in u]\n",
    "        self.target.append(0)\n",
    "        \n",
    "    \n",
    "    def solve(self,x,p,l):\n",
    "        L = fmi.IntegerLattice(self.L).reduced_basis\n",
    "        L = matrix(L)\n",
    "        print 'reduced L lattice...'\n",
    "        self.target = matrix(self.target)\n",
    "        t = matrix(1,l+1,list(-self.target))\n",
    "        zero = matrix(l+1,1,[0]*(l+1))\n",
    "        M = matrix(1,1,ZZ.random_element(p))\n",
    "        L1 = block_matrix(2,2,[[L,zero],[t,M]])\n",
    "        print 'created the matrixes...'\n",
    "        ret = fmi.IntegerLattice(L1).reduced_basis\n",
    "        error1 = np.array(ret[l+1][:-1])\n",
    "        y1 = error1 + self.target\n",
    "        print ' calculated parameters...'\n",
    "        print 'error'\n",
    "        print error1\n",
    "        print 'target'\n",
    "        print self.target\n",
    "        print 'vector'\n",
    "        print y1\n",
    "        print y1[0][l]\n",
    "        "
   ]
  },
  {
   "cell_type": "markdown",
   "metadata": {},
   "source": [
    "### Teste ao algoritmo de Boneh & Venkatesan"
   ]
  },
  {
   "cell_type": "code",
   "execution_count": 46,
   "metadata": {},
   "outputs": [
    {
     "name": "stdout",
     "output_type": "stream",
     "text": [
      "secret\n",
      "4056811883\n",
      "finished initializing oracle...\n",
      "calculated u_vector..\n",
      "finished initializing boneh & venkatesan algorithm...\n",
      "reduced L lattice...\n",
      "created the matrixes...\n",
      " calculated parameters...\n",
      "error\n",
      "[  7540200964096000   2499932556623872 -34591306562928640\n",
      "  43526291311296512  68312551133282304 -53282993497702400\n",
      "  -6738787715514368  58265258908712960  49339091392659456\n",
      " -58453540007313408 -70362040673239040  59917767104528384\n",
      "  29560766659035136 -26118577333469184  -8632618312531968\n",
      "  42667858815090688  34917335517102080 -64212921432932352\n",
      " -62072339461832704   8569239023648768 -38523315702202368\n",
      "  19032278042673152  28269867731779584   2546888964308992\n",
      "  -5403151603597312  24380243477266432  29212166041108480\n",
      "   7540775885733888  47681923559981056 -64270252602556416\n",
      "  61461924952408064  47831194678591488 -15891798962470912\n",
      "   5505813066022912 -32869340088893440 -22618180329406464\n",
      " -37601042677891072  29986612330889216 -34872652690620416\n",
      " -41643246518009856   2729325484834816 -14205170472714240\n",
      "  -9724999153745920 -14681435503853568  62179801623953408\n",
      "  39876556348194816 -21159509980348416 -27598069415542784\n",
      " -52356273907171328 -42252592654319616  66230106309263360\n",
      "  51688458166468608  12074519741071360  14374929256415232\n",
      "   1084349118152704  19588747897077760  37585656024662016\n",
      " -13644673683816448  65124094449811456 -13264010933698560\n",
      " -48821807142141952  52902816817086464 -21639861068890112\n",
      "  43613829992546304  17003359449907200  27899464517681152\n",
      " -61756497700323328 -30669416031059968  17827798622142464\n",
      "   5010092973883392 -22774196023066624 -16463358244945920\n",
      "  49367601788223488  35660179840172032 -66163315272843264\n",
      " -72695915969773568 -64174553215008768 -17669777111646208\n",
      " -70175071418712064  66489827008184320 -28232028868575232\n",
      "  59503225115508736  18127191665541120   7269895318274048\n",
      "   9975071141527552  -8479720295366656   1212121710854144\n",
      " -26958741588934656 -16968543035719680  34496450532474880\n",
      " -33630162071322624  34105141699280896 -39641352127905792\n",
      "  27055926699622400  -6453560547999744 -23020754660491264\n",
      "  29884926161584128 -17779326963417088  20061857469431808\n",
      "  14909917697671168 -11063695631187968  22491293909254144\n",
      " -15252937810903040  27323611341651968  -8807194237599744\n",
      " -27536583871692800  31016267859099648  -3488439680892928\n",
      " -30225340102082560  -3213279916720128 -28238506417455104\n",
      "  17078963423674368  16780573322248192   6461976939069440\n",
      "   2298874198753280   5514774850830336   5333019619491840\n",
      "  -5428910737063936 -13480482654126080 -17832374976905216\n",
      " -10588944441802752  18429854319902720  18281398708207616\n",
      "  -6479641669795840 -16406523412480000  -2966405129437184\n",
      "   2841908120387584 -25531641665421312        -1338312278]\n",
      "target\n",
      "[459391513919488 526667311218688 289529718112256 539049265725440 331984798744576 462787692199936 390369745305600 375259849031680 494024720908288 514180364894208 430199829168128 340252006809600 532113531076608 293799284703232 434313032105984 363741317169152 285399435968512 417428609695744 364789792505856 514198584950784 557355053875200 442963062685696 370136120819712 378812760064000 484397048397824 343053567000576 507551619743744 436616510308352 482135412572160 285876345110528 500775134429184 370261580840960 284690464374784 436393205563392 484129149812736 376952301027328 385188135698432 422802553307136 307283837845504 517219255582720 429970652397568 374340323377152 372051407798272 416339197952000 473904342630400 479877669060608 416462644707328 508677740036096 317971394199552 531005127524352 314522803896320 539805079306240 322391485972480 394305042644992 441747654049792 321279894749184 465828159946752 416573139451904 371880548630528 377249895284736 443283440402432 557414243893248 378849334394880 433990104252416 514098995396608 453928281964544 470982221365248 322742834429952 426903643095040 367843010936832 286473781772288 283781172822016 424691332284416 307672398168064 405480883093504 478077675110400 417199802023936 546507040227328 467857833984000 471589925683200 509871304736768 335186126438400 335229680091136 495905883029504 426449785847808 409432924094464 342498006269952 457217186725888 384683980357632 287492896980992 546249442852864 525802345070592 343561581101056 333875960086528 486880579682304 496822757883904 513980447588352 498978563031040 316725283258368 481270345760768 524305448304640 312203655774208 424445881614336 523217278074880 393034067869696 381350783746048 309793474478080 549444630085632 346528229097472 444630785064960 369844969013248 398383013429248 377673285107712 507386297057280 528736613040128 518260147617792 551931382595584 501814650732544 556805868486656 396551713193984 283267253141504 385909790867456 379553339932672 428295212498944 307059258032128 374447462678528 488238225555456 500148941619200               0]\n",
      "vector\n",
      "[[  7999592478015488   3026599867842560 -34301776844816384\n",
      "   44065340577021952  68644535932026880 -52820205805502464\n",
      "   -6348417970208768  58640518757744640  49833116113567744\n",
      "  -57939359642419200 -69931840844070912  60258019111337984\n",
      "   30092880190111744 -25824778048765952  -8198305280425984\n",
      "   43031600132259840  35202734953070592 -63795492823236608\n",
      "  -61707549669326848   9083437608599552 -37965960648327168\n",
      "   19475241105358848  28640003852599296   2925701724372992\n",
      "   -4918754555199488  24723297044267008  29719717660852224\n",
      "    7977392396042240  48164058972553216 -63984376257445888\n",
      "   61962700086837248  48201456259432448 -15607108498096128\n",
      "    5942206271586304 -32385210939080704 -22241228028379136\n",
      "  -37215854542192640  30409414884196352 -34565368852774912\n",
      "  -41126027262427136   3159296137232384 -13830830149337088\n",
      "   -9352947745947648 -14265096305901568  62653705966583808\n",
      "   40356434017255424 -20743047335641088 -27089391675506688\n",
      "  -52038302512971776 -41721587526795264  66544629113159680\n",
      "   52228263245774848  12396911227043840  14769234299060224\n",
      "    1526096772202496  19910027791826944  38051484184608768\n",
      "  -13228100544364544  65495974998441984 -12886761038413824\n",
      "  -48378523701739520  53460231060979712 -21261011734495232\n",
      "   44047820096798720  17517458445303808  28353392799645696\n",
      "  -61285515478958080 -30346673196630016  18254702265237504\n",
      "    5377935984820224 -22487722241294336 -16179577072123904\n",
      "   49792293120507904  35967852238340096 -65757834389749760\n",
      "  -72217838294663168 -63757353412984832 -17123270071418880\n",
      "  -69707213584728064  66961416933867520 -27722157563838464\n",
      "   59838411241947136  18462421345632256   7765801201303552\n",
      "   10401520927375360  -8070287371272192   1554619717124096\n",
      "  -26501524402208768 -16583859055362048  34783943429455872\n",
      "  -33083912628469760  34630944044351488 -39297790546804736\n",
      "   27389802659708928  -5966679968317440 -22523931902607360\n",
      "   30398906609172480 -17280348400386048  20378582752690176\n",
      "   15391188043431936 -10539390182883328  22803497565028352\n",
      "  -14828491929288704  27846828619726848  -8414160169730048\n",
      "  -27155233087946752  31326061333577728  -2938995050807296\n",
      "  -29878811872985088  -2768649131655168 -27868661448441856\n",
      "   17477346437103616  17158246607355904   6969363236126720\n",
      "    2827610811793408   6033034998448128   5884951002087424\n",
      "   -4927096086331392 -12923676785639424 -17435823263711232\n",
      "  -10305677188661248  18815764110770176  18660952048140288\n",
      "   -6051346457296896 -16099464154447872  -2591957666758656\n",
      "    3330146345943040 -25031492723802112        -1338312278]]\n",
      "-1338312278\n",
      "solved hnp...\n"
     ]
    }
   ],
   "source": [
    "# Estes parâmetros têm que ser substituídos pelos verdadeiros.\n",
    "# x possui l elementos gerados aleatoriamente entre 0 e p-1.\n",
    "# u possui l elementos, onde cada ui é igual ao inteiro representativo dos k bits mais significativos de s*xi\n",
    "# Ver valores de l,k e p que sejam realistas e bons para resolver.\n",
    "# Calcular os vetores x (aleatorio) e u(calculado a partir do aleatorio com o segredo.)\n",
    "l = 2^7\n",
    "k = 24\n",
    "p = 2^32\n",
    "x_vector = generate_l_random_elements(l,p)\n",
    "oracle = HNPOracle(p)\n",
    "print 'finished initializing oracle...'\n",
    "u_vector = oracle.calculate_u_vector(x_vector,k,p)\n",
    "print 'calculated u_vector..'\n",
    "bv = BV(u_vector,x_vector,k,p,l)\n",
    "print 'finished initializing boneh & venkatesan algorithm...'\n",
    "bv.solve(x_vector,p,l)\n",
    "print 'solved hnp...'"
   ]
  },
  {
   "cell_type": "markdown",
   "metadata": {},
   "source": [
    "## Definição do Esquema NTRU-Encrypt"
   ]
  },
  {
   "cell_type": "code",
   "execution_count": 24,
   "metadata": {},
   "outputs": [],
   "source": [
    "name        = \"NTRU_PKE_443\"\n",
    "d           = 115\n",
    "N           = 443\n",
    "p           = 3\n",
    "q           = next_prime(p*N)       #2048\n",
    "Z.<x>       = ZZ[]\n",
    "Q.<x>       = PolynomialRing(GF(q),name='x').quotient(x^N-1)\n",
    "\n",
    "def vec():\n",
    "    return  [choice([-1,0,1]) for k in range(N)]\n",
    "\n",
    "def qrnd(f):\n",
    "    qq = (q-1)//2 ; ll = map(lift,f.list())\n",
    "    return [n if n <= qq else n - q  for n in ll]\n",
    "\n",
    "def prnd(l):\n",
    "    pp = (p-1)//2\n",
    "    rr = lambda x: x if x <= pp else x - p        \n",
    "    return [rr(n%p) if n>=0 else -rr((-n)%p) for n in l]\n",
    "\n",
    "class NTRU:\n",
    "    \n",
    "    def __init__(self):\n",
    "        print name\n",
    "        print d\n",
    "        print N\n",
    "        print p; print is_prime(p)\n",
    "        print q; print is_prime(q)\n",
    "        print Z\n",
    "        print Q\n",
    "    \n",
    "    def keypair(self):\n",
    "        f = Q(0)\n",
    "        while not f.is_unit():\n",
    "            F = Q(vec()); f = 1 + p*F\n",
    "        G = Q(vec()) ; g = p*G\n",
    "        self.f = f\n",
    "        self.h = f^(-1) * g\n",
    "    \n",
    "    def encrypt(self, m):\n",
    "        r = Q(vec())\n",
    "        return r*self.h + Q(m)\n",
    "    \n",
    "    def decrypt(self,e):\n",
    "        a = e*self.f\n",
    "        return prnd(qrnd(a))\n",
    "    \n"
   ]
  },
  {
   "cell_type": "markdown",
   "metadata": {},
   "source": [
    "### Teste ao esquema NTRU"
   ]
  },
  {
   "cell_type": "code",
   "execution_count": 25,
   "metadata": {},
   "outputs": [
    {
     "name": "stdout",
     "output_type": "stream",
     "text": [
      "NTRU_PKE_443\n",
      "115\n",
      "443\n",
      "3\n",
      "True\n",
      "1361\n",
      "True\n",
      "Univariate Polynomial Ring in x over Integer Ring\n",
      "Univariate Quotient Polynomial Ring in x over Finite Field of size 1361 with modulus x^443 + 1360\n",
      "True\n"
     ]
    }
   ],
   "source": [
    "K = NTRU()\n",
    "K.keypair()\n",
    "m = vec()\n",
    "e = K.encrypt(m)\n",
    "print m == K.decrypt(e)\n"
   ]
  },
  {
   "cell_type": "markdown",
   "metadata": {},
   "source": [
    "## Conclusão"
   ]
  },
  {
   "cell_type": "markdown",
   "metadata": {},
   "source": []
  },
  {
   "cell_type": "markdown",
   "metadata": {},
   "source": [
    "## Referências"
   ]
  },
  {
   "cell_type": "markdown",
   "metadata": {},
   "source": []
  }
 ],
 "metadata": {
  "kernelspec": {
   "display_name": "SageMath 7.4",
   "language": "",
   "name": "sagemath"
  },
  "language_info": {
   "codemirror_mode": {
    "name": "ipython",
    "version": 2
   },
   "file_extension": ".py",
   "mimetype": "text/x-python",
   "name": "python",
   "nbconvert_exporter": "python",
   "pygments_lexer": "ipython2",
   "version": "2.7.13"
  }
 },
 "nbformat": 4,
 "nbformat_minor": 2
}
