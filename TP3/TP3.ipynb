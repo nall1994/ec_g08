{
 "cells": [
  {
   "cell_type": "markdown",
   "metadata": {},
   "source": [
    "# Trabalho Prático 3"
   ]
  },
  {
   "cell_type": "markdown",
   "metadata": {},
   "source": [
    "## Introdução"
   ]
  },
  {
   "cell_type": "markdown",
   "metadata": {},
   "source": [
    "A resolução deste trabalho prático tem 3 objetivos principais:\n",
    "\n",
    "- Criar uma classe **Python** que implemente o algoritmo de _Boneh & Venkatesan_ .\n",
    "- Implementação de um esquema de assinaturas digitais _FALCON_ .\n",
    "- Estudar gamas de valores de determinados parâmetros que tornem viável um ataque de inversão de chave pública ou inversão do criptograma utilizando redução de bases.\n",
    "\n",
    "Este relatório está, desta forma, dividido em três partes, cada parte correspondente à resolução de um dos problemas e, além disso, está estruturado de forma a que o texto entre os _snippets_ de código seja suficientemente explicativo sobre a implementação e desenho da solução em cada um dos problemas."
   ]
  },
  {
   "cell_type": "markdown",
   "metadata": {},
   "source": [
    "## Algoritmo de Boneh & Venkatesan"
   ]
  },
  {
   "cell_type": "markdown",
   "metadata": {},
   "source": [
    "Esta secção tem como propósito definir uma classe **Python** que implemente o algoritmo de _Boneh & Venkatesan_ , que explora o _Hidden Number Problem_ que, se bem sucedido, permite obter um segredo a partir de um conjunto de dados. Além disso, a secção está dividida em duas partes:\n",
    "\n",
    "- A primeira parte define apenas o algoritmo de _Boneh & Venkatesan_ .\n",
    "- A segunda parte, apelidade de teste, fornece os parâmetros necessários à instância do algoritmo para que ele descubra o segredo **s** a partir dos mesmos.\n",
    "\n",
    "**CONVÉM DEFINIR UM BOCADO O HNP AQUI. DIZER O QUE É.**"
   ]
  },
  {
   "cell_type": "markdown",
   "metadata": {},
   "source": [
    "### Definição do oráculo HNP"
   ]
  },
  {
   "cell_type": "markdown",
   "metadata": {},
   "source": [
    "O propósito desta secção passa por definir o oráculo que gera um segredo e, posteriormente, retorna o vetor u, com l elementos, onde cada um é um inteiro representativo dos k bits mais significativos de $ s * xi $."
   ]
  },
  {
   "cell_type": "code",
   "execution_count": 59,
   "metadata": {},
   "outputs": [],
   "source": [
    "class HNPOracle:\n",
    "    \n",
    "    def __init__(self,p):\n",
    "        # gerar o segredo.\n",
    "        self.secret = ZZ.random_element(p)\n",
    "    \n",
    "    def calculate_u_vector(self,x_vector,k,p):\n",
    "        # k - nr de bits significativos do produto entre x e self.secret mod p\n",
    "        # calcular o vetor u.\n",
    "        u_vector = []\n",
    "        for xi in x_vector:\n",
    "            sxi = ZZ(Mod(self.secret*xi,p))\n",
    "            sxi = sxi.digits(2)\n",
    "            sxi.reverse()\n",
    "            sxi_string = ''\n",
    "            if len(sxi) < k:\n",
    "                for i in range(0,len(sxi)):\n",
    "                    sxi_string = sxi_string + str(sxi[i])\n",
    "            else:\n",
    "                for i in range(0,k):\n",
    "                    sxi_string = sxi_string + str(sxi[i])\n",
    "            u_vector.append(ZZ(int(sxi_string,2)))\n",
    "        return u_vector\n",
    "            \n",
    "        \n",
    "    def compare_secret(self,calculated_secret):\n",
    "        # comparar o segredo calculado com o segredo gerado\n",
    "        if self.secret == calculated_secret:\n",
    "            return True\n",
    "        else:\n",
    "            return False"
   ]
  },
  {
   "cell_type": "markdown",
   "metadata": {},
   "source": [
    "### Definição da função de geração do vetor aleatório"
   ]
  },
  {
   "cell_type": "code",
   "execution_count": 60,
   "metadata": {},
   "outputs": [],
   "source": [
    "def generate_l_random_elements(l,p):\n",
    "    x = []\n",
    "    for i in range(0,l):\n",
    "        x.append(ZZ.random_element(p))\n",
    "    return x"
   ]
  },
  {
   "cell_type": "markdown",
   "metadata": {},
   "source": [
    "### Definição do algoritmo de Boneh & Venkatesan"
   ]
  },
  {
   "cell_type": "code",
   "execution_count": 10,
   "metadata": {},
   "outputs": [],
   "source": [
    "import sage.modules.free_module_integer as fmi\n",
    "import numpy as np\n",
    "\n",
    "class BV:\n",
    "    \n",
    "    def __init__(self,u,x,k,p,l):\n",
    "        # construir a matriz L , lambda e o target T\n",
    "        # Ver se esta transformação está correta consoante a definição.\n",
    "        self.param_lambda = 2^(k+1)\n",
    "        self.L = self.param_lambda * p * matrix.identity(l) # Esta linha está a dar FLINT exception (Erros de memória acho eu).\n",
    "        self.L = self.L.transpose()\n",
    "        self.L = self.L.insert_row(l,zero_vector(l))\n",
    "        self.L = self.L.transpose()\n",
    "        temp_x = [self.param_lambda * i for i in x]\n",
    "        temp_x.append(1)\n",
    "        self.L = self.L.insert_row(l,temp_x)\n",
    "        self.target = [self.param_lambda * i for i in u]\n",
    "        self.target.append(0)\n",
    "        \n",
    "    \n",
    "    def solve(self,x,p,l):\n",
    "        L = matrix(self.L.reduced_basis)\n",
    "        t = matrix(1,l+1,list(-self.target))\n",
    "        zero = matrix(l+1,1,[0]*(l+1))\n",
    "        M = matrix(1,1,ZZ.random_element(p))\n",
    "        L1 = block_matrix(2,2,[[L,zero],[t,M]])\n",
    "        ret = fmi.IntegerLattice(L1).reduced_basis\n",
    "        error1 = np.array(ret[l+1][:-1])\n",
    "        y1 = error1 + self.target\n",
    "        print 'error'\n",
    "        print tuple(error1)\n",
    "        print 'vector'\n",
    "        print tuple(y1)\n",
    "        "
   ]
  },
  {
   "cell_type": "markdown",
   "metadata": {},
   "source": [
    "### Teste ao algoritmo de Boneh & Venkatesan"
   ]
  },
  {
   "cell_type": "code",
   "execution_count": 11,
   "metadata": {},
   "outputs": [],
   "source": [
    "# Estes parâmetros têm que ser substituídos pelos verdadeiros.\n",
    "# x possui l elementos gerados aleatoriamente entre 0 e p-1.\n",
    "# u possui l elementos, onde cada ui é igual ao inteiro representativo dos k bits mais significativos de s*xi\n",
    "# Ver valores de l,k e p que sejam realistas e bons para resolver.\n",
    "# Calcular os vetores x (aleatorio) e u(calculado a partir do aleatorio com o segredo.)\n",
    "l = 2^16\n",
    "k = 64\n",
    "p = 2^128\n",
    "x_vector = generate_l_random_elements(l,p)\n",
    "oracle = HNPOracle(p)\n",
    "u_vector = oracle.calculate_u_vector(x_vector,k,p)\n",
    "bv = BV(u_vector,x_vector,k,p,l)\n",
    "bv.solve(x_vector(p,l))"
   ]
  },
  {
   "cell_type": "markdown",
   "metadata": {},
   "source": [
    "## Definição do Esquema NTRU-Encrypt"
   ]
  },
  {
   "cell_type": "code",
   "execution_count": 12,
   "metadata": {},
   "outputs": [],
   "source": [
    "from enum import Enum\n",
    "\n",
    "name        = \"NTRU_PKE_006\"              \n",
    "d           = 6                           \n",
    "N           = next_prime(1 << d)          \n",
    "p           = 3                           \n",
    "q           = next_prime(p*N)             \n",
    "Z.<x>       = ZZ[]\n",
    "Q.<x>       = PolynomialRing(GF(q),name='x').quotient(x^N-1)\n",
    "\n",
    "#    name        = \"NTRU_PKE_443\"\n",
    "#    d           = 115\n",
    "#    N           = 443\n",
    "#    p           = 3\n",
    "#    q           = 2048       \n",
    "#    Z.<x>       = ZZ[]\n",
    "#    Q.<x>       = PolynomialRing(GF(q),name='x').quotient(x^N-1)\n",
    "\n",
    "def vec():\n",
    "    return  [choice([-1,0,1]) for k in range(N)]\n",
    "\n",
    "# arredondamento módulo 'q'\n",
    "def qrnd(f):    # argumento em 'Q'\n",
    "    qq = (q-1)//2 ; ll = map(lift,f.list())\n",
    "    return [n if n <= qq else n - q  for n in ll]\n",
    "\n",
    "# arredondamento módulo 'p'\n",
    "def prnd(l):\n",
    "    pp = (p-1)//2\n",
    "    rr = lambda x: x if x <= pp else x - p        \n",
    "    return [rr(n%p) if n>=0 else -rr((-n)%p) for n in l]\n",
    "\n",
    "class NTRU:\n",
    "    \n",
    "    def __init__(self):\n",
    "        pass\n",
    "    \n",
    "    def keypair(self):\n",
    "        f = Q(0)\n",
    "        while not f.is_unit():\n",
    "            F = Q(vec()); f = 1 + p*F\n",
    "        G = Q(vec()) ; g = p*G\n",
    "        self.f = f\n",
    "        self.h = f^(-1) * g\n",
    "    \n",
    "    def encrypt(self, m):\n",
    "        r = Q(vec())\n",
    "        return r*self.h + Q(m)\n",
    "    \n",
    "    def decrypt(self,e):\n",
    "        a = e*self.f\n",
    "        return prnd(qrnd(a))\n",
    "    \n"
   ]
  },
  {
   "cell_type": "markdown",
   "metadata": {},
   "source": [
    "### Teste ao esquema NTRU"
   ]
  },
  {
   "cell_type": "code",
   "execution_count": 47,
   "metadata": {},
   "outputs": [],
   "source": [
    "matrix?"
   ]
  },
  {
   "cell_type": "markdown",
   "metadata": {},
   "source": [
    "K = NTRU()\n",
    "K.keypair()\n",
    "m = vec()\n",
    "e = K.encrypt(m)\n",
    "print m == K.decrypt(e)\n"
   ]
  },
  {
   "cell_type": "markdown",
   "metadata": {},
   "source": [
    "## Conclusão"
   ]
  },
  {
   "cell_type": "markdown",
   "metadata": {},
   "source": []
  },
  {
   "cell_type": "markdown",
   "metadata": {},
   "source": [
    "## Referências"
   ]
  },
  {
   "cell_type": "markdown",
   "metadata": {},
   "source": []
  }
 ],
 "metadata": {
  "kernelspec": {
   "display_name": "SageMath 7.4",
   "language": "",
   "name": "sagemath"
  },
  "language_info": {
   "codemirror_mode": {
    "name": "ipython",
    "version": 2
   },
   "file_extension": ".py",
   "mimetype": "text/x-python",
   "name": "python",
   "nbconvert_exporter": "python",
   "pygments_lexer": "ipython2",
   "version": "2.7.13"
  }
 },
 "nbformat": 4,
 "nbformat_minor": 2
}
