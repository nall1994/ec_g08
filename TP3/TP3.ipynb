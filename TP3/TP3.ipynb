{
 "cells": [
  {
   "cell_type": "markdown",
   "metadata": {},
   "source": [
    "# Trabalho Prático 3"
   ]
  },
  {
   "cell_type": "markdown",
   "metadata": {},
   "source": [
    "## Introdução"
   ]
  },
  {
   "cell_type": "markdown",
   "metadata": {},
   "source": [
    "A resolução deste trabalho prático tem 3 objetivos principais:\n",
    "\n",
    "- Criar uma classe **Python** que implemente o algoritmo de _Boneh & Venkatesan_ .\n",
    "- Implementação de um esquema de assinaturas digitais _FALCON_ .\n",
    "- Estudar gamas de valores de determinados parâmetros que tornem viável um ataque de inversão de chave pública ou inversão do criptograma utilizando redução de bases.\n",
    "\n",
    "Este relatório está, desta forma, dividido em três partes, cada parte correspondente à resolução de um dos problemas e, além disso, está estruturado de forma a que o texto entre os _snippets_ de código seja suficientemente explicativo sobre a implementação e desenho da solução em cada um dos problemas."
   ]
  },
  {
   "cell_type": "markdown",
   "metadata": {},
   "source": [
    "## Algoritmo de Boneh & Venkatesan"
   ]
  },
  {
   "cell_type": "markdown",
   "metadata": {},
   "source": [
    "Esta secção tem como propósito definir uma classe **Python** que implemente o algoritmo de _Boneh & Venkatesan_ , que explora o _Hidden Number Problem_ que, se bem sucedido, permite obter um segredo a partir de um conjunto de dados. Além disso, a secção está dividida em duas partes:\n",
    "\n",
    "- A primeira parte define apenas o algoritmo de _Boneh & Venkatesan_ .\n",
    "- A segunda parte, apelidade de teste, fornece os parâmetros necessários à instância do algoritmo para que ele descubra o segredo **s** a partir dos mesmos.\n",
    "\n",
    "**CONVÉM DEFINIR UM BOCADO O HNP AQUI. DIZER O QUE É.**"
   ]
  },
  {
   "cell_type": "markdown",
   "metadata": {},
   "source": [
    "### Definição do oráculo HNP"
   ]
  },
  {
   "cell_type": "markdown",
   "metadata": {},
   "source": [
    "O propósito desta secção passa por definir o oráculo que gera um segredo e, posteriormente, retorna o vetor u, com l elementos, onde cada um é um inteiro representativo dos k bits mais significativos de $ s * xi $."
   ]
  },
  {
   "cell_type": "code",
   "execution_count": 52,
   "metadata": {},
   "outputs": [],
   "source": [
    "\n",
    "class HNPOracle:\n",
    "    \n",
    "    def __init__(self,p):\n",
    "        # gerar o segredo.\n",
    "        self.secret = ZZ.random_element(p)\n",
    "        print 'secret'\n",
    "        print self.secret\n",
    "    \n",
    "    def msb(self,k,p,xi):\n",
    "        value = ZZ(Mod(xi*self.secret,p))\n",
    "        binary_value = value.digits(2)\n",
    "        binary_value.reverse()\n",
    "        value_str = ''\n",
    "        if len(binary_value) < k:\n",
    "            for i in range(0,len(binary_value)):\n",
    "                value_str += str(binary_value[i])\n",
    "        else:\n",
    "            for i in range(0,k):\n",
    "                value_str += str(binary_value[i])\n",
    "        return value_str\n",
    "    \n",
    "    def compare_secret(self,calculated_secret):\n",
    "        if calculated_secret == self.secret:\n",
    "            return True\n",
    "        else:\n",
    "            return False"
   ]
  },
  {
   "cell_type": "markdown",
   "metadata": {},
   "source": [
    "### Definição da função de geração do vetor aletório e vetor u"
   ]
  },
  {
   "cell_type": "code",
   "execution_count": 53,
   "metadata": {},
   "outputs": [],
   "source": [
    "def generate_l_random_elements(l,p):\n",
    "    x = []\n",
    "    for i in range(0,l):\n",
    "        x.append(ZZ.random_element(p))\n",
    "    return x\n",
    "\n",
    "def calculate_u_vector(x_vector,k,p,oracle):\n",
    "    u_vector = []\n",
    "    for xi in x_vector:\n",
    "        ui = oracle.msb(k,p,xi)\n",
    "        ui = ZZ(int(ui,2))\n",
    "        u_vector.append(ui)\n",
    "    return u_vector  "
   ]
  },
  {
   "cell_type": "markdown",
   "metadata": {},
   "source": [
    "### Definição do algoritmo de Boneh & Venkatesan"
   ]
  },
  {
   "cell_type": "code",
   "execution_count": 54,
   "metadata": {},
   "outputs": [],
   "source": [
    "import sage.modules.free_module_integer as fmi\n",
    "import numpy as np\n",
    "\n",
    "class BV:\n",
    "    \n",
    "    def __init__(self,u,x,k,p,l):\n",
    "        # construir a matriz L , lambda,o target T e, finalmente, o reticulado Lret\n",
    "        self.param_lambda = 2^(k+1)\n",
    "        self.L = self.param_lambda * p * matrix.identity(l)\n",
    "        self.L = self.L.transpose()\n",
    "        self.L = self.L.insert_row(l,zero_vector(l))\n",
    "        self.L = self.L.transpose()\n",
    "        temp_x = [self.param_lambda * i for i in x]\n",
    "        temp_x.append(1)\n",
    "        self.L = self.L.insert_row(l,temp_x)\n",
    "        self.target = [self.param_lambda * i for i in u]\n",
    "        self.target.append(0)\n",
    "        self.target = matrix(self.target)\n",
    "        self.Lret = fmi.IntegerLattice(self.L)\n",
    "        \n",
    "    \n",
    "    def solve(self,x,p,l):\n",
    "        # Calcular o CVP aproximado do reticulado Lret\n",
    "        L = matrix(self.Lret.reduced_basis)\n",
    "        t = matrix(1,l+1,list(-self.target))\n",
    "        zero = matrix(l+1,1,[0]*(l+1))\n",
    "        M = matrix(1,1,p**2)\n",
    "        L1 = block_matrix(2,2,[[L,zero],[t,M]])\n",
    "        ret = fmi.IntegerLattice(L1).reduced_basis\n",
    "        error1 = np.array(ret[l+1][:-1])\n",
    "        y1 = error1 + self.target\n",
    "        return y1[0][l] # última componente do vetor resultante.\n",
    "        "
   ]
  },
  {
   "cell_type": "markdown",
   "metadata": {},
   "source": [
    "### Teste ao algoritmo de Boneh & Venkatesan"
   ]
  },
  {
   "cell_type": "code",
   "execution_count": 78,
   "metadata": {},
   "outputs": [
    {
     "name": "stdout",
     "output_type": "stream",
     "text": [
      "secret\n",
      "6981224216842594255\n",
      "calculated_secret\n",
      "6981224216842594255\n",
      "Algoritmo aproximado calculou o segredo com sucesso!\n"
     ]
    }
   ],
   "source": [
    "l = 2^7\n",
    "k = 64\n",
    "p = 2^64\n",
    "x_vector = generate_l_random_elements(l,p)\n",
    "oracle = HNPOracle(p)\n",
    "u_vector = calculate_u_vector(x_vector,k,p,oracle)\n",
    "bv = BV(u_vector,x_vector,k,p,l)\n",
    "calculated_secret = bv.solve(x_vector,p,l)\n",
    "print 'calculated_secret'\n",
    "print calculated_secret\n",
    "if oracle.compare_secret(calculated_secret):\n",
    "    print 'Algoritmo aproximado calculou o segredo com sucesso!'\n",
    "else:\n",
    "    print 'Algoritmo aproximado não conseguiu calcular o segredo com sucesso!'"
   ]
  },
  {
   "cell_type": "markdown",
   "metadata": {},
   "source": [
    "## Definição do Esquema NTRU-Encrypt"
   ]
  },
  {
   "cell_type": "code",
   "execution_count": 24,
   "metadata": {},
   "outputs": [],
   "source": [
    "name        = \"NTRU_PKE_443\"\n",
    "d           = 115\n",
    "N           = 443\n",
    "p           = 3\n",
    "q           = next_prime(p*N)       #2048\n",
    "Z.<x>       = ZZ[]\n",
    "Q.<x>       = PolynomialRing(GF(q),name='x').quotient(x^N-1)\n",
    "\n",
    "def vec():\n",
    "    return  [choice([-1,0,1]) for k in range(N)]\n",
    "\n",
    "def qrnd(f):\n",
    "    qq = (q-1)//2 ; ll = map(lift,f.list())\n",
    "    return [n if n <= qq else n - q  for n in ll]\n",
    "\n",
    "def prnd(l):\n",
    "    pp = (p-1)//2\n",
    "    rr = lambda x: x if x <= pp else x - p        \n",
    "    return [rr(n%p) if n>=0 else -rr((-n)%p) for n in l]\n",
    "\n",
    "class NTRU:\n",
    "    \n",
    "    def __init__(self):\n",
    "        print name\n",
    "        print d\n",
    "        print N\n",
    "        print p; print is_prime(p)\n",
    "        print q; print is_prime(q)\n",
    "        print Z\n",
    "        print Q\n",
    "    \n",
    "    def keypair(self):\n",
    "        f = Q(0)\n",
    "        while not f.is_unit():\n",
    "            F = Q(vec()); f = 1 + p*F\n",
    "        G = Q(vec()) ; g = p*G\n",
    "        self.f = f\n",
    "        self.h = f^(-1) * g\n",
    "    \n",
    "    def encrypt(self, m):\n",
    "        r = Q(vec())\n",
    "        return r*self.h + Q(m)\n",
    "    \n",
    "    def decrypt(self,e):\n",
    "        a = e*self.f\n",
    "        return prnd(qrnd(a))\n",
    "    \n"
   ]
  },
  {
   "cell_type": "markdown",
   "metadata": {},
   "source": [
    "### Teste ao esquema NTRU"
   ]
  },
  {
   "cell_type": "code",
   "execution_count": 25,
   "metadata": {},
   "outputs": [
    {
     "name": "stdout",
     "output_type": "stream",
     "text": [
      "NTRU_PKE_443\n",
      "115\n",
      "443\n",
      "3\n",
      "True\n",
      "1361\n",
      "True\n",
      "Univariate Polynomial Ring in x over Integer Ring\n",
      "Univariate Quotient Polynomial Ring in x over Finite Field of size 1361 with modulus x^443 + 1360\n",
      "True\n"
     ]
    }
   ],
   "source": [
    "K = NTRU()\n",
    "K.keypair()\n",
    "m = vec()\n",
    "e = K.encrypt(m)\n",
    "print m == K.decrypt(e)\n"
   ]
  },
  {
   "cell_type": "markdown",
   "metadata": {},
   "source": [
    "## Ataques de redução de bases"
   ]
  },
  {
   "cell_type": "markdown",
   "metadata": {},
   "source": [
    "## Definição da classe NTRU e da classe LAT"
   ]
  },
  {
   "cell_type": "code",
   "execution_count": 5,
   "metadata": {},
   "outputs": [],
   "source": [
    "import sage.modules.free_module_integer as fmi\n",
    "# http://doc.sagemath.org/html/en/reference/modules/sage/modules/free_module_integer.html\n",
    "\n",
    "d = 6\n",
    "\n",
    "N = 7\n",
    "p = 3\n",
    "q = next_prime(p*N)\n",
    "\n",
    "Z.<x>  = ZZ[]        # polinómios de coeficientes inteiros\n",
    "Q.<x>  = PolynomialRing(GF(q),name='x').quotient(x^N-1)\n",
    "\n",
    "def vec():\n",
    "    return  [choice([-1,0,1]) for k in range(N)]\n",
    "\n",
    "# arredondamento módulo 'q'\n",
    "def qrnd(f):    # argumento em 'Q'\n",
    "    qq = (q-1)//2 ; ll = map(lift,f.list())\n",
    "    return [n if n <= qq else n - q  for n in ll]\n",
    "\n",
    "# arredondamento módulo 'p'\n",
    "def prnd(l):\n",
    "    pp = (p-1)//2\n",
    "    rr = lambda x: x if x <= pp else x - p        \n",
    "    return [rr(n%p) if n>=0 else -rr((-n)%p) for n in l]\n",
    "\n",
    "class NTRU(object):\n",
    "    def __init__(self):\n",
    "        # calcular um 'f' invertível\n",
    "        f = Q(0)\n",
    "        while not f.is_unit():\n",
    "            F = Q(vec()); f = 1 + p*F\n",
    "        # gerar as chaves\n",
    "        G = Q(vec()) ; g = p*G\n",
    "        self.f = f\n",
    "        self.h = f^(-1) * g\n",
    "        \n",
    "    def encrypt(self,m):\n",
    "        r = Q(vec()) \n",
    "        return r*self.h + Q(m)\n",
    "\n",
    "    def decrypt(self,e):\n",
    "        a = e*self.f\n",
    "        return prnd(qrnd(a))\n",
    "\n",
    "class Lat(NTRU):\n",
    "    def __init__(self):\n",
    "        super(Lat,self).__init__()\n",
    "        B1 = identity_matrix(ZZ,N); Bq = q*B1; B0 = matrix(ZZ,N,N,[0]*(N^2))\n",
    "        h = qrnd(self.h)\n",
    "        # rodar um vetor\n",
    "        H = [h]\n",
    "        for k in range(N-1):\n",
    "            h = [h[-1]] + h[:-1]   # shift right rotate\n",
    "            H = H + [h]\n",
    "        H = matrix(ZZ,N,N,H)\n",
    "        self.L = fmi.IntegerLattice(block_matrix([[Bq,B0],[H,B1]])) \n"
   ]
  },
  {
   "cell_type": "markdown",
   "metadata": {},
   "source": [
    "### Inversão da chave pública"
   ]
  },
  {
   "cell_type": "code",
   "execution_count": null,
   "metadata": {
    "scrolled": true
   },
   "outputs": [
    {
     "name": "stdout",
     "output_type": "stream",
     "text": [
      "3*x^6 + 20*x^5 + 3*x^4 + 3*x^2 + 3*x + 21\n",
      "[0 0 0 0 0 0 0 1 1 1 1 1 1]\n",
      "[0, 8, 11, 16, 7, 22, 12, 14]\n"
     ]
    }
   ],
   "source": [
    "import numpy as np\n",
    "\n",
    "# Isto ainda são tudo experiências!\n",
    "\n",
    "l = Lat()\n",
    "lred = l.L.reduced_basis\n",
    "short_aproximate = np.array(lred[0][:-1]) #SVP aproximado\n",
    "print l.f\n",
    "print short_aproximate\n",
    "short = l.L.shortest_vector() # SVP exato\n",
    "m = vec()\n",
    "e = l.encrypt(m)\n",
    "e = e.list()\n",
    "vector = [0]\n",
    "vector = vector + e\n",
    "print vector\n",
    "target = vector\n",
    "closest = l.L.closest_vector(tuple(target)) # CVP exato\n",
    "print closest\n",
    "\n",
    "#Q(short)\n",
    "#print short\n",
    "#error1 = np.array(lred[N][:-1])\n",
    "#print error1 #+ matrix(1,N,l.h.list())\n",
    "#print l.f\n",
    "#llist = l.h.list()\n",
    "#t = matrix(1,N,list(-matrix(l.h.list())))\n",
    "#zero = matrix(N^2,1,[0]*(N^2))\n",
    "#M = matrix(1,1,2**q)\n",
    "#L1 = block_matrix(2,2,[[lred,zero],[t,M]])\n",
    "#L1\n",
    "#print list(-matrix(1,N,llist))\n",
    "\n",
    "\n",
    "# l.h.list() retorna os coeficientes \n",
    "\n",
    "## NOTA - SEGUNDO O ARTIGO DE SILVERMAN, RECUPERAR A CHAVE PRIVADA F A PARTIR DA CHAVE PÚBLICA H É EQUIVALENTE A ENCONTRAR\n",
    "# O VETOR MAIS CURTO NO RETICULADO Lh. -> resolver SVP aproximado\n",
    "\n",
    "## RECUPERAR A MENSAGEM M A PARTIR DO CIPHERTEXT C E DA CHAVE PUBLICA H É EQUIVALENTE A ENCONTRAR O VETOR EM Lh QUE\n",
    "# É MAIS PRÓXIMO DO VETOR [0,CIPHERTEXT]. -> resolver CVP aproximado com target [0,ciphertext] possivelmente??"
   ]
  },
  {
   "cell_type": "markdown",
   "metadata": {},
   "source": [
    "### Inversão do criptograma"
   ]
  },
  {
   "cell_type": "code",
   "execution_count": null,
   "metadata": {},
   "outputs": [],
   "source": []
  },
  {
   "cell_type": "markdown",
   "metadata": {},
   "source": [
    "## Conclusão"
   ]
  },
  {
   "cell_type": "markdown",
   "metadata": {},
   "source": []
  },
  {
   "cell_type": "markdown",
   "metadata": {},
   "source": [
    "## Referências"
   ]
  },
  {
   "cell_type": "markdown",
   "metadata": {},
   "source": []
  }
 ],
 "metadata": {
  "kernelspec": {
   "display_name": "SageMath 8.7",
   "language": "",
   "name": "sagemath"
  },
  "language_info": {
   "codemirror_mode": {
    "name": "ipython",
    "version": 2
   },
   "file_extension": ".py",
   "mimetype": "text/x-python",
   "name": "python",
   "nbconvert_exporter": "python",
   "pygments_lexer": "ipython2",
   "version": "2.7.16"
  }
 },
 "nbformat": 4,
 "nbformat_minor": 2
}
