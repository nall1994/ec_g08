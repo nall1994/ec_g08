{
 "cells": [
  {
   "cell_type": "markdown",
   "metadata": {},
   "source": [
    "# Trabalho Prático 3"
   ]
  },
  {
   "cell_type": "markdown",
   "metadata": {},
   "source": [
    "## Introdução"
   ]
  },
  {
   "cell_type": "markdown",
   "metadata": {},
   "source": [
    "A resolução deste trabalho prático tem 3 objetivos principais:\n",
    "\n",
    "- Criar uma classe **Python** que implemente o algoritmo de _Boneh & Venkatesan_ .\n",
    "- Implementação de um esquema de assinaturas digitais _FALCON_ .\n",
    "- Estudar gamas de valores de determinados parâmetros que tornem viável um ataque de inversão de chave pública ou inversão do criptograma utilizando redução de bases.\n",
    "\n",
    "Este relatório está, desta forma, dividido em três partes, cada parte correspondente à resolução de um dos problemas e, além disso, está estruturado de forma a que o texto entre os _snippets_ de código seja suficientemente explicativo sobre a implementação e desenho da solução em cada um dos problemas."
   ]
  },
  {
   "cell_type": "markdown",
   "metadata": {},
   "source": [
    "## Algoritmo de Boneh & Venkatesan"
   ]
  },
  {
   "cell_type": "markdown",
   "metadata": {},
   "source": [
    "Esta secção tem como propósito definir uma classe **Python** que implemente o algoritmo de _Boneh & Venkatesan_ , que explora o _Hidden Number Problem_ que, se bem sucedido, permite obter um segredo a partir de um conjunto de dados. Além disso, a secção está dividida em quatro partes:\n",
    "\n",
    "- A primeira parte define o oráculo HNP, que gera um segredo,permite calcular o msb e compara um segredo calculado com o gerado;\n",
    "- A segunda parte define as funções de geração do vetor aleatório **x** e do vetor composto por $ ui = msb(xi,s) $ para $ i=0 $ até $ i = l - 1 $.\n",
    "- A terceira parte define apenas o algoritmo de _Boneh & Venkatesan_ .\n",
    "- A quarta parte, apelidada de teste, fornece os parâmetros necessários à instância do algoritmo para que ele descubra o segredo **s** a partir dos mesmos."
   ]
  },
  {
   "cell_type": "markdown",
   "metadata": {},
   "source": [
    "### Definição do oráculo HNP"
   ]
  },
  {
   "cell_type": "markdown",
   "metadata": {},
   "source": [
    "O propósito desta secção passa por definir o oráculo que gera um segredo e, posteriormente, retorna o vetor u, com l elementos, onde cada um é um inteiro representativo dos k bits mais significativos de $ s * xi $."
   ]
  },
  {
   "cell_type": "code",
   "execution_count": 52,
   "metadata": {},
   "outputs": [],
   "source": [
    "\n",
    "class HNPOracle:\n",
    "    \n",
    "    def __init__(self,p):\n",
    "        # gerar o segredo.\n",
    "        self.secret = ZZ.random_element(p)\n",
    "        print 'secret'\n",
    "        print self.secret\n",
    "    \n",
    "    def msb(self,k,p,xi):\n",
    "        value = ZZ(Mod(xi*self.secret,p))\n",
    "        binary_value = value.digits(2)\n",
    "        binary_value.reverse()\n",
    "        value_str = ''\n",
    "        if len(binary_value) < k:\n",
    "            for i in range(0,len(binary_value)):\n",
    "                value_str += str(binary_value[i])\n",
    "        else:\n",
    "            for i in range(0,k):\n",
    "                value_str += str(binary_value[i])\n",
    "        return value_str\n",
    "    \n",
    "    def compare_secret(self,calculated_secret):\n",
    "        if calculated_secret == self.secret:\n",
    "            return True\n",
    "        else:\n",
    "            return False"
   ]
  },
  {
   "cell_type": "markdown",
   "metadata": {},
   "source": [
    "### Definição da função de geração do vetor aletório e vetor u"
   ]
  },
  {
   "cell_type": "code",
   "execution_count": 53,
   "metadata": {},
   "outputs": [],
   "source": [
    "def generate_l_random_elements(l,p):\n",
    "    x = []\n",
    "    for i in range(0,l):\n",
    "        x.append(ZZ.random_element(p))\n",
    "    return x\n",
    "\n",
    "def calculate_u_vector(x_vector,k,p,oracle):\n",
    "    u_vector = []\n",
    "    for xi in x_vector:\n",
    "        ui = oracle.msb(k,p,xi)\n",
    "        ui = ZZ(int(ui,2))\n",
    "        u_vector.append(ui)\n",
    "    return u_vector  "
   ]
  },
  {
   "cell_type": "markdown",
   "metadata": {},
   "source": [
    "### Definição do algoritmo de Boneh & Venkatesan"
   ]
  },
  {
   "cell_type": "code",
   "execution_count": 54,
   "metadata": {},
   "outputs": [],
   "source": [
    "import sage.modules.free_module_integer as fmi\n",
    "import numpy as np\n",
    "\n",
    "class BV:\n",
    "    \n",
    "    def __init__(self,u,x,k,p,l):\n",
    "        # construir a matriz L , lambda,o target T e, finalmente, o reticulado Lret\n",
    "        self.param_lambda = 2^(k+1)\n",
    "        self.L = self.param_lambda * p * matrix.identity(l)\n",
    "        self.L = self.L.transpose()\n",
    "        self.L = self.L.insert_row(l,zero_vector(l))\n",
    "        self.L = self.L.transpose()\n",
    "        temp_x = [self.param_lambda * i for i in x]\n",
    "        temp_x.append(1)\n",
    "        self.L = self.L.insert_row(l,temp_x)\n",
    "        self.target = [self.param_lambda * i for i in u]\n",
    "        self.target.append(0)\n",
    "        self.target = matrix(self.target)\n",
    "        self.Lret = fmi.IntegerLattice(self.L)\n",
    "        \n",
    "    \n",
    "    def solve(self,x,p,l):\n",
    "        # Calcular o CVP aproximado do reticulado Lret\n",
    "        L = matrix(self.Lret.reduced_basis)\n",
    "        t = matrix(1,l+1,list(-self.target))\n",
    "        zero = matrix(l+1,1,[0]*(l+1))\n",
    "        M = matrix(1,1,p**2)\n",
    "        L1 = block_matrix(2,2,[[L,zero],[t,M]])\n",
    "        ret = fmi.IntegerLattice(L1).reduced_basis\n",
    "        error1 = np.array(ret[l+1][:-1])\n",
    "        y1 = error1 + self.target\n",
    "        return y1[0][l] # última componente do vetor resultante.\n",
    "        "
   ]
  },
  {
   "cell_type": "markdown",
   "metadata": {},
   "source": [
    "### Teste ao algoritmo de Boneh & Venkatesan"
   ]
  },
  {
   "cell_type": "code",
   "execution_count": 78,
   "metadata": {},
   "outputs": [
    {
     "name": "stdout",
     "output_type": "stream",
     "text": [
      "secret\n",
      "6981224216842594255\n",
      "calculated_secret\n",
      "6981224216842594255\n",
      "Algoritmo aproximado calculou o segredo com sucesso!\n"
     ]
    }
   ],
   "source": [
    "l = 2^7\n",
    "k = 64\n",
    "p = 2^64\n",
    "x_vector = generate_l_random_elements(l,p)\n",
    "oracle = HNPOracle(p)\n",
    "u_vector = calculate_u_vector(x_vector,k,p,oracle)\n",
    "bv = BV(u_vector,x_vector,k,p,l)\n",
    "calculated_secret = bv.solve(x_vector,p,l)\n",
    "print 'calculated_secret'\n",
    "print calculated_secret\n",
    "if oracle.compare_secret(calculated_secret):\n",
    "    print 'Algoritmo aproximado calculou o segredo com sucesso!'\n",
    "else:\n",
    "    print 'Algoritmo aproximado não conseguiu calcular o segredo com sucesso!'"
   ]
  },
  {
   "cell_type": "markdown",
   "metadata": {},
   "source": [
    "## Definição do Esquema NTRU-Encrypt"
   ]
  },
  {
   "cell_type": "code",
   "execution_count": 237,
   "metadata": {},
   "outputs": [],
   "source": [
    "import random\n",
    "import hashlib\n",
    "from sage.crypto.util import ascii_to_bin, bin_to_ascii\n",
    "\n",
    "name        = \"NTRU_PKE_443\"\n",
    "d           = 115\n",
    "N           = 443\n",
    "p           = 3\n",
    "q           = next_prime(p*N)       \n",
    "max_msg_len = 33 \n",
    "Z.<x>       = ZZ[]\n",
    "Q.<x>       = PolynomialRing(GF(q),name='x').quotient(x^N-1)\n",
    "\n",
    "def pad(msg):\n",
    "    #msg = ascii_to_bin(msg); msg = list(msg)\n",
    "    \n",
    "    msg_len = len(msg)/8\n",
    "    if msg_len > max_msg_len:\n",
    "        raise Exception('msg_len should not exceed {}. The value of msg_len was: {}'\n",
    "                        .format(max_msg_len, msg_len))\n",
    "        \n",
    "    r = N - (167 + 6 + msg_len*8)\n",
    "    lr = list(0 for i in (0..r-1))\n",
    "    \n",
    "    msg_len = \"{0:06b}\".format(int(msg_len))\n",
    "    msg_len = [int(d) for d in msg_len[:6]];\n",
    "        \n",
    "    m = msg + lr + vec(167) + msg_len;\n",
    "        \n",
    "    return m\n",
    "\n",
    "def hash_message(m, h):\n",
    "    m = ''.join([str(x) for x in m])\n",
    "    hm = hashlib.sha512(m)\n",
    "    lh = map(lift,h.list())\n",
    "    sh = ''.join(str(x) for x in lh)\n",
    "    hh = hashlib.sha512(sh)\n",
    "    rseed = str(hm) + str(hh)\n",
    "    return rseed\n",
    "\n",
    "def vec(n):\n",
    "    return  [choice([-1,0,1]) for k in range(n)]\n",
    "\n",
    "# arredondamento módulo 'q'\n",
    "def qrnd(f):\n",
    "    qq = (q-1)//2 ; ll = map(lift,f.list())\n",
    "    return [n if n <= qq else n - q  for n in ll]\n",
    "\n",
    "# arredondamento módulo 'p'\n",
    "def prnd(l):\n",
    "    pp = (p-1)//2\n",
    "    rr = lambda x: x if x <= pp else x - p        \n",
    "    return [rr(n%p) if n>=0 else -rr((-n)%p) for n in l]\n",
    "\n",
    "def extract(m):\n",
    "    msg_len = m[-6:]\n",
    "    msg_len = ''.join(str(x) for x in msg_len)\n",
    "    msg_len = int(msg_len,2)\n",
    "    \n",
    "    msg = m[:msg_len*8]\n",
    "    \n",
    "    #msg = ''.join(str(x) for x in msg); msg = bin_to_ascii(msg)\n",
    "    \n",
    "    return msg, msg_len\n",
    "\n",
    "class NTRU:\n",
    "    \n",
    "    def __init__(self):\n",
    "        print('Name:\\t' + name)\n",
    "        print('d:\\t' + str(d))\n",
    "        print('N:\\t' + str(N))\n",
    "        print('p:\\t' + str(p))\n",
    "        print('q:\\t' + str(q))\n",
    "        print Z\n",
    "        print Q\n",
    "    \n",
    "    def keypair(self):\n",
    "        f = Q(0)\n",
    "        while not f.is_unit():\n",
    "            F = Q(vec(N)); f = 1 + p*F\n",
    "        G = Q(vec(N)) ; g = p*G\n",
    "        self.f = f\n",
    "        self.h = f^(-1) * g\n",
    "    \n",
    "    def encrypt(self, msg):\n",
    "        m = pad(msg)\n",
    "        \n",
    "        rseed = hash_message(m, self.h)\n",
    "        random.seed(rseed)        \n",
    "        r = [random.choice([-1,0,1]) for k in range(N)]\n",
    "        \n",
    "        t = Q(r) * self.h\n",
    "\n",
    "        lt = map(lift,t.list())\n",
    "        st = ''.join(str(x) for x in lt)\n",
    "        tseed = hashlib.sha512(st)\n",
    "        random.seed(tseed)\n",
    "        \n",
    "        m_mask = [random.choice([-1,0,1]) for k in range(N)]\n",
    "        mm = prnd(qrnd(Q(m) - Q(m_mask)))\n",
    "        \n",
    "        c = t + Q(mm)\n",
    "        \n",
    "        return c\n",
    "    \n",
    "    def decrypt(self,e):\n",
    "        mm = prnd(qrnd(self.f * e))\n",
    "        t = e - Q(mm)\n",
    "        \n",
    "        lt = map(lift,t.list())\n",
    "        st = ''.join(str(x) for x in lt)\n",
    "        tseed = hashlib.sha512(st)\n",
    "        \n",
    "        random.seed(tseed)\n",
    "        m_mask = [random.choice([-1,0,1]) for k in range(N)]\n",
    "        \n",
    "        m = prnd(qrnd(Q(mm) + Q(m_mask)))\n",
    "        \n",
    "        rseed = hash_message(m, self.h)\n",
    "        random.seed(rseed)\n",
    "        r = [random.choice([-1,0,1]) for k in range(N)]\n",
    "        \n",
    "        msg,msg_len = extract(m)\n",
    "        \n",
    "        return msg"
   ]
  },
  {
   "cell_type": "markdown",
   "metadata": {},
   "source": [
    "### Teste ao esquema NTRU"
   ]
  },
  {
   "cell_type": "code",
   "execution_count": 239,
   "metadata": {},
   "outputs": [
    {
     "name": "stdout",
     "output_type": "stream",
     "text": [
      "Name:\tNTRU_PKE_443\n",
      "d:\t115\n",
      "N:\t443\n",
      "p:\t3\n",
      "q:\t1361\n",
      "Univariate Polynomial Ring in x over Integer Ring\n",
      "Univariate Quotient Polynomial Ring in x over Finite Field of size 1361 with modulus x^443 + 1360\n",
      "\n",
      "message:\t[-1, -1, -1, 0, -1, 1, 1, 1, -1, 1, 1, 0, 0, -1, -1, -1, 1, 0, -1, 0, 0, 0, 0, 1, -1, 0, -1, 1, 0, 1, -1, -1, 1, -1, 1, -1, 0, 1, 1, 0, -1, 1, -1, 0, -1, 0, 1, -1, -1, -1, 0, 0, 1, -1, 0, -1, -1, 1, 1, 0, 1, -1, 1, 1, -1, 0, -1, -1, 1, 1, 1, 1, 1, 0, 0, 1, 0, 1, 1, 0, -1, 0, 0, 0, 0, 0, 1, 1, -1, -1, -1, -1, -1, 1, 1, 0, 1, -1, 1, -1, -1, 0, 1, 0, 1, 1, 1, 0, -1, 1, -1, 0, 1, 1, 0, 1, 0, -1, 0, 1, -1, -1, -1, -1, 1, 0, 1, 1, 0, 0, 0, 1, -1, 1, -1, -1, 1, 1, 1, 0, 0, -1, -1, -1, 0, 0, 0, 0, 0, -1, -1, -1, 1, 0, -1, 1, 1, 1, 1, 1, 1, 1, 1, -1, 0, 1, 0, 0, -1, 1, -1, -1, 0, 0, 0, -1, -1, 1, -1, -1, -1, 1, 0, 0, -1, -1, 1, 0, 0, -1, 1, 1, -1, 1, 1, 0, 1, 0, 1, 0, 1, 0, 1, 0, 1, -1, 0, -1, 0, 1, 0, 1, -1, 1, 1, -1, -1, 0, -1, -1, 1, 0, 0, 0, 0, 1, 0, -1, 0, 0, 0, -1, 0, 1, -1, 1, 0, 0, 1, 1, -1, 0, -1, 1, 1, 0, -1, 1, 1, 1, -1, -1, 1, 1, 0, -1, 0, 1, -1, 0, 0, -1, 1, -1]\n",
      "message length:\t264 bytes\n",
      "\n",
      "True\n"
     ]
    }
   ],
   "source": [
    "K = NTRU()\n",
    "\n",
    "#msg = \"Estruturas Criptográficas - TP3\"\n",
    "msg = vec(33 * 8)\n",
    "print('\\nmessage:\\t' + str(msg))\n",
    "print('message length:\\t' + str(len(msg)) + ' bytes' + '\\n')\n",
    "\n",
    "K.keypair()\n",
    "e = K.encrypt(msg)\n",
    "print msg == K.decrypt(e)\n"
   ]
  },
  {
   "cell_type": "markdown",
   "metadata": {},
   "source": [
    "## Ataques de inversão"
   ]
  },
  {
   "cell_type": "markdown",
   "metadata": {},
   "source": [
    "### Definição da classe NTRU e da classe LAT"
   ]
  },
  {
   "cell_type": "code",
   "execution_count": 135,
   "metadata": {},
   "outputs": [],
   "source": [
    "import sage.modules.free_module_integer as fmi\n",
    "# http://doc.sagemath.org/html/en/reference/modules/sage/modules/free_module_integer.html\n",
    "\n",
    "d = 6\n",
    "\n",
    "N = 21\n",
    "p = 3\n",
    "q = next_prime(p*N)\n",
    "\n",
    "Z.<x>  = ZZ[]        # polinómios de coeficientes inteiros\n",
    "Q.<x>  = PolynomialRing(GF(q),name='x').quotient(x^N-1)\n",
    "\n",
    "def vec():\n",
    "    return  [choice([-1,0,1]) for k in range(N)]\n",
    "\n",
    "# arredondamento módulo 'q'\n",
    "def qrnd(f):    # argumento em 'Q'\n",
    "    qq = (q-1)//2 ; ll = map(lift,f.list())\n",
    "    return [n if n <= qq else n - q  for n in ll]\n",
    "\n",
    "# arredondamento módulo 'p'\n",
    "def prnd(l):\n",
    "    pp = (p-1)//2\n",
    "    rr = lambda x: x if x <= pp else x - p        \n",
    "    return [rr(n%p) if n>=0 else -rr((-n)%p) for n in l]\n",
    "\n",
    "class NTRU(object):\n",
    "    def __init__(self):\n",
    "        # calcular um 'f' invertível\n",
    "        f = Q(0)\n",
    "        while not f.is_unit():\n",
    "            F = Q(vec()); f = 1 + p*F\n",
    "        # gerar as chaves\n",
    "        G = Q(vec()) ; g = p*G\n",
    "        self.f = f\n",
    "        self.h = f^(-1) * g\n",
    "        \n",
    "    def encrypt(self,m):\n",
    "        r = Q(vec()) \n",
    "        return r*self.h + Q(m)\n",
    "\n",
    "    def decrypt(self,e):\n",
    "        a = e*self.f\n",
    "        return prnd(qrnd(a))\n",
    "\n",
    "class Lat(NTRU):\n",
    "    def __init__(self):\n",
    "        super(Lat,self).__init__()\n",
    "        B1 = identity_matrix(ZZ,N); Bq = q*B1; B0 = matrix(ZZ,N,N,[0]*(N^2))\n",
    "        h = qrnd(self.h)\n",
    "        # rodar um vetor\n",
    "        H = [h]\n",
    "        for k in range(N-1):\n",
    "            h = [h[-1]] + h[:-1]   # shift right rotate\n",
    "            H = H + [h]\n",
    "        H = matrix(ZZ,N,N,H)\n",
    "        self.L = fmi.IntegerLattice(block_matrix([[Bq,B0],[H,B1]])) \n"
   ]
  },
  {
   "cell_type": "markdown",
   "metadata": {},
   "source": [
    "### Inversão da chave pública"
   ]
  },
  {
   "cell_type": "markdown",
   "metadata": {},
   "source": [
    "Segundo o artigo de _Silverman_, encontrar a chave privada f a partir da chave pública h, é equivalente a encontrar um vetor curto no reticulado **L(h)** definido em cima, para parâmetros apropriados."
   ]
  },
  {
   "cell_type": "code",
   "execution_count": 136,
   "metadata": {
    "scrolled": true
   },
   "outputs": [
    {
     "name": "stdout",
     "output_type": "stream",
     "text": [
      "66*x^20 + x^18 + 66*x^15 + 66*x^14 + 66*x^13 + 66*x^11 + 66*x^10 + x^9 + x^8 + 66*x^7 + 66*x^6 + 2*x^5 + 66*x^3 + 2*x^2 + 66*x + 66\n",
      "3*x^20 + 3*x^15 + 64*x^14 + 64*x^12 + 64*x^11 + 64*x^7 + 3*x^6 + 64*x^5 + 64*x^4 + 3*x^2 + 4\n"
     ]
    }
   ],
   "source": [
    "import numpy as np\n",
    "\n",
    "l = Lat()\n",
    "lredmat = l.L.reduced_basis.LLL()\n",
    "lred = fmi.IntegerLattice(lredmat)\n",
    "\n",
    "short_aproximate = np.array(lredmat[0][:-1]) #SVP aproximado\n",
    "print Q(prnd(short_aproximate))\n",
    "print l.f\n"
   ]
  },
  {
   "cell_type": "markdown",
   "metadata": {},
   "source": [
    "### Inversão do criptograma"
   ]
  },
  {
   "cell_type": "markdown",
   "metadata": {},
   "source": [
    "Segundo o artigo de _Silverman_, recuperar a mensagem original a partir do criptograma e da chave pública, é equivalente a encontrar o vetor mais próximo do target $ [0,criptograma] $, no reticulado **L(h)**."
   ]
  },
  {
   "cell_type": "code",
   "execution_count": 174,
   "metadata": {},
   "outputs": [
    {
     "name": "stdout",
     "output_type": "stream",
     "text": [
      "message:\n",
      "66*x^19 + 66*x^18 + 66*x^17 + 66*x^15 + 66*x^14 + x^12 + 66*x^11 + x^10 + 66*x^9 + x^7 + 66*x^6 + x^3 + x^2 + x + 1\n",
      "\n",
      "calculated_message\n",
      "66*x^19 + x^18 + x^15 + 66*x^14 + x^13 + 66*x^12 + 66*x^11 + x^10 + x^9 + x^6 + x^4 + x^3 + x^2 + 66*x + 1\n"
     ]
    }
   ],
   "source": [
    "import numpy as np\n",
    "\n",
    "l = Lat()\n",
    "message = vec()\n",
    "print 'message:'\n",
    "print Q(message)\n",
    "e = l.encrypt(message)\n",
    "e = qrnd(e)\n",
    "vector = [0 for i in range(0,N)]\n",
    "for i in e:\n",
    "    vector.append(i)\n",
    "zero_41_vector =  [0 for i in range(0,41)]\n",
    "zero_41_vector.append(2**q)\n",
    "lred = l.L.reduced_basis\n",
    "lred = lred.transpose()\n",
    "lred = lred.insert_row(42,zero_41_vector)\n",
    "lred = lred.transpose()\n",
    "L1 = fmi.IntegerLattice(lred)\n",
    "lred = L1.reduced_basis\n",
    "\n",
    "err1 = np.array(lred[41][:-1])\n",
    "y1 = err1 + vector\n",
    "# y1 deverá ser igual ao vetor [-r,m], retirámos -r e ficámos apenas com m.\n",
    "new_vec = []\n",
    "for i in range(22,42):\n",
    "    new_vec.append(y1[i])\n",
    "print ''\n",
    "print 'calculated_message'\n",
    "print Q(prnd(new_vec))"
   ]
  },
  {
   "cell_type": "markdown",
   "metadata": {},
   "source": [
    "## Conclusão"
   ]
  },
  {
   "cell_type": "markdown",
   "metadata": {},
   "source": [
    "Os resultados da realização deste trabalho prático não são, desta vez, tão satisfatórios como nos trabalhos anteriores visto que, apesar de termos conseguido implementar o algoritmo de **Boneh & Venkatesan** e o esquema **NTRUEncrypt**, não conseguimos implementar os ataques de inversão referidos no enunciado. Como é dito em cima, conseguimos entender a relação entre o cálculo do vector mais curto e o cálculo do vetor mais próximo com as inversões da chave pública e criptograma, respetivamente, mas não conseguimos implementar de forma a que conseguíssemos obter esses mesmos resultados.\n",
    "\n",
    "Como deve ser óbvio nesta altura, este trabalho apresentou imensas dificuldades, especialmente e decididamente na pergunta 3, mas também no esquema **NTRUEncrypt**, apesar de que, nesse caso, ainda o conseguimos implementar de forma a que consiga cifrar e decifrar uma mensagem."
   ]
  },
  {
   "cell_type": "markdown",
   "metadata": {},
   "source": [
    "## Referências"
   ]
  },
  {
   "cell_type": "markdown",
   "metadata": {},
   "source": [
    "1. [Worksheets TP4 do professor](https://www.dropbox.com/sh/f0j9adiaw4v3deb/AADiMJL2SBP8IMjAxA-SxX2Za/WorkSheets/TP4?dl=0&subfolder_nav_tracking=1)\n",
    "2. [NTRU and Lattice-Based Crypto: Past, Present, and Future de Joseph H. Silverman](http://archive.dimacs.rutgers.edu/Workshops/Post-Quantum/Slides/Silverman.pdf)\n",
    "3. [NTRUEncrypt Supporting Documentation](https://www.dropbox.com/sh/ejlraszbb4ogbod/AABacbwfTbUKwRPmPfkgEIuIa/NTRUEncrypt/Supporting_Documentation?dl=0&subfolder_nav_tracking=1)\n",
    "4. [HNP e abordagem de Boneh & Venkatesan](https://paper.dropbox.com/doc/Hidden-Number-Problem-HXjSmxuD62Xr6nEXocfjg)"
   ]
  },
  {
   "cell_type": "code",
   "execution_count": null,
   "metadata": {},
   "outputs": [],
   "source": []
  }
 ],
 "metadata": {
  "kernelspec": {
   "display_name": "SageMath 8.7",
   "language": "",
   "name": "sagemath"
  },
  "language_info": {
   "codemirror_mode": {
    "name": "ipython",
    "version": 2
   },
   "file_extension": ".py",
   "mimetype": "text/x-python",
   "name": "python",
   "nbconvert_exporter": "python",
   "pygments_lexer": "ipython2",
   "version": "2.7.16"
  }
 },
 "nbformat": 4,
 "nbformat_minor": 2
}
