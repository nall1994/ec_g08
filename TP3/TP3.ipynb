{
 "cells": [
  {
   "cell_type": "markdown",
   "metadata": {},
   "source": [
    "# Trabalho Prático 3"
   ]
  },
  {
   "cell_type": "markdown",
   "metadata": {},
   "source": [
    "## Introdução"
   ]
  },
  {
   "cell_type": "markdown",
   "metadata": {},
   "source": [
    "A resolução deste trabalho prático tem 3 objetivos principais:\n",
    "\n",
    "- Criar uma classe **Python** que implemente o algoritmo de _Boneh & Venkatesan_ .\n",
    "- Implementação de um esquema de assinaturas digitais _FALCON_ .\n",
    "- Estudar gamas de valores de determinados parâmetros que tornem viável um ataque de inversão de chave pública ou inversão do criptograma utilizando redução de bases.\n",
    "\n",
    "Este relatório está, desta forma, dividido em três partes, cada parte correspondente à resolução de um dos problemas e, além disso, está estruturado de forma a que o texto entre os _snippets_ de código seja suficientemente explicativo sobre a implementação e desenho da solução em cada um dos problemas."
   ]
  },
  {
   "cell_type": "markdown",
   "metadata": {},
   "source": [
    "## Algoritmo de Boneh & Venkatesan"
   ]
  },
  {
   "cell_type": "markdown",
   "metadata": {},
   "source": [
    "Esta secção tem como propósito definir uma classe **Python** que implemente o algoritmo de _Boneh & Venkatesan_ , que explora o _Hidden Number Problem_ que, se bem sucedido, permite obter um segredo a partir de um conjunto de dados. Além disso, a secção está dividida em duas partes:\n",
    "\n",
    "- A primeira parte define apenas o algoritmo de _Boneh & Venkatesan_ .\n",
    "- A segunda parte, apelidade de teste, fornece os parâmetros necessários à instância do algoritmo para que ele descubra o segredo **s** a partir dos mesmos.\n",
    "\n",
    "**CONVÉM DEFINIR UM BOCADO O HNP AQUI. DIZER O QUE É.**"
   ]
  },
  {
   "cell_type": "markdown",
   "metadata": {},
   "source": [
    "### Definição do algoritmo de Boneh & Venkatesan"
   ]
  },
  {
   "cell_type": "code",
   "execution_count": 26,
   "metadata": {},
   "outputs": [],
   "source": [
    "\n",
    "class BV:\n",
    "    \n",
    "    def __init__(self,u,x,k,p,l):\n",
    "        # construir a matriz L , lambda e o target T\n",
    "        self.param_lambda = 2^(k+1)\n",
    "        self.L = self.param_lambda * p * matrix.identity(l)\n",
    "        self.L = self.L.transpose()\n",
    "        self.L = self.L.insert_row(l,zero_vector(l))\n",
    "        self.L = self.L.transpose()\n",
    "        temp_x = [self.param_lambda * i for i in x]\n",
    "        temp_x.append(1)\n",
    "        self.L = self.L.insert_row(l,temp_x)\n",
    "        self.target = [self.param_lambda * i for i in u]\n",
    "        self.target.append(0)\n",
    "        \n",
    "    \n",
    "    def solve(self,x,p):\n",
    "        # Resolver o CVP utilizando a abordagem de Boneh & Venkatesan\n",
    "        #s = var(\"s\")\n",
    "        #y = [s * xi // p for xi in x]\n",
    "        # Como preencher o vetor y sendo que isto é uma expressão ?\n",
    "        print y\n",
    "        return ''"
   ]
  },
  {
   "cell_type": "markdown",
   "metadata": {},
   "source": [
    "### Teste ao algoritmo de Boneh & Venkatesan"
   ]
  },
  {
   "cell_type": "code",
   "execution_count": 28,
   "metadata": {},
   "outputs": [],
   "source": [
    "# Estes parâmetros têm que ser substituídos pelos verdadeiros.\n",
    "# x possui l elementos gerados aleatoriamente entre 0 e p-1.\n",
    "# u possui l elementos, onde cada ui é igual ao inteiro representativo dos k bits mais significativos de s*xi\n",
    "\n",
    "u = [3,3,3]\n",
    "x = [4,5,6]\n",
    "k = 2\n",
    "p = 3\n",
    "l = 3\n",
    "bv_algo = BV(u,x,k,p,l)\n",
    "#bv_algo.solve(x,p)"
   ]
  },
  {
   "cell_type": "markdown",
   "metadata": {},
   "source": [
    "## Esquema de assinaturas FALCON"
   ]
  },
  {
   "cell_type": "markdown",
   "metadata": {},
   "source": [
    "Esta secção tem como propósito definir uma classe **Python** que implemente o esquema de assinaturas **FALCON** e, nesse sentido, este esquema fornece uma operação de inicialização da instância e dos seus parâmetros, uma operação para assinatura de mensagens e uma operação para verificação de uma assinatura com base numa mensagem."
   ]
  },
  {
   "cell_type": "markdown",
   "metadata": {},
   "source": [
    "### Definição do esquema FALCON"
   ]
  },
  {
   "cell_type": "code",
   "execution_count": null,
   "metadata": {},
   "outputs": [],
   "source": [
    "class FALCON:\n",
    "    \n",
    "    def __init__(self):\n",
    "        \n",
    "    def sign(self,msg):\n",
    "        \n",
    "    def verify(self,msg,sig):"
   ]
  },
  {
   "cell_type": "markdown",
   "metadata": {},
   "source": [
    "### Teste ao esquema FALCON"
   ]
  },
  {
   "cell_type": "code",
   "execution_count": 4,
   "metadata": {},
   "outputs": [
    {
     "data": {
      "text/plain": [
       "3"
      ]
     },
     "execution_count": 4,
     "metadata": {},
     "output_type": "execute_result"
    }
   ],
   "source": []
  },
  {
   "cell_type": "markdown",
   "metadata": {},
   "source": [
    "## Estudo de parâmetros em ataques de redução de bases"
   ]
  },
  {
   "cell_type": "code",
   "execution_count": null,
   "metadata": {},
   "outputs": [],
   "source": []
  },
  {
   "cell_type": "markdown",
   "metadata": {},
   "source": [
    "## Conclusão"
   ]
  },
  {
   "cell_type": "markdown",
   "metadata": {},
   "source": []
  },
  {
   "cell_type": "markdown",
   "metadata": {},
   "source": [
    "## Referências"
   ]
  },
  {
   "cell_type": "markdown",
   "metadata": {},
   "source": []
  }
 ],
 "metadata": {
  "kernelspec": {
   "display_name": "SageMath 8.7",
   "language": "",
   "name": "sagemath"
  },
  "language_info": {
   "codemirror_mode": {
    "name": "ipython",
    "version": 2
   },
   "file_extension": ".py",
   "mimetype": "text/x-python",
   "name": "python",
   "nbconvert_exporter": "python",
   "pygments_lexer": "ipython2",
   "version": "2.7.16"
  }
 },
 "nbformat": 4,
 "nbformat_minor": 2
}
