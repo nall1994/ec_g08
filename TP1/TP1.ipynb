{
 "cells": [
  {
   "cell_type": "markdown",
   "metadata": {},
   "source": [
    "# Trabalho Prático 1"
   ]
  },
  {
   "cell_type": "markdown",
   "metadata": {},
   "source": [
    "## Introdução"
   ]
  },
  {
   "cell_type": "markdown",
   "metadata": {},
   "source": [
    "A resolução deste trabalho prático tem como objetivo aprofundar o conhecimento na implementação de sessões cifradas e seguras num ambiente entre um emissor e um recetor.\n",
    "Os objetivos principais deste trabalho prático são:\n",
    "\n",
    "- A construção de uma sessão de comunicação síncrona entre um emissor e um recetor.\n",
    "- A utilização do protocolo de **Diffie_Hellman** com verificação de chave e autenticação dos agentes na sessão anteriormente referida.\n",
    "- Utilização do **DSA** para a autenticação dos agentes.\n",
    "- Utilização do **TAES** como cifra simétrica, com autenticação do criptograma em cada superbloco.\n",
    "- Finalmente, o último objetivo passa por implementar novamente o cenário anterior mas, desta feita, utilizando o **ECDH** (Elliptic Curve Diffie-Hellman) em vez do **DH** e o **ECDSA** (Elliptic Curve Digital Signature Algorithm) em vez do **DSA**.\n",
    "\n",
    "Este relatório está escrito de forma a que o texto escrito entre o código desenvolvido seja suficientemente explicativo do que está a ser implementado, o que, na nossa opinião, permite uma leitura e compreensão facilitada do mesmo."
   ]
  },
  {
   "cell_type": "markdown",
   "metadata": {},
   "source": [
    "## Sessão Síncrona com _Diffie-Hellman_"
   ]
  },
  {
   "cell_type": "markdown",
   "metadata": {},
   "source": [
    "### Imports"
   ]
  },
  {
   "cell_type": "markdown",
   "metadata": {},
   "source": [
    "Esta secção tem como objetivo importar os módulos **Python** necessários para desenvolver a sessão síncrona entre os agentes, utilizando o protocolo **DH** e o **DSA**."
   ]
  },
  {
   "cell_type": "code",
   "execution_count": 1,
   "metadata": {},
   "outputs": [],
   "source": [
    "import os,io\n",
    "from multiprocessing import Process,Pipe\n",
    "from cryptography.hazmat.backends import default_backend\n",
    "from cryptography.hazmat.primitives import hashes, hmac\n",
    "from cryptography.exceptions import *\n",
    "from cryptography.hazmat.primitives.asymmetric import dsa\n",
    "from cryptography.hazmat.primitives.asymmetric import dh\n",
    "from cryptography.hazmat.primitives import serialization\n",
    "from cryptography.hazmat.primitives.kdf.hkdf import HKDF\n",
    "from cryptography.hazmat.primitives.ciphers import Cipher, algorithms, modes"
   ]
  },
  {
   "cell_type": "markdown",
   "metadata": {},
   "source": [
    "### Definição de funções auxiliares "
   ]
  },
  {
   "cell_type": "markdown",
   "metadata": {},
   "source": [
    "Esta secção tem como objetivo definir funções auxiliares, tais como a função que gera o **hash** de uma mensagem, de **cifra** e de **decifra**, que serão posteriormente utilizados pelos agentes que participam na sessão síncrona"
   ]
  },
  {
   "cell_type": "code",
   "execution_count": 2,
   "metadata": {},
   "outputs": [],
   "source": [
    "def Hash(s):\n",
    "    digest = hashes.Hash(hashes.SHA256(),backend=default_backend())\n",
    "    digest.update(s)\n",
    "    return digest.finalize()\n",
    "\n",
    "def next_tweak(initial, current_counter):\n",
    "    str = format(current_counter, '063b')\n",
    "    str = str + '0'\n",
    "    b_str = bytes(str,'utf-8')\n",
    "    return (initial + b_str)\n",
    "\n",
    "# Algo está errado numa destas operações!\n",
    "# A cifragem e decifragem não está a dar o mesmo resultado!\n",
    "# Função bytes_xor não a conheces. poderá ser daí?\n",
    "# Ou a operação de decifra deve ter algo de diferente em relação à operação de cifra?\n",
    "\n",
    "def bytes_xor(a, b) :\n",
    "    return bytes(x ^ y for x, y in zip(a, b))\n",
    "\n",
    "def cifra(key,block,tweak,cipher_context):\n",
    "    hw = Hash(tweak)\n",
    "    x_xor_hw = bytes_xor(block,tweak)\n",
    "    e_s_x_hw = cipher_context.update(x_xor_hw)\n",
    "    cryptogram = bytes_xor(e_s_x_hw, hw)\n",
    "    return cryptogram\n",
    "\n",
    "def decifra(key,block,tweak,decipher_context):\n",
    "    hw = Hash(tweak)\n",
    "    x_xor_hw = bytes_xor(block,tweak)\n",
    "    e_s_x_hw = decipher_context.update(x_xor_hw)\n",
    "    cryptogram = bytes_xor(e_s_x_hw, hw)\n",
    "    return cryptogram\n",
    "\n",
    "\n",
    "# Falta pôr funções de cifra e de decifra\n",
    "    "
   ]
  },
  {
   "cell_type": "markdown",
   "metadata": {},
   "source": [
    "### Definição da classe de multiprocessamento"
   ]
  },
  {
   "cell_type": "markdown",
   "metadata": {},
   "source": [
    "Esta secção tem o propósito de definir a classe de multiprocessamento, que permite uma comunicação bidireccional com o _Emitter_ e o _Receiver_, sendo estes dois processos criados e implementados pela **API** [**multiprocessing**](https://docs.python.org/2/library/multiprocessing.html)."
   ]
  },
  {
   "cell_type": "code",
   "execution_count": 3,
   "metadata": {},
   "outputs": [],
   "source": [
    "class BiConnection(object):\n",
    "    def __init__(self,left,right):\n",
    "        left_side,right_side = Pipe()\n",
    "        self.timeout = None\n",
    "        self.left_process = Process(target=left,args=(left_side,))\n",
    "        self.right_process = Process(target=right,args=(right_side,))\n",
    "        self.left = lambda : left(left_side)\n",
    "        self.right = lambda : right(right_side)\n",
    "    \n",
    "    def auto(self,proc=None):\n",
    "        if proc == None:\n",
    "            self.left_process.start()\n",
    "            self.right_process.start()\n",
    "            self.left_process.join(self.timeout)\n",
    "            self.right_process.join(self.timeout)\n",
    "        else:\n",
    "            proc.start()\n",
    "            proc.join()\n",
    "    \n",
    "    def manual(self): \n",
    "        self.left()\n",
    "        self.right()"
   ]
  },
  {
   "cell_type": "markdown",
   "metadata": {},
   "source": [
    "### Geração dos parâmetros _Diffie-Hellman_"
   ]
  },
  {
   "cell_type": "markdown",
   "metadata": {},
   "source": [
    "Esta secção tem o objetivo de gerar os parâmetros necessários para a geração de chaves **DH** e **DSA** por parte de ambos os agentes."
   ]
  },
  {
   "cell_type": "code",
   "execution_count": 4,
   "metadata": {},
   "outputs": [],
   "source": [
    "parameters_dh = dh.generate_parameters(generator=2,key_size=1024,backend=default_backend())\n",
    "# O tamanho tem que ser 3072 bits, alterar depois."
   ]
  },
  {
   "cell_type": "markdown",
   "metadata": {},
   "source": [
    "### Geração das chaves permanentes dos agentes"
   ]
  },
  {
   "cell_type": "markdown",
   "metadata": {},
   "source": [
    "Esta secção tem como objetivo gerar as chaves permanentes dos agentes envolvidos na comunicação, tendo em conta que estas são as que são utilizadas na troca de chaves utilizando o protocolo **Diffie-Hellman** e na assinatura digital de mensagens."
   ]
  },
  {
   "cell_type": "code",
   "execution_count": 5,
   "metadata": {},
   "outputs": [],
   "source": [
    "# Geração das chaves do Emissor\n",
    "emitter_dsa_sk = dsa.generate_private_key(3072,default_backend()) #chave privada DSA\n",
    "emitter_dsa_pk = emitter_dsa_sk.public_key() #chave pública DSA\n",
    "\n",
    "# Geração das chaves do Recetor\n",
    "receiver_dsa_sk = dsa.generate_private_key(3072,default_backend()) #chave privada DSA\n",
    "receiver_dsa_pk = receiver_dsa_sk.public_key() #chave pública DSA"
   ]
  },
  {
   "cell_type": "markdown",
   "metadata": {},
   "source": [
    "### Definição do Emissor e do Recetor"
   ]
  },
  {
   "cell_type": "markdown",
   "metadata": {},
   "source": [
    "Nesta secção está definido o comportamento de cada um dos agentes ao utilizar esta sessão síncrona segura de troca de informação. Na definição destes dois agentes, é assumido que as chaves públicas **DSA** utilizadas na autenticação dos agentes já são conhecidas por ambos. As chaves **DH** são geradas por sessão de modo a acordar uma chave temporária para que seja possível cifrar e decifrar uma mensagem utilizando uma primitiva simétrica.\n",
    "\n",
    "**PROCESSO DE CIFRA E DECIFRA NÃO ESTÁ CORRECTO! NÃO PRODUZ OS MESMOS RESULTADOS**"
   ]
  },
  {
   "cell_type": "code",
   "execution_count": 6,
   "metadata": {},
   "outputs": [],
   "source": [
    "def Emissor(connection):\n",
    "    #Implementação Protocolo Diffie-Hellman\n",
    "    emitter_dh_sk = parameters_dh.generate_private_key()\n",
    "    emitter_dh_pk = emitter_dh_sk.public_key()\n",
    "    pub = emitter_dh_pk.public_bytes(\n",
    "        encoding = serialization.Encoding.PEM,\n",
    "        format = serialization.PublicFormat.SubjectPublicKeyInfo)\n",
    "    signature = emitter_dsa_sk.sign(pub,hashes.SHA256())\n",
    "    message = {'pk': pub, 'sig': signature}\n",
    "    connection.send(message)\n",
    "    receiver_first = connection.recv()\n",
    "    receiver_dh_public_key = serialization.load_pem_public_key(receiver_first['pk'],default_backend())\n",
    "    receiver_dsa_pk.verify(receiver_first['sig'],receiver_first['pk'],hashes.SHA256())\n",
    "    master_key = emitter_dh_sk.exchange(receiver_dh_public_key)\n",
    "    \n",
    "    #Passar a chave de sessão acordada (master_key) por um kdf\n",
    "    shared_key = HKDF(\n",
    "        algorithm = hashes.SHA256(),\n",
    "        length = 32,\n",
    "        salt = None,\n",
    "        info = b'exchange data',\n",
    "        backend = default_backend()\n",
    "    ).derive(master_key)\n",
    "    \n",
    "    message_size = 2**10\n",
    "    gen_bytes = os.urandom(message_size)\n",
    "    inputs = io.BytesIO(gen_bytes)\n",
    "    #inicialização do tweak como um nounce de 64 bits (n/2)\n",
    "    tweak_init = os.urandom(8)\n",
    "    \n",
    "    connection.send(tweak_init)\n",
    "    \n",
    "    buffer = bytearray(16)\n",
    "    cipher = Cipher(algorithms.AES(shared_key),modes.ECB(),backend=default_backend()).encryptor()\n",
    "    i = 1\n",
    "    try:\n",
    "        while inputs.readinto(buffer):\n",
    "            # Falta ver a parte de autenticação dos superblocos do criptograma\n",
    "            current_tweak = next_tweak(tweak_init,i)\n",
    "            cryptogram = cifra(shared_key,bytes(buffer),current_tweak,cipher)\n",
    "            connection.send(cryptogram)\n",
    "            i += 1\n",
    "        connection.send(cipher.finalize())\n",
    "    except Exception:\n",
    "        print('Erro no emissor!')\n",
    "    connection.send('finalized')   \n",
    "    inputs.close()\n",
    "    connection.close()    "
   ]
  },
  {
   "cell_type": "code",
   "execution_count": 7,
   "metadata": {},
   "outputs": [],
   "source": [
    "def Recetor(connection):\n",
    "    #Implementação protocolo Diffie-Hellman\n",
    "    emitter_first = connection.recv()\n",
    "    receiver_dh_sk = parameters_dh.generate_private_key()\n",
    "    receiver_dh_pk = receiver_dh_sk.public_key()\n",
    "    emitter_dh_public_key = serialization.load_pem_public_key(emitter_first['pk'],default_backend())\n",
    "    emitter_dsa_pk.verify(emitter_first['sig'],emitter_first['pk'],hashes.SHA256())\n",
    "    master_key = receiver_dh_sk.exchange(emitter_dh_public_key)\n",
    "    pub = receiver_dh_pk.public_bytes(\n",
    "        encoding = serialization.Encoding.PEM,\n",
    "        format = serialization.PublicFormat.SubjectPublicKeyInfo)\n",
    "    signature = receiver_dsa_sk.sign(pub,hashes.SHA256())\n",
    "    message = {'pk':pub,'sig':signature}\n",
    "    connection.send(message)\n",
    "    \n",
    "    #Passar a chave de sessão acordada (master_key) por um kdf\n",
    "    shared_key = HKDF(\n",
    "        algorithm = hashes.SHA256(),\n",
    "        length = 32,\n",
    "        salt = None,\n",
    "        info = b'exchange data',\n",
    "        backend = default_backend()\n",
    "    ).derive(master_key)\n",
    "    \n",
    "    outputs = io.BytesIO()\n",
    "    tweak_init = connection.recv()\n",
    "    \n",
    "    cipher = Cipher(algorithms.AES(shared_key),modes.ECB(),backend=default_backend()).decryptor()\n",
    "    i = 1\n",
    "    try:\n",
    "        while True:\n",
    "            buffer = connection.recv()\n",
    "            if(buffer == 'finalized'):\n",
    "                outputs.write(cipher.finalize())\n",
    "                break\n",
    "            else:\n",
    "                #print(buffer)\n",
    "                cryptogram = buffer\n",
    "                current_tweak = next_tweak(tweak_init,i)\n",
    "                text = decifra(shared_key,cryptogram,current_tweak,cipher)\n",
    "                i += 1\n",
    "                outputs.write(text)\n",
    "        print(outputs.getvalue())\n",
    "    except Exception as Err:\n",
    "        print('Erro no recetor! {0}'.format(Err))\n",
    "        \n",
    "    outputs.close()\n",
    "    connection.close()\n",
    "    "
   ]
  },
  {
   "cell_type": "code",
   "execution_count": 8,
   "metadata": {},
   "outputs": [
    {
     "name": "stdout",
     "output_type": "stream",
     "text": [
      "CRYPT:\n",
      "DECRYPT\n",
      "1b'\\xc8\\x90\\xd6y\\xcd\\xb9\\xe1\\x82\\xc88\\xd9\\x9dz\\xc4\\xc6\\xd3'\n",
      "1b'u+l\\xeb\\xe5\\x94\\xb2\\x85\\xde\\xb7w\\x1f\\x14mu\\n'\n",
      "2b'\\xad\\xcf\\xa1+\\xeb\\xa8e\\xa4v(\\xf9\\x04\\xf4\\xd1\\x99S'\n",
      "3b'\\xaaQ\\xd8\\xed\\x9e\\xc5E#\\tH\\x85\\x91\\x9b/\\x08t'\n",
      "2b'1`\\xb7\\x05\\xa0hr}\\x9e\\x9d\\xbeA\\x0b\\x01H\\x1a'\n",
      "4b'Y\\x8b\\xac2^\\xd91\\xe3~\\xed=\\xc4h`\\xcax'\n",
      "5b'lX\\xa6\\x88;\\x07\\xaa\\xd4`Z\\xe9$\\x8ap\\xe4\\r'\n",
      "6b'4QjD\\xba\\xea-\\x9c\\xc7\\x8dg\\x13G\\xacU\\xb4'\n",
      "7b'\\xd7z$\\xa6C\\x8a\\xbd\\xe7+K.\\xd3\\xd0\\xac\\n1'\n",
      "3b'\\x14\\xa0\\x8ff\\xc3\\x87\\x19\\xe0(5_\\xd7r\\xb2\\xdc\\x05'\n",
      "8b'\\xf2\\xc5I\\x07^\\xf7\\xe5K:1\\xaa\\x1c\\x08\\x8f\\xe86'\n",
      "4b'\\xed5P\"%\\xcc\\xf7\\x91\\x06\\xedY\\xd5\\xf9\\xd0E\\x13'\n",
      "9b'i\\x08t\\xad\\x7f_\\x9dyh\\xa0\\x8b\\x96O\\xec\\xbf\\xae'\n",
      "5b'\\xd2\\xdd\\x1e\\x0c\\xd9\\x7f#\\xea\\x9b\\xd1\\x14]\\xa8\\x91[\\xca'\n",
      "10b'\\xbf\\xef\\x1c~\\xb6\\xaaX>\\x08O\\x16\\xe5\\xf6\\x98\\x0b\\xe8'\n",
      "11b'\\x87Hy:\\xec\\xe9\\xbdQH\\xb3\\xb6T\\xdb\\x87\\xdd\\xe6'\n",
      "12b'Irz\\tyA=\\xfa\\x1f\\x19\\x0c\\x0e(\\xec\\xf4\\xf8'\n",
      "13b'T\\xa5<\\xfb\\xd8\\xb2\\x8b\\x14\\x00\\xfa\\x0e\\xa2\\x8b\\x1b^u'\n",
      "14b'\\xf0gM\\x00\\xff\\xd4(\\x92_\\x8aa\\xb0S<\\tB'\n",
      "15b'\\x14\\x11\\xb00\\xaf\\xa4\\x0c\\xb1\\x04\\xfdkB`\\x9d\\x1dt'\n",
      "16b')\\xfd\\xb1r\\xb0\\x08\\xce\\xd7\\x9c\\x18\\x17P\\xfd\\xe1Z\\x97'\n",
      "17b',l\\x80\\xf8\\xef0\\x10S\\xfa\\r\\r\\xaad\\xbbP8'\n",
      "6b'\\x0f>\\x00\\xe0\\xd6\\xbb\\xf0\\x1a\\xa0\\xa8C\\xaap\\xb4\\xba\\xa1'\n",
      "7b'\\x9f\\x83)\\xcc\\xc5z|!v.7|\\xb0\\xa8\\xf17'\n",
      "8b'\\x9f\\xa14!\\x9a7&2\\xe2\\xb5\\xd5,\\x8a\\xae \\xf3'\n",
      "9b'\\xc7\\xb0\\xf4\\x89kc\\xd1\\xdc\\xb3\\xdd\\x08&\\x88\\xd4\\xa9\\x9f'\n",
      "18b'\\xe9=_\\xb2\\xab\\xf3f\\xef5\\x9a\\xba\\xd9u\\x0b\\xa4\\x07'\n",
      "10b'\\xc2\\x16Q3\\xf5\\xe7\\x96T\\xa7?\\xc4\\xb4c\\xea\\x0e\\xa0'\n",
      "19b'\\xd1\\x82\\xb1\\xa1\\x15\\x11#\\xd8\\xdd\\x04\\xa6#\\x04\\xef\\xe5a'\n",
      "20b'E\\xd3Q\\xd3\\xc0\\xfe\\x9d\\xfd\\x110\\xe3O:S\\xc9\\xd6'\n",
      "11b'\\xea \\xb0\\xd6\\xedC\\xa2F\\xb9\\x8e\\xc0%\\xe4t\\x19\\xb3'\n",
      "12b'U\\xff\\x1cK\\xdf\\xa6*\\xc2\\x9a^\\x82Q\\xbd\\xa1\\x14\\xcc'\n",
      "21b'\\xb7@i!\\xef\\xb1\\xc5\\x96\\xcb\\x15\\xffc\\xfd\\xdd\\x9e\\xa4'\n",
      "22b'\\x06\\x07\\x85\\xec\\xd9z\\xfc;\\xb9*\\xfe\\x13\\xaf\\x8e\\xc5E'\n",
      "23b'\\xda\\xac\\xaf\\xa4u}\\x9b\\xd9q\\xbd\\xca\\x01\\xc4;p '\n",
      "24b'R\\x0e\\xf1z\\xc8\\xd0\\xdd\\x93\\x87\\xd4\\xb1\\x98\\xc25\\x0b\\xf6'\n",
      "13b'\\x93\\x19esrj\\x92Nl\\xfdD,\\xcb\\x12\\xaa\\xd9'\n",
      "14b'\\xc8\\xe7-\\x89\\x0f\\xd0\\x1dL\\xc1\\x01#\\xb8\\xb2\\x06\\xf49'\n",
      "25b'\\x17\\x0bYh_C\\x0b~\\xec\\x08\\x88@\\xcaQ0\\xaf'\n",
      "15b'Ul/\\x81\\xc8\\x9a\\xcfv\\x16l\\xad\\xb6*\\xd7\\xb0\\x19'\n",
      "16b'\\xc6\\xe9k\\x1d]\\xe8N!)X\\xc9E\\xf2\\xe5?8'\n",
      "26b'(\\x1ajEKl\\xfa\\x99h\\xba\\xd8\\x04\\xc5\\xae0='\n",
      "27b'\\xe3\\xcf8\\xbc\\xc1f\\xafQ\\x06\\x83\\xdfY\\xd1z\\x91\\xe0'\n",
      "17b'\\xe6\\xfc\\xfe\\x80\\x95&x\\x98\\x95m\\x8e\\xc1\\xba?\\xce\\xb7'\n",
      "18b'\\xae\\xc5\\xb0\\xbb\\xf9bEVc\\xb2\\x1er\\xb1\\xd8J\\x05'\n",
      "28b'\\xbc\\xa9\\x8a\\xa1v\\xa5\\x0ep\\x97Y\\xb78:zb\\xbd'\n",
      "29b'\\x04\\x9d\\xd9-\\x0f\\x1d\\xed\\x05\\x82d\\xa8\\xaf.\\xc1\\x8d\\xc4'\n",
      "19b'/<\\xc7\\x9ac0\\r\\xfc{\\xbe\\xbf\\x9c\\x0ee\\x0c\\xf2'\n",
      "20b\"~:\\xa9\\xd1'Jtg\\xc3\\xda\\x14\\xef\\xfb\\xfe\\x7f\\xe4\"\n",
      "21b'\\x0f\\xb7\\xb6]:\\xbd\\x7f\\xf6\\xc1\\xbc\\xbc6\\xa6\\xde\\xcc\\xd6'\n",
      "30b'\\x1e\\xbf\\x97\\xc0\\t\\xd9\\x1b\\x8b\\xd2\\x00\\xeb\\x99o~\\xde\\xf5'\n",
      "22b'\\x97f\\x84\\x9ad\\x9e\\x0b\\xbf\\xd1M\\x12\\xf8\\xf9Q\\x003'\n",
      "31b'\\x968\\xd0\\xcd\\x8d\\xb5gk\\x06O\\x94R\\x10\\xad\\x91\\x8b'\n",
      "23b'\\x10x.\\xdbt\\xf6\\xae\\x83f!w\\xd2\\xca\\xc2\\x7f%'\n",
      "24b'k\\x8a\\xe0E\\x9cN \\xae\\x9fV\\\\\\x17\\xa9uI\\x14'\n",
      "25b'\\xbb\\x03S\\xd6\\xee\\x11X\\x05\\x1e\\xcb&\\xc2K\\x0b\\x8b\\xc5'\n",
      "32b'\\xb8l\\x9b\\xa8\\x88\\xc7~\\x16\\xd2P\\x1c\\xbf\\x02\\xc5m\\xf1'\n",
      "26b'\\xe31\\x06\\xe2q\"\\x1e\\x15/\\xa5D\\xd4\\xb6\\xf6\\xfbn'\n",
      "27b'\\xe0\\xbc\\xecfO\\xe7\\xe6\\x16\\xfb\\xc1j\\x92\\xd0\\x13\\x89\\xc7'\n",
      "33b'Ot\\xf5D\\x1e\\xaaX\\x19t\\xad \\xdb\\xfas%\\x02'\n",
      "28b\" \\xe4XB\\xbfC\\xe8'&E6\\xdfA\\\\\\x1e,\"\n",
      "29b'\\x81\\xf5\\xff\\xbc(A\\xe3\\x96\\x9b\\x1d\\xb0}\\xa0\\xa7\\x14E'\n",
      "30b'\\xf4+=\\x1c\\xd50\\xe8\\xbdd6h\\xb3x\\x1f\\\\\\x87'\n",
      "34b'\\xb6\\x94@\\x9a\\xd9\\x89\\xff-\\x17Oi\\n\\xdd\\xa6\\xf2\\x08'\n",
      "31b'\\xa0W?=\\xc0\\xb9,\\xba\\x9b=\\x92\\x1e\\xdd\\xa4]z'\n",
      "35b'\\x84\\xf8\\xd6\\xb7\\x15\\xf2(\\n\\xe0\\xee\\x11[\\xb5\\xe0\\x95\\x10'\n",
      "36b'\\x1d\\x89nK\\xd2\\x06j\\x05s\\x06\\xd5\\xff\\xf5!7\\x8f'\n",
      "32b'F8)\\xd8\\x99h\\xea\\xa1&\\x99\\xb1\\x8a\\xad\\xe4X`'\n",
      "33b'\\xc0\\x81s\\xd1n\\x91\\xc2qw\\xbd\\xd0\\x13mp<\\xd3'\n",
      "37b'\\xf6\\t\\xa0\\x94\\xc8\\xe1\\x83\\x7f(\\x8e\\x05\\xa5\\x0f\\xa3\\x11x'\n",
      "34b'K\\xf6\\xb4\\x7f\\x85\\xc2\\xe1\\x8eB\\xba\\xcd~\\xa2\\x18V\\xbc'\n",
      "38b'\\xb0\\x0367\\x12\\xdc\\xdf\\x1b@\\x9e\\x8e% \\x0f\\xf0\\xca'\n",
      "35b'a\\x99\\x04\\xde\\xea\\x16\\x12K\\x84\\xf8\\x13\\xeek\\xe9\\x02>'\n",
      "39b'>[\\xd6\\xa6IQ1:H\\xec\\x12\\xee5\\\\\\x02Q'\n",
      "36b'\\x97\\x88\\xa0\\x1dV\\xcd\\xec\\xd6^v\\xab#\\xe9\\x94\\x97\\xf4'\n",
      "40b'#K\\xd1\\x03\\x8bDgc:\\xa77\\xeah\\xbdf`'\n",
      "37b'8\\x8fa\\xa1Y\\t\\xe3_\\xb0r\\x97q\\xad\\xa5\\x92\\x06'\n",
      "41b'\\x9bn\\xe9\\x0c\\xe6\\xf7\\x85r\\xce\\xbd\\x02\\x82\\x8eL\\xbcB'\n",
      "38b'\\xc6\\xe9\\xa6\\x85\\xe2.\\xff>\\xd9\\xd0\\xe4\\xc6\\xe1%\\xc4Z'\n",
      "42b'p\\xe3p\\xb2\\x1d\\t\\xf7\\xd4\\x99\\x10M5\\x8c\\xc5\\xe8\\xd2'\n",
      "39b'\\xb5<\\xed\\x03X\\xd0\\xbal\\xd4\\x16&o\\xf7Mu\\xc0'\n",
      "43b'bl\\xe4H\\xe78\\xd0\\xb3\\x90:\\xfb\\x12K\\xe7\\xd1|'\n",
      "44b'\\x8d\\xbd\\xc6\\xd5\\x14\\xfe\\xb4L\\xe0\\x9an,\\xd8\\xd29X'\n",
      "40b'\\xec\\xae%\\xd9\\xfb/\\x8ef\\t\\x17Q\\xcf\\xd1\\x01\\xf2\\xe1'\n",
      "41b'\\x9c\\x9cK\\xc0\\\\X;\\xf8\\t\\x07\\x95\\xb5E\\x11\\x1c\\xed'\n",
      "45b'\\x12<\\x15\\xf5\\xcb-NBv\\xb4\\x1e\\x81#y\\xf0\\x9b'\n",
      "46b'\\xd0`\\x00\\x88\\x7f\\x1f/\\xcb\\xd9y\\x04-\\xddv\\xf85'\n",
      "42b'\\x9a\\xa7\\xaeioU+\\x90R\\x93\\xe0+\\xdd\\xaf\\xecf'\n",
      "47b'\\x17\\x9ea\\xfcg7\\xa3/\\t\\xae\\x0e!\\xf6\\x02\\xa3\\x1d'\n",
      "43b't\\xf8\\xeeu\\x18\\x91\\xd73\\x12\\x15E\\x9eW\\x9d\\xec\\xb3'\n",
      "48b\"\\xba\\x8ch\\xf5B\\x93\\x03\\xf2\\xa5\\x1d'\\x19\\xaex;\\xac\"\n",
      "44b'\\xd5&\\xf5#\\x8dl`\\xba\\xbdy\\xb0\\x8f\\x9c\\xd0t\\x07'\n",
      "49b'\\xda\\xd1R\\x16\\xe7\\xa1\\x19\\x1bu\\xd8\\x95\\x07\\x83We\\x8c'\n",
      "50b'\\x1a\\x8e\\xc8=>\\x86\\\\\\xc4/q\\xd9\\xf7\\xbf\\xbf\\xbd\\xa6'\n",
      "45b'w\\xa9\\x85\\x170\\\\\\xb2\\xa7\\xfar\\\\%\\xd0\\xed\\xcfa'\n",
      "51b'\\x0e\\n\\xcd\\xcc)S\\xf5\\x8a\\x83ph\\x1d,\\xca&\\x1a'\n",
      "46b'l\\xf1uz\\x85\\x0e\\x88]>\\n\\xf3\\xfd\\xa49td'\n",
      "52b'\\xaa\\xa0\\x8d\\xc7\\xc0\\xf2\\x9f\\x9bm$\\xe8\\x03W\"\\x0b\\xb9'\n",
      "47b'\\xd4\\xcc@7#\\xb5\\xa4\\x93U\\xa63Oa\\xb2M\\xd9'\n",
      "48b'\\x9b\\x0f^\\xc5\\xc6T\\xca\\xe7\\x0e\\xd9\\xc7Ka\\xaf\\x99|'\n",
      "49b'\\xb2\\x0c\\x0c\\xeb\\x98\\x06V\\xf9\\xe8\\xc69^K\\x16F\\x9d'\n",
      "50b'q\\xfb\\xb5W\\xfdc\\xca\\xad\\x00\\x14\\x1c]\\x8c\\xce\\\\\\xb8'\n",
      "53b'\\xa1\\xc7@\\x9ft\\xe4G\\xe3$o\\xbc\\x1d\\xf0o\\xe5\\xa1'\n",
      "51b'\\x15\\xe0\\xe8\\xe3\\x8d\\xf0\\xc2\\xea\\xfb\\xabC\\x96\\xd7\\xbd\\xde\\x1b'\n",
      "54b'X\\xe8;A\\xf0\\xd4\\x11\\x94\\x04\"F\\xb2%f\\xfa\\xec'\n",
      "52b'\\xbe\\xda\\xad\\xcd\\xf9#$6\\x0ec\\x9aQ\\xc3\\xd7\\x03\\xdd'\n",
      "55b'\\x9d,\\xb9\\x88e{\\t\\xe2\\xb6\\x14\\xec\\xbfU\\x93\\x9c<'\n",
      "56b'?\\xb9;\\xa8w\\xc0\\xafy\\x1d\\x98\\xaf3r\\xe6\\xe5\\xd8'\n",
      "53b'\\xfb\\x13#d\\xf0\\x01$\\xad\\x9e\\x86i\\x7f\\x82\\x83xA'\n",
      "57b'\\ry\\x8c\\x9cA\\x1c0\"UI\\x07\\x11\\xce\\x0e\\x9e\\xcd'\n",
      "58b'\\xc8\\x19\\xed\\x84_x\\x89\\xe2Z\\xffCX+w\\xf8\\x0f'\n",
      "54b'o\\xa2\\xe1\\x8fQ\\xdf\\xbdK\\xec\\x16\\xf3\\xfb\\x89\\x84\\x00\\x87'\n",
      "55b'#<\\x1e?423m\\x9dF\\xe6\\x14p\\xa4D\\x14'\n",
      "59b'N9b\\xd6\\xbdr\\xf3*[\\xdfJNR\\\\*&'\n",
      "56b'n\\x14\\xec\\x1cCA\\xfc=\\xfaj3^\\xf8\\x8c\\x00\\x16'\n",
      "57b\"\\xdf\\x00\\x9b\\xb6v\\xdb\\x05X\\xc5\\x81\\x8d@\\x0c\\xbe'd\"\n",
      "58b'.\\x96\\x8b\\xb7\\xd7Ip3\\x03W\\xea\\xfd\\xbb\\xa5+9'\n",
      "60b\"\\xa4\\x90\\xe0\\x85:\\xce\\x8b\\x80\\xfb\\\\3\\x15'\\\\\\xf3j\"\n",
      "61b\"`\\x8f\\xd1\\r\\x14RG\\x14i\\xff\\x1b\\x0c\\x8e\\x81'F\"\n",
      "62b'\\x9f&\\xed\\xab\\xdf\\\\:/\\x99B\\xffH_0\\x89\\xc8'\n",
      "63b'\\x9f\\x93\\x92\\xd7\\xc0\\x9fbO\\xc6N\\xc0Fs\\xc0\"6'\n",
      "59b'gJ\\xaat\\xa8\\xbf\\tc5\\xdb\\x85\\xf2t/v\\x90'\n",
      "64b'\\xf7\\xcc\\x8c\\xc7=L\\x15\\x1a\\xa2(\\xa4VK\\x96\\x94\\x17'\n",
      "60b'\\xb4r\\x01 \\x13\\x01!#.\\xfb\\xa86\"8\\x02o'\n",
      "61b'\\x9a\\xc3\\xeb\\xb30+B\\x9ea\\x08\\xad\\x97\\xd4\\x1b\\xec\\x1c'\n",
      "62b'/\\xce#\\xd6;8\\xa9U\\xed2a\\x8be\\xfd|4'\n",
      "63b'\"6\\xb1\\x19\\xbd5e\\x1a\\xc6^-\\x1d.\\xb3\\xbb\\xd5'\n",
      "64b'\\x15\\x12\\x99l\\x82\\x8d[O\\x95rR\\xba\\xbc\\xf2\\x88\\xb2'\n",
      "65b''\n",
      "b'u+l\\xeb\\xe5\\x94\\xb2\\x85\\xde\\xb7w\\x1f\\x14mu\\n1`\\xb7\\x05\\xa0hr}\\x9e\\x9d\\xbeA\\x0b\\x01H\\x1a\\x14\\xa0\\x8ff\\xc3\\x87\\x19\\xe0(5_\\xd7r\\xb2\\xdc\\x05\\xed5P\"%\\xcc\\xf7\\x91\\x06\\xedY\\xd5\\xf9\\xd0E\\x13\\xd2\\xdd\\x1e\\x0c\\xd9\\x7f#\\xea\\x9b\\xd1\\x14]\\xa8\\x91[\\xca\\x0f>\\x00\\xe0\\xd6\\xbb\\xf0\\x1a\\xa0\\xa8C\\xaap\\xb4\\xba\\xa1\\x9f\\x83)\\xcc\\xc5z|!v.7|\\xb0\\xa8\\xf17\\x9f\\xa14!\\x9a7&2\\xe2\\xb5\\xd5,\\x8a\\xae \\xf3\\xc7\\xb0\\xf4\\x89kc\\xd1\\xdc\\xb3\\xdd\\x08&\\x88\\xd4\\xa9\\x9f\\xc2\\x16Q3\\xf5\\xe7\\x96T\\xa7?\\xc4\\xb4c\\xea\\x0e\\xa0\\xea \\xb0\\xd6\\xedC\\xa2F\\xb9\\x8e\\xc0%\\xe4t\\x19\\xb3U\\xff\\x1cK\\xdf\\xa6*\\xc2\\x9a^\\x82Q\\xbd\\xa1\\x14\\xcc\\x93\\x19esrj\\x92Nl\\xfdD,\\xcb\\x12\\xaa\\xd9\\xc8\\xe7-\\x89\\x0f\\xd0\\x1dL\\xc1\\x01#\\xb8\\xb2\\x06\\xf49Ul/\\x81\\xc8\\x9a\\xcfv\\x16l\\xad\\xb6*\\xd7\\xb0\\x19\\xc6\\xe9k\\x1d]\\xe8N!)X\\xc9E\\xf2\\xe5?8\\xe6\\xfc\\xfe\\x80\\x95&x\\x98\\x95m\\x8e\\xc1\\xba?\\xce\\xb7\\xae\\xc5\\xb0\\xbb\\xf9bEVc\\xb2\\x1er\\xb1\\xd8J\\x05/<\\xc7\\x9ac0\\r\\xfc{\\xbe\\xbf\\x9c\\x0ee\\x0c\\xf2~:\\xa9\\xd1\\'Jtg\\xc3\\xda\\x14\\xef\\xfb\\xfe\\x7f\\xe4\\x0f\\xb7\\xb6]:\\xbd\\x7f\\xf6\\xc1\\xbc\\xbc6\\xa6\\xde\\xcc\\xd6\\x97f\\x84\\x9ad\\x9e\\x0b\\xbf\\xd1M\\x12\\xf8\\xf9Q\\x003\\x10x.\\xdbt\\xf6\\xae\\x83f!w\\xd2\\xca\\xc2\\x7f%k\\x8a\\xe0E\\x9cN \\xae\\x9fV\\\\\\x17\\xa9uI\\x14\\xbb\\x03S\\xd6\\xee\\x11X\\x05\\x1e\\xcb&\\xc2K\\x0b\\x8b\\xc5\\xe31\\x06\\xe2q\"\\x1e\\x15/\\xa5D\\xd4\\xb6\\xf6\\xfbn\\xe0\\xbc\\xecfO\\xe7\\xe6\\x16\\xfb\\xc1j\\x92\\xd0\\x13\\x89\\xc7 \\xe4XB\\xbfC\\xe8\\'&E6\\xdfA\\\\\\x1e,\\x81\\xf5\\xff\\xbc(A\\xe3\\x96\\x9b\\x1d\\xb0}\\xa0\\xa7\\x14E\\xf4+=\\x1c\\xd50\\xe8\\xbdd6h\\xb3x\\x1f\\\\\\x87\\xa0W?=\\xc0\\xb9,\\xba\\x9b=\\x92\\x1e\\xdd\\xa4]zF8)\\xd8\\x99h\\xea\\xa1&\\x99\\xb1\\x8a\\xad\\xe4X`\\xc0\\x81s\\xd1n\\x91\\xc2qw\\xbd\\xd0\\x13mp<\\xd3K\\xf6\\xb4\\x7f\\x85\\xc2\\xe1\\x8eB\\xba\\xcd~\\xa2\\x18V\\xbca\\x99\\x04\\xde\\xea\\x16\\x12K\\x84\\xf8\\x13\\xeek\\xe9\\x02>\\x97\\x88\\xa0\\x1dV\\xcd\\xec\\xd6^v\\xab#\\xe9\\x94\\x97\\xf48\\x8fa\\xa1Y\\t\\xe3_\\xb0r\\x97q\\xad\\xa5\\x92\\x06\\xc6\\xe9\\xa6\\x85\\xe2.\\xff>\\xd9\\xd0\\xe4\\xc6\\xe1%\\xc4Z\\xb5<\\xed\\x03X\\xd0\\xbal\\xd4\\x16&o\\xf7Mu\\xc0\\xec\\xae%\\xd9\\xfb/\\x8ef\\t\\x17Q\\xcf\\xd1\\x01\\xf2\\xe1\\x9c\\x9cK\\xc0\\\\X;\\xf8\\t\\x07\\x95\\xb5E\\x11\\x1c\\xed\\x9a\\xa7\\xaeioU+\\x90R\\x93\\xe0+\\xdd\\xaf\\xecft\\xf8\\xeeu\\x18\\x91\\xd73\\x12\\x15E\\x9eW\\x9d\\xec\\xb3\\xd5&\\xf5#\\x8dl`\\xba\\xbdy\\xb0\\x8f\\x9c\\xd0t\\x07w\\xa9\\x85\\x170\\\\\\xb2\\xa7\\xfar\\\\%\\xd0\\xed\\xcfal\\xf1uz\\x85\\x0e\\x88]>\\n\\xf3\\xfd\\xa49td\\xd4\\xcc@7#\\xb5\\xa4\\x93U\\xa63Oa\\xb2M\\xd9\\x9b\\x0f^\\xc5\\xc6T\\xca\\xe7\\x0e\\xd9\\xc7Ka\\xaf\\x99|\\xb2\\x0c\\x0c\\xeb\\x98\\x06V\\xf9\\xe8\\xc69^K\\x16F\\x9dq\\xfb\\xb5W\\xfdc\\xca\\xad\\x00\\x14\\x1c]\\x8c\\xce\\\\\\xb8\\x15\\xe0\\xe8\\xe3\\x8d\\xf0\\xc2\\xea\\xfb\\xabC\\x96\\xd7\\xbd\\xde\\x1b\\xbe\\xda\\xad\\xcd\\xf9#$6\\x0ec\\x9aQ\\xc3\\xd7\\x03\\xdd\\xfb\\x13#d\\xf0\\x01$\\xad\\x9e\\x86i\\x7f\\x82\\x83xAo\\xa2\\xe1\\x8fQ\\xdf\\xbdK\\xec\\x16\\xf3\\xfb\\x89\\x84\\x00\\x87#<\\x1e?423m\\x9dF\\xe6\\x14p\\xa4D\\x14n\\x14\\xec\\x1cCA\\xfc=\\xfaj3^\\xf8\\x8c\\x00\\x16\\xdf\\x00\\x9b\\xb6v\\xdb\\x05X\\xc5\\x81\\x8d@\\x0c\\xbe\\'d.\\x96\\x8b\\xb7\\xd7Ip3\\x03W\\xea\\xfd\\xbb\\xa5+9gJ\\xaat\\xa8\\xbf\\tc5\\xdb\\x85\\xf2t/v\\x90\\xb4r\\x01 \\x13\\x01!#.\\xfb\\xa86\"8\\x02o\\x9a\\xc3\\xeb\\xb30+B\\x9ea\\x08\\xad\\x97\\xd4\\x1b\\xec\\x1c/\\xce#\\xd6;8\\xa9U\\xed2a\\x8be\\xfd|4\"6\\xb1\\x19\\xbd5e\\x1a\\xc6^-\\x1d.\\xb3\\xbb\\xd5\\x15\\x12\\x99l\\x82\\x8d[O\\x95rR\\xba\\xbc\\xf2\\x88\\xb2'\n"
     ]
    }
   ],
   "source": [
    "BiConnection(Emissor,Recetor).auto()"
   ]
  },
  {
   "cell_type": "code",
   "execution_count": null,
   "metadata": {},
   "outputs": [],
   "source": []
  }
 ],
 "metadata": {
  "kernelspec": {
   "display_name": "Python 3",
   "language": "python",
   "name": "python3"
  },
  "language_info": {
   "codemirror_mode": {
    "name": "ipython",
    "version": 3
   },
   "file_extension": ".py",
   "mimetype": "text/x-python",
   "name": "python",
   "nbconvert_exporter": "python",
   "pygments_lexer": "ipython3",
   "version": "3.7.2"
  }
 },
 "nbformat": 4,
 "nbformat_minor": 2
}
