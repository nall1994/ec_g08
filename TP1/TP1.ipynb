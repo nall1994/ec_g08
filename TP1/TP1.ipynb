{
 "cells": [
  {
   "cell_type": "markdown",
   "metadata": {},
   "source": [
    "# Trabalho Prático 1"
   ]
  },
  {
   "cell_type": "markdown",
   "metadata": {},
   "source": [
    "## Introdução"
   ]
  },
  {
   "cell_type": "markdown",
   "metadata": {},
   "source": [
    "A resolução deste trabalho prático tem como objetivo implementar um abiente seguro, constituído por um emissor e um recetor, através de sessões cifradas e seguras.\n",
    "A solução implmentada, foi estruturada da seguinte forma:\n",
    "\n",
    "- Construção de uma sessão de comunicação síncrona entre um emissor e um recetor.\n",
    "- Utilização do protocolo de **Diffie_Hellman** com verificação de chave e autenticação dos agentes, na sessão anteriormente referida.\n",
    "- Utilização do **DSA** para a autenticação dos agentes.\n",
    "- Utilização do **TAES** como cifra simétrica, com autenticação do criptograma em cada superbloco.\n",
    "- Implementar novamente o cenário anterior mas, desta feita vez, utilizando o **ECDH** (Elliptic Curve Diffie-Hellman) em vez do **DH** e o **ECDSA** (Elliptic Curve Digital Signature Algorithm) em vez do **DSA**.\n",
    "\n",
    "Este relatório está escrito de forma a que o texto escrito entre o código desenvolvido seja suficientemente explicativo do que está a ser implementado, o que, na nossa opinião, permite uma leitura e compreensão facilitada do mesmo."
   ]
  },
  {
   "cell_type": "markdown",
   "metadata": {},
   "source": [
    "## Sessão Síncrona com _Diffie-Hellman_"
   ]
  },
  {
   "cell_type": "markdown",
   "metadata": {},
   "source": [
    "### Imports"
   ]
  },
  {
   "cell_type": "markdown",
   "metadata": {},
   "source": [
    "De seguida, encontram-se os módulos **Python** importados e necessários para desenvolver a sessão síncrona entre os agentes, utilizando o protocolo **DH** e o **DSA**."
   ]
  },
  {
   "cell_type": "code",
   "execution_count": 1,
   "metadata": {},
   "outputs": [],
   "source": [
    "import os,io\n",
    "from multiprocessing import Process,Pipe\n",
    "from cryptography.hazmat.backends import default_backend\n",
    "from cryptography.hazmat.primitives import hashes, hmac\n",
    "from cryptography.exceptions import *\n",
    "from cryptography.hazmat.primitives.asymmetric import dsa\n",
    "from cryptography.hazmat.primitives.asymmetric import dh\n",
    "from cryptography.hazmat.primitives import serialization\n",
    "from cryptography.hazmat.primitives.kdf.hkdf import HKDF\n",
    "from cryptography.hazmat.primitives.ciphers import Cipher, algorithms, modes"
   ]
  },
  {
   "cell_type": "markdown",
   "metadata": {},
   "source": [
    "### Definição das funções do processo criptográfico"
   ]
  },
  {
   "cell_type": "markdown",
   "metadata": {},
   "source": [
    "Esta secção tem o objetivo de definir funções que serão utilizadas nas sessões síncronas, tanto na que utiliza **DH** como na que utiliza **ECDH**. Essas funções são as seguintes:\n",
    "\n",
    "- `Hash(s)`, que tem como propósito calcular um _digest_ de uma dada mensagem.\n",
    "\n",
    "- `next_tweak(initial,current_counter)`, que tem como propósito calcular o próximo _tweak_ a utilizar no bloco que vai ser cifrado/decifrado, com base no _nounce_ inicial e no número do bloco que está a ser processadoa atualmente.\n",
    "\n",
    "- `bytes_xor(a,b)`, que tem como propósito realizar o _XOR_ _byte_ a _byte_ de duas dadas sequências de _bytes.\n",
    "\n",
    "- `calculate_parity(blocks,number_blocks)`, que tem como objetivo calcular a paridade de um conjunto de blocos, para que seja gerada a sua _tag_ de autenticação.\n",
    "\n",
    "- `calculate_auth_tweak(initial_tweak,number_blocks)`, que tem como objetivo calcular o _tweak_ utilizado para cifrar a paridade dos blocos cifrados.\n",
    "\n",
    "- As funções `cifra_blocos(current_counter,initial_tweak,blocks,number_blocks,cipher_context)` e `decifra_blocos(current_counter,initial_tweak,blocks,number_blocks,decipher_context)` têm como objetivo cifrar/decifrar, respetivamente, um conjunto de blocos aplicando a cada bloco a função de cifra ou de decifragem.\n",
    "\n",
    "- As funções `cifra(block,tweak,cipher_context)` e `decifra(block,tweak,decipher_context` têm como objetivo cifrar/decifrar um dado bloco utilizando para o efeito a função $ Ẽ(s,x) = E(s,x \\oplus h(w)) \\oplus h(w) $.\n",
    "\n",
    "É relevante referir que as operações de cifra e de decifra utilizam exatamente a mesma fórmula e, logo, são iguais, mas estão separadas apenas por uma questão de mais simples compreensão do problema em questão, bem como da sua resolução.\n",
    "Além disso, neste processo criptográfico foi utilizado o modo **TAE** (_Tweakable Authenticated Encryption_)"
   ]
  },
  {
   "cell_type": "code",
   "execution_count": 2,
   "metadata": {},
   "outputs": [],
   "source": [
    "def Hash(s):\n",
    "    digest = hashes.Hash(hashes.SHA256(),backend=default_backend())\n",
    "    digest.update(s)\n",
    "    return digest.finalize()\n",
    "\n",
    "def next_tweak(initial, current_counter):\n",
    "    str = format(current_counter, '063b')\n",
    "    str = str + '0'\n",
    "    b_str = int(str,2).to_bytes((len(str) + 7) // 8, 'big')\n",
    "    return (initial + b_str)\n",
    "\n",
    "def bytes_xor(a, b) :\n",
    "    return bytes(x ^ y for x, y in zip(a, b))\n",
    "\n",
    "def calculate_parity(blocks,number_blocks):\n",
    "    str = format(0,'128b') # O número 0 é elemento neutro no XOR\n",
    "    parity = int(str,2).to_bytes((len(str) + 7) // 8, 'big')\n",
    "    bytes_processed = 0\n",
    "    while(bytes_processed < (16*number_blocks)):\n",
    "        max_bytes = bytes_processed + 16\n",
    "        block_to_xor = blocks[bytes_processed:max_bytes]\n",
    "        parity = bytes_xor(parity,block_to_xor)\n",
    "        bytes_processed += 16\n",
    "    return parity\n",
    "\n",
    "def calculate_auth_tweak(initial_tweak,number_blocks):\n",
    "    str = format(number_blocks*16,'063b')\n",
    "    str = str + '1'\n",
    "    b_str = int(str,2).to_bytes((len(str) + 7) // 8, 'big')\n",
    "    return (initial_tweak + b_str)\n",
    "\n",
    "def cifra_blocos(current_counter,initial_tweak,blocks,number_blocks,cipher_context):\n",
    "    bytes_processed = 0\n",
    "    cryptogram = bytearray(160)\n",
    "    while(bytes_processed < (16*number_blocks)):\n",
    "        max_bytes = bytes_processed + 16\n",
    "        block_to_process = blocks[bytes_processed:max_bytes]\n",
    "        tweak = next_tweak(initial_tweak,current_counter)\n",
    "        block_crypt = cifra(block_to_process,tweak,cipher_context)\n",
    "        cryptogram[bytes_processed:max_bytes] = block_crypt\n",
    "        bytes_processed += 16\n",
    "        current_counter += 1\n",
    "    return {\"crypt\": bytes(cryptogram), \"i\": current_counter}\n",
    "        \n",
    "\n",
    "def cifra(block,tweak,cipher_context):\n",
    "    hw = Hash(tweak)\n",
    "    x_xor_hw = bytes_xor(block,hw)\n",
    "    e_s_x_hw = cipher_context.update(x_xor_hw)\n",
    "    cryptogram = bytes_xor(e_s_x_hw, hw)\n",
    "    return cryptogram\n",
    "\n",
    "def decifra_blocos(current_counter,initial_tweak,blocks,number_blocks,decipher_context):\n",
    "    bytes_processed = 0\n",
    "    text = bytearray(160)\n",
    "    while(bytes_processed < (16*number_blocks)):\n",
    "        max_bytes = bytes_processed + 16\n",
    "        block_to_process = blocks[bytes_processed:max_bytes]\n",
    "        tweak = next_tweak(initial_tweak,current_counter)\n",
    "        block_text = decifra(block_to_process,tweak, decipher_context)\n",
    "        text[bytes_processed:max_bytes] = block_text\n",
    "        bytes_processed += 16\n",
    "        current_counter += 1\n",
    "    return {\"text\": bytes(text), \"i\": current_counter}\n",
    "\n",
    "def decifra(block,tweak,decipher_context):\n",
    "    hw = Hash(tweak)\n",
    "    x_xor_hw = bytes_xor(block,hw)\n",
    "    e_s_x_hw = decipher_context.update(x_xor_hw)\n",
    "    cryptogram = bytes_xor(e_s_x_hw, hw)\n",
    "    return cryptogram\n",
    "    "
   ]
  },
  {
   "cell_type": "markdown",
   "metadata": {},
   "source": [
    "### Definição da classe de multiprocessamento"
   ]
  },
  {
   "cell_type": "markdown",
   "metadata": {},
   "source": [
    "Embaixo definem-se a classe de multiprocessamento, que permite uma comunicação bidireccional com o _Emitter_ e o _Receiver_, sendo estes dois processos criados e implementados pela **API** [**multiprocessing**](https://docs.python.org/2/library/multiprocessing.html)."
   ]
  },
  {
   "cell_type": "code",
   "execution_count": 3,
   "metadata": {},
   "outputs": [],
   "source": [
    "class BiConnection(object):\n",
    "    def __init__(self,left,right):\n",
    "        left_side,right_side = Pipe()\n",
    "        self.timeout = None\n",
    "        self.left_process = Process(target=left,args=(left_side,))\n",
    "        self.right_process = Process(target=right,args=(right_side,))\n",
    "        self.left = lambda : left(left_side)\n",
    "        self.right = lambda : right(right_side)\n",
    "    \n",
    "    def auto(self,proc=None):\n",
    "        if proc == None:\n",
    "            self.left_process.start()\n",
    "            self.right_process.start()\n",
    "            self.left_process.join(self.timeout)\n",
    "            self.right_process.join(self.timeout)\n",
    "        else:\n",
    "            proc.start()\n",
    "            proc.join()\n",
    "    \n",
    "    def manual(self): \n",
    "        self.left()\n",
    "        self.right()"
   ]
  },
  {
   "cell_type": "markdown",
   "metadata": {},
   "source": [
    "### Geração dos parâmetros _Diffie-Hellman_"
   ]
  },
  {
   "cell_type": "markdown",
   "metadata": {},
   "source": [
    "A próxima secção implementa a geração dos parâmetros necessários para a derivação de chaves **DH** e **DSA**, por parte de ambos os agentes."
   ]
  },
  {
   "cell_type": "code",
   "execution_count": 4,
   "metadata": {},
   "outputs": [],
   "source": [
    "parameters_dh = dh.generate_parameters(generator=2,key_size=1024,backend=default_backend())\n",
    "# O tamanho tem que ser 3072 bits, alterar depois."
   ]
  },
  {
   "cell_type": "markdown",
   "metadata": {},
   "source": [
    "### Geração das chaves permanentes dos agentes"
   ]
  },
  {
   "cell_type": "markdown",
   "metadata": {},
   "source": [
    "Esta secção tem como objetivo gerar as chaves permanentes dos agentes envolvidos na comunicação, tendo em conta que estas são conhecidas por ambos, e serão aplicadas na assinatura digital das mensagens."
   ]
  },
  {
   "cell_type": "code",
   "execution_count": 5,
   "metadata": {},
   "outputs": [],
   "source": [
    "# Geração das chaves do Emissor\n",
    "emitter_dsa_sk = dsa.generate_private_key(3072,default_backend()) #chave privada DSA\n",
    "emitter_dsa_pk = emitter_dsa_sk.public_key() #chave pública DSA\n",
    "\n",
    "# Geração das chaves do Recetor\n",
    "receiver_dsa_sk = dsa.generate_private_key(3072,default_backend()) #chave privada DSA\n",
    "receiver_dsa_pk = receiver_dsa_sk.public_key() #chave pública DSA"
   ]
  },
  {
   "cell_type": "markdown",
   "metadata": {},
   "source": [
    "### Definição do Emissor e do Recetor"
   ]
  },
  {
   "cell_type": "markdown",
   "metadata": {},
   "source": [
    "Por fim definiu-se o comportamento de cada um dos agentes nesta sessão síncrona segura de troca de informação. Na definição de ambos, é assumido que as chaves públicas **DSA** utilizadas na autenticação dos agentes já são conhecidas por ambos. As chaves **DH** são geradas por sessão de modo a acordar uma chave temporária, para que seja possível cifrar e decifrar uma mensagem utilizando uma primitiva simétrica.\n"
   ]
  },
  {
   "cell_type": "code",
   "execution_count": 6,
   "metadata": {},
   "outputs": [],
   "source": [
    "def Emitter(connection):\n",
    "    #Implementação Protocolo Diffie-Hellman\n",
    "    emitter_dh_sk = parameters_dh.generate_private_key()\n",
    "    emitter_dh_pk = emitter_dh_sk.public_key()\n",
    "    pub = emitter_dh_pk.public_bytes(\n",
    "        encoding = serialization.Encoding.PEM,\n",
    "        format = serialization.PublicFormat.SubjectPublicKeyInfo)\n",
    "    signature = emitter_dsa_sk.sign(pub,hashes.SHA256())\n",
    "    message = {'pk': pub, 'sig': signature}\n",
    "    connection.send(message)\n",
    "    receiver_first = connection.recv()\n",
    "    receiver_dh_public_key = serialization.load_pem_public_key(receiver_first['pk'],default_backend())\n",
    "    receiver_dsa_pk.verify(receiver_first['sig'],receiver_first['pk'],hashes.SHA256())\n",
    "    master_key = emitter_dh_sk.exchange(receiver_dh_public_key)\n",
    "    \n",
    "    #Passar a chave de sessão acordada (master_key) por um kdf\n",
    "    shared_key = HKDF(\n",
    "        algorithm = hashes.SHA256(),\n",
    "        length = 32,\n",
    "        salt = None,\n",
    "        info = b'exchange data',\n",
    "        backend = default_backend()\n",
    "    ).derive(master_key)\n",
    "    \n",
    "    message_size = 1600\n",
    "    gen_bytes = os.urandom(message_size)\n",
    "    print('gen_bytes')\n",
    "    print(gen_bytes)\n",
    "    inputs = io.BytesIO(gen_bytes)\n",
    "    #inicialização do tweak como um nounce de 64 bits (n/2)\n",
    "    tweak_init = os.urandom(8)\n",
    "    \n",
    "    connection.send(tweak_init)\n",
    "    \n",
    "    buffer = bytearray(160)\n",
    "    cipher = Cipher(algorithms.AES(shared_key),modes.ECB(),backend=default_backend()).encryptor()\n",
    "    i = 1\n",
    "    try:\n",
    "        while inputs.readinto(buffer):\n",
    "            cipher_object = cifra_blocos(i,tweak_init,buffer,10,cipher)\n",
    "            cryptogram = cipher_object[\"crypt\"]\n",
    "            parity = calculate_parity(buffer,10)\n",
    "            auth_tweak = calculate_auth_tweak(tweak_init,10)\n",
    "            auth_tag = cifra(parity,auth_tweak,cipher)\n",
    "            i = cipher_object[\"i\"]\n",
    "            msg_to_send = {'crypt': cryptogram, 'tag': auth_tag}\n",
    "            connection.send(msg_to_send)\n",
    "            msg = connection.recv()\n",
    "            if(not(msg == 'OK')):\n",
    "                print('Erro no processo!')\n",
    "                break\n",
    "    except Exception as err:\n",
    "        print('Erro no emissor! {0}'.format(err))\n",
    "    connection.send('finalized')   \n",
    "    inputs.close()\n",
    "    connection.close()    "
   ]
  },
  {
   "cell_type": "code",
   "execution_count": 7,
   "metadata": {},
   "outputs": [],
   "source": [
    "def Receiver(connection):\n",
    "    #Implementação protocolo Diffie-Hellman\n",
    "    emitter_first = connection.recv()\n",
    "    receiver_dh_sk = parameters_dh.generate_private_key()\n",
    "    receiver_dh_pk = receiver_dh_sk.public_key()\n",
    "    emitter_dh_public_key = serialization.load_pem_public_key(emitter_first['pk'],default_backend())\n",
    "    emitter_dsa_pk.verify(emitter_first['sig'],emitter_first['pk'],hashes.SHA256())\n",
    "    master_key = receiver_dh_sk.exchange(emitter_dh_public_key)\n",
    "    pub = receiver_dh_pk.public_bytes(\n",
    "        encoding = serialization.Encoding.PEM,\n",
    "        format = serialization.PublicFormat.SubjectPublicKeyInfo)\n",
    "    signature = receiver_dsa_sk.sign(pub,hashes.SHA256())\n",
    "    message = {'pk':pub,'sig':signature}\n",
    "    connection.send(message)\n",
    "    \n",
    "    #Passar a chave de sessão acordada (master_key) por um kdf\n",
    "    shared_key = HKDF(\n",
    "        algorithm = hashes.SHA256(),\n",
    "        length = 32,\n",
    "        salt = None,\n",
    "        info = b'exchange data',\n",
    "        backend = default_backend()\n",
    "    ).derive(master_key)\n",
    "    \n",
    "    outputs = io.BytesIO()\n",
    "    tweak_init = connection.recv()\n",
    "    \n",
    "    cipher = Cipher(algorithms.AES(shared_key),modes.ECB(),backend=default_backend()).decryptor()\n",
    "    i = 1\n",
    "    try:\n",
    "        while True:\n",
    "            buffer = connection.recv()\n",
    "            if(buffer == 'finalized'):\n",
    "                outputs.write(cipher.finalize())\n",
    "                break\n",
    "            else:\n",
    "                crypt = buffer['crypt']\n",
    "                tag = buffer['tag']\n",
    "                decipher_object = decifra_blocos(i, tweak_init,crypt,10,cipher)\n",
    "                text = decipher_object[\"text\"]\n",
    "                i = decipher_object[\"i\"]\n",
    "                parity = calculate_parity(text,10)\n",
    "                auth_tweak = calculate_auth_tweak(tweak_init,10)\n",
    "                auth_tag = decifra(tag,auth_tweak,cipher)\n",
    "                if(auth_tag == parity):\n",
    "                    connection.send('OK')\n",
    "                else:\n",
    "                    print('AUTH ERROR')\n",
    "                    connection.send('AUTH ERROR')\n",
    "                    break\n",
    "                outputs.write(text)\n",
    "        print('decrypted:')\n",
    "        print(outputs.getvalue())\n",
    "    except Exception as Err:\n",
    "        print('Erro no recetor! {0}'.format(Err))\n",
    "        \n",
    "    outputs.close()\n",
    "    connection.close()\n",
    "    "
   ]
  },
  {
   "cell_type": "code",
   "execution_count": 8,
   "metadata": {},
   "outputs": [
    {
     "name": "stdout",
     "output_type": "stream",
     "text": [
      "gen_bytes\n",
      "b'\\x8e\\xe9\\x8f\\x90Vs)\\xe4\\xdb\\xb7\\xee\\x96\\xc0L_\\xffy`\\x0f{\\xf0\\x8d\\x8a\\xe1^\\xebjS\\xa3\\xder\\xb1y8\\xeb\\x93\\xea-7\\x87\\xe7\\xe7:C\\xa2\\x97\\xac@F\\xea>C\\x8a6^\\x81\\x92\\xd2xe/D\\t\\x10\\xf7\\xc4Us\\xaa\\xd9\\x8c\\xc3l\\x1f\\xc8\\xcb,%W/\\x8a\\x95\\xcbi9>\\x8e\\x1e\"\\xaf\\xad\\x98\\x1c\\xfb)B\\xca\\xfbnw\\xbe\\x07\\xc6\\xad\\x10\\xbd\\n\\xab!\\xb1\\xe7s \\x8f\\xf1h\\xddn\\xeb\\xfc\\xe2\\x1br\\xd7Q\\xfa\\xe5}\\xb1\\xab\\x07\\xf7zf\\x9a\\x84-=\\xf5P#\\xdf\\x1f\\xe0g36e\\x97\\xd1\\xb9x\\x8f#\\x13n\\xc5K\\xcb\\xa69\\x8d9;\\xdd*v\\xe3|\\x85\\x1c\\xdbp\\xfcUK\\xb8\\x81\\x92\\x98\\xde\\x08\\xffB\\x7f\\xd8\\xdd\\x85:9\\xc8\\x82<\\x9d#n\\xd1\\xff\\x15\\xdd\\xf4\\xf4Y\\x9fL\\x9a\\x0f\\xe7=H\\x93\\xb5\\x0e/\\xa2\\xc2\\x9b\\x183E!k\\xc5\\xde\\x0c\\xd6`\\xc3M\\xf4\\x94\\x8c)\\x87&\\xae\\xe5x\\x0fo\\xc8\\x05\\x00\\xf5\\x00\\xdc\\x1a\\x07\\x1b\\x14*\\xf3_\\xdf@\\x97\\x10\\xff\\xd6\\xbe\\xbd+p\\xaa\\xcfRpau\\x10q\\x17\\x18-\\x90\\xd76R#\\x8b\\xb9\\xa1\\xad\\xffb.+\\xc5\\xa5A\\xfd\\xc4\\x81>\\x1c?-\\xd9\\x1a\\xbd\\xf7\\xd5\\t<L\\x85~\\xe1\\t\\x83\\xa60V\\xa4*\\x99\\x87U\\xba\\xf18@\\x82\\x85<\\x19\\xbc\\x1b\\x04@\\xb9\\x14\\xd9\\x05v\\xff\\xb9\\xa8\\xde\\x1c\\x110\\xf2W\\x1eh\\x0b\\x1a\\x00:\\x97[\\x99\\x11$\\xb45\\xe7,_\\x90_L,\"\\x8a\\xb7U\\x1f\\xbc!\\x16\\xae\\xd0\\xa4\\xa7H\\x83\\xbd\\x11I\\x89\\x94\\xd1=\"\\xadr\\xce9\\xbb\\x87\\x8d-\\x8b\\x84\\xca\\xdd\\xc2K\\xe7og\\xb59\\x99\\x0c\\xda(R\\xee\\x01\\xdes\\x07\\x9fV\\x9axN\\xcdd<C\\xf4\\xaf]\"\\xcd\\xb8rAIz\\xb4\\x91\\xe1h\"\\x97\\xb4\\xd1\\xbf\\x15\\xda\\x1a\\xab\\x03C>_\\xca@)\\xf6\\xae\\xfc\\xc5\\xbe\\xb6\\xc3\\xe3\\xf4\\xa9\\x86\\x88\\x93\\xc4>\\x1fc\\xfcK\\\\IE\\x95\\x143M\\xc6\\x8bU\\xee\\x05Z\\xbd\\x1c}r\\xfa\\x07\\xb7\\xf9\\xf6F\\x83\\xea$$\\xc6\\x02\\x0bZU\\xa7\\xc2\\x93\\xb4\\xfc\\xca\\x10\"\\x90:}\\x06x\\xaf\\xc4\\xf3D\\x1a\\xe1\\xfd\\x84\\x7f\\xd9\\xa9e\\xea\\x04\\xa8\\x1c\\xb9\\x83fl\\xb6\\xdbz\\x86\\xca?;\\xa7\\xd9<\\x02\\xf9i\\x87?\\x11{7jP`\\x06\\x85\\\\>\\xf4\\x1c\\x7f\\nh\\xa2\\xd0\\n\\x1dZ\\xb4\\xa2\\x07\\xea\\xeb\\x03\\x15\\x0bh\\x9f\\xc7\\x9f\\xb6J\\xf6F\\xd5!Fu\\xa1{JQ\\x9bs\\xe6\\xef\\xc5\\xaau/\\xb7\\xd7\\xa4\\xbf\\xbf\\xfflm\\xe3y.}\\xab1P\\x86y\\xcf\\x17$MF\\xd0\\xc9y\"\\xb2q\\xf7\\x8f\\xec\\x1d6\\xb6\\xe8\\x0eT0\\xd7\\x19\\x8c0\\xd1\\x90\\xd5\\x93\\x0e2%\\xd4z\\xbd<\\\\\\xc8\\x9f\\xc7/\\xed0\\x86\\xceR\\x8d?\\xa4 *\\xbaMYg-\\xc2\\xd1\\x87\\xbb\\xd2\\x0ce\\xab\\xda\\x8aM\\xc7\\xa0-\\xaf\\\\B\\xd9c3\\x80\\xf9\\xf6\\xee-|\\x86*\\xady\\x1c!\\x8b\\xba\\xa4\\xc8\\xd9\\xec\\xd6\\xc4\\xf3\\xe6\\xee[7\\xe3&\\xe9\\x7fcw\\x11iB\\x1c\\x01\\xdc\\x9fp\\xdd\\xa5l:\\xff\\xbb\\x92d\\xbd\\xc6\\xf1\\x80\\xad\\xe6\\xbd\\x1f+M\\x19\\x18\\x85\\xba G\\x86MP\\x89\\x81\\xdf\\xe8\\xc4\\x0c\\x1d\\x91\\x83\\xbdNg\"\\x90\\xb6&\\xd8`\\x03]\\xd4\\x1c\\xdbJ\\xff\\xbf\\xdd\\xfd\\xec\\xdahI1e\\xc4\\xb5\\xf6nB]\\x18\\x15\\x04\\xa7N`*d\\xd7k\\xe7\\xd6\\xe7|?~\\x15h\\x07\\x7f\\xbe\\x83\\x1e\\xe6\\xba\\xc0\\x07\\x82\\xbe\\t?\\xaa\\xb2\\xd3Z\\x99\\x98\\xc4\\xad\\x8b\\xd2\\x8d\\x88>\\xd8\\xe4\\x1fr\\xdcK\\xd2\\xb4p\\x9aY\\x97Q\\x8c\\xd3l\\xa6p\\xbfB\\xfb\\xc0kem\\xeb\\xf2\\xc9\\xa1\\xfd\\x9e\\xec\\xa6\\x92gO\\x06\\x87&B\\t\\x8d\\x1d\\xc9k\\xe6\\xc1=\\xe4\\x9cA\\xdb![K\\xc7v\\x16\\xdd\\x84b\\xecC?d\\xb2\\x95\\xf4\\xc9\\x88\\xdb\\x8c\\x8d#\\x9e\\x0c\\xff\\x1a\\xba^\\x90\\xdd\\x12\\xa2z?\\xc4\\x85\\xfbmTO\\x14\\xce\\xf10 \\x00\\xeb\\xa8\\x99\\x98\\xb5q\\xa2tE\\x1e\\xaad\\xd4\\rDX\\x12\\x84\\xc9\\xabG \\xe3\\xb7\\xd0\\x0e\\xfa\\xd8MB+j\\xa7\\xbe\\x9ef/\\xd0\\xa8\\xceV\\xc6/\\xa3\\xe4\\x11\\xdb\\xd4H\\xf9\\x1d\\xe5L\\x1f\\x0b\\xcb23\\xbb]I(@\\x12{\\xb6O\\x93\\x95\\x19\\x8dA\\xa8x\\x05\\xab\\xd3\\xf6\\xaek\\x16{\\x81WO0\\xe3\\x9e\\xef#\\xf3\\xf5\\x99>\\xec\\xc1K]\\x7ff\\x9b.9c\\xb6\\xf7\\xc4\\xc8\\x98d\\xf0\\x10\\x93\\x0c\\xec\\n\\x10\\xcdU\\xd9C\\xf4\\xb7\\x93d^9\\x83F\\xa77!G\\xf77>r\\xeb6\\'\\xb7\\xb0e\\xc5\\xae\\x02\\xb3;HE\\n_sis\\x16\\x19\\xb6\\x11\\xec3\\xbbfh\\xf5/\\x0b\\xbb=V9\\xe6\\xe3%<n\\xc0\\xc8\\xcbI\\xdd\\x99l\\xc32OU\"\\x99\\x1c\\xa7{\\x1fT\\xd6\\x957\\x83\\xd6\\xd93\\xa7\\xb8i\\x8ej\\x1a0\\xc0\\x88C\\xedP\\x8d\\x98m\\'p=\\x8b\\x0b\\xb0^\\x19\\x02\\x0b \\\\2<@\\x15\\x89\\x17\\x00\\xa2\\xeaO\\\\\\x84+\\x18\\x944\\x9c\\xb3?\\x0f>\\xab\\'\\x9bF\\xa6\\x1e\\xfd|\\x04*|?\\x0e\\xe0\\xbe\\x11\\xcd\\xe2\\xb1\\x01\\xd6\\xc2\\xa1\\xcd\\xb6\\xe8\\x9e\\x19\\x9a\\x08\\xd6g\\xea`\\x8f\\xad\\x94\\xdf\\xa9b\\xa6\\xf9V\\xfb\\xc6\\xdb\\xc4\\xba\\x1b\\xff\\xc0\\xcd\\xca\\xa3G\\xd1\\x0b \\x92\\x81;e\\xd8U\\xf0\\x89\\xc6\\xcf\\xc3\\xc56\\xeb1\\x85E\\xb2~,\\xdf\\x8b\\xd6+[\\x00\\x11C\\xcdI\\x84\\x18-+9\\x89\\xad\\xfd\\xf1\\xbf\\xb9\\xdd\\xfd\\xbbC\\x7f\\xc9S@\\xf9FG\\xe0k4\\xb5\\xa49\\x7f\\xed\\xe9uDt\\xf8\\xcd\\xd0\\xad2_4\\xf1\\x88\\x8c$\\xfd\\x1c\\xaa\\xab\\x16\\xbf\\x1a\\xca\\xc6\\xceaCu\\xb7u\\xbd\\\\\\x11\\x8e+>\\xadX\\x81E\\xdd\\xe07\\'\\x96i\\xeb\\xc2\\xbe4\\xa6\\x8c\\xa2\\xde(YHsn\\xde\\xff\\xdc\\xc8\\x1cr1\\xb2[Gxc\\x05(\\xc0\\x83\\xed\\xaa!\\x8d\\x94\\xb6MWV\\x94\\xd1m\\x01W\\xe7;\\xa74\\x1a\\x80\\xde\\xe4,7\\x19V~\\xb7\\x82\\xcd\\xe1\\xb5\\xcc9\\xd17a\\x1bx\\x84#p&\\xd5|\\x14:\\xa6L\\xdb\\x98\\xf5\\x18\\x8der\\xe5\\xa6\\xd9\\x83\\xc4@{\\x9cU\\x1f\\x9a\\xefzp\\xfc\\xca\\xeb${)\\x08.\\x86\\x11\\x85A\\xb5~!L\\xb2e\\x94\\xde\\x04U\\xb8\\xf3xF\\xc2\\xfc#\\x8f\\x83\\xb8\\xeb>\\xda\\x02\\x0c\\x0f\\xc4\\x8a\\x8dZ\\x10 x\\x15\\x90\\x05MT\\xfd\\xbd\\x1d\\n\\xde\\xde\\x99\\xeeb\\x8e\\xd1\\x01k\\x82-\\x9c [N\\xbd\\x19\\xea\\xba\\xaf\\xf3fX\\xb6\\x10\\xd9Kd\\x86\\x8e\\xb7G+\"r\\xd4^<\\xc5\\x15#6\\xa5\\xff-\\x05\\x98\\x9f\\xf1\\x89\\xab\\x02\\xff\\xdc\\xfe\\x04[\\xf0\\x94\\xd0\\xcc\\x91\\xfa\\xa6\\xeeU\\xca\\xb0\\x079O\\xaeD\\xec\\xab\\xcd\\x02+\\x81\\xecT\\x9c\\x1b\\x1c\\x8d]\\xae<'\n",
      "decrypted:\n",
      "b'\\x8e\\xe9\\x8f\\x90Vs)\\xe4\\xdb\\xb7\\xee\\x96\\xc0L_\\xffy`\\x0f{\\xf0\\x8d\\x8a\\xe1^\\xebjS\\xa3\\xder\\xb1y8\\xeb\\x93\\xea-7\\x87\\xe7\\xe7:C\\xa2\\x97\\xac@F\\xea>C\\x8a6^\\x81\\x92\\xd2xe/D\\t\\x10\\xf7\\xc4Us\\xaa\\xd9\\x8c\\xc3l\\x1f\\xc8\\xcb,%W/\\x8a\\x95\\xcbi9>\\x8e\\x1e\"\\xaf\\xad\\x98\\x1c\\xfb)B\\xca\\xfbnw\\xbe\\x07\\xc6\\xad\\x10\\xbd\\n\\xab!\\xb1\\xe7s \\x8f\\xf1h\\xddn\\xeb\\xfc\\xe2\\x1br\\xd7Q\\xfa\\xe5}\\xb1\\xab\\x07\\xf7zf\\x9a\\x84-=\\xf5P#\\xdf\\x1f\\xe0g36e\\x97\\xd1\\xb9x\\x8f#\\x13n\\xc5K\\xcb\\xa69\\x8d9;\\xdd*v\\xe3|\\x85\\x1c\\xdbp\\xfcUK\\xb8\\x81\\x92\\x98\\xde\\x08\\xffB\\x7f\\xd8\\xdd\\x85:9\\xc8\\x82<\\x9d#n\\xd1\\xff\\x15\\xdd\\xf4\\xf4Y\\x9fL\\x9a\\x0f\\xe7=H\\x93\\xb5\\x0e/\\xa2\\xc2\\x9b\\x183E!k\\xc5\\xde\\x0c\\xd6`\\xc3M\\xf4\\x94\\x8c)\\x87&\\xae\\xe5x\\x0fo\\xc8\\x05\\x00\\xf5\\x00\\xdc\\x1a\\x07\\x1b\\x14*\\xf3_\\xdf@\\x97\\x10\\xff\\xd6\\xbe\\xbd+p\\xaa\\xcfRpau\\x10q\\x17\\x18-\\x90\\xd76R#\\x8b\\xb9\\xa1\\xad\\xffb.+\\xc5\\xa5A\\xfd\\xc4\\x81>\\x1c?-\\xd9\\x1a\\xbd\\xf7\\xd5\\t<L\\x85~\\xe1\\t\\x83\\xa60V\\xa4*\\x99\\x87U\\xba\\xf18@\\x82\\x85<\\x19\\xbc\\x1b\\x04@\\xb9\\x14\\xd9\\x05v\\xff\\xb9\\xa8\\xde\\x1c\\x110\\xf2W\\x1eh\\x0b\\x1a\\x00:\\x97[\\x99\\x11$\\xb45\\xe7,_\\x90_L,\"\\x8a\\xb7U\\x1f\\xbc!\\x16\\xae\\xd0\\xa4\\xa7H\\x83\\xbd\\x11I\\x89\\x94\\xd1=\"\\xadr\\xce9\\xbb\\x87\\x8d-\\x8b\\x84\\xca\\xdd\\xc2K\\xe7og\\xb59\\x99\\x0c\\xda(R\\xee\\x01\\xdes\\x07\\x9fV\\x9axN\\xcdd<C\\xf4\\xaf]\"\\xcd\\xb8rAIz\\xb4\\x91\\xe1h\"\\x97\\xb4\\xd1\\xbf\\x15\\xda\\x1a\\xab\\x03C>_\\xca@)\\xf6\\xae\\xfc\\xc5\\xbe\\xb6\\xc3\\xe3\\xf4\\xa9\\x86\\x88\\x93\\xc4>\\x1fc\\xfcK\\\\IE\\x95\\x143M\\xc6\\x8bU\\xee\\x05Z\\xbd\\x1c}r\\xfa\\x07\\xb7\\xf9\\xf6F\\x83\\xea$$\\xc6\\x02\\x0bZU\\xa7\\xc2\\x93\\xb4\\xfc\\xca\\x10\"\\x90:}\\x06x\\xaf\\xc4\\xf3D\\x1a\\xe1\\xfd\\x84\\x7f\\xd9\\xa9e\\xea\\x04\\xa8\\x1c\\xb9\\x83fl\\xb6\\xdbz\\x86\\xca?;\\xa7\\xd9<\\x02\\xf9i\\x87?\\x11{7jP`\\x06\\x85\\\\>\\xf4\\x1c\\x7f\\nh\\xa2\\xd0\\n\\x1dZ\\xb4\\xa2\\x07\\xea\\xeb\\x03\\x15\\x0bh\\x9f\\xc7\\x9f\\xb6J\\xf6F\\xd5!Fu\\xa1{JQ\\x9bs\\xe6\\xef\\xc5\\xaau/\\xb7\\xd7\\xa4\\xbf\\xbf\\xfflm\\xe3y.}\\xab1P\\x86y\\xcf\\x17$MF\\xd0\\xc9y\"\\xb2q\\xf7\\x8f\\xec\\x1d6\\xb6\\xe8\\x0eT0\\xd7\\x19\\x8c0\\xd1\\x90\\xd5\\x93\\x0e2%\\xd4z\\xbd<\\\\\\xc8\\x9f\\xc7/\\xed0\\x86\\xceR\\x8d?\\xa4 *\\xbaMYg-\\xc2\\xd1\\x87\\xbb\\xd2\\x0ce\\xab\\xda\\x8aM\\xc7\\xa0-\\xaf\\\\B\\xd9c3\\x80\\xf9\\xf6\\xee-|\\x86*\\xady\\x1c!\\x8b\\xba\\xa4\\xc8\\xd9\\xec\\xd6\\xc4\\xf3\\xe6\\xee[7\\xe3&\\xe9\\x7fcw\\x11iB\\x1c\\x01\\xdc\\x9fp\\xdd\\xa5l:\\xff\\xbb\\x92d\\xbd\\xc6\\xf1\\x80\\xad\\xe6\\xbd\\x1f+M\\x19\\x18\\x85\\xba G\\x86MP\\x89\\x81\\xdf\\xe8\\xc4\\x0c\\x1d\\x91\\x83\\xbdNg\"\\x90\\xb6&\\xd8`\\x03]\\xd4\\x1c\\xdbJ\\xff\\xbf\\xdd\\xfd\\xec\\xdahI1e\\xc4\\xb5\\xf6nB]\\x18\\x15\\x04\\xa7N`*d\\xd7k\\xe7\\xd6\\xe7|?~\\x15h\\x07\\x7f\\xbe\\x83\\x1e\\xe6\\xba\\xc0\\x07\\x82\\xbe\\t?\\xaa\\xb2\\xd3Z\\x99\\x98\\xc4\\xad\\x8b\\xd2\\x8d\\x88>\\xd8\\xe4\\x1fr\\xdcK\\xd2\\xb4p\\x9aY\\x97Q\\x8c\\xd3l\\xa6p\\xbfB\\xfb\\xc0kem\\xeb\\xf2\\xc9\\xa1\\xfd\\x9e\\xec\\xa6\\x92gO\\x06\\x87&B\\t\\x8d\\x1d\\xc9k\\xe6\\xc1=\\xe4\\x9cA\\xdb![K\\xc7v\\x16\\xdd\\x84b\\xecC?d\\xb2\\x95\\xf4\\xc9\\x88\\xdb\\x8c\\x8d#\\x9e\\x0c\\xff\\x1a\\xba^\\x90\\xdd\\x12\\xa2z?\\xc4\\x85\\xfbmTO\\x14\\xce\\xf10 \\x00\\xeb\\xa8\\x99\\x98\\xb5q\\xa2tE\\x1e\\xaad\\xd4\\rDX\\x12\\x84\\xc9\\xabG \\xe3\\xb7\\xd0\\x0e\\xfa\\xd8MB+j\\xa7\\xbe\\x9ef/\\xd0\\xa8\\xceV\\xc6/\\xa3\\xe4\\x11\\xdb\\xd4H\\xf9\\x1d\\xe5L\\x1f\\x0b\\xcb23\\xbb]I(@\\x12{\\xb6O\\x93\\x95\\x19\\x8dA\\xa8x\\x05\\xab\\xd3\\xf6\\xaek\\x16{\\x81WO0\\xe3\\x9e\\xef#\\xf3\\xf5\\x99>\\xec\\xc1K]\\x7ff\\x9b.9c\\xb6\\xf7\\xc4\\xc8\\x98d\\xf0\\x10\\x93\\x0c\\xec\\n\\x10\\xcdU\\xd9C\\xf4\\xb7\\x93d^9\\x83F\\xa77!G\\xf77>r\\xeb6\\'\\xb7\\xb0e\\xc5\\xae\\x02\\xb3;HE\\n_sis\\x16\\x19\\xb6\\x11\\xec3\\xbbfh\\xf5/\\x0b\\xbb=V9\\xe6\\xe3%<n\\xc0\\xc8\\xcbI\\xdd\\x99l\\xc32OU\"\\x99\\x1c\\xa7{\\x1fT\\xd6\\x957\\x83\\xd6\\xd93\\xa7\\xb8i\\x8ej\\x1a0\\xc0\\x88C\\xedP\\x8d\\x98m\\'p=\\x8b\\x0b\\xb0^\\x19\\x02\\x0b \\\\2<@\\x15\\x89\\x17\\x00\\xa2\\xeaO\\\\\\x84+\\x18\\x944\\x9c\\xb3?\\x0f>\\xab\\'\\x9bF\\xa6\\x1e\\xfd|\\x04*|?\\x0e\\xe0\\xbe\\x11\\xcd\\xe2\\xb1\\x01\\xd6\\xc2\\xa1\\xcd\\xb6\\xe8\\x9e\\x19\\x9a\\x08\\xd6g\\xea`\\x8f\\xad\\x94\\xdf\\xa9b\\xa6\\xf9V\\xfb\\xc6\\xdb\\xc4\\xba\\x1b\\xff\\xc0\\xcd\\xca\\xa3G\\xd1\\x0b \\x92\\x81;e\\xd8U\\xf0\\x89\\xc6\\xcf\\xc3\\xc56\\xeb1\\x85E\\xb2~,\\xdf\\x8b\\xd6+[\\x00\\x11C\\xcdI\\x84\\x18-+9\\x89\\xad\\xfd\\xf1\\xbf\\xb9\\xdd\\xfd\\xbbC\\x7f\\xc9S@\\xf9FG\\xe0k4\\xb5\\xa49\\x7f\\xed\\xe9uDt\\xf8\\xcd\\xd0\\xad2_4\\xf1\\x88\\x8c$\\xfd\\x1c\\xaa\\xab\\x16\\xbf\\x1a\\xca\\xc6\\xceaCu\\xb7u\\xbd\\\\\\x11\\x8e+>\\xadX\\x81E\\xdd\\xe07\\'\\x96i\\xeb\\xc2\\xbe4\\xa6\\x8c\\xa2\\xde(YHsn\\xde\\xff\\xdc\\xc8\\x1cr1\\xb2[Gxc\\x05(\\xc0\\x83\\xed\\xaa!\\x8d\\x94\\xb6MWV\\x94\\xd1m\\x01W\\xe7;\\xa74\\x1a\\x80\\xde\\xe4,7\\x19V~\\xb7\\x82\\xcd\\xe1\\xb5\\xcc9\\xd17a\\x1bx\\x84#p&\\xd5|\\x14:\\xa6L\\xdb\\x98\\xf5\\x18\\x8der\\xe5\\xa6\\xd9\\x83\\xc4@{\\x9cU\\x1f\\x9a\\xefzp\\xfc\\xca\\xeb${)\\x08.\\x86\\x11\\x85A\\xb5~!L\\xb2e\\x94\\xde\\x04U\\xb8\\xf3xF\\xc2\\xfc#\\x8f\\x83\\xb8\\xeb>\\xda\\x02\\x0c\\x0f\\xc4\\x8a\\x8dZ\\x10 x\\x15\\x90\\x05MT\\xfd\\xbd\\x1d\\n\\xde\\xde\\x99\\xeeb\\x8e\\xd1\\x01k\\x82-\\x9c [N\\xbd\\x19\\xea\\xba\\xaf\\xf3fX\\xb6\\x10\\xd9Kd\\x86\\x8e\\xb7G+\"r\\xd4^<\\xc5\\x15#6\\xa5\\xff-\\x05\\x98\\x9f\\xf1\\x89\\xab\\x02\\xff\\xdc\\xfe\\x04[\\xf0\\x94\\xd0\\xcc\\x91\\xfa\\xa6\\xeeU\\xca\\xb0\\x079O\\xaeD\\xec\\xab\\xcd\\x02+\\x81\\xecT\\x9c\\x1b\\x1c\\x8d]\\xae<'\n"
     ]
    }
   ],
   "source": [
    "BiConnection(Emitter,Receiver).auto()"
   ]
  },
  {
   "cell_type": "markdown",
   "metadata": {},
   "source": [
    "## Sessão Síncrona com _Elliptic Curve Diffie-Hellman_"
   ]
  },
  {
   "cell_type": "code",
   "execution_count": null,
   "metadata": {},
   "outputs": [],
   "source": []
  }
 ],
 "metadata": {
  "kernelspec": {
   "display_name": "Python 3",
   "language": "python",
   "name": "python3"
  },
  "language_info": {
   "codemirror_mode": {
    "name": "ipython",
    "version": 3
   },
   "file_extension": ".py",
   "mimetype": "text/x-python",
   "name": "python",
   "nbconvert_exporter": "python",
   "pygments_lexer": "ipython3",
   "version": "3.7.2"
  }
 },
 "nbformat": 4,
 "nbformat_minor": 2
}
