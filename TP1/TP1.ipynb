{
 "cells": [
  {
   "cell_type": "markdown",
   "metadata": {},
   "source": [
    "# Trabalho Prático 1"
   ]
  },
  {
   "cell_type": "markdown",
   "metadata": {},
   "source": [
    "## Introdução"
   ]
  },
  {
   "cell_type": "markdown",
   "metadata": {},
   "source": [
    "A resolução deste trabalho prático tem como objetivo implementar um abiente seguro, constituído por um emissor e um recetor, através de sessões cifradas e seguras.\n",
    "A solução implmentada, foi estruturada da seguinte forma:\n",
    "\n",
    "- Construção de uma sessão de comunicação síncrona entre um emissor e um recetor.\n",
    "- Utilização do protocolo de **Diffie_Hellman** com verificação de chave e autenticação dos agentes, na sessão anteriormente referida.\n",
    "- Utilização do **DSA** para a autenticação dos agentes.\n",
    "- Utilização do **TAES** como cifra simétrica, com autenticação do criptograma em cada superbloco.\n",
    "- Implementar novamente o cenário anterior mas, desta feita vez, utilizando o **ECDH** (Elliptic Curve Diffie-Hellman) em vez do **DH** e o **ECDSA** (Elliptic Curve Digital Signature Algorithm) em vez do **DSA**.\n",
    "\n",
    "Este relatório está escrito de forma a que o texto escrito entre o código desenvolvido seja suficientemente explicativo do que está a ser implementado, o que, na nossa opinião, permite uma leitura e compreensão facilitada do mesmo."
   ]
  },
  {
   "cell_type": "markdown",
   "metadata": {},
   "source": [
    "## Sessão Síncrona com _Diffie-Hellman_"
   ]
  },
  {
   "cell_type": "markdown",
   "metadata": {},
   "source": [
    "### Imports"
   ]
  },
  {
   "cell_type": "markdown",
   "metadata": {},
   "source": [
    "De seguida, encontram-se os módulos **Python** importados e necessários para desenvolver a sessão síncrona entre os agentes, utilizando o protocolo **DH** e o **DSA**."
   ]
  },
  {
   "cell_type": "code",
   "execution_count": 1,
   "metadata": {},
   "outputs": [],
   "source": [
    "import os,io\n",
    "from multiprocessing import Process,Pipe\n",
    "from cryptography.hazmat.backends import default_backend\n",
    "from cryptography.hazmat.primitives import hashes, hmac\n",
    "from cryptography.exceptions import *\n",
    "from cryptography.hazmat.primitives.asymmetric import dsa\n",
    "from cryptography.hazmat.primitives.asymmetric import dh\n",
    "from cryptography.hazmat.primitives import serialization\n",
    "from cryptography.hazmat.primitives.kdf.hkdf import HKDF\n",
    "from cryptography.hazmat.primitives.ciphers import Cipher, algorithms, modes"
   ]
  },
  {
   "cell_type": "markdown",
   "metadata": {},
   "source": [
    "### Definição de funções auxiliares "
   ]
  },
  {
   "cell_type": "markdown",
   "metadata": {},
   "source": [
    "Esta secção define funções auxiliares tais como, a função que gera o **hash** de uma mensagem, de **cifragem** e de **decifragem**, que serão posteriormente utilizados pelos agentes que participam na sessão."
   ]
  },
  {
   "cell_type": "code",
   "execution_count": 2,
   "metadata": {},
   "outputs": [],
   "source": [
    "def Hash(s):\n",
    "    digest = hashes.Hash(hashes.SHA256(),backend=default_backend())\n",
    "    digest.update(s)\n",
    "    return digest.finalize()\n",
    "\n",
    "def next_tweak(initial, current_counter):\n",
    "    str = format(current_counter, '063b')\n",
    "    str = str + '0'\n",
    "    b_str = bytes(str,'utf-8')\n",
    "    return (initial + b_str)\n",
    "\n",
    "# Algo está errado numa destas operações!\n",
    "# A cifragem e decifragem não está a dar o mesmo resultado!\n",
    "# Função bytes_xor não a conheces. poderá ser daí?\n",
    "# Ou a operação de decifra deve ter algo de diferente em relação à operação de cifra?\n",
    "\n",
    "def bytes_xor(a, b) :\n",
    "    return bytes(x ^ y for x, y in zip(a, b))\n",
    "\n",
    "def cifra(key,block,tweak,cipher_context):\n",
    "    hw = Hash(tweak)\n",
    "    x_xor_hw = bytes_xor(block,tweak)\n",
    "    e_s_x_hw = cipher_context.update(x_xor_hw)\n",
    "    cryptogram = bytes_xor(e_s_x_hw, hw)\n",
    "    return cryptogram\n",
    "\n",
    "def decifra(key,block,tweak,decipher_context):\n",
    "    hw = Hash(tweak)\n",
    "    x_xor_hw = bytes_xor(block,tweak)\n",
    "    e_s_x_hw = decipher_context.update(x_xor_hw)\n",
    "    cryptogram = bytes_xor(e_s_x_hw, hw)\n",
    "    return cryptogram\n",
    "\n",
    "\n",
    "# Falta pôr funções de cifra e de decifra\n",
    "    "
   ]
  },
  {
   "cell_type": "markdown",
   "metadata": {},
   "source": [
    "### Definição da classe de multiprocessamento"
   ]
  },
  {
   "cell_type": "markdown",
   "metadata": {},
   "source": [
    "Embaixo definem-se a classe de multiprocessamento, que permite uma comunicação bidireccional com o _Emitter_ e o _Receiver_, sendo estes dois processos criados e implementados pela **API** [**multiprocessing**](https://docs.python.org/2/library/multiprocessing.html)."
   ]
  },
  {
   "cell_type": "code",
   "execution_count": 3,
   "metadata": {},
   "outputs": [],
   "source": [
    "class BiConnection(object):\n",
    "    def __init__(self,left,right):\n",
    "        left_side,right_side = Pipe()\n",
    "        self.timeout = None\n",
    "        self.left_process = Process(target=left,args=(left_side,))\n",
    "        self.right_process = Process(target=right,args=(right_side,))\n",
    "        self.left = lambda : left(left_side)\n",
    "        self.right = lambda : right(right_side)\n",
    "    \n",
    "    def auto(self,proc=None):\n",
    "        if proc == None:\n",
    "            self.left_process.start()\n",
    "            self.right_process.start()\n",
    "            self.left_process.join(self.timeout)\n",
    "            self.right_process.join(self.timeout)\n",
    "        else:\n",
    "            proc.start()\n",
    "            proc.join()\n",
    "    \n",
    "    def manual(self): \n",
    "        self.left()\n",
    "        self.right()"
   ]
  },
  {
   "cell_type": "markdown",
   "metadata": {},
   "source": [
    "### Geração dos parâmetros _Diffie-Hellman_"
   ]
  },
  {
   "cell_type": "markdown",
   "metadata": {},
   "source": [
    "A próxima secção implementa a geração dos parâmetros necessários para a derivação de chaves **DH** e **DSA**, por parte de ambos os agentes."
   ]
  },
  {
   "cell_type": "code",
   "execution_count": 4,
   "metadata": {},
   "outputs": [],
   "source": [
    "parameters_dh = dh.generate_parameters(generator=2,key_size=1024,backend=default_backend())\n",
    "# O tamanho tem que ser 3072 bits, alterar depois."
   ]
  },
  {
   "cell_type": "markdown",
   "metadata": {},
   "source": [
    "### Geração das chaves permanentes dos agentes"
   ]
  },
  {
   "cell_type": "markdown",
   "metadata": {},
   "source": [
    "Esta secção tem como objetivo gerar as chaves permanentes dos agentes envolvidos na comunicação, tendo em conta que estas são conhecidas por ambos, e serão aplicadas na assinatura digital das mensagens."
   ]
  },
  {
   "cell_type": "code",
   "execution_count": 5,
   "metadata": {},
   "outputs": [],
   "source": [
    "# Geração das chaves do Emissor\n",
    "emitter_dsa_sk = dsa.generate_private_key(3072,default_backend()) #chave privada DSA\n",
    "emitter_dsa_pk = emitter_dsa_sk.public_key() #chave pública DSA\n",
    "\n",
    "# Geração das chaves do Recetor\n",
    "receiver_dsa_sk = dsa.generate_private_key(3072,default_backend()) #chave privada DSA\n",
    "receiver_dsa_pk = receiver_dsa_sk.public_key() #chave pública DSA"
   ]
  },
  {
   "cell_type": "markdown",
   "metadata": {},
   "source": [
    "### Definição do Emissor e do Recetor"
   ]
  },
  {
   "cell_type": "markdown",
   "metadata": {},
   "source": [
    "Por fim definiu-se o comportamento de cada um dos agentes nesta sessão síncrona segura de troca de informação. Na definição de ambos, é assumido que as chaves públicas **DSA** utilizadas na autenticação dos agentes já são conhecidas por ambos. As chaves **DH** são geradas por sessão de modo a acordar uma chave temporária, para que seja possível cifrar e decifrar uma mensagem utilizando uma primitiva simétrica.\n",
    "\n",
    "**PROCESSO DE CIFRA E DECIFRA NÃO ESTÁ CORRECTO! NÃO PRODUZ OS MESMOS RESULTADOS**"
   ]
  },
  {
   "cell_type": "code",
   "execution_count": 6,
   "metadata": {},
   "outputs": [],
   "source": [
    "def Emitter(connection):\n",
    "    #Implementação Protocolo Diffie-Hellman\n",
    "    emitter_dh_sk = parameters_dh.generate_private_key()\n",
    "    emitter_dh_pk = emitter_dh_sk.public_key()\n",
    "    pub = emitter_dh_pk.public_bytes(\n",
    "        encoding = serialization.Encoding.PEM,\n",
    "        format = serialization.PublicFormat.SubjectPublicKeyInfo)\n",
    "    signature = emitter_dsa_sk.sign(pub,hashes.SHA256())\n",
    "    message = {'pk': pub, 'sig': signature}\n",
    "    connection.send(message)\n",
    "    receiver_first = connection.recv()\n",
    "    receiver_dh_public_key = serialization.load_pem_public_key(receiver_first['pk'],default_backend())\n",
    "    receiver_dsa_pk.verify(receiver_first['sig'],receiver_first['pk'],hashes.SHA256())\n",
    "    master_key = emitter_dh_sk.exchange(receiver_dh_public_key)\n",
    "    \n",
    "    #Passar a chave de sessão acordada (master_key) por um kdf\n",
    "    shared_key = HKDF(\n",
    "        algorithm = hashes.SHA256(),\n",
    "        length = 32,\n",
    "        salt = None,\n",
    "        info = b'exchange data',\n",
    "        backend = default_backend()\n",
    "    ).derive(master_key)\n",
    "    \n",
    "    message_size = 2**10\n",
    "    gen_bytes = os.urandom(message_size)\n",
    "    inputs = io.BytesIO(gen_bytes)\n",
    "    #inicialização do tweak como um nounce de 64 bits (n/2)\n",
    "    tweak_init = os.urandom(8)\n",
    "    \n",
    "    connection.send(tweak_init)\n",
    "    \n",
    "    buffer = bytearray(16)\n",
    "    cipher = Cipher(algorithms.AES(shared_key),modes.ECB(),backend=default_backend()).encryptor()\n",
    "    i = 1\n",
    "    try:\n",
    "        while inputs.readinto(buffer):\n",
    "            # Falta ver a parte de autenticação dos superblocos do criptograma\n",
    "            current_tweak = next_tweak(tweak_init,i)\n",
    "            cryptogram = cifra(shared_key,bytes(buffer),current_tweak,cipher)\n",
    "            connection.send(cryptogram)\n",
    "            i += 1\n",
    "        connection.send(cipher.finalize())\n",
    "    except Exception:\n",
    "        print('Erro no emissor!')\n",
    "    connection.send('finalized')   \n",
    "    inputs.close()\n",
    "    connection.close()    "
   ]
  },
  {
   "cell_type": "code",
   "execution_count": 7,
   "metadata": {},
   "outputs": [],
   "source": [
    "def Receiver(connection):\n",
    "    #Implementação protocolo Diffie-Hellman\n",
    "    emitter_first = connection.recv()\n",
    "    receiver_dh_sk = parameters_dh.generate_private_key()\n",
    "    receiver_dh_pk = receiver_dh_sk.public_key()\n",
    "    emitter_dh_public_key = serialization.load_pem_public_key(emitter_first['pk'],default_backend())\n",
    "    emitter_dsa_pk.verify(emitter_first['sig'],emitter_first['pk'],hashes.SHA256())\n",
    "    master_key = receiver_dh_sk.exchange(emitter_dh_public_key)\n",
    "    pub = receiver_dh_pk.public_bytes(\n",
    "        encoding = serialization.Encoding.PEM,\n",
    "        format = serialization.PublicFormat.SubjectPublicKeyInfo)\n",
    "    signature = receiver_dsa_sk.sign(pub,hashes.SHA256())\n",
    "    message = {'pk':pub,'sig':signature}\n",
    "    connection.send(message)\n",
    "    \n",
    "    #Passar a chave de sessão acordada (master_key) por um kdf\n",
    "    shared_key = HKDF(\n",
    "        algorithm = hashes.SHA256(),\n",
    "        length = 32,\n",
    "        salt = None,\n",
    "        info = b'exchange data',\n",
    "        backend = default_backend()\n",
    "    ).derive(master_key)\n",
    "    \n",
    "    outputs = io.BytesIO()\n",
    "    tweak_init = connection.recv()\n",
    "    \n",
    "    cipher = Cipher(algorithms.AES(shared_key),modes.ECB(),backend=default_backend()).decryptor()\n",
    "    i = 1\n",
    "    try:\n",
    "        while True:\n",
    "            buffer = connection.recv()\n",
    "            if(buffer == 'finalized'):\n",
    "                outputs.write(cipher.finalize())\n",
    "                break\n",
    "            else:\n",
    "                #print(buffer)\n",
    "                cryptogram = buffer\n",
    "                current_tweak = next_tweak(tweak_init,i)\n",
    "                text = decifra(shared_key,cryptogram,current_tweak,cipher)\n",
    "                i += 1\n",
    "                outputs.write(text)\n",
    "        print(outputs.getvalue())\n",
    "    except Exception as Err:\n",
    "        print('Erro no recetor! {0}'.format(Err))\n",
    "        \n",
    "    outputs.close()\n",
    "    connection.close()\n",
    "    "
   ]
  },
  {
   "cell_type": "code",
   "execution_count": 8,
   "metadata": {},
   "outputs": [
    {
     "name": "stdout",
     "output_type": "stream",
     "text": [
      "b'p\\xcb\\xfa\\x16gCX-\\xd0\\x7f\\x7f\\xff\\xef\\xc2\\x91\\x8cM\\x95\\xd4\\x96\\xb1\\xc0p\\x13h\\xf0\\x16\\xbb\\xa0\\nw9,oV\\x12\\xfd\\xb0{;\\x12\\x14\\xdaW$\\x87\\xe0\\xfd\\x96\\x8a\\x96\\x85\\xdfSU\\xe6%\\x82h3\\x0c}\\x00+\\x1b`!E\\x13\\xae\\xb0:\\xb1yj\\x97N+/\\xce>\\xd0\\xd1\\xef\\xd3/\\x99/\\xfc\\xdaCF\\x19\\xf1`\\x90\"\\xc770\\xd1\\x99\\x1e\\xe7\\x9dd]\\xaa\\x05\\xd66\"\\x8eJ\\xef5*s\\x8f\\x02\\xb2y\\xcd\\xa3\\xc8\\xf4\\xbdv\\xfe\\xbaLq1\\x1c\\xe5*\\xd3\\xab\\xe3a\\x90EE-\\x0e\\xf9<\\xc2\\xe1[\\x00.5\\xcb\\xb3k\\x89\\xffF\\x84\\xcc\\xc0\\xa0\\xcc\\x08\\xe3a9f;\\xa5L\\xc5\\xc6Z\\x15\\x86\\x15\\x1a\\xa5\\xb6\\x05Z\\x9e\\xd4]E/c!\\x00\\x8fmm\\x05 \\x8b>C\\xc7\\xa3\\'\\xdau\\xe0\\xb1\\x92\\x84Z\\x96\\x9boD\\xf3\\xcaWSn\\xfa\\x81\\xbc]\\xa6G\\x8ba\\x1cU\\xa9\\tZ\\xc3\\xf2gf\\x12\\x85n\\x0cQ\\n\\x1aW\\xfc\\x80\\x14T\\xa5\\xc9\\xd6\\x04P\\xdfS\\x864H\\x1d\\x02C\\xdf?\\xb5\\xa1Y\\xa8/\\xce\\xde\\x83z\\xb1\\x1c\\xebD\\x04<\\x19\\xcd6\\xc4\\x04\\xdaC\\x18\\xbf\\xc3X,\\xe8\\xc9\\xfa\\xcfg\\xf8\\xed\\x05\\xb8\\x84&\\xd7\\xda\\xc5}\\xd3\\x8e\\x99\\x9fJ~k \\xb3\\xd2Q\\xe8\\x8c\\x17CQ\\xdf\\x94Nb\\x196O \\xf0\\xc7\\x997\\xb1\\xd1U!i)\\x14++.e\\xbd\\xa0\\x80\\xc5z\\x89\\xe3\\xde\\xc3\\xffT\\xf8\\xe4\\xd19C))>\\xd5\\xe4\\xc9\\xdf\\xd3P\\xd64\\xceKW\\xd7\\x00\\xd0\\xf5\\xa16\\xe6T1\\x8e\\x0f\\xc2\\x84\\x97d\\\\[\\x8dr<8\\xd3/\\x80\\xe3\\x85Tl\\x9f\\xd6\\xa2Q\\x8eG=y\\x91{(\\x9aO\\xe5 X\\xd5\\xa1\\xd5:q4\\xf6\\x19le,Y\\xae\\xa1\\xaaT\\xfd\\x7f\\x1a\\x05\\xf4\\xba\\x95\\xdb\\xc3\\x0e\\x82\\x9eh/\\x04\\xf3\\x90\\xa1\\xc2\\xfbA\\x07\\xb4#\\xc4\\x19\\x7f\\xbf\\xedd\\x88)w\\x15\\x8d~\\xee$,\\xd3\\x94/\\xcc\\xa4\\xc5\\xe9\\x9a\\xd0\\n\\xcc[\\x98\\xe8\\x0c\\xea$\\xff8\\xb9:\\xf8c\\xc0\\xb3\\x87w\\xb8\\x0c33u\\x08\\xb1A\\x99\\xfeO\\xd16K\\xf0\\x8b\\xda\\xc6\\xdc@F\\'\\xa7*\\xf9\\\\ AW^\\xa1_~\\x81Ld\\xc6\\xd6\\x92\\xef\\xca\\xaa\\xc1\\xe5\\x10\\x88\\x96\\x0f\\x18\\xc8\\x1b~5*\\x91<)\\x04\\x7f\\x8f}\\xe7V^\\xc3\\xc7\\x9a\\xefu\\xd3<<\\x9c\\x9b\\x15\\xdedg`\\xa6\\xdf<5\\xe9\\x9b\\x05\\xca\\'\\x7f\\x88\\xb40X\\xf1\\'\\xab\\x94 \\x16\\x07\\xd6@\\xab35\\xc4\\xd4\\x8a\\x10\\x83:%Z\\x9dJ\\xbee\\xf1@\\x00\\x1ft\\'\\x8a\\x04\\xb5\\n\\x99e|\\x84e\\xda^}>\\xfb+3\\xb8AtC\\xb1\\xe2$\\x17\\x1e8\\x11\\xa0h\\x8b\\x06$`/\\x07\\x9f7\\xfez\\x81\\xd6\\x87\\xb2=)\\xe1\\x12\\xbfd!\\'?,\\xaa\\xee\\r8\\xf3\\xbdF\\xdf\\xe4)\\xef\\xac\\xfcr\\xf8e&J\\xeb\\x8f?T\\xd2\\xf5\\x9eq\\x7f\\xc1\\x80n\\x1d\\xd0>\\x82x+\\xf5\\xd5\\x0e\\xf0I\\xe2b\\x9e\\xed\\x14\\x0fE\\x94\\x97\\xa6+\\xe5\\xc2TZa\\\\\\xf1\\x04\\x17j\"\\xf4\\xbc\\xd9\\x12\\xa4\\xb57S$)\\xcb\\xb7@\\x9e\\x1f8\\xf6\\x9e\\xb0%I\\x19=F?\\x05e.\\xfbm$;Q\\x95;a\\x86*\\t\\xf8\"\\xd1b\\xa6\\xb8\\xb5\\xd7\\x13\\xb5\\x1c\\xe80\\xe0J\\x85\\xce\\xa9@\\xb5\\xc6dCy\\xb8^\\x1b\\xc9\\xc6\\xafQ\\x00\\xaf\\x9cvYl\\xfb\\xcb\\xed\\x9e\\x0c\\x15:)\\x19gZ_`\\xe3L\\xde+\\xd7\\xe2\\xe5\\xd7\\xdeK \\xa9B\\xc4\\xaa\\x00\\x0fT\\x863g\\xaf\\xf2\\xa6\\xf4\\xb8y.2\\xbai\\xa5\\xe9\\x8a\\x01[\\xe4<6\\xc7\\x83\\xea\\x05\\xecc`\\x7f\\xfcZ\\xe3J\\x86\\x12\\xfa\\xd1d\\xda\\x88\\x11\\xcc\\x06\\x13i\\x8e\\x1e\\xe4\\xef\\xae4\\x0b\\xd3\\x8d4\\xc35N\\xc9\\x9a\\x084$\\xac\\xb1}\\xc0\\xc6\\x18\\x95CT\\xad\\xc2Gg\\x89\\x84\\x81bv,\\xd7ml\\xf2L\\x81\\xb0b\\xce\"B\\xc1D\\xac\\xfd\\xd9\\xb9\\x89\\xa8k\\x13\\xbf\\x81\\xbejb\\x8e\\xc8k \\r\\x05\\x82,\\xb9Y\\xe0M\\x8f\\xf2\\x96\\x06\\xad\\xfa\\xd8\\x15\\xa0\\x8c\\x86\\x9c\\t\\x1b6\\x8eMV\\x86)\\x9f\\xc1\\xab[\\xd9{\\xc3}\\xbc\\xed\\xc5C)\\xd4\\x8e\\x1c:\\xa5\\x08\\xff\\xd0,\\xd7\\xca\\x1a\\xab\\xec\\xf3\\x00-+\\x18J\\nCcZ\\xe2\\xbb'\n"
     ]
    }
   ],
   "source": [
    "BiConnection(Emitter,Receiver).auto()"
   ]
  },
  {
   "cell_type": "code",
   "execution_count": null,
   "metadata": {},
   "outputs": [],
   "source": []
  }
 ],
 "metadata": {
  "kernelspec": {
   "display_name": "Python 3",
   "language": "python",
   "name": "python3"
  },
  "language_info": {
   "codemirror_mode": {
    "name": "ipython",
    "version": 3
   },
   "file_extension": ".py",
   "mimetype": "text/x-python",
   "name": "python",
   "nbconvert_exporter": "python",
   "pygments_lexer": "ipython3",
   "version": "3.5.3"
  }
 },
 "nbformat": 4,
 "nbformat_minor": 2
}
