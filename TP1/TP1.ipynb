{
 "cells": [
  {
   "cell_type": "markdown",
   "metadata": {},
   "source": [
    "# Trabalho Prático 1"
   ]
  },
  {
   "cell_type": "markdown",
   "metadata": {},
   "source": [
    "## Introdução"
   ]
  },
  {
   "cell_type": "markdown",
   "metadata": {},
   "source": [
    "A resolução deste trabalho prático tem como objetivo implementar um abiente seguro, constituído por um emissor e um recetor, através de sessões cifradas e seguras.\n",
    "A solução implmentada, foi estruturada da seguinte forma:\n",
    "\n",
    "- Construção de uma sessão de comunicação síncrona entre um emissor e um recetor.\n",
    "- Utilização do protocolo de **Diffie_Hellman** com verificação de chave e autenticação dos agentes, na sessão anteriormente referida.\n",
    "- Utilização do **DSA** para a autenticação dos agentes.\n",
    "- Utilização do **TAES** como cifra simétrica, com autenticação do criptograma em cada superbloco.\n",
    "- Implementar novamente o cenário anterior mas, desta feita vez, utilizando o **ECDH** (Elliptic Curve Diffie-Hellman) em vez do **DH** e o **ECDSA** (Elliptic Curve Digital Signature Algorithm) em vez do **DSA**.\n",
    "\n",
    "Este relatório está escrito de forma a que o texto escrito entre o código desenvolvido seja suficientemente explicativo do que está a ser implementado, o que, na nossa opinião, permite uma leitura e compreensão facilitada do mesmo."
   ]
  },
  {
   "cell_type": "markdown",
   "metadata": {},
   "source": [
    "## Sessão Síncrona com _Diffie-Hellman_"
   ]
  },
  {
   "cell_type": "markdown",
   "metadata": {},
   "source": [
    "### Imports"
   ]
  },
  {
   "cell_type": "markdown",
   "metadata": {},
   "source": [
    "De seguida, encontram-se os módulos **Python** importados e necessários para desenvolver a sessão síncrona entre os agentes, utilizando o protocolo **DH** e o **DSA**."
   ]
  },
  {
   "cell_type": "code",
   "execution_count": 1,
   "metadata": {},
   "outputs": [],
   "source": [
    "import os,io\n",
    "from multiprocessing import Process,Pipe\n",
    "from cryptography.hazmat.backends import default_backend\n",
    "from cryptography.hazmat.primitives import hashes, hmac\n",
    "from cryptography.exceptions import *\n",
    "from cryptography.hazmat.primitives.asymmetric import dsa\n",
    "from cryptography.hazmat.primitives.asymmetric import dh\n",
    "from cryptography.hazmat.primitives import serialization\n",
    "from cryptography.hazmat.primitives.kdf.hkdf import HKDF\n",
    "from cryptography.hazmat.primitives.ciphers import Cipher, algorithms, modes"
   ]
  },
  {
   "cell_type": "markdown",
   "metadata": {},
   "source": [
    "### Definição das funções do processo criptográfico"
   ]
  },
  {
   "cell_type": "markdown",
   "metadata": {},
   "source": [
    "Esta secção tem o objetivo de definir funções que serão utilizadas nas sessões síncronas, tanto na que utiliza **DH** como na que utiliza **ECDH**. Essas funções são as seguintes:\n",
    "\n",
    "- `Hash(s)`, que tem como propósito calcular um _digest_ de uma dada mensagem.\n",
    "\n",
    "- `next_tweak(initial,current_counter)`, que tem como propósito calcular o próximo _tweak_ a utilizar no bloco que vai ser cifrado/decifrado, com base no _nounce_ inicial e no número do bloco que está a ser processadoa atualmente.\n",
    "\n",
    "- `bytes_xor(a,b)`, que tem como propósito realizar o _XOR_ _byte_ a _byte_ de duas dadas sequências de _bytes.\n",
    "\n",
    "- `calculate_parity(blocks,number_blocks)`, que tem como objetivo calcular a paridade de um conjunto de blocos, para que seja gerada a sua _tag_ de autenticação.\n",
    "\n",
    "- `calculate_auth_tweak(initial_tweak,number_blocks)`, que tem como objetivo calcular o _tweak_ utilizado para cifrar a paridade dos blocos cifrados.\n",
    "\n",
    "- As funções `cifra_blocos(current_counter,initial_tweak,blocks,number_blocks,cipher_context)` e `decifra_blocos(current_counter,initial_tweak,blocks,number_blocks,decipher_context)` têm como objetivo cifrar/decifrar, respetivamente, um conjunto de blocos aplicando a cada bloco a função de cifra ou de decifragem.\n",
    "\n",
    "- As funções `cifra(block,tweak,cipher_context)` e `decifra(block,tweak,decipher_context` têm como objetivo cifrar/decifrar um dado bloco utilizando para o efeito a função $ Ẽ(s,x) = E(s,x \\oplus h(w)) \\oplus h(w) $.\n",
    "\n",
    "É relevante referir que as operações de cifra e de decifra utilizam exatamente a mesma fórmula e, logo, são iguais, mas estão separadas apenas por uma questão de mais simples compreensão do problema em questão, bem como da sua resolução.\n",
    "Além disso, neste processo criptográfico foi utilizado o modo **TAE** (_Tweakable Authenticated Encryption_)"
   ]
  },
  {
   "cell_type": "code",
   "execution_count": 2,
   "metadata": {},
   "outputs": [],
   "source": [
    "def Hash(s):\n",
    "    digest = hashes.Hash(hashes.SHA256(),backend=default_backend())\n",
    "    digest.update(s)\n",
    "    return digest.finalize()\n",
    "\n",
    "def next_tweak(initial, current_counter):\n",
    "    str = format(current_counter, '063b')\n",
    "    str = str + '0'\n",
    "    b_str = int(str,2).to_bytes((len(str) + 7) // 8, 'big')\n",
    "    return (initial + b_str)\n",
    "\n",
    "def bytes_xor(a, b) :\n",
    "    return bytes(x ^ y for x, y in zip(a, b))\n",
    "\n",
    "def calculate_parity(blocks,number_blocks):\n",
    "    str = format(0,'128b') # O número 0 é elemento neutro no XOR\n",
    "    parity = int(str,2).to_bytes((len(str) + 7) // 8, 'big')\n",
    "    bytes_processed = 0\n",
    "    while(bytes_processed < (16*number_blocks)):\n",
    "        max_bytes = bytes_processed + 16\n",
    "        block_to_xor = blocks[bytes_processed:max_bytes]\n",
    "        parity = bytes_xor(parity,block_to_xor)\n",
    "        bytes_processed += 16\n",
    "    return parity\n",
    "\n",
    "def calculate_auth_tweak(initial_tweak,number_blocks):\n",
    "    str = format(number_blocks*16,'063b')\n",
    "    str = str + '1'\n",
    "    b_str = int(str,2).to_bytes((len(str) + 7) // 8, 'big')\n",
    "    return (initial_tweak + b_str)\n",
    "\n",
    "def cifra_blocos(current_counter,initial_tweak,blocks,number_blocks,cipher_context):\n",
    "    bytes_processed = 0\n",
    "    cryptogram = bytearray(160)\n",
    "    while(bytes_processed < (16*number_blocks)):\n",
    "        max_bytes = bytes_processed + 16\n",
    "        block_to_process = blocks[bytes_processed:max_bytes]\n",
    "        tweak = next_tweak(initial_tweak,current_counter)\n",
    "        block_crypt = cifra(block_to_process,tweak,cipher_context)\n",
    "        cryptogram[bytes_processed:max_bytes] = block_crypt\n",
    "        bytes_processed += 16\n",
    "        current_counter += 1\n",
    "    return {\"crypt\": bytes(cryptogram), \"i\": current_counter}\n",
    "        \n",
    "\n",
    "def cifra(block,tweak,cipher_context):\n",
    "    hw = Hash(tweak)\n",
    "    x_xor_hw = bytes_xor(block,hw)\n",
    "    e_s_x_hw = cipher_context.update(x_xor_hw)\n",
    "    cryptogram = bytes_xor(e_s_x_hw, hw)\n",
    "    return cryptogram\n",
    "\n",
    "def decifra_blocos(current_counter,initial_tweak,blocks,number_blocks,decipher_context):\n",
    "    bytes_processed = 0\n",
    "    text = bytearray(160)\n",
    "    while(bytes_processed < (16*number_blocks)):\n",
    "        max_bytes = bytes_processed + 16\n",
    "        block_to_process = blocks[bytes_processed:max_bytes]\n",
    "        tweak = next_tweak(initial_tweak,current_counter)\n",
    "        block_text = decifra(block_to_process,tweak, decipher_context)\n",
    "        text[bytes_processed:max_bytes] = block_text\n",
    "        bytes_processed += 16\n",
    "        current_counter += 1\n",
    "    return {\"text\": bytes(text), \"i\": current_counter}\n",
    "\n",
    "def decifra(block,tweak,decipher_context):\n",
    "    hw = Hash(tweak)\n",
    "    x_xor_hw = bytes_xor(block,hw)\n",
    "    e_s_x_hw = decipher_context.update(x_xor_hw)\n",
    "    cryptogram = bytes_xor(e_s_x_hw, hw)\n",
    "    return cryptogram\n",
    "    "
   ]
  },
  {
   "cell_type": "markdown",
   "metadata": {},
   "source": [
    "### Definição da classe de multiprocessamento"
   ]
  },
  {
   "cell_type": "markdown",
   "metadata": {},
   "source": [
    "Embaixo definem-se a classe de multiprocessamento, que permite uma comunicação bidireccional com o _Emitter_ e o _Receiver_, sendo estes dois processos criados e implementados pela **API** [**multiprocessing**](https://docs.python.org/2/library/multiprocessing.html)."
   ]
  },
  {
   "cell_type": "code",
   "execution_count": 3,
   "metadata": {},
   "outputs": [],
   "source": [
    "class BiConnection(object):\n",
    "    def __init__(self,left,right):\n",
    "        left_side,right_side = Pipe()\n",
    "        self.timeout = None\n",
    "        self.left_process = Process(target=left,args=(left_side,))\n",
    "        self.right_process = Process(target=right,args=(right_side,))\n",
    "        self.left = lambda : left(left_side)\n",
    "        self.right = lambda : right(right_side)\n",
    "    \n",
    "    def auto(self,proc=None):\n",
    "        if proc == None:\n",
    "            self.left_process.start()\n",
    "            self.right_process.start()\n",
    "            self.left_process.join(self.timeout)\n",
    "            self.right_process.join(self.timeout)\n",
    "        else:\n",
    "            proc.start()\n",
    "            proc.join()\n",
    "    \n",
    "    def manual(self): \n",
    "        self.left()\n",
    "        self.right()"
   ]
  },
  {
   "cell_type": "markdown",
   "metadata": {},
   "source": [
    "### Geração dos parâmetros _Diffie-Hellman_"
   ]
  },
  {
   "cell_type": "markdown",
   "metadata": {},
   "source": [
    "A próxima secção implementa a geração dos parâmetros necessários para a derivação de chaves **DH** e **DSA**, por parte de ambos os agentes."
   ]
  },
  {
   "cell_type": "code",
   "execution_count": 4,
   "metadata": {},
   "outputs": [],
   "source": [
    "parameters_dh = dh.generate_parameters(generator=2,key_size=1024,backend=default_backend())\n",
    "# O tamanho tem que ser 3072 bits, alterar depois."
   ]
  },
  {
   "cell_type": "markdown",
   "metadata": {},
   "source": [
    "### Geração das chaves permanentes dos agentes"
   ]
  },
  {
   "cell_type": "markdown",
   "metadata": {},
   "source": [
    "Esta secção tem como objetivo gerar as chaves permanentes dos agentes envolvidos na comunicação, tendo em conta que estas são conhecidas por ambos, e serão aplicadas na assinatura digital das mensagens."
   ]
  },
  {
   "cell_type": "code",
   "execution_count": 5,
   "metadata": {},
   "outputs": [],
   "source": [
    "# Geração das chaves do Emissor\n",
    "emitter_dsa_sk = dsa.generate_private_key(3072,default_backend()) #chave privada DSA\n",
    "emitter_dsa_pk = emitter_dsa_sk.public_key() #chave pública DSA\n",
    "\n",
    "# Geração das chaves do Recetor\n",
    "receiver_dsa_sk = dsa.generate_private_key(3072,default_backend()) #chave privada DSA\n",
    "receiver_dsa_pk = receiver_dsa_sk.public_key() #chave pública DSA"
   ]
  },
  {
   "cell_type": "markdown",
   "metadata": {},
   "source": [
    "### Definição do Emissor e do Recetor"
   ]
  },
  {
   "cell_type": "markdown",
   "metadata": {},
   "source": [
    "Por fim definiu-se o comportamento de cada um dos agentes nesta sessão síncrona segura de troca de informação. Na definição de ambos, é assumido que as chaves públicas **DSA** utilizadas na autenticação dos agentes já são conhecidas por ambos. As chaves **DH** são geradas por sessão de modo a acordar uma chave temporária, para que seja possível cifrar e decifrar uma mensagem utilizando uma primitiva simétrica.\n"
   ]
  },
  {
   "cell_type": "code",
   "execution_count": 6,
   "metadata": {},
   "outputs": [],
   "source": [
    "def Emitter(connection):\n",
    "    #Implementação Protocolo Diffie-Hellman\n",
    "    emitter_dh_sk = parameters_dh.generate_private_key()\n",
    "    emitter_dh_pk = emitter_dh_sk.public_key()\n",
    "    pub = emitter_dh_pk.public_bytes(\n",
    "        encoding = serialization.Encoding.PEM,\n",
    "        format = serialization.PublicFormat.SubjectPublicKeyInfo)\n",
    "    signature = emitter_dsa_sk.sign(pub,hashes.SHA256())\n",
    "    message = {'pk': pub, 'sig': signature}\n",
    "    connection.send(message)\n",
    "    receiver_first = connection.recv()\n",
    "    receiver_dh_public_key = serialization.load_pem_public_key(receiver_first['pk'],default_backend())\n",
    "    receiver_dsa_pk.verify(receiver_first['sig'],receiver_first['pk'],hashes.SHA256())\n",
    "    master_key = emitter_dh_sk.exchange(receiver_dh_public_key)\n",
    "    \n",
    "    #Passar a chave de sessão acordada (master_key) por um kdf\n",
    "    shared_key = HKDF(\n",
    "        algorithm = hashes.SHA256(),\n",
    "        length = 32,\n",
    "        salt = None,\n",
    "        info = b'exchange data',\n",
    "        backend = default_backend()\n",
    "    ).derive(master_key)\n",
    "    \n",
    "    #Verificar a chave, enviando um hash da chave derivada para confirmar\n",
    "    #que tanto emissor como recetor possuem a mesma chave.\n",
    "    \n",
    "    key_digest = Hash(shared_key)\n",
    "    signature = emitter_dsa_sk.sign(key_digest,hashes.SHA256())\n",
    "    connection.send({'digest': key_digest, 'sig': signature})\n",
    "    \n",
    "    key_check_obj = connection.recv()\n",
    "    receiver_dsa_pk.verify(key_check_obj[\"sig\"],bytes(key_check_obj[\"message\"],'utf8'),hashes.SHA256())\n",
    "    if key_check_obj[\"message\"] == \"OK\":\n",
    "        #Prosseguir com a cifra/decifra síncrona\n",
    "        message_size = 1600\n",
    "        gen_bytes = os.urandom(message_size)\n",
    "        print('gen_bytes')\n",
    "        print(gen_bytes)\n",
    "        inputs = io.BytesIO(gen_bytes)\n",
    "        #inicialização do tweak como um nounce de 64 bits (n/2)\n",
    "        tweak_init = os.urandom(8)\n",
    "\n",
    "        connection.send(tweak_init)\n",
    "\n",
    "        buffer = bytearray(160)\n",
    "        cipher = Cipher(algorithms.AES(shared_key),modes.ECB(),backend=default_backend()).encryptor()\n",
    "        i = 1\n",
    "        try:\n",
    "            while inputs.readinto(buffer):\n",
    "                cipher_object = cifra_blocos(i,tweak_init,buffer,10,cipher)\n",
    "                cryptogram = cipher_object[\"crypt\"]\n",
    "                parity = calculate_parity(buffer,10)\n",
    "                auth_tweak = calculate_auth_tweak(tweak_init,10)\n",
    "                auth_tag = cifra(parity,auth_tweak,cipher)\n",
    "                i = cipher_object[\"i\"]\n",
    "                msg_to_send = {'crypt': cryptogram, 'tag': auth_tag}\n",
    "                connection.send(msg_to_send)\n",
    "                msg = connection.recv()\n",
    "                if(not(msg == 'OK')):\n",
    "                    print('Erro no processo!')\n",
    "                    break\n",
    "        except Exception as err:\n",
    "            print('Erro no emissor! {0}'.format(err))\n",
    "        connection.send('finalized')   \n",
    "        inputs.close()\n",
    "    else:\n",
    "        print('Chaves não coincidiram')\n",
    "    connection.close()    "
   ]
  },
  {
   "cell_type": "code",
   "execution_count": 7,
   "metadata": {},
   "outputs": [],
   "source": [
    "def Receiver(connection):\n",
    "    #Implementação protocolo Diffie-Hellman\n",
    "    emitter_first = connection.recv()\n",
    "    receiver_dh_sk = parameters_dh.generate_private_key()\n",
    "    receiver_dh_pk = receiver_dh_sk.public_key()\n",
    "    emitter_dh_public_key = serialization.load_pem_public_key(emitter_first['pk'],default_backend())\n",
    "    emitter_dsa_pk.verify(emitter_first['sig'],emitter_first['pk'],hashes.SHA256())\n",
    "    master_key = receiver_dh_sk.exchange(emitter_dh_public_key)\n",
    "    pub = receiver_dh_pk.public_bytes(\n",
    "        encoding = serialization.Encoding.PEM,\n",
    "        format = serialization.PublicFormat.SubjectPublicKeyInfo)\n",
    "    signature = receiver_dsa_sk.sign(pub,hashes.SHA256())\n",
    "    message = {'pk':pub,'sig':signature}\n",
    "    connection.send(message)\n",
    "    \n",
    "    #Passar a chave de sessão acordada (master_key) por um kdf\n",
    "    shared_key = HKDF(\n",
    "        algorithm = hashes.SHA256(),\n",
    "        length = 32,\n",
    "        salt = None,\n",
    "        info = b'exchange data',\n",
    "        backend = default_backend()\n",
    "    ).derive(master_key)\n",
    "    \n",
    "    key_check_obj = connection.recv()\n",
    "    emitter_dsa_pk.verify(key_check_obj['sig'],key_check_obj['digest'],hashes.SHA256())\n",
    "    digest = Hash(shared_key)\n",
    "    if digest == key_check_obj[\"digest\"]:\n",
    "        message = \"OK\"\n",
    "        signature = receiver_dsa_sk.sign(bytes(message,'utf8'),hashes.SHA256())\n",
    "        obj = {\"message\":message, 'sig': signature}\n",
    "        connection.send(obj)\n",
    "        \n",
    "        #prosseguir com o modo de decifra síncrono\n",
    "    \n",
    "        outputs = io.BytesIO()\n",
    "        tweak_init = connection.recv()\n",
    "\n",
    "        cipher = Cipher(algorithms.AES(shared_key),modes.ECB(),backend=default_backend()).decryptor()\n",
    "        i = 1\n",
    "        try:\n",
    "            while True:\n",
    "                buffer = connection.recv()\n",
    "                if(buffer == 'finalized'):\n",
    "                    outputs.write(cipher.finalize())\n",
    "                    break\n",
    "                else:\n",
    "                    crypt = buffer['crypt']\n",
    "                    tag = buffer['tag']\n",
    "                    decipher_object = decifra_blocos(i, tweak_init,crypt,10,cipher)\n",
    "                    text = decipher_object[\"text\"]\n",
    "                    i = decipher_object[\"i\"]\n",
    "                    parity = calculate_parity(text,10)\n",
    "                    auth_tweak = calculate_auth_tweak(tweak_init,10)\n",
    "                    auth_tag = decifra(tag,auth_tweak,cipher)\n",
    "                    if(auth_tag == parity):\n",
    "                        connection.send('OK')\n",
    "                    else:\n",
    "                        print('AUTH ERROR')\n",
    "                        connection.send('AUTH ERROR')\n",
    "                        break\n",
    "                    outputs.write(text)\n",
    "            print('decrypted:')\n",
    "            print(outputs.getvalue())\n",
    "        except Exception as Err:\n",
    "            print('Erro no recetor! {0}'.format(Err))\n",
    "\n",
    "        outputs.close()\n",
    "    else:\n",
    "        print('Chaves não coincidiram')\n",
    "    connection.close()\n",
    "    "
   ]
  },
  {
   "cell_type": "code",
   "execution_count": 8,
   "metadata": {},
   "outputs": [
    {
     "name": "stdout",
     "output_type": "stream",
     "text": [
      "gen_bytes\n",
      "b'\\xcb\\xd8A\\xc1bX\\x91!a\\x97\\xa3w\\xe3\\xbe\\xf42\\xa4\\xb4\\x94\\xf6b\\xd51\\xf03%\\xd9y|\\xa9fT\\xcfc\\xd6\\xe2\\xb5:\\xad\\xe5\\xb6S\\n\\x80\\xe2 \"\\xf9_\\x8cc\\x17\\xf4@O\\xd5\\x03_\\xdcW]\\xdf\\x1b`\\xe4T\\xb7\\x19\\xc7\\xdaeX\\x1a*\\x9cw\\xe9\\xe8\\x15N\\xd3\\xbf(\\xa2\\xb2f\\xff-?\\x8b\\x89\\xadTh\\n\\x87\\xc4\\x1a\\xe0\\xa3\\xa24\\xf19O\\xfc\\xee\\xf4\\xf9-/\\x06\\xf1)\\xb0\\t\\x1d8\\x08\\x9bIN\\x1c\\x96o\\xb1\\x11\\xe09O\\x043\\x00\\x0c\\xcc\\x17\\xach5\\xa3\\xf5\\xce\\xe2c\\x7f\\x96\\xb8Y\\xf2=\\xe8\\xc6/:\\x90)s1\\x98\\xeaj\\x8e\\x88\\xf2\\\\ok`c\\tR\\xadGG\\xcbg\\xabG\\xaeM\\xe2\\xaez\\x0b%\\x19\\xb6\\x04\\xf3\\x1f\\xde\\x13\\x92i\\xf4\\xaap\\xde\\xbe\\xc1zc\\xe16$c\\xf4\\xe8\\xdd\\xab\\x11`\\xda\\xd3\\xe1\\xefi\\x8f|X\\x84i\\xf9\\xb1W\\xb4v\\xe0\\x1b=Nq`\\xc4\\xe7z+i\\xcf\\xe1\\x7f\\x06\\xe8Z\\xd28\\x93!.\\xb0\\x85U\\x02\\xc5\\xae\\x07\\xd6\\xf59\\xed\\x97\\x8e\\xeb\\xe5\\xd5\\xd1\\x97\\xb9n\\xd9rS\\x02\\x17.\\x15pYs(\\x9e\\xacy\\x9e\\\\\\x8f\\xb0b\\x80:\\x1b\\xf1\\xdd4|-\\xe6\\x8d\\xc7\"\\xff\\xf3\\\\tu^\\xf7\\x1b\\xed\\x1f\\x01=\\x8d&\\xe9\\xca-|\\xef\\xc7u\\x17\\xdd\\xcb\\x91\\x18\\xdd\\xe79\\xbd\\x19\\xeb\\x13\\x01\\n7Sb\\xa2\\xe8\\xfay\\x050\\xb4\\x194{\\xfc6\\xf0C\\x98\\xd0\\x07\\x81\\xeap\\x08\\xf8\\x91Nh\\xcf\\x19\\xd2\\x81f\\xcf\\xd2\\xed;\\xd5\\xdf\\xca\\xa2\\xcd\\xf6\\xa7GY\\xb9\\x86\\xebC\\x84\\xffE\\x9e\\x0b \\x9c\\xf4_\\x81|vhDn\\x1av.}8\\xa5\\xe5r\\x96\\x03\\x95<W\\x86\\xcc\\x9a\\xd0\\x01\\xd4\\\\_\\x93\\x82\\x15\\\\\\xa2\\xb4\\x11\\x03\\xd53\\x952%\\xa6\\xbe\\x98\\xd0\\x17\\n=\\x08\\xdc\\x00\\xc1\\x1b\\xeb\\xe5\\xcc\\t\\xee\\xa0S\\xe8Qj[\\xcff\\x1fLh\\xa1mH\\xaa(_\\xeb\\xc7\\xaf\\xe9,\\xe6z\\xceqq\\x0bA\\x90{\\xb2!\\xd98@\\x94\\xe8\\x14\\xb0\\xda\"\\x1d\\xd9m\\xa3_\\x0b\\xd7\"6\\xa8\\xe3\\x99U9\\x18\\x92!\\x7f\\xbdJ\\x7f!\\xb7x\\xf8Vm\\xc7B\\xf0\\x92\\x98\\xae\\xc7\\xa4\\x04\\xc7\\xa0\\xc9\\xb4T\\xad\\x03\\\\+\\xab\\xbe\\xda@\\xc3\\xec\\xf0Y6B\\x7f\\x0f\\x87\\xda\\x98JU\\x14T\\x921\\x18\\xee\\xbe[\\xe8x\\xba\\xa6T\\xfb\\x08\\x8bv\\xb8\\xad4\\xbb\\xeb\\xe1&x\\x19^\\xb7\\x8b\\x82M\\xc4!\\xda7\\xe261\\x06\\xc57\\x06XB:\\xe8\\xa5\\xda\\xe3h\\xa6\\xb3\\x94\\xc9v\\xa3\\xbe\\x05C\\xd4F&\\x94\\x08\\xe3rq\\x165\\x9d?\\xc6\\xa2\\xd8\\xf2Jnd\\xc1k\\xd4!\\x0b\\xaaA\\x83\\xad\\xc5i=\\xe9\\xe2;\\xbf@\\x84\\x7feC\\xc3\\xd9\\x124\\xdeq\\xf7\\x05\\x95\\xdd\\xd0gM\\x03\\xfe\\xa0D9\\r\\xe9aJ\\x13\\x0f39N\\x130B\\xa9\\r\\xef7\\x82\\x7fH\\x16\\xda}\\x9b6\\x05\\x15\\xc2l\\x9b\\x1d\\x82\\xa2\\xa5,\\x7f\\xbd\\xf3\\xa6\\xcb*}\\x7f\\xf8\\xdc\\x1fO.\\x13\\x83\\x1f\\x06\\xae\\x84b\\x98o\\x92t\\xcefr^\\x0b\\x8d\\x08Q\\xc9z\\x9b\\x19\\xbb\\xefMiau\\x82\\xe23\\x17\\x1fU\\n\\xc7\\x95\\xd0F1A\\xe4\\x85p\\xdd\\x83\\xb9\\xee\\x88f\\xa5\\xe0\\xbe\\xb7\\x86\\xcb\\x8c\\xd0%\\x8du8\\xa6\\xa1\\x9e\\xbd\\x84\\xe0h\\xc6M\\x1e\\xdf)\\xe4\\xcb:R\\x07\\x98x\\rr=\\xf0\\x90\\x02\\xd4U\\xf9\\xb8\\xc5\\xad\\xe7\\xf9\\xcf-\\xb6~[k2H\\x85\\xa2\\x15\\xab\\x8a\\xc1\\xa6]Fd\\xae\\xd96|K\\x99T+p\\x99\\xf0=}\\x01q\\xf7\\xc7\\xef\\xcb\\x1e!\\x81qj*\\x9e\\xa1VU\\xbb{\\xb7F;G\\xb28\\x90\\x19\\xd0\\xb0\\t!}\\xf3C&3\\x8du\\xbe;\\xdeP\\x9b\\x08\\x1b]\\xdf\\xa9\\x1e\\xc2\\xae\\xfd5-d\\xb9\\x89q\\xf9\\xa3\\xed\\xc56:oB\\xd6\\xacy\\xf7\\x13b\\xf0\\x87\\x8b{Okv[[\\xbd\\xbb\\xce\\x98\\x0f\\xcd\\x1d\\xcf\\xa3\\xdbaO\\xfa\\x90\\x88\\x8f\\xda\\xca\\xc0\\x9d\\xcf4\\xc4\\xf7\\xacn:S\\x9f\\x17=1\\x8f\\xa1Gwb\\xa5Y\\xb3\\\\5\\xf6\\xabk\\xe7\\xab\\xbdY&]\\xbe\\x81B\\xa3\\'\\xcbJ\\x1d\\xf3<\\x9c=\\xa6\\x81\\t\\xc4\\xbeM\\xaeM\\x86\\x92\\xe2W\\xacD\\x1a\\xfb\\xa2\\x8cJxE^qO\\xee5\\xb3\\xf2\\xd8\\xf8E8\\xcd\\xe0\\x06\\xc2\\xeb\\xa0q\\xbc\\xc8\\xf6\\xdb\\x1c\\xf2`\\x1f\\x9d\\xeaCw\\xbcF\\xb1C\\x8c\\x85D\\xb6\\x9f\\xad\\x12\\xa5\\xd9\\xc8\\x8d\\xd3\\xeda\\x10\\xd1\\x03F\\x8c\\xdd\\xc2\\x86\\xf9n\\xaaj+\\r\\x18\\x81\\xd6\\'\\x10\\x86:\\xcfS\\xd1K^]\\xb5R\\xb7\\x17\"\\xf1N\\xea\\xe6\\x93\\x9f\\x92A\\xf1\\x0f\\xe9\\xbc\\x85c\\xed\\x99\\xb9\\x11\\xfcp\\xc1[\\xd7\\xc5\\x17\\t<\\x08\\x86\\x14T\\x110\\xb7Q\\xe4\\xfb\\xbb[j#Dw\\xbe\\xf1c\\x89\\xcfP\\xf9\\xa6rG0\\xd0\\xcf\\xa2\\xd0:\\x85>)\\xc0\\x81\\x1f_9j\\x83\\xfeC\\x05y Fy\\x96\\x0cja\\xf9-\\xf2W\\x83I\\xd7\\xe8\\xb0\\x1a\\x9f*\\'\\x9e\\x1f\\x9a\\xa6\\xc1\\x05\\x1d\\xfe #\\xbc\\xc4V\\x11\\x17\\xb0\\xfb8\\xce\\xbb!\\xf3aDE\\xc8\\xa0o\\x8d\\xbd\\xa3\\xf8\\xe2Ri\\x07z\\x1e\\xe7\\x1c\\xb3\\x18i\\xd3\\xe4\\xdc(6\\r\\x96\\xf1\\xbb2\\xab\\xb8\\xe3$\\xad;\\x8c\\xb0\\x1d]h\\xfc\\xbb4\\xaaG\\x9a\\xe0\\x9b\\x1eN\\x0b\\x1b\\xb2/Wi\\xfd\\x1a\\x17[M\\xdf\\x8f-\\x89ze\\xde\\x0b\\x84\\x04\\n\\x94\\x94\\x93t\\xfd\\x0c\\xe3\\x98c\\x06\\xb0\\xd1\\xc8%Sf\\xad\\x12\\x87\\xe7\\x98\\xf4_\\xc4\\x87[oP\\x029\\xfe\\xb6\\x13+\\xc0w!\\xa2\\xbe\\x18\\xfaI\\x07\\x96\\xc3\\xea\\x9e(a\\xfc\\xa3K\\xc6I[\\xc7@\\x84J\\xd8\\xc3\\xc9\\xe9\\xaaTA1\\xbf\\xd1\\xb9\\xf7\\xf4@\\x08\\xeaQ\\x81\\xe8\\x1b\\xd9\\xea\\xca7\\xb4*U\\xdcL=K\\x98\\x17\\x7f\\x1bBn\\xec\\x12y\\xe4\\xafn\\xfd\\xf5\\xd2}\\xeb\\xfd\\x99\\xedgO)\\xa7m\\xaa\\xd5\\xb4\\x9c_\\xacK\\x03\\x88\\xf6\\xf6v\\xf9\\xf5O2\\x8d|\\xc2\\xf5\\\\Y\\x81\\xb6\\x8aX\\xc7$#C\\xba_\\xb3\\xd7\\xe5\\xbe\\x87\\x9b\\x07\\x81@\\x9c\\xd7\\x95\\xed\\x12.\\xe9\\xcb\\xa2\\x84\\x0f\\x00\\xb5\\xde\\xfa\\xf8\\xdd\\xb1:\\xebQq\"\\xe8x\\xff\\xf2\\x91\\x7f\\xcf\\xda\\xa6t\\x95\\x1b\\xfb\\x00\\x94\\xed\\xd9\\xff\"\\xbc#k\\x16/m\\r\\xe8\\xe7\\x00\\x97~\\xf7\\xf3\\xbf\\xec\\xb1G\\'`\\xf4\\x839x\\xeaieRp\\x9d\\xec\\xdd\\x0f\\xc2\\x8e\\xb7E\\xf3V*\\xa7\\xf2pTsU\\x17.\\xd70\\xfd\\xb3\\xcc\\\\\\xd5S\\xce\\xe3\\xc3\\xc7!%1B\"NJ|R\\x1b\\xa0\\xdd|\\xae*\\xb3\\x8b\\x06K\\x92\\xdf\\x82\\x90\\xa2\\xb97\\xb68]p\\xb8\\xb4t\\x84\\xa7\\xf6\\xfb}\\xeaP&\\xd6K\\x8e\\xf7:\\xb4Z\\x896\\xc7\\x8c\\xfcSw\\x93\\xab,y\\x84\\xa0,1'\n",
      "decrypted:\n",
      "b'\\xcb\\xd8A\\xc1bX\\x91!a\\x97\\xa3w\\xe3\\xbe\\xf42\\xa4\\xb4\\x94\\xf6b\\xd51\\xf03%\\xd9y|\\xa9fT\\xcfc\\xd6\\xe2\\xb5:\\xad\\xe5\\xb6S\\n\\x80\\xe2 \"\\xf9_\\x8cc\\x17\\xf4@O\\xd5\\x03_\\xdcW]\\xdf\\x1b`\\xe4T\\xb7\\x19\\xc7\\xdaeX\\x1a*\\x9cw\\xe9\\xe8\\x15N\\xd3\\xbf(\\xa2\\xb2f\\xff-?\\x8b\\x89\\xadTh\\n\\x87\\xc4\\x1a\\xe0\\xa3\\xa24\\xf19O\\xfc\\xee\\xf4\\xf9-/\\x06\\xf1)\\xb0\\t\\x1d8\\x08\\x9bIN\\x1c\\x96o\\xb1\\x11\\xe09O\\x043\\x00\\x0c\\xcc\\x17\\xach5\\xa3\\xf5\\xce\\xe2c\\x7f\\x96\\xb8Y\\xf2=\\xe8\\xc6/:\\x90)s1\\x98\\xeaj\\x8e\\x88\\xf2\\\\ok`c\\tR\\xadGG\\xcbg\\xabG\\xaeM\\xe2\\xaez\\x0b%\\x19\\xb6\\x04\\xf3\\x1f\\xde\\x13\\x92i\\xf4\\xaap\\xde\\xbe\\xc1zc\\xe16$c\\xf4\\xe8\\xdd\\xab\\x11`\\xda\\xd3\\xe1\\xefi\\x8f|X\\x84i\\xf9\\xb1W\\xb4v\\xe0\\x1b=Nq`\\xc4\\xe7z+i\\xcf\\xe1\\x7f\\x06\\xe8Z\\xd28\\x93!.\\xb0\\x85U\\x02\\xc5\\xae\\x07\\xd6\\xf59\\xed\\x97\\x8e\\xeb\\xe5\\xd5\\xd1\\x97\\xb9n\\xd9rS\\x02\\x17.\\x15pYs(\\x9e\\xacy\\x9e\\\\\\x8f\\xb0b\\x80:\\x1b\\xf1\\xdd4|-\\xe6\\x8d\\xc7\"\\xff\\xf3\\\\tu^\\xf7\\x1b\\xed\\x1f\\x01=\\x8d&\\xe9\\xca-|\\xef\\xc7u\\x17\\xdd\\xcb\\x91\\x18\\xdd\\xe79\\xbd\\x19\\xeb\\x13\\x01\\n7Sb\\xa2\\xe8\\xfay\\x050\\xb4\\x194{\\xfc6\\xf0C\\x98\\xd0\\x07\\x81\\xeap\\x08\\xf8\\x91Nh\\xcf\\x19\\xd2\\x81f\\xcf\\xd2\\xed;\\xd5\\xdf\\xca\\xa2\\xcd\\xf6\\xa7GY\\xb9\\x86\\xebC\\x84\\xffE\\x9e\\x0b \\x9c\\xf4_\\x81|vhDn\\x1av.}8\\xa5\\xe5r\\x96\\x03\\x95<W\\x86\\xcc\\x9a\\xd0\\x01\\xd4\\\\_\\x93\\x82\\x15\\\\\\xa2\\xb4\\x11\\x03\\xd53\\x952%\\xa6\\xbe\\x98\\xd0\\x17\\n=\\x08\\xdc\\x00\\xc1\\x1b\\xeb\\xe5\\xcc\\t\\xee\\xa0S\\xe8Qj[\\xcff\\x1fLh\\xa1mH\\xaa(_\\xeb\\xc7\\xaf\\xe9,\\xe6z\\xceqq\\x0bA\\x90{\\xb2!\\xd98@\\x94\\xe8\\x14\\xb0\\xda\"\\x1d\\xd9m\\xa3_\\x0b\\xd7\"6\\xa8\\xe3\\x99U9\\x18\\x92!\\x7f\\xbdJ\\x7f!\\xb7x\\xf8Vm\\xc7B\\xf0\\x92\\x98\\xae\\xc7\\xa4\\x04\\xc7\\xa0\\xc9\\xb4T\\xad\\x03\\\\+\\xab\\xbe\\xda@\\xc3\\xec\\xf0Y6B\\x7f\\x0f\\x87\\xda\\x98JU\\x14T\\x921\\x18\\xee\\xbe[\\xe8x\\xba\\xa6T\\xfb\\x08\\x8bv\\xb8\\xad4\\xbb\\xeb\\xe1&x\\x19^\\xb7\\x8b\\x82M\\xc4!\\xda7\\xe261\\x06\\xc57\\x06XB:\\xe8\\xa5\\xda\\xe3h\\xa6\\xb3\\x94\\xc9v\\xa3\\xbe\\x05C\\xd4F&\\x94\\x08\\xe3rq\\x165\\x9d?\\xc6\\xa2\\xd8\\xf2Jnd\\xc1k\\xd4!\\x0b\\xaaA\\x83\\xad\\xc5i=\\xe9\\xe2;\\xbf@\\x84\\x7feC\\xc3\\xd9\\x124\\xdeq\\xf7\\x05\\x95\\xdd\\xd0gM\\x03\\xfe\\xa0D9\\r\\xe9aJ\\x13\\x0f39N\\x130B\\xa9\\r\\xef7\\x82\\x7fH\\x16\\xda}\\x9b6\\x05\\x15\\xc2l\\x9b\\x1d\\x82\\xa2\\xa5,\\x7f\\xbd\\xf3\\xa6\\xcb*}\\x7f\\xf8\\xdc\\x1fO.\\x13\\x83\\x1f\\x06\\xae\\x84b\\x98o\\x92t\\xcefr^\\x0b\\x8d\\x08Q\\xc9z\\x9b\\x19\\xbb\\xefMiau\\x82\\xe23\\x17\\x1fU\\n\\xc7\\x95\\xd0F1A\\xe4\\x85p\\xdd\\x83\\xb9\\xee\\x88f\\xa5\\xe0\\xbe\\xb7\\x86\\xcb\\x8c\\xd0%\\x8du8\\xa6\\xa1\\x9e\\xbd\\x84\\xe0h\\xc6M\\x1e\\xdf)\\xe4\\xcb:R\\x07\\x98x\\rr=\\xf0\\x90\\x02\\xd4U\\xf9\\xb8\\xc5\\xad\\xe7\\xf9\\xcf-\\xb6~[k2H\\x85\\xa2\\x15\\xab\\x8a\\xc1\\xa6]Fd\\xae\\xd96|K\\x99T+p\\x99\\xf0=}\\x01q\\xf7\\xc7\\xef\\xcb\\x1e!\\x81qj*\\x9e\\xa1VU\\xbb{\\xb7F;G\\xb28\\x90\\x19\\xd0\\xb0\\t!}\\xf3C&3\\x8du\\xbe;\\xdeP\\x9b\\x08\\x1b]\\xdf\\xa9\\x1e\\xc2\\xae\\xfd5-d\\xb9\\x89q\\xf9\\xa3\\xed\\xc56:oB\\xd6\\xacy\\xf7\\x13b\\xf0\\x87\\x8b{Okv[[\\xbd\\xbb\\xce\\x98\\x0f\\xcd\\x1d\\xcf\\xa3\\xdbaO\\xfa\\x90\\x88\\x8f\\xda\\xca\\xc0\\x9d\\xcf4\\xc4\\xf7\\xacn:S\\x9f\\x17=1\\x8f\\xa1Gwb\\xa5Y\\xb3\\\\5\\xf6\\xabk\\xe7\\xab\\xbdY&]\\xbe\\x81B\\xa3\\'\\xcbJ\\x1d\\xf3<\\x9c=\\xa6\\x81\\t\\xc4\\xbeM\\xaeM\\x86\\x92\\xe2W\\xacD\\x1a\\xfb\\xa2\\x8cJxE^qO\\xee5\\xb3\\xf2\\xd8\\xf8E8\\xcd\\xe0\\x06\\xc2\\xeb\\xa0q\\xbc\\xc8\\xf6\\xdb\\x1c\\xf2`\\x1f\\x9d\\xeaCw\\xbcF\\xb1C\\x8c\\x85D\\xb6\\x9f\\xad\\x12\\xa5\\xd9\\xc8\\x8d\\xd3\\xeda\\x10\\xd1\\x03F\\x8c\\xdd\\xc2\\x86\\xf9n\\xaaj+\\r\\x18\\x81\\xd6\\'\\x10\\x86:\\xcfS\\xd1K^]\\xb5R\\xb7\\x17\"\\xf1N\\xea\\xe6\\x93\\x9f\\x92A\\xf1\\x0f\\xe9\\xbc\\x85c\\xed\\x99\\xb9\\x11\\xfcp\\xc1[\\xd7\\xc5\\x17\\t<\\x08\\x86\\x14T\\x110\\xb7Q\\xe4\\xfb\\xbb[j#Dw\\xbe\\xf1c\\x89\\xcfP\\xf9\\xa6rG0\\xd0\\xcf\\xa2\\xd0:\\x85>)\\xc0\\x81\\x1f_9j\\x83\\xfeC\\x05y Fy\\x96\\x0cja\\xf9-\\xf2W\\x83I\\xd7\\xe8\\xb0\\x1a\\x9f*\\'\\x9e\\x1f\\x9a\\xa6\\xc1\\x05\\x1d\\xfe #\\xbc\\xc4V\\x11\\x17\\xb0\\xfb8\\xce\\xbb!\\xf3aDE\\xc8\\xa0o\\x8d\\xbd\\xa3\\xf8\\xe2Ri\\x07z\\x1e\\xe7\\x1c\\xb3\\x18i\\xd3\\xe4\\xdc(6\\r\\x96\\xf1\\xbb2\\xab\\xb8\\xe3$\\xad;\\x8c\\xb0\\x1d]h\\xfc\\xbb4\\xaaG\\x9a\\xe0\\x9b\\x1eN\\x0b\\x1b\\xb2/Wi\\xfd\\x1a\\x17[M\\xdf\\x8f-\\x89ze\\xde\\x0b\\x84\\x04\\n\\x94\\x94\\x93t\\xfd\\x0c\\xe3\\x98c\\x06\\xb0\\xd1\\xc8%Sf\\xad\\x12\\x87\\xe7\\x98\\xf4_\\xc4\\x87[oP\\x029\\xfe\\xb6\\x13+\\xc0w!\\xa2\\xbe\\x18\\xfaI\\x07\\x96\\xc3\\xea\\x9e(a\\xfc\\xa3K\\xc6I[\\xc7@\\x84J\\xd8\\xc3\\xc9\\xe9\\xaaTA1\\xbf\\xd1\\xb9\\xf7\\xf4@\\x08\\xeaQ\\x81\\xe8\\x1b\\xd9\\xea\\xca7\\xb4*U\\xdcL=K\\x98\\x17\\x7f\\x1bBn\\xec\\x12y\\xe4\\xafn\\xfd\\xf5\\xd2}\\xeb\\xfd\\x99\\xedgO)\\xa7m\\xaa\\xd5\\xb4\\x9c_\\xacK\\x03\\x88\\xf6\\xf6v\\xf9\\xf5O2\\x8d|\\xc2\\xf5\\\\Y\\x81\\xb6\\x8aX\\xc7$#C\\xba_\\xb3\\xd7\\xe5\\xbe\\x87\\x9b\\x07\\x81@\\x9c\\xd7\\x95\\xed\\x12.\\xe9\\xcb\\xa2\\x84\\x0f\\x00\\xb5\\xde\\xfa\\xf8\\xdd\\xb1:\\xebQq\"\\xe8x\\xff\\xf2\\x91\\x7f\\xcf\\xda\\xa6t\\x95\\x1b\\xfb\\x00\\x94\\xed\\xd9\\xff\"\\xbc#k\\x16/m\\r\\xe8\\xe7\\x00\\x97~\\xf7\\xf3\\xbf\\xec\\xb1G\\'`\\xf4\\x839x\\xeaieRp\\x9d\\xec\\xdd\\x0f\\xc2\\x8e\\xb7E\\xf3V*\\xa7\\xf2pTsU\\x17.\\xd70\\xfd\\xb3\\xcc\\\\\\xd5S\\xce\\xe3\\xc3\\xc7!%1B\"NJ|R\\x1b\\xa0\\xdd|\\xae*\\xb3\\x8b\\x06K\\x92\\xdf\\x82\\x90\\xa2\\xb97\\xb68]p\\xb8\\xb4t\\x84\\xa7\\xf6\\xfb}\\xeaP&\\xd6K\\x8e\\xf7:\\xb4Z\\x896\\xc7\\x8c\\xfcSw\\x93\\xab,y\\x84\\xa0,1'\n"
     ]
    }
   ],
   "source": [
    "BiConnection(Emitter,Receiver).auto()"
   ]
  },
  {
   "cell_type": "markdown",
   "metadata": {},
   "source": [
    "## Sessão Síncrona com _Elliptic Curve Diffie-Hellman_"
   ]
  },
  {
   "cell_type": "code",
   "execution_count": null,
   "metadata": {},
   "outputs": [],
   "source": []
  }
 ],
 "metadata": {
  "kernelspec": {
   "display_name": "Python 3",
   "language": "python",
   "name": "python3"
  },
  "language_info": {
   "codemirror_mode": {
    "name": "ipython",
    "version": 3
   },
   "file_extension": ".py",
   "mimetype": "text/x-python",
   "name": "python",
   "nbconvert_exporter": "python",
   "pygments_lexer": "ipython3",
   "version": "3.7.2"
  }
 },
 "nbformat": 4,
 "nbformat_minor": 2
}
