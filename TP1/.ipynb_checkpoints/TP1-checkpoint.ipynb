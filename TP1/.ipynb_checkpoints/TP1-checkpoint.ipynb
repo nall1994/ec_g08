{
 "cells": [
  {
   "cell_type": "markdown",
   "metadata": {},
   "source": [
    "# Trabalho Prático 1"
   ]
  },
  {
   "cell_type": "markdown",
   "metadata": {},
   "source": [
    "## Introdução"
   ]
  },
  {
   "cell_type": "markdown",
   "metadata": {},
   "source": [
    "A resolução deste trabalho prático tem como objetivo aprofundar o conhecimento na implementação de sessões cifradas e seguras num ambiente entre um emissor e um recetor.\n",
    "Os objetivos principais deste trabalho prático são:\n",
    "\n",
    "- A construção de uma sessão de comunicação síncrona entre um emissor e um recetor.\n",
    "- A utilização do protocolo de **Diffie_Hellman** com verificação de chave e autenticação dos agentes na sessão anteriormente referida.\n",
    "- Utilização do **DSA** para a autenticação dos agentes.\n",
    "- Utilização do **TAES** como cifra simétrica, com autenticação do criptograma em cada superbloco.\n",
    "- Finalmente, o último objetivo passa por implementar novamente o cenário anterior mas, desta feita, utilizando o **ECDH** (Elliptic Curve Diffie-Hellman) em vez do **DH** e o **ECDSA** (Elliptic Curve Digital Signature Algorithm) em vez do **DSA**.\n",
    "\n",
    "Este relatório está escrito de forma a que o texto escrito entre o código desenvolvido seja suficientemente explicativo do que está a ser implementado, o que, na nossa opinião, permite uma leitura e compreensão facilitada do mesmo."
   ]
  },
  {
   "cell_type": "markdown",
   "metadata": {},
   "source": [
    "## Sessão Síncrona com _Diffie-Hellman_"
   ]
  },
  {
   "cell_type": "markdown",
   "metadata": {},
   "source": [
    "### Imports"
   ]
  },
  {
   "cell_type": "markdown",
   "metadata": {},
   "source": [
    "Esta secção tem como objetivo importar os módulos **Python** necessários para desenvolver a sessão síncrona entre os agentes, utilizando o protocolo **DH** e o **DSA**."
   ]
  },
  {
   "cell_type": "code",
   "execution_count": 1,
   "metadata": {},
   "outputs": [],
   "source": [
    "import os\n",
    "from multiprocessing import Process,Pipe\n",
    "from cryptography.hazmat.backends import default_backend\n",
    "from cryptography.hazmat.primitives import hashes, hmac\n",
    "from cryptography.exceptions import InvalidSignature\n",
    "from cryptography.hazmat.primitives.asymmetric import dsa\n",
    "from cryptography.hazmat.primitives import serialization\n",
    "from cryptography.hazmat.primitives.ciphers import Cipher, algorithms, modes"
   ]
  },
  {
   "cell_type": "markdown",
   "metadata": {},
   "source": [
    "### Definição da classe de multiprocessamento"
   ]
  },
  {
   "cell_type": "markdown",
   "metadata": {},
   "source": [
    "Esta secção tem o propósito de definir a classe de multiprocessamento, que permite uma comunicação bidireccional com o _Emitter_ e o _Receiver_, sendo estes dois processos criados e implementados pela **API** [**multiprocessing**](https://docs.python.org/2/library/multiprocessing.html)."
   ]
  },
  {
   "cell_type": "code",
   "execution_count": 2,
   "metadata": {},
   "outputs": [],
   "source": [
    "class BiConnection(object):\n",
    "    def __init__(self,left,right):\n",
    "        left_side,right_side = Pipe()\n",
    "        self.timeout = None\n",
    "        self.left_process = Process(target=left,args=(left_side,))\n",
    "        self.right_process = Process(target=right,args=(right_side,))\n",
    "        self.left = lambda : left(left_side)\n",
    "        self.right = lambda : right(right_side)\n",
    "    \n",
    "    def auto(self,proc=None):\n",
    "        if proc == None:\n",
    "            self.left_process.start()\n",
    "            self.right_process.start()\n",
    "            self.left_process.join(self.timeout)\n",
    "            self.right_process.join(self.timeout)\n",
    "        else:\n",
    "            proc.start()\n",
    "            proc.join()\n",
    "    \n",
    "    def manual(self): \n",
    "        self.left()\n",
    "        self.right()"
   ]
  },
  {
   "cell_type": "markdown",
   "metadata": {},
   "source": [
    "### Geração dos parâmetros _Diffie-Hellman_"
   ]
  },
  {
   "cell_type": "markdown",
   "metadata": {},
   "source": [
    "Esta secção tem o objetivo de gerar os parâmetros necessários para a geração de chaves **DH** por parte de ambos os agentes."
   ]
  },
  {
   "cell_type": "code",
   "execution_count": 3,
   "metadata": {},
   "outputs": [],
   "source": [
    "parameters = dsa.generate_parameters(key_size=3072,backend=default_backend())"
   ]
  },
  {
   "cell_type": "markdown",
   "metadata": {},
   "source": [
    "### Geração das chaves permanentes dos agentes"
   ]
  },
  {
   "cell_type": "markdown",
   "metadata": {},
   "source": [
    "Esta secção tem como objetivo gerar as chaves permanentes dos agentes envolvidos na comunicação, tendo em conta que estas são as que são utilizadas na troca de chaves utilizando o protocolo **Diffie-Hellman**, com o objetivo de estabelecer uma chave temporária de sessão."
   ]
  },
  {
   "cell_type": "code",
   "execution_count": 4,
   "metadata": {},
   "outputs": [],
   "source": [
    "# Geração da chave do Emissor\n",
    "emitter_sk = parameters.generate_private_key() #chave privada\n",
    "emitter_pk = emitter_sk.public_key() #chave pública\n",
    "\n",
    "# Geração da chave do Recetor\n",
    "receiver_sk = parameters.generate_private_key() #chave privada\n",
    "receiver_pk = receiver_sk.public_key() #chave pública\n"
   ]
  },
  {
   "cell_type": "markdown",
   "metadata": {},
   "source": [
    "### Definição do Emissor e do Recetor"
   ]
  },
  {
   "cell_type": "markdown",
   "metadata": {},
   "source": [
    "Nesta secção está definido o comportamento de cada um dos agentes ao utilizar esta sessão síncrona segura de troca de informação."
   ]
  },
  {
   "cell_type": "code",
   "execution_count": 5,
   "metadata": {},
   "outputs": [],
   "source": [
    "def Emissor(connection):\n",
    "    pub = emitter_pk.public_bytes(\n",
    "        encoding = serialization.Encoding.PEM,\n",
    "        format = serialization.PublicFormat.SubjectPublicKeyInfo)\n",
    "    signature = emitter_sk.sign(pub,hashes.SHA256())\n",
    "    message = {'pk': pub, 'sig': signature}\n",
    "    connection.send(message)\n",
    "    receiver_first = connection.recv()\n",
    "    receiver_public_key = serialization.load_pem_public_key(receiver_first['pk'],default_backend())\n",
    "    receiver_public_key.verify(receiver_first['sig'],receiver_first['pk'],hashes.SHA256())\n",
    "    print(\"OK\")\n",
    "    "
   ]
  },
  {
   "cell_type": "code",
   "execution_count": 6,
   "metadata": {},
   "outputs": [],
   "source": [
    "def Recetor(connection):\n",
    "    emitter_first = connection.recv()\n",
    "    emitter_public_key = serialization.load_pem_public_key(emitter_first['pk'],default_backend())\n",
    "    emitter_public_key.verify(emitter_first['sig'],emitter_first['pk'],hashes.SHA256())\n",
    "    pub = receiver_pk.public_bytes(\n",
    "        encoding = serialization.Encoding.PEM,\n",
    "        format = serialization.PublicFormat.SubjectPublicKeyInfo)\n",
    "    signature = receiver_sk.sign(pub,hashes.SHA256())\n",
    "    message = {'pk':pub,'sig':signature}\n",
    "    connection.send(message)\n",
    "    print(\"OK\")\n",
    "    "
   ]
  },
  {
   "cell_type": "code",
   "execution_count": 7,
   "metadata": {},
   "outputs": [
    {
     "name": "stdout",
     "output_type": "stream",
     "text": [
      "receiver before verifying\n",
      "OK\n",
      "emitter before verifying\n",
      "OK\n"
     ]
    }
   ],
   "source": [
    "BiConnection(Emissor,Recetor).auto()"
   ]
  },
  {
   "cell_type": "code",
   "execution_count": null,
   "metadata": {},
   "outputs": [],
   "source": []
  }
 ],
 "metadata": {
  "kernelspec": {
   "display_name": "Python 3",
   "language": "python",
   "name": "python3"
  },
  "language_info": {
   "codemirror_mode": {
    "name": "ipython",
    "version": 3
   },
   "file_extension": ".py",
   "mimetype": "text/x-python",
   "name": "python",
   "nbconvert_exporter": "python",
   "pygments_lexer": "ipython3",
   "version": "3.7.2"
  }
 },
 "nbformat": 4,
 "nbformat_minor": 2
}
