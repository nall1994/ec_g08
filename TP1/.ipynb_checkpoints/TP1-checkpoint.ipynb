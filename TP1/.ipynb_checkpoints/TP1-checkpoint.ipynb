{
 "cells": [
  {
   "cell_type": "markdown",
   "metadata": {},
   "source": [
    "# Trabalho Prático 1"
   ]
  },
  {
   "cell_type": "markdown",
   "metadata": {},
   "source": [
    "## Introdução"
   ]
  },
  {
   "cell_type": "markdown",
   "metadata": {},
   "source": [
    "A resolução deste trabalho prático tem como objetivo implementar um abiente seguro, constituído por um emissor e um recetor, através de sessões cifradas e seguras.\n",
    "A solução implmentada, foi estruturada da seguinte forma:\n",
    "\n",
    "- Construção de uma sessão de comunicação síncrona entre um emissor e um recetor.\n",
    "- Utilização do protocolo de **Diffie_Hellman** com verificação de chave e autenticação dos agentes, na sessão anteriormente referida.\n",
    "- Utilização do **DSA** para a autenticação dos agentes.\n",
    "- Utilização do **TAES** como cifra simétrica, com autenticação do criptograma em cada superbloco.\n",
    "- Implementar novamente o cenário anterior mas, desta feita vez, utilizando o **ECDH** (Elliptic Curve Diffie-Hellman) em vez do **DH** e o **ECDSA** (Elliptic Curve Digital Signature Algorithm) em vez do **DSA**.\n",
    "\n",
    "Este relatório está escrito de forma a que o texto escrito entre o código desenvolvido seja suficientemente explicativo do que está a ser implementado, o que, na nossa opinião, permite uma leitura e compreensão facilitada do mesmo."
   ]
  },
  {
   "cell_type": "markdown",
   "metadata": {},
   "source": [
    "## Código comum"
   ]
  },
  {
   "cell_type": "markdown",
   "metadata": {},
   "source": [
    "Esta secção tem como objetivo definir _snippets_ de código que serão utilizados tanto na definição da sessão síncrona com **DH** como na sessão síncrona com **ECDH**, tais como os _imports_ de módulos necessários, as funções auxiliares necessárias e a classe de multiprocessamento."
   ]
  },
  {
   "cell_type": "markdown",
   "metadata": {},
   "source": [
    "### Imports"
   ]
  },
  {
   "cell_type": "markdown",
   "metadata": {},
   "source": [
    "De seguida, encontram-se os módulos **Python** importados e necessários para desenvolver a sessão síncrona entre os agentes, utilizando, em primeira instância, o protocolo **DH** e o algoritmo de assinaturas **DSA** e, numa segunda instância, o protocolo **ECDH** e o algoritmo de assinaturas **ECDSA**."
   ]
  },
  {
   "cell_type": "code",
   "execution_count": 1,
   "metadata": {},
   "outputs": [],
   "source": [
    "import os,io\n",
    "from multiprocessing import Process,Pipe\n",
    "from cryptography.hazmat.backends import default_backend\n",
    "from cryptography.hazmat.primitives import hashes, hmac\n",
    "from cryptography.exceptions import *\n",
    "from cryptography.hazmat.primitives.asymmetric import dsa\n",
    "from cryptography.hazmat.primitives.asymmetric import dh\n",
    "from cryptography.hazmat.primitives.asymmetric import ec\n",
    "from cryptography.hazmat.primitives import serialization\n",
    "from cryptography.hazmat.primitives.kdf.hkdf import HKDF\n",
    "from cryptography.hazmat.primitives.ciphers import Cipher, algorithms, modes"
   ]
  },
  {
   "cell_type": "markdown",
   "metadata": {},
   "source": [
    "### Definição das funções do processo criptográfico"
   ]
  },
  {
   "cell_type": "markdown",
   "metadata": {},
   "source": [
    "Esta secção tem o objetivo de definir funções que serão utilizadas nas sessões síncronas, tanto na que utiliza **DH** como na que utiliza **ECDH**. Essas funções são as seguintes:\n",
    "\n",
    "- `Hash(s)`, que tem como propósito calcular um _digest_ de uma dada mensagem.\n",
    "\n",
    "- `next_tweak(initial,current_counter)`, que tem como propósito calcular o próximo _tweak_ a utilizar no bloco que vai ser cifrado/decifrado, com base no _nounce_ inicial e no número do bloco que está a ser processadoa atualmente.\n",
    "\n",
    "- `bytes_xor(a,b)`, que tem como propósito realizar o _XOR_ _byte_ a _byte_ de duas dadas sequências de _bytes.\n",
    "\n",
    "- `calculate_parity(blocks,number_blocks)`, que tem como objetivo calcular a paridade de um conjunto de blocos, para que seja gerada a sua _tag_ de autenticação.\n",
    "\n",
    "- `calculate_auth_tweak(initial_tweak,number_blocks)`, que tem como objetivo calcular o _tweak_ utilizado para cifrar a paridade dos blocos cifrados.\n",
    "\n",
    "- As funções `cifra_blocos(current_counter,initial_tweak,blocks,number_blocks,cipher_context)` e `decifra_blocos(current_counter,initial_tweak,blocks,number_blocks,decipher_context)` têm como objetivo cifrar/decifrar, respetivamente, um conjunto de blocos aplicando a cada bloco a função de cifra ou de decifragem.\n",
    "\n",
    "- As funções `cifra(block,tweak,cipher_context)` e `decifra(block,tweak,decipher_context` têm como objetivo cifrar/decifrar um dado bloco utilizando para o efeito a função $ Ẽ(s,x) = E(s,x \\oplus h(w)) \\oplus h(w) $.\n",
    "\n",
    "É relevante referir que as operações de cifra e de decifra utilizam exatamente a mesma fórmula e, logo, são iguais, mas estão separadas apenas por uma questão de mais simples compreensão do problema em questão, bem como da sua resolução.\n",
    "Além disso, neste processo criptográfico foi utilizado o modo **TAE** (_Tweakable Authenticated Encryption_)."
   ]
  },
  {
   "cell_type": "code",
   "execution_count": 2,
   "metadata": {},
   "outputs": [],
   "source": [
    "def Hash(s):\n",
    "    digest = hashes.Hash(hashes.SHA256(),backend=default_backend())\n",
    "    digest.update(s)\n",
    "    return digest.finalize()\n",
    "\n",
    "def next_tweak(initial, current_counter):\n",
    "    str = format(current_counter, '063b')\n",
    "    str = str + '0'\n",
    "    b_str = int(str,2).to_bytes((len(str) + 7) // 8, 'big')\n",
    "    return (initial + b_str)\n",
    "\n",
    "def bytes_xor(a, b) :\n",
    "    return bytes(x ^ y for x, y in zip(a, b))\n",
    "\n",
    "def calculate_parity(blocks,number_blocks):\n",
    "    str = format(0,'128b') # O número 0 é elemento neutro no XOR\n",
    "    parity = int(str,2).to_bytes((len(str) + 7) // 8, 'big')\n",
    "    bytes_processed = 0\n",
    "    while(bytes_processed < (16*number_blocks)):\n",
    "        max_bytes = bytes_processed + 16\n",
    "        block_to_xor = blocks[bytes_processed:max_bytes]\n",
    "        parity = bytes_xor(parity,block_to_xor)\n",
    "        bytes_processed += 16\n",
    "    return parity\n",
    "\n",
    "def calculate_auth_tweak(initial_tweak,number_blocks):\n",
    "    str = format(number_blocks*16,'063b')\n",
    "    str = str + '1'\n",
    "    b_str = int(str,2).to_bytes((len(str) + 7) // 8, 'big')\n",
    "    return (initial_tweak + b_str)\n",
    "\n",
    "def cifra_blocos(current_counter,initial_tweak,blocks,number_blocks,cipher_context):\n",
    "    bytes_processed = 0\n",
    "    cryptogram = bytearray(160)\n",
    "    while(bytes_processed < (16*number_blocks)):\n",
    "        max_bytes = bytes_processed + 16\n",
    "        block_to_process = blocks[bytes_processed:max_bytes]\n",
    "        tweak = next_tweak(initial_tweak,current_counter)\n",
    "        block_crypt = cifra(block_to_process,tweak,cipher_context)\n",
    "        cryptogram[bytes_processed:max_bytes] = block_crypt\n",
    "        bytes_processed += 16\n",
    "        current_counter += 1\n",
    "    return {\"crypt\": bytes(cryptogram), \"i\": current_counter}\n",
    "        \n",
    "\n",
    "def cifra(block,tweak,cipher_context):\n",
    "    hw = Hash(tweak)\n",
    "    x_xor_hw = bytes_xor(block,hw)\n",
    "    e_s_x_hw = cipher_context.update(x_xor_hw)\n",
    "    cryptogram = bytes_xor(e_s_x_hw, hw)\n",
    "    return cryptogram\n",
    "\n",
    "def decifra_blocos(current_counter,initial_tweak,blocks,number_blocks,decipher_context):\n",
    "    bytes_processed = 0\n",
    "    text = bytearray(160)\n",
    "    while(bytes_processed < (16*number_blocks)):\n",
    "        max_bytes = bytes_processed + 16\n",
    "        block_to_process = blocks[bytes_processed:max_bytes]\n",
    "        tweak = next_tweak(initial_tweak,current_counter)\n",
    "        block_text = decifra(block_to_process,tweak, decipher_context)\n",
    "        text[bytes_processed:max_bytes] = block_text\n",
    "        bytes_processed += 16\n",
    "        current_counter += 1\n",
    "    return {\"text\": bytes(text), \"i\": current_counter}\n",
    "\n",
    "def decifra(block,tweak,decipher_context):\n",
    "    hw = Hash(tweak)\n",
    "    x_xor_hw = bytes_xor(block,hw)\n",
    "    e_s_x_hw = decipher_context.update(x_xor_hw)\n",
    "    cryptogram = bytes_xor(e_s_x_hw, hw)\n",
    "    return cryptogram\n",
    "    "
   ]
  },
  {
   "cell_type": "markdown",
   "metadata": {},
   "source": [
    "### Definição da classe de multiprocessamento"
   ]
  },
  {
   "cell_type": "markdown",
   "metadata": {},
   "source": [
    "No seguinte código, é definida a classe de multiprocessamento, que permite uma comunicação bidireccional com o _Emitter_ e o _Receiver_, sendo estes dois processos criados e implementados pela **API** [**multiprocessing**](https://docs.python.org/2/library/multiprocessing.html)."
   ]
  },
  {
   "cell_type": "code",
   "execution_count": 3,
   "metadata": {},
   "outputs": [],
   "source": [
    "class BiConnection(object):\n",
    "    def __init__(self,left,right):\n",
    "        left_side,right_side = Pipe()\n",
    "        self.timeout = None\n",
    "        self.left_process = Process(target=left,args=(left_side,))\n",
    "        self.right_process = Process(target=right,args=(right_side,))\n",
    "        self.left = lambda : left(left_side)\n",
    "        self.right = lambda : right(right_side)\n",
    "    \n",
    "    def auto(self,proc=None):\n",
    "        if proc == None:\n",
    "            self.left_process.start()\n",
    "            self.right_process.start()\n",
    "            self.left_process.join(self.timeout)\n",
    "            self.right_process.join(self.timeout)\n",
    "        else:\n",
    "            proc.start()\n",
    "            proc.join()\n",
    "    \n",
    "    def manual(self): \n",
    "        self.left()\n",
    "        self.right()"
   ]
  },
  {
   "cell_type": "markdown",
   "metadata": {},
   "source": [
    "## Sessão Síncrona com _Diffie-Hellman_"
   ]
  },
  {
   "cell_type": "markdown",
   "metadata": {},
   "source": [
    "### Geração dos parâmetros _Diffie-Hellman_"
   ]
  },
  {
   "cell_type": "markdown",
   "metadata": {},
   "source": [
    "A próxima secção implementa a geração dos parâmetros necessários para a derivação de chaves **DH** e **DSA**, por parte de ambos os agentes."
   ]
  },
  {
   "cell_type": "code",
   "execution_count": 4,
   "metadata": {},
   "outputs": [],
   "source": [
    "parameters_dh = dh.generate_parameters(generator=2,key_size=1024,backend=default_backend())\n",
    "# O tamanho tem que ser 3072 bits, alterar depois."
   ]
  },
  {
   "cell_type": "markdown",
   "metadata": {},
   "source": [
    "### Geração das chaves permanentes dos agentes"
   ]
  },
  {
   "cell_type": "markdown",
   "metadata": {},
   "source": [
    "Esta secção tem como objetivo gerar as chaves permanentes dos agentes envolvidos na comunicação, tendo em conta que estas são conhecidas por ambos, e serão aplicadas na assinatura digital das mensagens."
   ]
  },
  {
   "cell_type": "code",
   "execution_count": 5,
   "metadata": {},
   "outputs": [],
   "source": [
    "# Geração das chaves do Emissor\n",
    "emitter_dsa_sk = dsa.generate_private_key(3072,default_backend()) #chave privada DSA\n",
    "emitter_dsa_pk = emitter_dsa_sk.public_key() #chave pública DSA\n",
    "\n",
    "# Geração das chaves do Recetor\n",
    "receiver_dsa_sk = dsa.generate_private_key(3072,default_backend()) #chave privada DSA\n",
    "receiver_dsa_pk = receiver_dsa_sk.public_key() #chave pública DSA"
   ]
  },
  {
   "cell_type": "markdown",
   "metadata": {},
   "source": [
    "### Definição do Emissor e do Recetor"
   ]
  },
  {
   "cell_type": "markdown",
   "metadata": {},
   "source": [
    "Por fim definiu-se o comportamento de cada um dos agentes nesta sessão síncrona segura de troca de informação. Na definição de ambos, é assumido que as chaves públicas **DSA** utilizadas na autenticação dos agentes já são conhecidas por ambos. As chaves **DH** são geradas por sessão de modo a acordar uma chave temporária, para que seja possível cifrar e decifrar uma mensagem utilizando uma primitiva simétrica.\n"
   ]
  },
  {
   "cell_type": "code",
   "execution_count": 6,
   "metadata": {},
   "outputs": [],
   "source": [
    "def Emitter(connection):\n",
    "    #Implementação Protocolo Diffie-Hellman\n",
    "    emitter_dh_sk = parameters_dh.generate_private_key()\n",
    "    emitter_dh_pk = emitter_dh_sk.public_key()\n",
    "    pub = emitter_dh_pk.public_bytes(\n",
    "        encoding = serialization.Encoding.PEM,\n",
    "        format = serialization.PublicFormat.SubjectPublicKeyInfo)\n",
    "    signature = emitter_dsa_sk.sign(pub,hashes.SHA256())\n",
    "    message = {'pk': pub, 'sig': signature}\n",
    "    connection.send(message)\n",
    "    receiver_first = connection.recv()\n",
    "    receiver_dh_public_key = serialization.load_pem_public_key(receiver_first['pk'],default_backend())\n",
    "    receiver_dsa_pk.verify(receiver_first['sig'],receiver_first['pk'],hashes.SHA256())\n",
    "    master_key = emitter_dh_sk.exchange(receiver_dh_public_key)\n",
    "    \n",
    "    #Passar a chave de sessão acordada (master_key) por um kdf\n",
    "    shared_key = HKDF(\n",
    "        algorithm = hashes.SHA256(),\n",
    "        length = 32,\n",
    "        salt = None,\n",
    "        info = b'exchange data',\n",
    "        backend = default_backend()\n",
    "    ).derive(master_key)\n",
    "    \n",
    "    #Verificar a chave, enviando um hash da chave derivada para confirmar\n",
    "    #que tanto emissor como recetor possuem a mesma chave.\n",
    "    \n",
    "    key_digest = Hash(shared_key)\n",
    "    signature = emitter_dsa_sk.sign(key_digest,hashes.SHA256())\n",
    "    connection.send({'digest': key_digest, 'sig': signature})\n",
    "    \n",
    "    key_check_obj = connection.recv()\n",
    "    receiver_dsa_pk.verify(key_check_obj[\"sig\"],bytes(key_check_obj[\"message\"],'utf8'),hashes.SHA256())\n",
    "    if key_check_obj[\"message\"] == \"OK\":\n",
    "        #Prosseguir com a cifra/decifra síncrona\n",
    "        message_size = 1600\n",
    "        gen_bytes = os.urandom(message_size)\n",
    "        print('gen_bytes')\n",
    "        print(gen_bytes)\n",
    "        inputs = io.BytesIO(gen_bytes)\n",
    "        #inicialização do tweak como um nounce de 64 bits (n/2)\n",
    "        tweak_init = os.urandom(8)\n",
    "\n",
    "        connection.send(tweak_init)\n",
    "\n",
    "        buffer = bytearray(160)\n",
    "        cipher = Cipher(algorithms.AES(shared_key),modes.ECB(),backend=default_backend()).encryptor()\n",
    "        i = 1\n",
    "        try:\n",
    "            while inputs.readinto(buffer):\n",
    "                cipher_object = cifra_blocos(i,tweak_init,buffer,10,cipher)\n",
    "                cryptogram = cipher_object[\"crypt\"]\n",
    "                parity = calculate_parity(buffer,10)\n",
    "                auth_tweak = calculate_auth_tweak(tweak_init,10)\n",
    "                auth_tag = cifra(parity,auth_tweak,cipher)\n",
    "                i = cipher_object[\"i\"]\n",
    "                msg_to_send = {'crypt': cryptogram, 'tag': auth_tag}\n",
    "                connection.send(msg_to_send)\n",
    "                msg = connection.recv()\n",
    "                if(not(msg == 'OK')):\n",
    "                    print('Erro no processo!')\n",
    "                    break\n",
    "        except Exception as err:\n",
    "            print('Erro no emissor! {0}'.format(err))\n",
    "        connection.send('finalized')   \n",
    "        inputs.close()\n",
    "    else:\n",
    "        print('Chaves não coincidiram')\n",
    "    connection.close()    "
   ]
  },
  {
   "cell_type": "code",
   "execution_count": 7,
   "metadata": {},
   "outputs": [],
   "source": [
    "def Receiver(connection):\n",
    "    #Implementação protocolo Diffie-Hellman\n",
    "    emitter_first = connection.recv()\n",
    "    receiver_dh_sk = parameters_dh.generate_private_key()\n",
    "    receiver_dh_pk = receiver_dh_sk.public_key()\n",
    "    emitter_dh_public_key = serialization.load_pem_public_key(emitter_first['pk'],default_backend())\n",
    "    emitter_dsa_pk.verify(emitter_first['sig'],emitter_first['pk'],hashes.SHA256())\n",
    "    master_key = receiver_dh_sk.exchange(emitter_dh_public_key)\n",
    "    pub = receiver_dh_pk.public_bytes(\n",
    "        encoding = serialization.Encoding.PEM,\n",
    "        format = serialization.PublicFormat.SubjectPublicKeyInfo)\n",
    "    signature = receiver_dsa_sk.sign(pub,hashes.SHA256())\n",
    "    message = {'pk':pub,'sig':signature}\n",
    "    connection.send(message)\n",
    "    \n",
    "    #Passar a chave de sessão acordada (master_key) por um kdf\n",
    "    shared_key = HKDF(\n",
    "        algorithm = hashes.SHA256(),\n",
    "        length = 32,\n",
    "        salt = None,\n",
    "        info = b'exchange data',\n",
    "        backend = default_backend()\n",
    "    ).derive(master_key)\n",
    "    \n",
    "    key_check_obj = connection.recv()\n",
    "    emitter_dsa_pk.verify(key_check_obj['sig'],key_check_obj['digest'],hashes.SHA256())\n",
    "    digest = Hash(shared_key)\n",
    "    if digest == key_check_obj[\"digest\"]:\n",
    "        message = \"OK\"\n",
    "        signature = receiver_dsa_sk.sign(bytes(message,'utf8'),hashes.SHA256())\n",
    "        obj = {\"message\":message, 'sig': signature}\n",
    "        connection.send(obj)\n",
    "        \n",
    "        #prosseguir com o modo de decifra síncrono\n",
    "    \n",
    "        outputs = io.BytesIO()\n",
    "        tweak_init = connection.recv()\n",
    "\n",
    "        cipher = Cipher(algorithms.AES(shared_key),modes.ECB(),backend=default_backend()).decryptor()\n",
    "        i = 1\n",
    "        try:\n",
    "            while True:\n",
    "                buffer = connection.recv()\n",
    "                if(buffer == 'finalized'):\n",
    "                    outputs.write(cipher.finalize())\n",
    "                    break\n",
    "                else:\n",
    "                    crypt = buffer['crypt']\n",
    "                    tag = buffer['tag']\n",
    "                    decipher_object = decifra_blocos(i, tweak_init,crypt,10,cipher)\n",
    "                    text = decipher_object[\"text\"]\n",
    "                    i = decipher_object[\"i\"]\n",
    "                    parity = calculate_parity(text,10)\n",
    "                    auth_tweak = calculate_auth_tweak(tweak_init,10)\n",
    "                    auth_tag = decifra(tag,auth_tweak,cipher)\n",
    "                    if(auth_tag == parity):\n",
    "                        connection.send('OK')\n",
    "                    else:\n",
    "                        print('AUTH ERROR')\n",
    "                        connection.send('AUTH ERROR')\n",
    "                        break\n",
    "                    outputs.write(text)\n",
    "            print('decrypted:')\n",
    "            print(outputs.getvalue())\n",
    "        except Exception as Err:\n",
    "            print('Erro no recetor! {0}'.format(Err))\n",
    "\n",
    "        outputs.close()\n",
    "    else:\n",
    "        print('Chaves não coincidiram')\n",
    "    connection.close()\n",
    "    "
   ]
  },
  {
   "cell_type": "code",
   "execution_count": 8,
   "metadata": {},
   "outputs": [
    {
     "name": "stdout",
     "output_type": "stream",
     "text": [
      "gen_bytes\n",
      "b'\\x17\\x19r\\xbf\\xce\\xf4\\xachZ\\xb5:\\xb0cQ\\x1d\\x1c\\xa3\\x12g\\xdc\\xe9lz\\xec>\\xc6\\r\\xe0\\x04\\xf2}pN\\x1c\\x13\\xfef#^\\xae\\xfa\\x06qf\\x1c\\x01)\\xe3[\\x86GY\\x170\\x8f\\x9f\\xf78y=ZC+\\x02\\x8e\\x1d&\\x1c\\xbf}\\xdfn\\xd2\\x07T\\xedm\\xa0\\xb8\\xd0\"\\xe7\\xebqK\\xe8wd\\x80\\xcb\\xd3\\xf8\\x8eL\\x12\\x9f\\xb3\\x80 Y\\xddm\"\\x1fs\\x94LE(\\xf0z^#\\x9d\\xf3\\x96\\x16\\xa5;e\\xa3\\x9647u1\\x9d\\xed\\x1c\\x95\\xd6u\\xf1pZ\\xff\\xcc\\xdf\\x94I\\xed\\xec\\x86\\xc3\\x99\\xe1\\x00\\xfd\\xed\\xdf\\x1e\\xce\\xf4\\xd5\\x89\\xb7\\x94iq\\xb3\\xcc\"\\xb0\\x87\\x9a~\\x12}(\"\\x16\\xb3\\xf6\\x10\\x86j\\\\\\xe3\\xc3\\x93X*)\\xaen\\xd8\\x88\",\\xf2^\\xd8p\\xa0\\xa4\\x8e\\x12\\x10\\xae\\x9f\\xe1\\xb4\\x01\\xc3K\\xf1J\\xac2\\x81\\x10\\x03\\xc9\\x90\\x006\\x9a\\x7f\\xf59\\xa8%\\xb1\\x08U\\xb8\\xbc\\xa9\\x99\\x94\\x01\\x0bG\\xeb\\xac@$!\\xb7P\\x93\\xcf\\\\)\\xecQy\\xda\\xdbX\\xa8T\\xce\\x10\\x93<\\xa4\\xa8-8\\xa3\\xd7\\xb8\\xc6kE\\xc87\\xfc7(\\x1d\\xdb\\x81Rnv\\x918\\xbfs\\x16}\\x17\\xf3\\xec\\xb8\\x16#\\x98y\\x19,\\xbf\\x977\\x89\\xf7X+%Vu|\\x1d\\xb6`r\\x1f\\x9b;6J,\\xf4\\x90g\\x1d\\xfa\\x17U\\xd0\\xe9@p\\x9b\\x1d9\\xd8\\x03\\xdc#UK\\xd5\\xa5\\xc5\\xbf\\x9e\\xc3\\xad#\\xdf\\xea\\x02\\xff\\xab\\xe2\\xcf/s\\x92\\xe7\\xb8\\xcf\\x91\\x87\\x9aZ\\xda\\\\0\\x12\\x1f\\xab\\x9b4\\xdfi\\xb3\\xe6\\xc5\\xac\\xc3\\xf59\\xf0&\\x0cf\\x9a\\x83(*QoaO\\xb6\\xc3\\xa4Ih\\x0f\\xf3f\\xc4k\\xe4\\xfc\\x80\\xdbJ\\x9c)\\xa3W]\\xd7\\xf4\\xbb\\x07\\x90\\xe5\\'`?\\xf4\\xaf,\\x1f\\xa5\\xca\\x1aR,QS\\x8eL\\x85\\xb8\\x8a\\xf8\\xff\\xe6\\x9546\\xbe\\xde\\xbc)g\\xd4`)\\xde\\x85\\xe7U\\xc2\\x08>d\\xf1)[\\xec\\x8f\\xf8\\xce\\xe8\\xe13\\xcb\\x03\"\\xeb\\xdd\\xec.\\xbd\\xfc\\x7f\\xd4\\xf5\\xe7XX9\\x81\\x13\\xe2\\x1df\\'!\\x91\\x8e\\xcd\\x8bM\\x0f#A\\x99\\x9c\\x96\\xdd\\xd2\\xa2\\xe8\\tQN\\xc1\\x18\\xe8W\\x12w\\t\\x84$\\xc1\\x1a\\xb37\\x84\\xe2?Q\\x18\\xc8\\x00y\\x15\\xaa\\xad\\x92k0 \\x7f\\xf4\\xd80O\\xbc%\\xc0q\\xa7V\\xd1\\x0bhgA\\xd5\\xb4k\\xdd\\xb3|r\\xab\\xdd\\x12U\\xac\\xfe\\x14\\xebN\\xe5\\xd6\\x7f\\xb6\\x926T5\\xb4V\\xdd]\\xc6N\\x15\\x1c\\xd7\\x94aKO\\xd0[\\xf2]\\xb0I\\xc2=\\x15\\x83\\xf9\\x03\\xce?{\\x11\\x99\\xcc\\xc10j\\xc7x>\\x13\\xb3\\xe7\\xb3\\x1a\\x8cOu\\x0e\"\\x9c\\x1f\\xda\\x9f\\xf6\\xec\\xe7\\x8cQ\\x86\\x01\\x16>lo\\x08\\xbbp\\x19\\x12G\\x92\\xd9\\xd0\\x16\\x17\\xf60fm\\xce\\xbc\\xd8\\x0b\\xd8b\\xcb\\xe2\\xa8\\xd2Hb\\xa5Q\\x9d\\xe1\\x06\\x16\\xed\\x89\\x00\\xcc\\x98/)\\xc2\\xaf\\x95\\xd1\\xceKj\\nW\\x85\\xb5\\xa7\\xc8]\\xdbiF\\xb9v\\xd93\\xf8\\x04\\x8cI\\xdbk\\xca\\xdf\\t\\x9a\\xd8>f\\x89\\x8b\\n5\\x9f\\xd5\\xc4\\x96\\x94]\\x99 W\\xc6\\x12&\\xf1\\xf9\\xdb\\x05e\\xdby\\xe9\\x0el9\\x90\\x12[p\\x1b \\xb6\\xa2\\xa8\\x95\\xb6\\xad\\xa0\\xcc\\xcfq\\xd4Y\\xb7:\\xe2Z\\xc92\\x83|Z5\\rH\\xbc\\xc7\\xbb\\x92\\x9e\\x8d\\xfa\\x9a\\xfc\\x8dR\\xbb\\xb9\\xe6\\x84g\\x83\\xc6\\x02\\x8b\\x9c\\xa2\\xe4\\x86\\x0by.\\x94z\"(\\xc5\\x8c\\x83\\xfdyf\\xba\\xec\\x01e\\x84\\xfd\\xe5\\xedU\\xff\\xd11\\xb4n?hw\\x86\\x15\\xea\\x88\\x12c\\xc4\\rx~J\\x17\\rx\\x9c2\\x9d\\xcd!l\\xc2\\xa6\\xb1z\\x9a{n\\xd6\\x0c\\xfe0Z\\xa7(\\'\\xcb\\x0f\\xc3\\x88\\xc1\\xb1DU\\xc9.\\xab\\xab\\xd7W\\xdb/FP\\xfb\\xe8,\\xf7=<\\xed\\xae-V\\x96\\x9b\\xcf\\x1fJ\\xef\\x88C\\x88\\x91\\xc4S\\x95u\\x93\\x9a\\x0e\\'z\\xa2G\\xaf\\xd6\\x98N~5\\xcd8\\xd8\\xd6\\x00\\x07X\\xa6\\xa4PA\\x8bp\\x87\\x1d\\x9eG,\\xb6\\xc0H\\xc0\\xaehwSh\\xdab\\xa85\\x11t,B\\x91\\x8d\\xa5\\x8f\\xa8\\xe0\\xb1h\\xfcZ\\xf3\\xc0\\x00k\\x97F\\xb7\\xe7H\\xc5\\x8cJ\\xc9\\xae]\\x83a\\xbc\\xb6\\xb7\\x11\\xe1\\xfc}\\xf0\\xb6\\xaa\\x86J\\x00T?96\\xd3?,\\x96\\x80\\xcb7x\\'\\x8a\\xb0\\x01\\xdf1(l\\x18f\\xda\\xe94\\xf3\\xd5\\x95c?2*\\xde\\xa4\\x99K\\x9c\\x9d\\xe2\\xcd\\x9e\\r\\x90nv\\xcd]<\\xf1z\\xbdU\\xeb\\x7f\\xb1F\\x87\\xfaJW\\x98/\\xe0\\x15\\xaa\\x13M+\\x15\\xdd\\x197\\xb3\\xe4(\\xbd(\\xb1-T\\xb1\\x16\\xec\\xd5\\t\\xcfn\\x92\\xa8\\xda4}\\x17$\\xcf\\x84\\xf7?\\x85\\x05>\\xde\\xddR\\xd7&\\xc7\\xc4\\x9fs5\\x81\\xe0K\\xfc\\xc0\\x80\\xff\\xd3\\x8aQ\\x9f&\\xef\\x10\\xda\\xdf\\x04\\xe0\\xb5\\xf7\\xd8|\\x9aD?&\\xfc,\\xa8\\xa2\\xa9M\\xc6\\x98\\xfc5\\x1e\\x91\\xa3\\x9bvy\\xc1\\xdd\\xc7\\xc9\\xd4\\'\\x02\\xf9\\x7f\\x0c\\xd3\\xb1\\xcfX\\x0f0\\x0e\\xc8|\\xddow\\xcb,\\x0c\\xc8*(U\\x05\\xb1\\xe5\\x1e\\xdac*2\"\\xd9\\xbf\\xb9m&\\r\\x8b!9y\\xe4\\xbdy\\xadJ\\x00$\\xdcv\\xe8vrtH\\x17\\x0fW\\xbb\\xa9J\\xdej\\xc5\\x08\\x03\\x0e\\xded\\x00\\xf5S*\\xb1\\xb4\\xf2h\\\\\\xe1\\xae\\x0b\\x93\\x96E\\x17Z\\x10\\xd7\\xdd\\xd0\\x9bV\\xae~\\x1d\\xa7r\\xd6XVC\\x83\\xb5\\xff\\xaa\\x01NAM8\\xa4\\xa4&y\\x1e}\\x1f\\r\\x17:\\xe5\\xee\"&\\x02\\x81y\\xf6\\x88\\xa8\\nnQ\\xc2\\xce\\x8fS\\x8e\\x8b\\xae\\xddf\\x03\\x179\\x08\\x9dD8\\xc8\\xd2\\xb2.o\\xe3\\xf9\\xd0K`E\\xc1\\xb1\\xe8\\xf1\\x90\\x8f\\xae-\\xe6H\\xd7\\xd9\\xb3\\x06\\xfd0\\x93G\\x8d\\xb5\\x9a\\xbd\\x1aQ\\x14A\\xef\\x9c^+\\xc6\\xb7\\xe2O\\x85[\\r\\xa6\\xa5\\x06B\\xde,r\\xd3Up\\x89\\x96uB\\x81!\\x99ys\\x13\\xad\\xd7\\xe1\\xc8hF\\xce?\\xc5\\x98lT\\xaf\\xf0\\xdeQ\\x9d\\xd6\\xf5_-\\x83Zb\\x84C\\x992l\\x03\\xdeO\\xf1)j\\xb0\\n\\xb7\\xffyk\\xa7{\\xf9\\x07\\xe7\\xc0\\x92\\xa9]{O\\xd7\\xfbo\\x9f\\xe5<\\x13\\xbe\\xe8\\xee\\x07\\xf1\\xc8\\x1d\\xb6\\x94\\xf2n\\xbeq\\xcb\\x92\\'\\xdam\\xaan\\xbef\\x03\\x8asf\\x94gHK\\xdaM\\x89\\xd3`a3\\xa9!\\xdav\\xe7\\x16\\x82f\\x98{<\\xc5\\x83\\xf2\\x0b\\xfb)\\x14\\xf7M\\xc2\\x8f\\xf8\\x18\\xb3\\xe1*\\x9a@\\x891\\x13T\\x16@~^B\\xb2\\x7f\\xc2\\x12w\\x19B\\\\\\x0b\\x88\\xc1qp\\x91\\xca\\xa8\\x87>\\x8d\\xe6K\\xf4\\x01\\xc4\\xcf\\x076\\x868\\xaa0\\x08A;nI\\xfd<\\x86\\x05n\\xcd\\xf9\\xf4\\xaaHq\\xe2\\x0b\\xfa\\xc9\\x81\\x9d\\xfc\\xf1\\xef\\xf8\\x00Z\\x8a\\xde\\x94\\xd8\\xa9\\xcc\\xe9\\x19\\xff\\xa6\\xa3j\\x7f=-O:\\xa7\\x1f\\x1a\\xfdh\\x86\\x05\\xbd}\\xc7J\\xa5\\xa54\\xd2\\x98\\x9f\\xb3\\x04\\xb0Q \\x92\\xfd\\xfe\\'\\xff'\n",
      "decrypted:\n",
      "b'\\x17\\x19r\\xbf\\xce\\xf4\\xachZ\\xb5:\\xb0cQ\\x1d\\x1c\\xa3\\x12g\\xdc\\xe9lz\\xec>\\xc6\\r\\xe0\\x04\\xf2}pN\\x1c\\x13\\xfef#^\\xae\\xfa\\x06qf\\x1c\\x01)\\xe3[\\x86GY\\x170\\x8f\\x9f\\xf78y=ZC+\\x02\\x8e\\x1d&\\x1c\\xbf}\\xdfn\\xd2\\x07T\\xedm\\xa0\\xb8\\xd0\"\\xe7\\xebqK\\xe8wd\\x80\\xcb\\xd3\\xf8\\x8eL\\x12\\x9f\\xb3\\x80 Y\\xddm\"\\x1fs\\x94LE(\\xf0z^#\\x9d\\xf3\\x96\\x16\\xa5;e\\xa3\\x9647u1\\x9d\\xed\\x1c\\x95\\xd6u\\xf1pZ\\xff\\xcc\\xdf\\x94I\\xed\\xec\\x86\\xc3\\x99\\xe1\\x00\\xfd\\xed\\xdf\\x1e\\xce\\xf4\\xd5\\x89\\xb7\\x94iq\\xb3\\xcc\"\\xb0\\x87\\x9a~\\x12}(\"\\x16\\xb3\\xf6\\x10\\x86j\\\\\\xe3\\xc3\\x93X*)\\xaen\\xd8\\x88\",\\xf2^\\xd8p\\xa0\\xa4\\x8e\\x12\\x10\\xae\\x9f\\xe1\\xb4\\x01\\xc3K\\xf1J\\xac2\\x81\\x10\\x03\\xc9\\x90\\x006\\x9a\\x7f\\xf59\\xa8%\\xb1\\x08U\\xb8\\xbc\\xa9\\x99\\x94\\x01\\x0bG\\xeb\\xac@$!\\xb7P\\x93\\xcf\\\\)\\xecQy\\xda\\xdbX\\xa8T\\xce\\x10\\x93<\\xa4\\xa8-8\\xa3\\xd7\\xb8\\xc6kE\\xc87\\xfc7(\\x1d\\xdb\\x81Rnv\\x918\\xbfs\\x16}\\x17\\xf3\\xec\\xb8\\x16#\\x98y\\x19,\\xbf\\x977\\x89\\xf7X+%Vu|\\x1d\\xb6`r\\x1f\\x9b;6J,\\xf4\\x90g\\x1d\\xfa\\x17U\\xd0\\xe9@p\\x9b\\x1d9\\xd8\\x03\\xdc#UK\\xd5\\xa5\\xc5\\xbf\\x9e\\xc3\\xad#\\xdf\\xea\\x02\\xff\\xab\\xe2\\xcf/s\\x92\\xe7\\xb8\\xcf\\x91\\x87\\x9aZ\\xda\\\\0\\x12\\x1f\\xab\\x9b4\\xdfi\\xb3\\xe6\\xc5\\xac\\xc3\\xf59\\xf0&\\x0cf\\x9a\\x83(*QoaO\\xb6\\xc3\\xa4Ih\\x0f\\xf3f\\xc4k\\xe4\\xfc\\x80\\xdbJ\\x9c)\\xa3W]\\xd7\\xf4\\xbb\\x07\\x90\\xe5\\'`?\\xf4\\xaf,\\x1f\\xa5\\xca\\x1aR,QS\\x8eL\\x85\\xb8\\x8a\\xf8\\xff\\xe6\\x9546\\xbe\\xde\\xbc)g\\xd4`)\\xde\\x85\\xe7U\\xc2\\x08>d\\xf1)[\\xec\\x8f\\xf8\\xce\\xe8\\xe13\\xcb\\x03\"\\xeb\\xdd\\xec.\\xbd\\xfc\\x7f\\xd4\\xf5\\xe7XX9\\x81\\x13\\xe2\\x1df\\'!\\x91\\x8e\\xcd\\x8bM\\x0f#A\\x99\\x9c\\x96\\xdd\\xd2\\xa2\\xe8\\tQN\\xc1\\x18\\xe8W\\x12w\\t\\x84$\\xc1\\x1a\\xb37\\x84\\xe2?Q\\x18\\xc8\\x00y\\x15\\xaa\\xad\\x92k0 \\x7f\\xf4\\xd80O\\xbc%\\xc0q\\xa7V\\xd1\\x0bhgA\\xd5\\xb4k\\xdd\\xb3|r\\xab\\xdd\\x12U\\xac\\xfe\\x14\\xebN\\xe5\\xd6\\x7f\\xb6\\x926T5\\xb4V\\xdd]\\xc6N\\x15\\x1c\\xd7\\x94aKO\\xd0[\\xf2]\\xb0I\\xc2=\\x15\\x83\\xf9\\x03\\xce?{\\x11\\x99\\xcc\\xc10j\\xc7x>\\x13\\xb3\\xe7\\xb3\\x1a\\x8cOu\\x0e\"\\x9c\\x1f\\xda\\x9f\\xf6\\xec\\xe7\\x8cQ\\x86\\x01\\x16>lo\\x08\\xbbp\\x19\\x12G\\x92\\xd9\\xd0\\x16\\x17\\xf60fm\\xce\\xbc\\xd8\\x0b\\xd8b\\xcb\\xe2\\xa8\\xd2Hb\\xa5Q\\x9d\\xe1\\x06\\x16\\xed\\x89\\x00\\xcc\\x98/)\\xc2\\xaf\\x95\\xd1\\xceKj\\nW\\x85\\xb5\\xa7\\xc8]\\xdbiF\\xb9v\\xd93\\xf8\\x04\\x8cI\\xdbk\\xca\\xdf\\t\\x9a\\xd8>f\\x89\\x8b\\n5\\x9f\\xd5\\xc4\\x96\\x94]\\x99 W\\xc6\\x12&\\xf1\\xf9\\xdb\\x05e\\xdby\\xe9\\x0el9\\x90\\x12[p\\x1b \\xb6\\xa2\\xa8\\x95\\xb6\\xad\\xa0\\xcc\\xcfq\\xd4Y\\xb7:\\xe2Z\\xc92\\x83|Z5\\rH\\xbc\\xc7\\xbb\\x92\\x9e\\x8d\\xfa\\x9a\\xfc\\x8dR\\xbb\\xb9\\xe6\\x84g\\x83\\xc6\\x02\\x8b\\x9c\\xa2\\xe4\\x86\\x0by.\\x94z\"(\\xc5\\x8c\\x83\\xfdyf\\xba\\xec\\x01e\\x84\\xfd\\xe5\\xedU\\xff\\xd11\\xb4n?hw\\x86\\x15\\xea\\x88\\x12c\\xc4\\rx~J\\x17\\rx\\x9c2\\x9d\\xcd!l\\xc2\\xa6\\xb1z\\x9a{n\\xd6\\x0c\\xfe0Z\\xa7(\\'\\xcb\\x0f\\xc3\\x88\\xc1\\xb1DU\\xc9.\\xab\\xab\\xd7W\\xdb/FP\\xfb\\xe8,\\xf7=<\\xed\\xae-V\\x96\\x9b\\xcf\\x1fJ\\xef\\x88C\\x88\\x91\\xc4S\\x95u\\x93\\x9a\\x0e\\'z\\xa2G\\xaf\\xd6\\x98N~5\\xcd8\\xd8\\xd6\\x00\\x07X\\xa6\\xa4PA\\x8bp\\x87\\x1d\\x9eG,\\xb6\\xc0H\\xc0\\xaehwSh\\xdab\\xa85\\x11t,B\\x91\\x8d\\xa5\\x8f\\xa8\\xe0\\xb1h\\xfcZ\\xf3\\xc0\\x00k\\x97F\\xb7\\xe7H\\xc5\\x8cJ\\xc9\\xae]\\x83a\\xbc\\xb6\\xb7\\x11\\xe1\\xfc}\\xf0\\xb6\\xaa\\x86J\\x00T?96\\xd3?,\\x96\\x80\\xcb7x\\'\\x8a\\xb0\\x01\\xdf1(l\\x18f\\xda\\xe94\\xf3\\xd5\\x95c?2*\\xde\\xa4\\x99K\\x9c\\x9d\\xe2\\xcd\\x9e\\r\\x90nv\\xcd]<\\xf1z\\xbdU\\xeb\\x7f\\xb1F\\x87\\xfaJW\\x98/\\xe0\\x15\\xaa\\x13M+\\x15\\xdd\\x197\\xb3\\xe4(\\xbd(\\xb1-T\\xb1\\x16\\xec\\xd5\\t\\xcfn\\x92\\xa8\\xda4}\\x17$\\xcf\\x84\\xf7?\\x85\\x05>\\xde\\xddR\\xd7&\\xc7\\xc4\\x9fs5\\x81\\xe0K\\xfc\\xc0\\x80\\xff\\xd3\\x8aQ\\x9f&\\xef\\x10\\xda\\xdf\\x04\\xe0\\xb5\\xf7\\xd8|\\x9aD?&\\xfc,\\xa8\\xa2\\xa9M\\xc6\\x98\\xfc5\\x1e\\x91\\xa3\\x9bvy\\xc1\\xdd\\xc7\\xc9\\xd4\\'\\x02\\xf9\\x7f\\x0c\\xd3\\xb1\\xcfX\\x0f0\\x0e\\xc8|\\xddow\\xcb,\\x0c\\xc8*(U\\x05\\xb1\\xe5\\x1e\\xdac*2\"\\xd9\\xbf\\xb9m&\\r\\x8b!9y\\xe4\\xbdy\\xadJ\\x00$\\xdcv\\xe8vrtH\\x17\\x0fW\\xbb\\xa9J\\xdej\\xc5\\x08\\x03\\x0e\\xded\\x00\\xf5S*\\xb1\\xb4\\xf2h\\\\\\xe1\\xae\\x0b\\x93\\x96E\\x17Z\\x10\\xd7\\xdd\\xd0\\x9bV\\xae~\\x1d\\xa7r\\xd6XVC\\x83\\xb5\\xff\\xaa\\x01NAM8\\xa4\\xa4&y\\x1e}\\x1f\\r\\x17:\\xe5\\xee\"&\\x02\\x81y\\xf6\\x88\\xa8\\nnQ\\xc2\\xce\\x8fS\\x8e\\x8b\\xae\\xddf\\x03\\x179\\x08\\x9dD8\\xc8\\xd2\\xb2.o\\xe3\\xf9\\xd0K`E\\xc1\\xb1\\xe8\\xf1\\x90\\x8f\\xae-\\xe6H\\xd7\\xd9\\xb3\\x06\\xfd0\\x93G\\x8d\\xb5\\x9a\\xbd\\x1aQ\\x14A\\xef\\x9c^+\\xc6\\xb7\\xe2O\\x85[\\r\\xa6\\xa5\\x06B\\xde,r\\xd3Up\\x89\\x96uB\\x81!\\x99ys\\x13\\xad\\xd7\\xe1\\xc8hF\\xce?\\xc5\\x98lT\\xaf\\xf0\\xdeQ\\x9d\\xd6\\xf5_-\\x83Zb\\x84C\\x992l\\x03\\xdeO\\xf1)j\\xb0\\n\\xb7\\xffyk\\xa7{\\xf9\\x07\\xe7\\xc0\\x92\\xa9]{O\\xd7\\xfbo\\x9f\\xe5<\\x13\\xbe\\xe8\\xee\\x07\\xf1\\xc8\\x1d\\xb6\\x94\\xf2n\\xbeq\\xcb\\x92\\'\\xdam\\xaan\\xbef\\x03\\x8asf\\x94gHK\\xdaM\\x89\\xd3`a3\\xa9!\\xdav\\xe7\\x16\\x82f\\x98{<\\xc5\\x83\\xf2\\x0b\\xfb)\\x14\\xf7M\\xc2\\x8f\\xf8\\x18\\xb3\\xe1*\\x9a@\\x891\\x13T\\x16@~^B\\xb2\\x7f\\xc2\\x12w\\x19B\\\\\\x0b\\x88\\xc1qp\\x91\\xca\\xa8\\x87>\\x8d\\xe6K\\xf4\\x01\\xc4\\xcf\\x076\\x868\\xaa0\\x08A;nI\\xfd<\\x86\\x05n\\xcd\\xf9\\xf4\\xaaHq\\xe2\\x0b\\xfa\\xc9\\x81\\x9d\\xfc\\xf1\\xef\\xf8\\x00Z\\x8a\\xde\\x94\\xd8\\xa9\\xcc\\xe9\\x19\\xff\\xa6\\xa3j\\x7f=-O:\\xa7\\x1f\\x1a\\xfdh\\x86\\x05\\xbd}\\xc7J\\xa5\\xa54\\xd2\\x98\\x9f\\xb3\\x04\\xb0Q \\x92\\xfd\\xfe\\'\\xff'\n"
     ]
    }
   ],
   "source": [
    "BiConnection(Emitter,Receiver).auto()"
   ]
  },
  {
   "cell_type": "markdown",
   "metadata": {},
   "source": [
    "A comparação entre os valores dados por **gen_bytes** e por **decrypted** no output, por via da igualdade, permitem concluir que a mensagem que foi gerada é a mesma mensagem que foi decifrada."
   ]
  },
  {
   "cell_type": "markdown",
   "metadata": {},
   "source": [
    "## Sessão Síncrona com _Elliptic Curve Diffie-Hellman_"
   ]
  },
  {
   "cell_type": "markdown",
   "metadata": {},
   "source": [
    "### Geração das chaves permanentes dos agentes"
   ]
  },
  {
   "cell_type": "markdown",
   "metadata": {},
   "source": [
    "Esta secção tem como objetivo gerar as chaves permanentes de ambos os agentes, ou seja, as chaves que são utilizadas na autenticação dos mesmos."
   ]
  },
  {
   "cell_type": "code",
   "execution_count": 9,
   "metadata": {},
   "outputs": [],
   "source": [
    "# Geração das chaves do emissor\n",
    "emitter_ecdsa_sk = ec.generate_private_key(ec.SECP256R1(),default_backend()) #Chave privada\n",
    "emitter_ecdsa_pk = emitter_ecdsa_sk.public_key() #Chave pública\n",
    "\n",
    "# Geração das chaves do recetor\n",
    "receiver_ecdsa_sk = ec.generate_private_key(ec.SECP256R1(),default_backend()) #Chave privada\n",
    "receiver_ecdsa_pk = receiver_ecdsa_sk.public_key() #Chave pública"
   ]
  },
  {
   "cell_type": "markdown",
   "metadata": {},
   "source": [
    "### Definição do Emissor e do Recetor"
   ]
  },
  {
   "cell_type": "markdown",
   "metadata": {},
   "source": [
    "Nesta secção, é definido o comportamento de cada um dos agentes na sessão síncrona segura de troca de informação utilizando o protocolo **ECDH** e o algoritmo de assinatura **ECDSA**. É assumido que as chaves públicas **ECDSA** de cada agente já são conhecidas por ambos, pelo que podem ser utilizadas na autenticação dos agentes ao realizar o protocolo de acordo de chaves **ECDH**. As chaves **ECDH** são geradas por sessão, de forma a acordar uma chave de sessão temporária e comum que permita a utilização de uma primitiva simétrica."
   ]
  },
  {
   "cell_type": "code",
   "execution_count": 10,
   "metadata": {},
   "outputs": [],
   "source": [
    "def Emitter(connection):\n",
    "    #Implementação do protocolo Elliptic Curve Diffie-Hellman\n",
    "    emitter_ecdh_sk = ec.generate_private_key(ec.SECP521R1(), default_backend())\n",
    "    emitter_ecdh_pk = emitter_ecdh_sk.public_key()\n",
    "    pub = emitter_ecdh_pk.public_bytes(\n",
    "        encoding = serialization.Encoding.PEM,\n",
    "        format = serialization.PublicFormat.SubjectPublicKeyInfo\n",
    "    )\n",
    "    signature = emitter_ecdsa_sk.sign(\n",
    "        pub,\n",
    "        ec.ECDSA(hashes.SHA256())\n",
    "    )\n",
    "    message_to_send = {'pub': pub, 'sig': signature}\n",
    "    connection.send(message_to_send)\n",
    "    receiver_info = connection.recv()\n",
    "    receiver_ecdsa_pk.verify(receiver_info[\"sig\"],receiver_info[\"pub\"],ec.ECDSA(hashes.SHA256()))\n",
    "    receiver_pub = serialization.load_pem_public_key(receiver_info[\"pub\"],default_backend())\n",
    "    master_key = emitter_ecdh_sk.exchange(ec.ECDH(),receiver_pub)\n",
    "    shared_key = HKDF(\n",
    "        algorithm = hashes.SHA256(),\n",
    "        length = 32,\n",
    "        salt = None,\n",
    "        info = b'exchange data',\n",
    "        backend = default_backend()\n",
    "    ).derive(master_key)\n",
    "    \n",
    "    #Verificação da chave\n",
    "    shared_key_digest = Hash(shared_key)\n",
    "    signature = emitter_ecdsa_sk.sign(\n",
    "        shared_key_digest,\n",
    "        ec.ECDSA(hashes.SHA256())\n",
    "    )\n",
    "    msg = {'skd':shared_key_digest,'sig':signature}\n",
    "    connection.send(msg)\n",
    "    result = connection.recv()\n",
    "    receiver_ecdsa_pk.verify(result['sig'],result['msg'],ec.ECDSA(hashes.SHA256()))\n",
    "    if(result['msg'].decode('utf8') == 'OK'):\n",
    "        # Iniciar processo de cifra\n",
    "        message_size = 1600\n",
    "        gen_bytes = os.urandom(message_size)\n",
    "        print('bytes before cipher:')\n",
    "        print(gen_bytes)\n",
    "        inputs = io.BytesIO(gen_bytes)\n",
    "        \n",
    "        #Inicialização e envio dos primeiros 64 bits do tweak\n",
    "        tweak_init = os.urandom(8)\n",
    "        connection.send(tweak_init)\n",
    "        \n",
    "        buffer = bytearray(160)\n",
    "        cipher = Cipher(algorithms.AES(shared_key),modes.ECB(),backend=default_backend()).encryptor()\n",
    "        i = 1\n",
    "        try:\n",
    "            while inputs.readinto(buffer):\n",
    "                cipher_object = cifra_blocos(i,tweak_init,buffer,10,cipher)\n",
    "                cryptogram = cipher_object[\"crypt\"]\n",
    "                parity = calculate_parity(buffer,10)\n",
    "                auth_tweak = calculate_auth_tweak(tweak_init,10)\n",
    "                auth_tag = cifra(parity,auth_tweak,cipher)\n",
    "                i = cipher_object[\"i\"]\n",
    "                msg_to_send = {'crypt': cryptogram, 'tag': auth_tag}\n",
    "                connection.send(msg_to_send)\n",
    "                msg = connection.recv()\n",
    "                if(not(msg == 'OK')):\n",
    "                    print('Erro no processo!')\n",
    "                    break\n",
    "        except Exception as err:\n",
    "            print('Erro no emissor! {0}'.format(err))\n",
    "        connection.send('finalized')   \n",
    "        inputs.close()\n",
    "    else:\n",
    "        print(result['msg'].decode('utf8'))\n",
    "    connection.close()\n",
    "    "
   ]
  },
  {
   "cell_type": "code",
   "execution_count": 11,
   "metadata": {},
   "outputs": [],
   "source": [
    "def Receiver(connection):\n",
    "    #Implementação do protocolo Elliptic Curve Diffie-Hellman\n",
    "    emitter_info = connection.recv()\n",
    "    emitter_pub = emitter_info[\"pub\"]\n",
    "    sig = emitter_info[\"sig\"]\n",
    "    emitter_ecdsa_pk.verify(sig,emitter_pub,ec.ECDSA(hashes.SHA256()))\n",
    "    receiver_ecdh_sk = ec.generate_private_key(ec.SECP521R1(),default_backend())\n",
    "    receiver_ecdh_pk = receiver_ecdh_sk.public_key()\n",
    "    pub = receiver_ecdh_pk.public_bytes(\n",
    "        encoding = serialization.Encoding.PEM,\n",
    "        format = serialization.PublicFormat.SubjectPublicKeyInfo\n",
    "    )\n",
    "    signature = receiver_ecdsa_sk.sign(\n",
    "        pub,\n",
    "        ec.ECDSA(hashes.SHA256())\n",
    "    )\n",
    "    message_to_send = {'pub': pub, 'sig': signature}\n",
    "    connection.send(message_to_send)\n",
    "    key_check_info = connection.recv()\n",
    "    emitter_ecdsa_pk.verify(key_check_info[\"sig\"],key_check_info[\"skd\"],ec.ECDSA(hashes.SHA256()))\n",
    "    emitter_pub = serialization.load_pem_public_key(emitter_pub,default_backend())\n",
    "    master_key = receiver_ecdh_sk.exchange(ec.ECDH(),emitter_pub)\n",
    "    shared_key = HKDF(\n",
    "        algorithm = hashes.SHA256(),\n",
    "        length = 32,\n",
    "        salt = None,\n",
    "        info = b'exchange data',\n",
    "        backend = default_backend()\n",
    "    ).derive(master_key)\n",
    "    \n",
    "    #Verificação da chave\n",
    "    shared_key_digest = Hash(shared_key)\n",
    "    if(shared_key_digest == key_check_info[\"skd\"]):\n",
    "        message = bytes(\"OK\",'utf8')\n",
    "        signature = receiver_ecdsa_sk.sign(\n",
    "            message,\n",
    "            ec.ECDSA(hashes.SHA256())\n",
    "        )\n",
    "        connection.send({'msg':message, 'sig': signature})\n",
    "        # Iniciar processo de decifra\n",
    "        tweak_init = connection.recv()\n",
    "        outputs = io.BytesIO()\n",
    "        \n",
    "        cipher = Cipher(algorithms.AES(shared_key),modes.ECB(),backend=default_backend()).decryptor()\n",
    "        i = 1\n",
    "        try:\n",
    "            while True:\n",
    "                buffer = connection.recv()\n",
    "                if(buffer == 'finalized'):\n",
    "                    outputs.write(cipher.finalize())\n",
    "                    break\n",
    "                else:\n",
    "                    crypt = buffer['crypt']\n",
    "                    tag = buffer['tag']\n",
    "                    decipher_object = decifra_blocos(i, tweak_init,crypt,10,cipher)\n",
    "                    text = decipher_object[\"text\"]\n",
    "                    i = decipher_object[\"i\"]\n",
    "                    parity = calculate_parity(text,10)\n",
    "                    auth_tweak = calculate_auth_tweak(tweak_init,10)\n",
    "                    auth_tag = decifra(tag,auth_tweak,cipher)\n",
    "                    if(auth_tag == parity):\n",
    "                        connection.send('OK')\n",
    "                    else:\n",
    "                        print('AUTH ERROR')\n",
    "                        connection.send('AUTH ERROR')\n",
    "                        break\n",
    "                    outputs.write(text)\n",
    "            print('decrypted:')\n",
    "            print(outputs.getvalue())\n",
    "        except Exception as Err:\n",
    "            print('Erro no recetor! {0}'.format(Err))\n",
    "\n",
    "        outputs.close()\n",
    "    else:\n",
    "        message = bytes(\"ERROR IN KEY CHECK\",'utf8')\n",
    "        signature = receiver_ecdsa_sk.sign(\n",
    "            message,\n",
    "            ec.ECDSA(hashes.SHA256())\n",
    "        )\n",
    "        connection.send({'msg':message, 'sig': signature})\n",
    "    connection.close()\n",
    "    "
   ]
  },
  {
   "cell_type": "code",
   "execution_count": 12,
   "metadata": {},
   "outputs": [
    {
     "name": "stdout",
     "output_type": "stream",
     "text": [
      "bytes before cipher:\n",
      "b'\\'\\xe1\\xa6\\xa9\\xfcK(\\xdc\\x1e\\x05\\x8a\\x92&\\xff\\xd5y3VH\\xcb\\xe5\\x85\\xe5\\xab\\xa9\\xba\\xb2C^\\x8crEo\\xd6\\xb1\\xfd\\x80\\x88\\x92\\xbc\\xfd\\x10sbX\\x12f)\\xc0Y7\\xc6^\\xbf\\x08\\x0c\\x8f\\xc7\\x9c\\x1dS\\xc1\\x91=X\\xfce\\xf9\\xddA\\xbf\\x81\\x98@u\\xc4P\\x0f\\xde\\x07\\xacY\\xfa\\xb3\\x94\\x8a\\xe5]/\\x03\\xb0\\xd4R\\xbb3h\\x07\\xd3s:\\xf2\\xfb^!\\x9e\\xc7#\\x8aa\\xbep\\xf1\\x9b\\xfbi<\\xa6\\xa4b_Xs\\x8b\\xca\\x86\\x8d\\x9e\\xaam\\xcfM\\xd5\\xf4\\xaeL\\xe0`V\\xe8\\xc6\\xd2\\x08\\x07\\xdfH-\\x12\\x13\\x8c\\xb8\\x8cD6\\x8b\\xfbX\\xda\\x9e\\x03b\\xc2d\\xef\\xeceyCy]\\x002S\\xef\\x94\\x129\\xfe\\xbc\\x8f\\xd7Y\\xa8U\\xb3\\xf0\\x93g\\xcb\\xe3\\xd4\\xa4\\x07\\xf7\\x9a:\\xea\\x94\\xce\\x8c:\\xaf\\x02-\\xe5\\xa9\\x7f\\xa1c\\xb6\\x9f\\xcb\\xa9+uM\\xd8\\xdc\\xb2U\\x89\\xae\\xf7\\xf9\\xb1\\x82\\xa1n\\x1cW\\xea\\xb3\\xe1~\\x03\\xbb\\xb4\\x93\\xf5\\x10Wy\\xb5\\xffn{?\\xb0\\x89\\xadA\\x86\\x88\\x9138g\\x8f\\xba.\\xda\\xda\\xfc\\x12sZ\\xf2:o\\x07\\xc5\\xd2\\xff\\x90\\xb4$\\xe8V\\x17\\xc5\\xd9\\xa7f\\x89}\\x04[\\x1a\\xd7\\xc1\\xde\\x1a|<<\\xf6\\xd5\\xd7}9\\x9d\\xcf=\\xb1e\\xacS\\xf1n\\xad\\xbb\\xb0x\\n\\x927\\x06\\x9d\\xf8\\xd02\\xe6z\\x1bf\\x95\\xa4\\xf9\\x98\\x11Gr`\\xc6\\xdb\\xc9\\xfd|8\\xd8\\xbbS\\x86A{\\xfc\\xf9V%\\x91\\x10\\x1b:Y\\xe1\\x99\\xc8\\xa5\\xb9\\xe4^\\xa4\\x0e\\xfc\\xd4\\x91Qfg\\x07\\xea\\'\\xaf\\x9d\\xcd\\xe5Jr\\\\&B\\xcc\\x95\\x9d\\x92h\\x8c)C\\xb3Q\\xfbh\\x88\\xa71\\x9cD_O\\x1c\\xba\\x18\\xfd\\xfb\\xc6w\\x8d\\x12\\x12\\x17\\xa2\\x0f4\\xb6\\x03cI\\xe6\\x88\\x80\\xfeG\\xeb\\xdc\\x81\\xe7\\xf9;d\\xc7\\x81\\x17\\x9eOAt\\x8eY\\xe0-HU\\xf3$\\xa4Q\\x02\\xefyc\\x18\\x17\\xe4\\x14m\\xc7\\x12\\xd3\\xf7^\\xce\\x87\\xce\\x87x\\xac\\xc9\\xbfQ\\xdf\\xcbD\\xbd\\n>\\x8f\\xab\\x82C\\x99\\xaf\\x1d\\xf0$G\\xd5\\x8e\\xbb`\\xd1\\x11\\x8b\\x1ep\\xb3p\\x83\\xc4lm\\x08\\xb3u\\x8a\\x97\\xfdf\\\\\\xa5+,\\xcb\\x95M{\\x10w\\xc9K\\xc4\"*\\x11G\\xa5\\x89O\\x00G\\x12Jlw\\xa3\\xa6\\xeb\\\\s\\x0f\\xd3[\\x90\\x81gO\\xae\\x891[\\xdep\\xc7\\x9f\\xa1\\xe6\\x93E\\x8e\\x936\\xbcM\\x03\\xd6\\xa5\\xeeC\\xb6\\xf0\\xfd\\x00\\xf0\\xe6\\xcc>\\x06\\x82\\xf6\\x07hyP@\\xaa\\xad&\\x9fY\\xf4a\\x87\\x9cN\\xae}F,\\x7f\\xdd\\xf4G;\\x19\\x86\\x1b\\xbb\\x08\\xaa\\xff\\x87|2\\xb9(\\x0b=\\x8d\\xf6\\xd7\\xb83\\x83a\\xad\\x9a\\xb9\\xe0\\x80\\xff\\xe5\\xec\\xc5\\x82\\xbbN\\xbb)\\xf2p\\x8b+\\x036z\\xd1B\\xd4\\xb6{\\xec\\x19\\x88F\\xa2\\xa3\\x9d\\x9d\\x95\\xf7\\xcd\\x04\\xbfZ<\\x1a\\\\\\x13\\xdds\\xe0\\x88\\\\\\xae{\\n\\x18\\xf6\\xb2}\\xb9\\x9av\"\\xf7\\xd7\\xd9\\x9c\\xcdRfb8\\'n`v\\xb15\\x00u\\xb89\\xe5\\xd4\\x1c\\x0erI\\x96\\x93{(\\xd6_\\x9e\\xd1 \\xac\\xea\\\\\\x88\\xae\\x8170\\x97\\xaa\\x01\\xda\\xd5\\xb0OO8n\\xcf\\x94\\xba\\x11+y\\xdd\\xb94$\\x9b\\xd04Ow\\xedK(NOe\\xb1\\x8f5PVA\\x19\\xdb\\xf3ay\\x1c[\\xc7\\x11\\xa5\\xce\\xe7\\xb9\\x8do.G\\xb3\\x0e\\x86\\xb4\\x13\\x873\\xaf\\x84}\\xbf\\x89\\xed\\x15\\xd43fP\\x9c\\xd5G\\x8bl\\xccq\\xaf\\x124\\xab5\\x03B\\x84\\x9c<m\\xd3\\xbd.\\x97\\x7fDaH\\x9fIB\\xbeT\\x9b\\xc4\\x91F+\\xd3\\x88#\\xfd\\xa8w\\x9c\\xf6m`\\x13\\xe5A\\x08\\xef\\x8bWV\\xcf\\xad\\xfb|e\\x03A3\\x90\\xccB\\xfa\\x9e\\x9f\\x8f\\xa5(\\xa4{i\\xdc\\x8f[\\xdc\\xfe\\xec\\xae\\xafS\\xac\\x19(\\xa9\\xf2\\x02epj\\xef\\x8f36G\\x1e\\x18\\nG$\\x9b\\x01\\xc8pQ\\xa1J[3\\x11\\xaf\\x83\\x88\\\\\\xe1J[\\x1eY\\x9ds\\x9a\\x96m\\xa3\\xa8\\xb0\\xd6B\\x8b\\xe9\\xf6<\\xa5o\\xef\\xcd\\xd5\\xde\\x8f\\x1f6M\\xd7\\x91\\x92\\xb5\\x159\\xb0a_p\\xb9\\x1c&\\xa8\\xec\\xdf\\'Y\\x8d\\xd9\\xb6\\xe8\\xb9&\\x19\\xa9w\\x87\\x1d\\xf0\\xfd\\xd1H\\xc8\\xc9\\x90\\xcc\\xa2h\\xcd\\xa5\\xcc\\xed\\x08\\x86\\x9a\\xfe\\xdas\\x1e\\x0fXm\\x7f\\xfc\\x08\\xb7\\xf6\\xf1\\x99\\xde\\xf7\\xb0\\xe2\\xb3\\xb0D\\x13\\xe5T5h} x&u\\x8a3\\x8e\\xc48\\r\\xb4\\x91\\xbb\\xe8m\\xe6}m\\x01^\\xbc\\x15\\x8d\\xdb\\xd9\\x84\\xb5w\\xd3\\x8dy\\x8b\\xfc\\xf7\\xf1\\xfe\\xd1\\xea\\xfa\\xc0\\xcf\\xc2\\xd2\\xf3\\x8d\\x17\\x81\\xab5\\xb7\\xfa$\\x1d\\x8f\\xa8\\x08O\\x03\\x8c\\xc72i\\xe79|\\x04Ey:y\\'\\xc3}5\\xdd\\xa9U\\xf7\\xa2\\\\\\x11\\xb6U\\xcf\\xf9j.\\xed\\xa6mO\\xe0\\xe5\\xe4\\xe3P\\xea\\x1a%\\xa8\\x1c:5\\xeeX\\x9a\\xe5g\\xb9\\xed\\x829H\\x13\\xf2\\xe8b\\xf6\\x10Od\\x84\\xe8h@g\\x81\\xd4*[l\\xc69\\xfe!\\xec`\\xb6\\xa5\\x0bT\\xd5\\xd3\\xd9|\\xb6\\xc79\\xec\\xf7\\xca\\x07\\xea\\xa9Q\\xfd\\x03\\x1b\\xf8\\xc1Z\\xc0o\\x97\\xb9\\xf3\\x90\\x01\\x95\\x89\\x91\\x08\\x96\\x98\"\\x18NA\\xd6\\xbb}\\xed\\xbe\\x15\\xbf\\xa8\\xba\\xdbLD\\xac\\xa5\\xd0\\xe8\\xa0\\xdc\\xe0\\x83\\xf0\\xfa\\xd2\\xd8|\\x81\\xae\\xd0\\xdf0\\x06>\\x99\\xf9\\xac\\x94\\xce<\\xbbLH_\\x0e$\\xfb_+I\\xc6-\\xe5\\xdb\\x83\\x10m)`\\xc8\\\\\\x8e\\xd0\\xcd\\xf5\\xddg {\\'\\xde\\xdac\\x9f\\x8a\\xa4C\\xf6\\x01\\x1f\\xc3\\x05\\xfa\\x1dH.\\xb7 \\xca\\xb3\\x18s\\xb7\\xac\\xafE\\xce).\\xa7\\x1f\\xdeB\\x84V\\x82\\x9b\\xecR\\xe0\\xe9V\\x18\\xc3\\xe8I\\xc0\\xb0\\r\\x83\\xa2\\xc1\\x0b}?\\x96\\x93~K\\xc63\\xe0\\xe2\\x94>\\x12\\x10\\xdd4(\\xc2L\\xa9\\xf4mI3\\xfcS\\x18\\xb1pe\\x89k\\xe7[\\xa12\\xdc\\x18\\x91\\x1bq\\xea\\xe8\\xf2\\xdc`^\\xa9=.\\x1b\\x13\\x162\\xcd\\xbfe{)|rJ\\xf4\\x96\\x18?\\r*\\x98\\xa3f\\xf7\\'ok\\xde$\\xc1\\xa9\\x04\\xeei\\x9d\\x11\\xc5t\\xa6\\x88\\x18\\nT\\xf5[\\xf9\\xaeI\\xbd\\xe6\\x19\\x81\\xb9\\x86Q\\xc9\\xad\\xf7\\xdf\\x10\\x1f~\\x0b\\xec\\xd5\\xc4A\\xe1\\xeaT\\r\\xa3\\x88>#\\n\\x03$yP\\xc3\\xf9\\x02IJ\\x02\\xda\\xd7r\\x0eH\\xde\\xe7s\\xd4\\xa1\\xa6\\xbb\\x8b\\xb8\\xbb\\x9b84oA \\xe9\\x19l\\xd8#\\xb5s\\xcf\\x00oV<\\x1dg\\xf2\\xdb\\xaa\\xeb\\xef\\n`\\xab\\xa3\\x85[\\xa4\\xcb\\x11\\x1f\\xd20\\xff\\xca\\x84\\xe3\\x04I8\\x03}\\xae\\x83\\xc6\\x90Wg\\x01\\xf7;R\\xc0\\x14\\x8bQ\\xfa/\\xcf\\xd3-\\x1a\\xc0\\x8e-\\xb8C\\x1a\\xef^\\xaf\\x8a\\xe2\\x00\\x02\\xd3\\xb8\\x17\\xc7\\xcd\\x0e\\xadZ\\x9cD\\x066\\xb7\\x19\\x08Mc\\x99:\\x98\\x03\\x8b2\\xdcf\\x96\\xd5\\x14rc\\x81M\\xac\\xae\\xce5\\r\\xfd%\\x95~^pj~D,\\xaf\\xc5A\\xd8G\\x1aI\\xec\\xef\\x0br'\n",
      "decrypted:\n",
      "b'\\'\\xe1\\xa6\\xa9\\xfcK(\\xdc\\x1e\\x05\\x8a\\x92&\\xff\\xd5y3VH\\xcb\\xe5\\x85\\xe5\\xab\\xa9\\xba\\xb2C^\\x8crEo\\xd6\\xb1\\xfd\\x80\\x88\\x92\\xbc\\xfd\\x10sbX\\x12f)\\xc0Y7\\xc6^\\xbf\\x08\\x0c\\x8f\\xc7\\x9c\\x1dS\\xc1\\x91=X\\xfce\\xf9\\xddA\\xbf\\x81\\x98@u\\xc4P\\x0f\\xde\\x07\\xacY\\xfa\\xb3\\x94\\x8a\\xe5]/\\x03\\xb0\\xd4R\\xbb3h\\x07\\xd3s:\\xf2\\xfb^!\\x9e\\xc7#\\x8aa\\xbep\\xf1\\x9b\\xfbi<\\xa6\\xa4b_Xs\\x8b\\xca\\x86\\x8d\\x9e\\xaam\\xcfM\\xd5\\xf4\\xaeL\\xe0`V\\xe8\\xc6\\xd2\\x08\\x07\\xdfH-\\x12\\x13\\x8c\\xb8\\x8cD6\\x8b\\xfbX\\xda\\x9e\\x03b\\xc2d\\xef\\xeceyCy]\\x002S\\xef\\x94\\x129\\xfe\\xbc\\x8f\\xd7Y\\xa8U\\xb3\\xf0\\x93g\\xcb\\xe3\\xd4\\xa4\\x07\\xf7\\x9a:\\xea\\x94\\xce\\x8c:\\xaf\\x02-\\xe5\\xa9\\x7f\\xa1c\\xb6\\x9f\\xcb\\xa9+uM\\xd8\\xdc\\xb2U\\x89\\xae\\xf7\\xf9\\xb1\\x82\\xa1n\\x1cW\\xea\\xb3\\xe1~\\x03\\xbb\\xb4\\x93\\xf5\\x10Wy\\xb5\\xffn{?\\xb0\\x89\\xadA\\x86\\x88\\x9138g\\x8f\\xba.\\xda\\xda\\xfc\\x12sZ\\xf2:o\\x07\\xc5\\xd2\\xff\\x90\\xb4$\\xe8V\\x17\\xc5\\xd9\\xa7f\\x89}\\x04[\\x1a\\xd7\\xc1\\xde\\x1a|<<\\xf6\\xd5\\xd7}9\\x9d\\xcf=\\xb1e\\xacS\\xf1n\\xad\\xbb\\xb0x\\n\\x927\\x06\\x9d\\xf8\\xd02\\xe6z\\x1bf\\x95\\xa4\\xf9\\x98\\x11Gr`\\xc6\\xdb\\xc9\\xfd|8\\xd8\\xbbS\\x86A{\\xfc\\xf9V%\\x91\\x10\\x1b:Y\\xe1\\x99\\xc8\\xa5\\xb9\\xe4^\\xa4\\x0e\\xfc\\xd4\\x91Qfg\\x07\\xea\\'\\xaf\\x9d\\xcd\\xe5Jr\\\\&B\\xcc\\x95\\x9d\\x92h\\x8c)C\\xb3Q\\xfbh\\x88\\xa71\\x9cD_O\\x1c\\xba\\x18\\xfd\\xfb\\xc6w\\x8d\\x12\\x12\\x17\\xa2\\x0f4\\xb6\\x03cI\\xe6\\x88\\x80\\xfeG\\xeb\\xdc\\x81\\xe7\\xf9;d\\xc7\\x81\\x17\\x9eOAt\\x8eY\\xe0-HU\\xf3$\\xa4Q\\x02\\xefyc\\x18\\x17\\xe4\\x14m\\xc7\\x12\\xd3\\xf7^\\xce\\x87\\xce\\x87x\\xac\\xc9\\xbfQ\\xdf\\xcbD\\xbd\\n>\\x8f\\xab\\x82C\\x99\\xaf\\x1d\\xf0$G\\xd5\\x8e\\xbb`\\xd1\\x11\\x8b\\x1ep\\xb3p\\x83\\xc4lm\\x08\\xb3u\\x8a\\x97\\xfdf\\\\\\xa5+,\\xcb\\x95M{\\x10w\\xc9K\\xc4\"*\\x11G\\xa5\\x89O\\x00G\\x12Jlw\\xa3\\xa6\\xeb\\\\s\\x0f\\xd3[\\x90\\x81gO\\xae\\x891[\\xdep\\xc7\\x9f\\xa1\\xe6\\x93E\\x8e\\x936\\xbcM\\x03\\xd6\\xa5\\xeeC\\xb6\\xf0\\xfd\\x00\\xf0\\xe6\\xcc>\\x06\\x82\\xf6\\x07hyP@\\xaa\\xad&\\x9fY\\xf4a\\x87\\x9cN\\xae}F,\\x7f\\xdd\\xf4G;\\x19\\x86\\x1b\\xbb\\x08\\xaa\\xff\\x87|2\\xb9(\\x0b=\\x8d\\xf6\\xd7\\xb83\\x83a\\xad\\x9a\\xb9\\xe0\\x80\\xff\\xe5\\xec\\xc5\\x82\\xbbN\\xbb)\\xf2p\\x8b+\\x036z\\xd1B\\xd4\\xb6{\\xec\\x19\\x88F\\xa2\\xa3\\x9d\\x9d\\x95\\xf7\\xcd\\x04\\xbfZ<\\x1a\\\\\\x13\\xdds\\xe0\\x88\\\\\\xae{\\n\\x18\\xf6\\xb2}\\xb9\\x9av\"\\xf7\\xd7\\xd9\\x9c\\xcdRfb8\\'n`v\\xb15\\x00u\\xb89\\xe5\\xd4\\x1c\\x0erI\\x96\\x93{(\\xd6_\\x9e\\xd1 \\xac\\xea\\\\\\x88\\xae\\x8170\\x97\\xaa\\x01\\xda\\xd5\\xb0OO8n\\xcf\\x94\\xba\\x11+y\\xdd\\xb94$\\x9b\\xd04Ow\\xedK(NOe\\xb1\\x8f5PVA\\x19\\xdb\\xf3ay\\x1c[\\xc7\\x11\\xa5\\xce\\xe7\\xb9\\x8do.G\\xb3\\x0e\\x86\\xb4\\x13\\x873\\xaf\\x84}\\xbf\\x89\\xed\\x15\\xd43fP\\x9c\\xd5G\\x8bl\\xccq\\xaf\\x124\\xab5\\x03B\\x84\\x9c<m\\xd3\\xbd.\\x97\\x7fDaH\\x9fIB\\xbeT\\x9b\\xc4\\x91F+\\xd3\\x88#\\xfd\\xa8w\\x9c\\xf6m`\\x13\\xe5A\\x08\\xef\\x8bWV\\xcf\\xad\\xfb|e\\x03A3\\x90\\xccB\\xfa\\x9e\\x9f\\x8f\\xa5(\\xa4{i\\xdc\\x8f[\\xdc\\xfe\\xec\\xae\\xafS\\xac\\x19(\\xa9\\xf2\\x02epj\\xef\\x8f36G\\x1e\\x18\\nG$\\x9b\\x01\\xc8pQ\\xa1J[3\\x11\\xaf\\x83\\x88\\\\\\xe1J[\\x1eY\\x9ds\\x9a\\x96m\\xa3\\xa8\\xb0\\xd6B\\x8b\\xe9\\xf6<\\xa5o\\xef\\xcd\\xd5\\xde\\x8f\\x1f6M\\xd7\\x91\\x92\\xb5\\x159\\xb0a_p\\xb9\\x1c&\\xa8\\xec\\xdf\\'Y\\x8d\\xd9\\xb6\\xe8\\xb9&\\x19\\xa9w\\x87\\x1d\\xf0\\xfd\\xd1H\\xc8\\xc9\\x90\\xcc\\xa2h\\xcd\\xa5\\xcc\\xed\\x08\\x86\\x9a\\xfe\\xdas\\x1e\\x0fXm\\x7f\\xfc\\x08\\xb7\\xf6\\xf1\\x99\\xde\\xf7\\xb0\\xe2\\xb3\\xb0D\\x13\\xe5T5h} x&u\\x8a3\\x8e\\xc48\\r\\xb4\\x91\\xbb\\xe8m\\xe6}m\\x01^\\xbc\\x15\\x8d\\xdb\\xd9\\x84\\xb5w\\xd3\\x8dy\\x8b\\xfc\\xf7\\xf1\\xfe\\xd1\\xea\\xfa\\xc0\\xcf\\xc2\\xd2\\xf3\\x8d\\x17\\x81\\xab5\\xb7\\xfa$\\x1d\\x8f\\xa8\\x08O\\x03\\x8c\\xc72i\\xe79|\\x04Ey:y\\'\\xc3}5\\xdd\\xa9U\\xf7\\xa2\\\\\\x11\\xb6U\\xcf\\xf9j.\\xed\\xa6mO\\xe0\\xe5\\xe4\\xe3P\\xea\\x1a%\\xa8\\x1c:5\\xeeX\\x9a\\xe5g\\xb9\\xed\\x829H\\x13\\xf2\\xe8b\\xf6\\x10Od\\x84\\xe8h@g\\x81\\xd4*[l\\xc69\\xfe!\\xec`\\xb6\\xa5\\x0bT\\xd5\\xd3\\xd9|\\xb6\\xc79\\xec\\xf7\\xca\\x07\\xea\\xa9Q\\xfd\\x03\\x1b\\xf8\\xc1Z\\xc0o\\x97\\xb9\\xf3\\x90\\x01\\x95\\x89\\x91\\x08\\x96\\x98\"\\x18NA\\xd6\\xbb}\\xed\\xbe\\x15\\xbf\\xa8\\xba\\xdbLD\\xac\\xa5\\xd0\\xe8\\xa0\\xdc\\xe0\\x83\\xf0\\xfa\\xd2\\xd8|\\x81\\xae\\xd0\\xdf0\\x06>\\x99\\xf9\\xac\\x94\\xce<\\xbbLH_\\x0e$\\xfb_+I\\xc6-\\xe5\\xdb\\x83\\x10m)`\\xc8\\\\\\x8e\\xd0\\xcd\\xf5\\xddg {\\'\\xde\\xdac\\x9f\\x8a\\xa4C\\xf6\\x01\\x1f\\xc3\\x05\\xfa\\x1dH.\\xb7 \\xca\\xb3\\x18s\\xb7\\xac\\xafE\\xce).\\xa7\\x1f\\xdeB\\x84V\\x82\\x9b\\xecR\\xe0\\xe9V\\x18\\xc3\\xe8I\\xc0\\xb0\\r\\x83\\xa2\\xc1\\x0b}?\\x96\\x93~K\\xc63\\xe0\\xe2\\x94>\\x12\\x10\\xdd4(\\xc2L\\xa9\\xf4mI3\\xfcS\\x18\\xb1pe\\x89k\\xe7[\\xa12\\xdc\\x18\\x91\\x1bq\\xea\\xe8\\xf2\\xdc`^\\xa9=.\\x1b\\x13\\x162\\xcd\\xbfe{)|rJ\\xf4\\x96\\x18?\\r*\\x98\\xa3f\\xf7\\'ok\\xde$\\xc1\\xa9\\x04\\xeei\\x9d\\x11\\xc5t\\xa6\\x88\\x18\\nT\\xf5[\\xf9\\xaeI\\xbd\\xe6\\x19\\x81\\xb9\\x86Q\\xc9\\xad\\xf7\\xdf\\x10\\x1f~\\x0b\\xec\\xd5\\xc4A\\xe1\\xeaT\\r\\xa3\\x88>#\\n\\x03$yP\\xc3\\xf9\\x02IJ\\x02\\xda\\xd7r\\x0eH\\xde\\xe7s\\xd4\\xa1\\xa6\\xbb\\x8b\\xb8\\xbb\\x9b84oA \\xe9\\x19l\\xd8#\\xb5s\\xcf\\x00oV<\\x1dg\\xf2\\xdb\\xaa\\xeb\\xef\\n`\\xab\\xa3\\x85[\\xa4\\xcb\\x11\\x1f\\xd20\\xff\\xca\\x84\\xe3\\x04I8\\x03}\\xae\\x83\\xc6\\x90Wg\\x01\\xf7;R\\xc0\\x14\\x8bQ\\xfa/\\xcf\\xd3-\\x1a\\xc0\\x8e-\\xb8C\\x1a\\xef^\\xaf\\x8a\\xe2\\x00\\x02\\xd3\\xb8\\x17\\xc7\\xcd\\x0e\\xadZ\\x9cD\\x066\\xb7\\x19\\x08Mc\\x99:\\x98\\x03\\x8b2\\xdcf\\x96\\xd5\\x14rc\\x81M\\xac\\xae\\xce5\\r\\xfd%\\x95~^pj~D,\\xaf\\xc5A\\xd8G\\x1aI\\xec\\xef\\x0br'\n"
     ]
    }
   ],
   "source": [
    "BiConnection(Emitter,Receiver).auto()"
   ]
  },
  {
   "cell_type": "markdown",
   "metadata": {},
   "source": [
    "A comparação entre os valores dados por **bytes before cipher** e por **decrypted** no output, por via da igualdade, permitem concluir que a mensagem que foi gerada é a mesma mensagem que foi decifrada."
   ]
  },
  {
   "cell_type": "markdown",
   "metadata": {},
   "source": [
    "## Conclusão"
   ]
  },
  {
   "cell_type": "markdown",
   "metadata": {},
   "source": [
    "Os resultados da realização deste trabalho prático são, na nossa opinião, muito satisfatórios visto que fomos capazes de cumprir com todos os objetivos propostos ao implementar duas sessões síncronas seguras de troca de informação entre agentes, uma utilizando o protocolo **DH** e o algoritmo de assinaturas **DSA** e outra utilizando o protocolo **ECDH** e o algoritmo de assinaturas **ECDSA**. Além disso, a apresentação dos resultados (código e explicação) está feita de tal forma que seja mais simples entender o que foi a estratégia do grupo para a resolução dos problemas propostos.\n",
    "\n",
    "No processo de resolução deste trabalho prático, o grupo deparou-se apenas com duas dificuldades que foram, eventualmente, ultrapassadas com mais ou menos esforço. Uma delas diz respeito à implementação do **TAES** devido ao facto de a primitiva ter que ser efetivamente implementada antes de a utilizar o que, no início, gerou um bocado de confusão em relação ao que devia ser feito. A segunda dificuldade esteve relacionada com o facto da especificação da sessão síncrona, visto que, esta foi a primeira vez que o grupo implementou algo do género, pelo que as características deste tipo de sessão tiveram que ser bem estabelecidades e diferenciadas em relação ao tipo de sessão que estávamos habituados a implementar (sessão assíncrona)."
   ]
  },
  {
   "cell_type": "markdown",
   "metadata": {},
   "source": [
    "## Referências"
   ]
  },
  {
   "cell_type": "markdown",
   "metadata": {},
   "source": [
    "1. [Worksheets TP2 fornecidas pelo professor](https://www.dropbox.com/sh/f0j9adiaw4v3deb/AADIuhV5bL5qqzbM_RLS-gMXa/WorkSheets/TP2?dl=0&subfolder_nav_tracking=1)\n",
    "2. [Cryptography - Elliptic Curve cryptography](https://cryptography.io/en/latest/hazmat/primitives/asymmetric/ec/#)\n",
    "3. [Cryptography - Diffie-Hellman Key Exchange](https://cryptography.io/en/latest/hazmat/primitives/asymmetric/dh/)\n",
    "4. [Tweakable Block Ciphers - paper by Liskov, Rivest and Wagner](https://people.eecs.berkeley.edu/~daw/papers/tweak-crypto02.pdf)\n",
    "5. [Tweakable Block Ciphers - Notas manuscritas do professor](https://www.dropbox.com/sh/f0j9adiaw4v3deb/AAC5XUPllha9QXo-vVxTHqXna/Docs/NOTAS_MANUSCRITAS?dl=0&preview=TWEAKABLE_BLOCK_CIPHERS.PDF&subfolder_nav_tracking=1)"
   ]
  },
  {
   "cell_type": "code",
   "execution_count": null,
   "metadata": {},
   "outputs": [],
   "source": []
  }
 ],
 "metadata": {
  "kernelspec": {
   "display_name": "Python 3",
   "language": "python",
   "name": "python3"
  },
  "language_info": {
   "codemirror_mode": {
    "name": "ipython",
    "version": 3
   },
   "file_extension": ".py",
   "mimetype": "text/x-python",
   "name": "python",
   "nbconvert_exporter": "python",
   "pygments_lexer": "ipython3",
   "version": "3.7.2"
  }
 },
 "nbformat": 4,
 "nbformat_minor": 2
}
