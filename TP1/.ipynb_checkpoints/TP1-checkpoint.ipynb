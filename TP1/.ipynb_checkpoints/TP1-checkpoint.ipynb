{
 "cells": [
  {
   "cell_type": "markdown",
   "metadata": {},
   "source": [
    "# Trabalho Prático 1"
   ]
  },
  {
   "cell_type": "markdown",
   "metadata": {},
   "source": [
    "## Introdução"
   ]
  },
  {
   "cell_type": "markdown",
   "metadata": {},
   "source": [
    "A resolução deste trabalho prático tem como objetivo implementar um abiente seguro, constituído por um emissor e um recetor, através de sessões cifradas e seguras.\n",
    "A solução implmentada, foi estruturada da seguinte forma:\n",
    "\n",
    "- Construção de uma sessão de comunicação síncrona entre um emissor e um recetor.\n",
    "- Utilização do protocolo de **Diffie_Hellman** com verificação de chave e autenticação dos agentes, na sessão anteriormente referida.\n",
    "- Utilização do **DSA** para a autenticação dos agentes.\n",
    "- Utilização do **TAES** como cifra simétrica, com autenticação do criptograma em cada superbloco.\n",
    "- Implementar novamente o cenário anterior mas, desta feita vez, utilizando o **ECDH** (Elliptic Curve Diffie-Hellman) em vez do **DH** e o **ECDSA** (Elliptic Curve Digital Signature Algorithm) em vez do **DSA**.\n",
    "\n",
    "Este relatório está escrito de forma a que o texto escrito entre o código desenvolvido seja suficientemente explicativo do que está a ser implementado, o que, na nossa opinião, permite uma leitura e compreensão facilitada do mesmo."
   ]
  },
  {
   "cell_type": "markdown",
   "metadata": {},
   "source": [
    "## Código comum"
   ]
  },
  {
   "cell_type": "markdown",
   "metadata": {},
   "source": [
    "Esta secção tem como objetivo definir _snippets_ de código que serão utilizados tanto na definição da sessão síncrona com **DH** como na sessão síncrona com **ECDH**, tais como os _imports_ de módulos necessários, as funções auxiliares necessárias e a classe de multiprocessamento."
   ]
  },
  {
   "cell_type": "markdown",
   "metadata": {},
   "source": [
    "### Imports"
   ]
  },
  {
   "cell_type": "markdown",
   "metadata": {},
   "source": [
    "De seguida, encontram-se os módulos **Python** importados e necessários para desenvolver a sessão síncrona entre os agentes, utilizando, em primeira instância, o protocolo **DH** e o algoritmo de assinaturas **DSA** e, numa segunda instância, o protocolo **ECDH** e o algoritmo de assinaturas **ECDSA**."
   ]
  },
  {
   "cell_type": "code",
   "execution_count": 1,
   "metadata": {},
   "outputs": [],
   "source": [
    "import os,io,sys\n",
    "from multiprocessing import Process,Pipe\n",
    "from cryptography.hazmat.backends import default_backend\n",
    "from cryptography.hazmat.primitives import hashes, hmac\n",
    "from cryptography.exceptions import *\n",
    "from cryptography.hazmat.primitives.asymmetric import dsa\n",
    "from cryptography.hazmat.primitives.asymmetric import dh\n",
    "from cryptography.hazmat.primitives.asymmetric import ec\n",
    "from cryptography.hazmat.primitives import serialization\n",
    "from cryptography.hazmat.primitives.kdf.hkdf import HKDF\n",
    "from cryptography.hazmat.primitives.ciphers import Cipher, algorithms, modes"
   ]
  },
  {
   "cell_type": "markdown",
   "metadata": {},
   "source": [
    "### Definição das funções do processo criptográfico"
   ]
  },
  {
   "cell_type": "markdown",
   "metadata": {},
   "source": [
    "Esta secção tem o objetivo de definir funções que serão utilizadas nas sessões síncronas, tanto na que utiliza **DH** como na que utiliza **ECDH**. Essas funções são as seguintes:\n",
    "\n",
    "- `Hash(s)`, que tem como propósito calcular um _digest_ de uma dada mensagem.\n",
    "\n",
    "- `next_tweak(initial,current_counter)`, que tem como propósito calcular o próximo _tweak_ a utilizar no bloco que vai ser cifrado/decifrado, com base no _nounce_ inicial e no número do bloco que está a ser processadoa atualmente.\n",
    "\n",
    "- `bytes_xor(a,b)`, que tem como propósito realizar o _XOR_ _byte_ a _byte_ de duas dadas sequências de _bytes.\n",
    "\n",
    "- `calculate_nounce()`, que tem como objectivo calcular o nounce a utilizar em parte de um _tweak_, tendo em conta os _nounces_ que já foram utilizados anteriormente.\n",
    "\n",
    "- `calculate_parity(blocks,number_blocks)`, que tem como objetivo calcular a paridade de um conjunto de blocos, para que seja gerada a sua _tag_ de autenticação.\n",
    "\n",
    "- `calculate_auth_tweak(initial_tweak,number_blocks)`, que tem como objetivo calcular o _tweak_ utilizado para cifrar a paridade dos blocos cifrados.\n",
    "\n",
    "- As funções `cifra_blocos(current_counter,initial_tweak,blocks,number_blocks,cipher_context)` e `decifra_blocos(current_counter,initial_tweak,blocks,number_blocks,decipher_context)` têm como objetivo cifrar/decifrar, respetivamente, um conjunto de blocos aplicando a cada bloco a função de cifra ou de decifragem.\n",
    "\n",
    "- As funções `cifra(block,tweak,cipher_context)` e `decifra(block,tweak,decipher_context` têm como objetivo cifrar/decifrar um dado bloco utilizando para o efeito a função $ Ẽ(s,x) = E(s,x \\oplus h(w)) \\oplus h(w) $.\n",
    "\n",
    "É relevante referir que as operações de cifra e de decifra utilizam exatamente a mesma fórmula e, logo, são iguais, mas estão separadas apenas por uma questão de mais simples compreensão do problema em questão, bem como da sua resolução.\n",
    "Além disso, neste processo criptográfico foi utilizado o modo **TAE** (_Tweakable Authenticated Encryption_)."
   ]
  },
  {
   "cell_type": "code",
   "execution_count": 2,
   "metadata": {},
   "outputs": [],
   "source": [
    "def Hash(s):\n",
    "    digest = hashes.Hash(hashes.SHA256(),backend=default_backend())\n",
    "    digest.update(s)\n",
    "    return digest.finalize()\n",
    "\n",
    "def next_tweak(initial, current_counter):\n",
    "    str = format(current_counter, '063b')\n",
    "    str = str + '0'\n",
    "    b_str = int(str,2).to_bytes((len(str) + 7) // 8, 'big')\n",
    "    return (initial + b_str)\n",
    "\n",
    "def bytes_xor(a, b) :\n",
    "    return bytes(x ^ y for x, y in zip(a, b))\n",
    "\n",
    "def calculate_nounce():  \n",
    "    if not(os.path.isfile('nounces.txt')):\n",
    "        os.mknod('nounces.txt')\n",
    "    nounces_file = open('nounces.txt','r')\n",
    "    nounces_used = nounces_file.read().split('\\n')\n",
    "    nounces_file.close()\n",
    "    nounces_file = open('nounces.txt','a')\n",
    "    nounce_to_send = bytes('','utf8')\n",
    "    ok = False\n",
    "    while not(ok):\n",
    "        anyMatch = False\n",
    "        nounce = os.urandom(8)\n",
    "        for x in nounces_used:\n",
    "            if x == str(nounce):\n",
    "                anyMatch = True\n",
    "                break\n",
    "        if not(anyMatch):\n",
    "            nounces_file.write(str(nounce) + '\\n')\n",
    "            nounce_to_send = nounce\n",
    "            break\n",
    "    nounces_file.close()\n",
    "    return nounce_to_send\n",
    "\n",
    "#def calculate_parity(blocks,number_blocks):\n",
    "#    str = format(0,'128b') # O número 0 é elemento neutro no XOR\n",
    "#    parity = int(str,2).to_bytes((len(str) + 7) // 8, 'big')\n",
    "#    bytes_processed = 0\n",
    "#    while(bytes_processed < (16*number_blocks)):\n",
    "#        max_bytes = bytes_processed + 16\n",
    "#        block_to_xor = blocks[bytes_processed:max_bytes]\n",
    "#        parity = bytes_xor(parity,block_to_xor)\n",
    "#        bytes_processed += 16\n",
    "#    return parity\n",
    "\n",
    "def calculate_auth_tweak(initial_tweak,number_blocks):\n",
    "    str = format(number_blocks*16,'063b')\n",
    "    str = str + '1'\n",
    "    b_str = int(str,2).to_bytes((len(str) + 7) // 8, 'big')\n",
    "    return (initial_tweak + b_str)\n",
    "\n",
    "def cifra_blocos(current_counter,initial_tweak,blocks,number_blocks,cipher_context):\n",
    "    str = format(0,'128b') # O bit 0 é elemento neutro no XOR\n",
    "    parity = int(str,2).to_bytes((len(str) + 7) // 8, 'big')\n",
    "    bytes_processed = 0\n",
    "    cryptogram = bytearray(160)\n",
    "    while(bytes_processed < (16*number_blocks)):\n",
    "        max_bytes = bytes_processed + 16\n",
    "        block_to_process = blocks[bytes_processed:max_bytes]\n",
    "        parity = bytes_xor(parity,block_to_process)\n",
    "        tweak = next_tweak(initial_tweak,current_counter)\n",
    "        block_crypt = cifra(block_to_process,tweak,cipher_context)\n",
    "        cryptogram[bytes_processed:max_bytes] = block_crypt\n",
    "        bytes_processed += 16\n",
    "        current_counter += 1\n",
    "    return {\"crypt\": bytes(cryptogram), \"parity\": parity ,\"i\": current_counter}\n",
    "        \n",
    "\n",
    "def cifra(block,tweak,cipher_context):\n",
    "    hw = Hash(tweak)\n",
    "    x_xor_hw = bytes_xor(block,hw)\n",
    "    e_s_x_hw = cipher_context.update(x_xor_hw)\n",
    "    cryptogram = bytes_xor(e_s_x_hw, hw)\n",
    "    return cryptogram\n",
    "\n",
    "def decifra_blocos(current_counter,initial_tweak,blocks,number_blocks,decipher_context):\n",
    "    str = format(0,'128b') # O bit 0 é elemento neutro no XOR\n",
    "    parity = int(str,2).to_bytes((len(str) + 7) // 8, 'big')\n",
    "    bytes_processed = 0\n",
    "    text = bytearray(160)\n",
    "    while(bytes_processed < (16*number_blocks)):\n",
    "        max_bytes = bytes_processed + 16\n",
    "        block_to_process = blocks[bytes_processed:max_bytes]\n",
    "        tweak = next_tweak(initial_tweak,current_counter)\n",
    "        block_text = decifra(block_to_process,tweak, decipher_context)\n",
    "        parity = bytes_xor(parity,block_text)\n",
    "        text[bytes_processed:max_bytes] = block_text\n",
    "        bytes_processed += 16\n",
    "        current_counter += 1\n",
    "    return {\"text\": bytes(text), \"parity\": parity, \"i\": current_counter}\n",
    "\n",
    "def decifra(block,tweak,decipher_context):\n",
    "    hw = Hash(tweak)\n",
    "    x_xor_hw = bytes_xor(block,hw)\n",
    "    e_s_x_hw = decipher_context.update(x_xor_hw)\n",
    "    cryptogram = bytes_xor(e_s_x_hw, hw)\n",
    "    return cryptogram\n",
    "    "
   ]
  },
  {
   "cell_type": "markdown",
   "metadata": {},
   "source": [
    "### Definição da classe de multiprocessamento"
   ]
  },
  {
   "cell_type": "markdown",
   "metadata": {},
   "source": [
    "No seguinte código, é definida a classe de multiprocessamento, que permite uma comunicação bidireccional com o _Emitter_ e o _Receiver_, sendo estes dois processos criados e implementados pela **API** [**multiprocessing**](https://docs.python.org/2/library/multiprocessing.html)."
   ]
  },
  {
   "cell_type": "code",
   "execution_count": 3,
   "metadata": {},
   "outputs": [],
   "source": [
    "class BiConnection(object):\n",
    "    def __init__(self,left,right):\n",
    "        left_side,right_side = Pipe()\n",
    "        self.timeout = None\n",
    "        self.left_process = Process(target=left,args=(left_side,))\n",
    "        self.right_process = Process(target=right,args=(right_side,))\n",
    "        self.left = lambda : left(left_side)\n",
    "        self.right = lambda : right(right_side)\n",
    "    \n",
    "    def auto(self,proc=None):\n",
    "        if proc == None:\n",
    "            self.left_process.start()\n",
    "            self.right_process.start()\n",
    "            self.left_process.join(self.timeout)\n",
    "            self.right_process.join(self.timeout)\n",
    "        else:\n",
    "            proc.start()\n",
    "            proc.join()"
   ]
  },
  {
   "cell_type": "markdown",
   "metadata": {},
   "source": [
    "### Definição do algoritmo utilizado"
   ]
  },
  {
   "cell_type": "markdown",
   "metadata": {},
   "source": [
    "Esta secção tem como objetivo definir o algoritmo utilizado bem como algumas especificidades em ambas as sessões. O algoritmo utilizado foi exatamente o mesmo, apenas aspetos específicos tais como geração das chaves diferenciaram.\n",
    "O algoritmo aqui definido pretende apenas apresentar o seu modo de funcionamento de uma forma geral, textualmente. Além disso, é conveniente referir que os agentes da sessão síncrona **DH** utilizam chaves permanentes de 3072 bits **DSA** e os agentes da sessão síncrona **ECDH** utilizam chaves permanentes baseadas na curva _NIST P-256_.Neste ponto de início do algoritmo assumimos também que os parâmetros **DH** já estão definidos.\n",
    "Assim sendo, o programa inicia da seguinte forma:\n",
    "\n",
    "**Protocolo de acordo de chaves DH/ECDH com verificação de chave**\n",
    "\n",
    "1. Emissor gera a sua chave privada e chave pública **DH**.\n",
    "2. Emissor envia para o Recetor a sua chave pública em bytes e a assinatura produzida pela sua chave privada **DSA** sobre a chave pública em bytes.\n",
    "3. Recetor verifica a mensagem recebida com a chave pública **DSA** do Emissor.\n",
    "4. Recetor gera a sua chave privada e chave pública **DH**.\n",
    "5. Recetor envia para o Emissor a sua chave pública em bytes e a assinatura produzida pela sua chave privada **DSA** sobre a chave pública em bytes.\n",
    "6. Emissor verifica a mensagem recebida com a chave pública **DSA** do Recetor.\n",
    "7. Emissor produz a chave mestra ($g^{xy}$), a chave partilhada (derivada da chave mestra através de um _KDF_)\n",
    "8. Emissor calcula um _Hash_ da chave partilhada e envia, juntamente com a assinatura, para o Recetor.\n",
    "9. Recetor verifica a mensagem recebida.\n",
    "10. Recetor produz a chave mestra ($g^{yx}$), a chave partilhada (derivada da chave mestra através de um _KDF_)\n",
    "11. Recetor calcula o _Hash_ da chave partilhada e verifica se coincide com o _digest_ recebido.\n",
    "12. Se a verificação de chave foi bem sucedida, continua para o processo de troca de informação segura.\n",
    "\n",
    "**Processo de troca de informação segura**\n",
    "\n",
    "1. Calculam-se os bytes correspondentes à mensagem a ser enviada, bem como a _stream_ de _bytes_.\n",
    "2. É calculado o tweak inicial (_nounce_ de 64 bits) e enviado para o Recetor.\n",
    "3. É criado o contexto de cifra ou de decifra.\n",
    "4. Enquanto que existirem blocos para cifrar/decifrar:\n",
    "    1. Emissor cifra um superbloco de cada vez (10 blocos singulares)\n",
    "    2. Emissor calcula a _tag_ de autenticação do superbloco\n",
    "    3. Emissor envia para o recetor o criptograma e o _tag_ de autenticação e espera por uma mensagem de confirmação do recetor para prosseguir.\n",
    "    4. Recetor decifra o superbloco\n",
    "    5. Recetor verifica a _tag_ de autenticação após calcular a sua.\n",
    "    6. Se a _tag_ estiver correta envia uma mensagem afirmativa ao Emissor, caso contrário o programa termina com falha de autenticação.\n",
    "5. Finalmente o emissor envia uma mensagem de finalização do processo para o Recetor e fecha a conexão.\n",
    "6. Recetor reconhece a mensagem de finalização do processo e fecha também a conexão."
   ]
  },
  {
   "cell_type": "markdown",
   "metadata": {},
   "source": [
    "## Sessão Síncrona com _Diffie-Hellman_"
   ]
  },
  {
   "cell_type": "markdown",
   "metadata": {},
   "source": [
    "### Geração dos parâmetros _Diffie-Hellman_"
   ]
  },
  {
   "cell_type": "markdown",
   "metadata": {},
   "source": [
    "A próxima secção implementa a geração dos parâmetros necessários para a derivação de chaves **DH** e **DSA**, por parte de ambos os agentes."
   ]
  },
  {
   "cell_type": "code",
   "execution_count": 4,
   "metadata": {},
   "outputs": [],
   "source": [
    "parameters_dh = dh.generate_parameters(generator=2,key_size=3072,backend=default_backend())"
   ]
  },
  {
   "cell_type": "markdown",
   "metadata": {},
   "source": [
    "### Geração das chaves permanentes dos agentes"
   ]
  },
  {
   "cell_type": "markdown",
   "metadata": {},
   "source": [
    "Esta secção tem como objetivo gerar as chaves permanentes dos agentes envolvidos na comunicação, tendo em conta que estas são conhecidas por ambos, e serão aplicadas na assinatura digital das mensagens."
   ]
  },
  {
   "cell_type": "code",
   "execution_count": 5,
   "metadata": {},
   "outputs": [],
   "source": [
    "# Geração das chaves do Emissor\n",
    "emitter_dsa_sk = dsa.generate_private_key(3072,default_backend()) #chave privada DSA\n",
    "emitter_dsa_pk = emitter_dsa_sk.public_key() #chave pública DSA\n",
    "\n",
    "# Geração das chaves do Recetor\n",
    "receiver_dsa_sk = dsa.generate_private_key(3072,default_backend()) #chave privada DSA\n",
    "receiver_dsa_pk = receiver_dsa_sk.public_key() #chave pública DSA"
   ]
  },
  {
   "cell_type": "markdown",
   "metadata": {},
   "source": [
    "### Definição do Emissor e do Recetor"
   ]
  },
  {
   "cell_type": "markdown",
   "metadata": {},
   "source": [
    "Por fim definiu-se o comportamento de cada um dos agentes nesta sessão síncrona segura de troca de informação. Na definição de ambos, é assumido que as chaves públicas **DSA** utilizadas na autenticação dos agentes já são conhecidas por ambos. As chaves **DH** são geradas por sessão de modo a acordar uma chave temporária, para que seja possível cifrar e decifrar uma mensagem utilizando uma primitiva simétrica.\n"
   ]
  },
  {
   "cell_type": "code",
   "execution_count": 6,
   "metadata": {},
   "outputs": [],
   "source": [
    "def Emitter(connection):\n",
    "    #Implementação Protocolo Diffie-Hellman\n",
    "    \n",
    "    emitter_dh_sk = parameters_dh.generate_private_key()\n",
    "    emitter_dh_pk = emitter_dh_sk.public_key()\n",
    "    pub = emitter_dh_pk.public_bytes(\n",
    "        encoding = serialization.Encoding.PEM,\n",
    "        format = serialization.PublicFormat.SubjectPublicKeyInfo)\n",
    "    signature = emitter_dsa_sk.sign(pub,hashes.SHA256())\n",
    "    message = {'pk': pub, 'sig': signature}\n",
    "    connection.send(message)\n",
    "    receiver_first = connection.recv()\n",
    "    receiver_dh_public_key = serialization.load_pem_public_key(receiver_first['pk'],default_backend())\n",
    "    try:\n",
    "        receiver_dsa_pk.verify(receiver_first['sig'],receiver_first['pk'],hashes.SHA256())\n",
    "    except InvalidSignature as i:\n",
    "        sys.exit(\"Assinatura de chaves inválida!\")\n",
    "    master_key = emitter_dh_sk.exchange(receiver_dh_public_key)\n",
    "    \n",
    "    #Passar a chave de sessão acordada (master_key) por um kdf\n",
    "    shared_key = HKDF(\n",
    "        algorithm = hashes.SHA256(),\n",
    "        length = 32,\n",
    "        salt = None,\n",
    "        info = b'exchange data',\n",
    "        backend = default_backend()\n",
    "    ).derive(master_key)\n",
    "    \n",
    "    #Verificar a chave, enviando um hash da chave derivada para confirmar\n",
    "    #que tanto emissor como recetor possuem a mesma chave.\n",
    "    \n",
    "    key_digest = Hash(shared_key)\n",
    "    signature = emitter_dsa_sk.sign(key_digest,hashes.SHA256())\n",
    "    connection.send({'digest': key_digest, 'sig': signature})\n",
    "    \n",
    "    key_check_obj = connection.recv()\n",
    "    try:\n",
    "        receiver_dsa_pk.verify(key_check_obj[\"sig\"],bytes(key_check_obj[\"message\"],'utf8'),hashes.SHA256())\n",
    "    except InvalidSignature as i:\n",
    "        sys.exit('Assinatura de chaves inválida!')\n",
    "        \n",
    "    if key_check_obj[\"message\"] == \"OK\":\n",
    "        #Ambos agentes possuem a mesma chave. Prosseguir com o processo de cifra.\n",
    "        message_size = 1600\n",
    "        gen_bytes = os.urandom(message_size)\n",
    "        \n",
    "        #imprimir bytes a cifrar para posterior comparação\n",
    "        print('gen_bytes')\n",
    "        print(gen_bytes)\n",
    "        \n",
    "        inputs = io.BytesIO(gen_bytes)\n",
    "        \n",
    "        #inicialização do tweak como um nounce de 64 bits (n/2)\n",
    "        #e envio para o agente Receiver\n",
    "        tweak_init = calculate_nounce()\n",
    "        connection.send(tweak_init)\n",
    "\n",
    "        buffer = bytearray(160)\n",
    "        cipher = Cipher(algorithms.AES(shared_key),modes.ECB(),backend=default_backend()).encryptor()\n",
    "        i = 1 # nr de bloco\n",
    "        try:\n",
    "            while inputs.readinto(buffer):\n",
    "                cipher_object = cifra_blocos(i,tweak_init,buffer,10,cipher)\n",
    "                cryptogram = cipher_object[\"crypt\"]\n",
    "                parity = cipher_object[\"parity\"]\n",
    "                auth_tweak = calculate_auth_tweak(tweak_init,10)\n",
    "                auth_tag = cifra(parity,auth_tweak,cipher)\n",
    "                i = cipher_object[\"i\"]\n",
    "                msg_to_send = {'crypt': cryptogram, 'tag': auth_tag}\n",
    "                connection.send(msg_to_send)\n",
    "                msg = connection.recv()\n",
    "                if(not(msg == 'OK')):\n",
    "                    sys.exit(\"Autenticação num superbloco falhou!\")\n",
    "        except Exception as err:\n",
    "            print('Erro no emissor! {0}'.format(err))\n",
    "        connection.send('finalized')   \n",
    "        inputs.close()\n",
    "    else:\n",
    "        print('Chaves não coincidiram')\n",
    "    connection.close()    "
   ]
  },
  {
   "cell_type": "code",
   "execution_count": 7,
   "metadata": {},
   "outputs": [],
   "source": [
    "def Receiver(connection):\n",
    "    #Implementação protocolo Diffie-Hellman\n",
    "    emitter_first = connection.recv()\n",
    "    receiver_dh_sk = parameters_dh.generate_private_key()\n",
    "    receiver_dh_pk = receiver_dh_sk.public_key()\n",
    "    emitter_dh_public_key = serialization.load_pem_public_key(emitter_first['pk'],default_backend())\n",
    "    try:\n",
    "        emitter_dsa_pk.verify(emitter_first['sig'],emitter_first['pk'],hashes.SHA256())\n",
    "    except InvalidSignature as i:\n",
    "        sys.exit('Assinatura de chaves inválida!')\n",
    "    master_key = receiver_dh_sk.exchange(emitter_dh_public_key)\n",
    "    pub = receiver_dh_pk.public_bytes(\n",
    "        encoding = serialization.Encoding.PEM,\n",
    "        format = serialization.PublicFormat.SubjectPublicKeyInfo)\n",
    "    signature = receiver_dsa_sk.sign(pub,hashes.SHA256())\n",
    "    message = {'pk':pub,'sig':signature}\n",
    "    connection.send(message)\n",
    "    \n",
    "    #Passar a chave de sessão acordada (master_key) por um kdf\n",
    "    shared_key = HKDF(\n",
    "        algorithm = hashes.SHA256(),\n",
    "        length = 32,\n",
    "        salt = None,\n",
    "        info = b'exchange data',\n",
    "        backend = default_backend()\n",
    "    ).derive(master_key)\n",
    "    \n",
    "    key_check_obj = connection.recv()\n",
    "    try:\n",
    "        emitter_dsa_pk.verify(key_check_obj['sig'],key_check_obj['digest'],hashes.SHA256())\n",
    "    except InvalidSignature as i:\n",
    "        sys.exit(\"Assinatura de chaves inválida!\")\n",
    "    digest = Hash(shared_key)\n",
    "    if digest == key_check_obj[\"digest\"]:\n",
    "        message = \"OK\"\n",
    "        signature = receiver_dsa_sk.sign(bytes(message,'utf8'),hashes.SHA256())\n",
    "        obj = {\"message\":message, 'sig': signature}\n",
    "        connection.send(obj)\n",
    "        \n",
    "        #prosseguir com o modo de decifra síncrono\n",
    "    \n",
    "        outputs = io.BytesIO()\n",
    "        tweak_init = connection.recv()\n",
    "\n",
    "        cipher = Cipher(algorithms.AES(shared_key),modes.ECB(),backend=default_backend()).decryptor()\n",
    "        i = 1 # nr de bloco\n",
    "        try:\n",
    "            while True:\n",
    "                buffer = connection.recv()\n",
    "                if(buffer == 'finalized'):\n",
    "                    outputs.write(cipher.finalize())\n",
    "                    break\n",
    "                else:\n",
    "                    crypt = buffer['crypt']\n",
    "                    tag = buffer['tag']\n",
    "                    decipher_object = decifra_blocos(i, tweak_init,crypt,10,cipher)\n",
    "                    text = decipher_object[\"text\"]\n",
    "                    i = decipher_object[\"i\"]\n",
    "                    parity = decipher_object[\"parity\"]\n",
    "                    auth_tweak = calculate_auth_tweak(tweak_init,10)\n",
    "                    auth_tag = decifra(tag,auth_tweak,cipher)\n",
    "                    if(auth_tag == parity):\n",
    "                        connection.send('OK')\n",
    "                    else:\n",
    "                        connection.send('AUTH ERROR')\n",
    "                        sys.exit(\"Autenticação num superbloco falhou!\")\n",
    "                    outputs.write(text)\n",
    "            print('decrypted:')\n",
    "            print(outputs.getvalue())\n",
    "        except Exception as Err:\n",
    "            print('Erro no recetor! {0}'.format(Err))\n",
    "\n",
    "        outputs.close()\n",
    "    else:\n",
    "        print('Chaves não coincidiram')\n",
    "    connection.close()\n",
    "    "
   ]
  },
  {
   "cell_type": "code",
   "execution_count": 8,
   "metadata": {},
   "outputs": [
    {
     "name": "stdout",
     "output_type": "stream",
     "text": [
      "gen_bytes\n",
      "b'\\xd7\\xb7\\xe6\\x9a(i\\xac\\x18\\xd9\\x7f-\\x19\\xcbx&\\xa6\\t\\xccu\\xc7\\x8f\\xa4p\\x96\\xff\\r\\x96\\xdaM\\xce\\x13\\x91\\x88\\xb6\\x8e\\xa6\\xec-\\xbd\\x9c\\x9a\\x9f\\xb0o\\xf8SUb\\xc30\\x8f\\x98j\"Sx\\xc4\\x9c\\xae$\\xe6\\x08\\x9cl\\x17\\xa8\\xe2\\xb6D\\xd4\\x06\\xe0\\x80\\xda\\xb0\\x18\\xee\\xac\\xa6b\\xaa\\xe5\\xe0\\xa9\\x91$&s0\\'U\\xae\\xa1\\x92y\\x87\\x9b\\x1a\\x9a$\\xaf\\xa2}\\xb9\\xa9\\xa3k;\\xa9\\xc5\\x8cU\\xce\\xcd0\\x12\\xa3v\\x14\\xfe\\xabP\\xa0\\xca\\x9c\\xb4\\x98c\\xdd\\x80\\xc5\\xf6\\x1a\\x87o\\x8a\\xeb3V{\\xe2|\\xa5\\xcf)\\x81x\\x1a\\xd79b|\\xe3\\xa7k\\x82\\x83\\xf9\\xdc(I\\xd44@\\xa6J\\xc1\\xf4\"\\x8d\\xde\\xb1\\xd0e\\x98k\\xb4\\xb3{RK\\xbf\\xa85\\xf3D\\xd2\\x1c!\\xb7\\xcf\\nv\\x00\\x9b\\r/\\xa0\\xe1\\x83\\x15\\xa6\\x99(\\x9bkv\\x02\\xe0\\x1d(\\xeb\\xfe\\x0f@\\x98\\xe6j\\xac\\x8aQ\\xdb\\xac\\x944\\xc4\\xaf\\x00t\\xc8U\\xef\\xb4\\xee\\x872^\\x7f\\x8b|ZL;\\\\kD\\xc19\\xd2f\\xe6\\xeaz\\xfd\\n\\r\\x9a\\x17GD\\x8d\\xda\\xd3\\xabC\\xa7$\\x91\\x94\\xe2\\x0eS\\xae\\x99V\":c\\xa3\\xce5\\x9f\\xb3]\\x9f\\x0f\\x15\\x00c\\xab\\x12\\x14\\xa7\\xd1;0\\xd0\\xc2\\x0b\\xbf\\x8a7\\x94J\\x8e\\xbf\\xb1\\xbc\\x01\\x99\\xe6\\xfc\\xc8\\x91\\x9fV\\xbf!\\xaa \\xac\\xea\\xad\\x0b\\xca\\xa8\\xd0\\xafTY)\\xed@\\x1c\\xaf\\xd9\\x89{!\\xc0\\xf3\\xc1W\\xf7\\x02\\xec\\xd3\\x81\\x81\\x03ijO\\xe8\\xb3\\x1d.B\\x84\\r\\x934b\\xe3`G\\xa4\\xee\\xfd\\xfa\\xa6\\xa3c\\xe7\\xacK-\\xd8\\xc4\\x0656\\xbc\\xaaM\\xc1\\x82F\\x15\\xf0\\xed\\x9a\\xbbc\\xbd@\\x86\\x91S\\xd0\\x94=\\xec\\xb7uRM\\x01\\xa7\\xccg\\xdf\\x08\\xe8\\xff\\x05\\'dY7|\\x13\\xa8\\x82\\xb4\\x18\\xef\\xe8[&\\xf8-\\xc4oV\\xf67\\x06\\xa4\\xa7\\xaf\\xb7X\\r\\x02S|\\xb8\\xb7\\x88s\\x86L,-\\xbc\\xf4\\x9c1Z\\xbeCA\\xc2\\xc3\\xabB\\xa2\\xa2\\xa7(w\\xf6+-\\'\\xf2\\xbc\\xa4W\\x16J%E\\xcf\\xa2\\xb7\\x93\\x81\\xee\\xae\\xe8\\x8b\\xc7_\\x08\\x89\\x18\\xb1\\xa3\\xd0\\x1cF\\xc8\\x9bG\\xe3\\x7f\\xec@z\\x8eV\\xed\\xaeE\\xf3Z\\ny\\xff\\xc8v~\\xaf\\xa2\\xd4^yK\\xad\\x92P\\xa3\\xb9\\xd2\\xe3D\\x0208\\xd1\\x88\\xcc\\xba\\x8a\\xcf\\r3\\xe6)U\\xcd\\x92e\\x01\\xec\\x8f\\xfe\\xef\\xbcc\\xd3\\x91\\xbb\\x91\\x99l\\xb6jkK\\xa6\\xea\\xc1j\\xa4\\xe5\\xd3E\\xea\\x94JD\\xd5\\xffTp\\xe6\\xceE\\x19\\xd8N\\xcbD\\x1dd\\x07ov\\x93\\xa8&\\x9cX\\xd0\\xa0\\x8d\\x8eh\\xe8;\\x8a\\x11\\x0c\\x03\\xee[\\xce\\x9b\\xc2\\rR\\x90\\x92\\xf6\\x14=\\x85\\x1e:\\xd2#\\xfeXz\\xb8i\\x08\\x8b\\xa9\\x8cr?s\\xaa\\x83\\xf5\\x03\\xd5\\x98\\x1b>\\xbcK\\xac\\xa2\\xae.D\\xde\\xdc\\x1d\\xbf\\xc3\\x94\\xf7ibz\\xc78{Q$\\xd2\\x86V\\x93\\xf8m<\\xa2\\xb9\\rW\\xca\\xb1y\\xb9n\\xbai[i\\x83\\x1c\\x08\\xd7e\\x83\\x0c)TO\\x13\\x83*\\xed\\xe4\\xfb\\x8e?D>\\xbb\\xeb\\x02\\xfb\\xbe\\x81.\\xeb\\x16\\n\\xc2\\x8f$\\x89V\\xf8.g\\x1dr\\xe0\\x7fx\\x89\\x9c\\xdb\\n\\xd6\\r\\x94\\xac\\n\\x89\\xee\\xbeM\\xc3\\x9f\\x85&\\xfbK\\xdd\\xe1\\xa3\\x83\\xe3\\xba\\x96\\x811\\xc3\\xb0\\xfc\\xae8\\x98<4\\xdcr%\\xc4\\xbb\\x14\\x8cE\\xc9P\\xfb\\x971M\\xdeV0}\\xbaQ+f\\xa2\\x1d!-_\\xd6\\xa6\\xc49\\xf2\\xf5)\\xff\\xefH&\\x80Nf\\xfa\\xbb%q\\xf1R\\x890\\xb1\\xb1e\\x8a\\xe1@\\xd3\\xa8\\x07Scj\\x91\\xc8\\x0f\\x9c\\x92\\x89\\xbe-*V(,\\x9f~l\\xa2-\\xf1\\xf8\\x0b\\xff<\\xe4\\xf6M:N\\xc1\"X*\\x19\\xc7\\xd4gl(\\xa3\\x11>d\\xea`zY\\xea2\\x13\\xd5!\\x96\\xc3&\\x80\\xf6\\xba\\xb8\\x7f\\xd3\\xbe\\xab\\xb0\\x06P>B_\\x12\\xa2\\xe3,1 \\x86\\xacc3u\\xe6ejK\\xb7\\xcc\\xe4.\\r\\xf2\\xef.Q/\\xe7o\\xcc6\\x97\\xddt\\x1b&$\\xb4\\x00\\'\\x84\\xcdD\\x99\\xa3\\xa1\\xa9}4\\x80m$\\x85\\xac`\\xae\\x84\\x0b\\xc0\\xef\\xc7\\xca\\xea{\\xc4\\x85/v\\xb7\\x0b\\xa7\"TD\\xec\\x12jB\\xf1\\xf9G\\xd7u\\x18\\xe6Y%l\\xff\\x8fb{l\\x17\\xff\\xeaBW,\\xd6R\\x86\\x18\\xc7\\xc5\\xbd.a\\x80\\xeb\\x07\\xa7\\xa2\\xc9\\xc5\\xef.\\xfe\\xd2?\\xba\\xb6\\x12s\\x1d<\\xe4\\xd4\\xd6\\xa1\\xd5\\x89`\\x94\\xe4\\x18\\xb2Y\\x1a\\xd9\\x8c\\xb4vl,\\x98\\xa1\\xaa\\xc0\\xe4\\xe2\\xebUn}~\\x95J$\\xfa\\x940;\\xe9\\x1cF\\xfe\\x06*\\xad]\\xece)\\xac=!\\x15\\xae\\xa7S\\x95\\x10@[Jq\\xe1n\\x9f\\xf6)/\\xb4h\\x03ues\\xc9S\\xfc\\xd3\\xe8\\xe0E\\x14\\xf4\\x9c\\xc3;m\\xc0\\xa2s?\\xb7\\xcb\\x9cRX\\xf7\\x0exZ@\\xdf\\xe7I\\xcc\\x15\\xe5\\xc9]\\xecBD\\x80\\x8e-\\x07i\\xc4d\\x0488(\\xab\\xa2\\x9e\\xaf\\x98\\x1clVl!\\x8f\\xad\\xcc\\'\\xb0\\xfb\\xaaL\\x9ahMTL.<UW\\x1c\\t5\\xa8^zr\\xc1\\xc2&\\xfc\\x8d\\xf4}9j\\xf4w\\xad\\x10.\\x01L\\xad\\x91le]\\x1c\\x17\\xe6T\\x14\\xcbo\\x1f\\x9b\\xe9.s\\xf0FT%\\xc7v\\xab\\xcd\\x84\\xe4\\nI\\r\\xef\\x1f$gf\\xdb\\xe1\\x86%z\\xb1\\xeaP\\x05\\xae\\x0e\\x15\\xcd\\xe2#\\xbbT,G\\r&0 \\x14\\x9e\\xbdj\\xaaU\\x1d\\x96m\\xba\\xb1H\\xa1\\xaa\\x98<\\x88w\\x96\\xe6\\xc1\\xac\\xf1\\xe1\\xd3\\xa18\"\\xcb\\xa9\\xadAF\\xdeh~\\xe7\\xd5\\x11;5\\x08\\xae*\\x1b\\xdf\\xc2\\xc5\\x1d\\xa7-U\\xf3mV\\xe2\\xb5\\xb0\\xd5\\x1f\\t\\x12\\x00\\xa5\\xb4\\x93yuaL\\x8eI*-c\\xd7;\\xd4v\\xf8\\xb3\\x98\\x19\\x0c9\\x7f\\xea\\x90\\xd4\\xcdA\\xa7\\xe7RW\\xc8\\xd5\\xcfs\\xe2\\xb8\\xf3\\xfeYeK\\x8a\\xe0\\xdd\\xd8\\xcb\\xff$M\\xe8\\xee\\r^\\xc1f\\x86\\xf0\\xbc\\xae\\x8f+\\xf8b=\\xbd\\x12gt\\xea\\x8d\\x08h*\\x98\\xc85\\xb5\\xf3\\x1a\\xf1\\xe0\\xadSI\\x01Zu\\xbb|\\x84\\xcb\\xaf\\xb9\\xc5\\\\5\\xf1\\xed\\xb7$\\xdc\\xb6j\\xb55[\\xc9\\x17\\x81%\\x88\\x00\\xd7\\x07\\xaf\\x00\\xac\\x99\\xddA\\'\\r\\x07`\\xd1\\x81\\xf6\\x02\\x97\\x08\\xac\\xf6\\x00\\xfd\\x06a\\x8a\\xc8q\\xb2|\\xde9\\xcb\\x18\\xb2<\\xa0[\\x8c\\xf0\\x1fL\\x0eT\\xa8\\x01Y@e\\x94\\x9b}\\x95\\xe3\\xbc\\xf22l\\x01G\\xb0\\x07\\x88\\x9a\\xba\\x80\\xa9\\xe2\\xe0\\x0c`\\xedLi\\xb7\\xb5\\xfc\\x90\\xdd0\\x9a\\xee\\xca\\xad\\xc0\\xce\\xd4\\xc9\\xc0,\\x89\\xfd\\x18\\xc2\\xaf\\xfc\\x97\\xf4\\\\v\\xad\\x8d\\x1a\\x013\\xc2X\\x8e\\xa1?\\xec\\xec\\xeas\\\\\\xcc\\xd5\\x8eh\\x19^\\x85\\x08X\\xf1\\xa6\\x8eE\\xfb\\xb4\\xef?V\\xe4l\\x11\\x18\\xbdj>\\x15\\xfc\\x95\"s\\xfa\\xd3\\xaa\\xdd\\xedr\\xba\\xd9\\xbf{\\x8cDd\\x8a\\x04\\xfd W\\x15l\\x7fD'\n",
      "decrypted:\n",
      "b'\\xd7\\xb7\\xe6\\x9a(i\\xac\\x18\\xd9\\x7f-\\x19\\xcbx&\\xa6\\t\\xccu\\xc7\\x8f\\xa4p\\x96\\xff\\r\\x96\\xdaM\\xce\\x13\\x91\\x88\\xb6\\x8e\\xa6\\xec-\\xbd\\x9c\\x9a\\x9f\\xb0o\\xf8SUb\\xc30\\x8f\\x98j\"Sx\\xc4\\x9c\\xae$\\xe6\\x08\\x9cl\\x17\\xa8\\xe2\\xb6D\\xd4\\x06\\xe0\\x80\\xda\\xb0\\x18\\xee\\xac\\xa6b\\xaa\\xe5\\xe0\\xa9\\x91$&s0\\'U\\xae\\xa1\\x92y\\x87\\x9b\\x1a\\x9a$\\xaf\\xa2}\\xb9\\xa9\\xa3k;\\xa9\\xc5\\x8cU\\xce\\xcd0\\x12\\xa3v\\x14\\xfe\\xabP\\xa0\\xca\\x9c\\xb4\\x98c\\xdd\\x80\\xc5\\xf6\\x1a\\x87o\\x8a\\xeb3V{\\xe2|\\xa5\\xcf)\\x81x\\x1a\\xd79b|\\xe3\\xa7k\\x82\\x83\\xf9\\xdc(I\\xd44@\\xa6J\\xc1\\xf4\"\\x8d\\xde\\xb1\\xd0e\\x98k\\xb4\\xb3{RK\\xbf\\xa85\\xf3D\\xd2\\x1c!\\xb7\\xcf\\nv\\x00\\x9b\\r/\\xa0\\xe1\\x83\\x15\\xa6\\x99(\\x9bkv\\x02\\xe0\\x1d(\\xeb\\xfe\\x0f@\\x98\\xe6j\\xac\\x8aQ\\xdb\\xac\\x944\\xc4\\xaf\\x00t\\xc8U\\xef\\xb4\\xee\\x872^\\x7f\\x8b|ZL;\\\\kD\\xc19\\xd2f\\xe6\\xeaz\\xfd\\n\\r\\x9a\\x17GD\\x8d\\xda\\xd3\\xabC\\xa7$\\x91\\x94\\xe2\\x0eS\\xae\\x99V\":c\\xa3\\xce5\\x9f\\xb3]\\x9f\\x0f\\x15\\x00c\\xab\\x12\\x14\\xa7\\xd1;0\\xd0\\xc2\\x0b\\xbf\\x8a7\\x94J\\x8e\\xbf\\xb1\\xbc\\x01\\x99\\xe6\\xfc\\xc8\\x91\\x9fV\\xbf!\\xaa \\xac\\xea\\xad\\x0b\\xca\\xa8\\xd0\\xafTY)\\xed@\\x1c\\xaf\\xd9\\x89{!\\xc0\\xf3\\xc1W\\xf7\\x02\\xec\\xd3\\x81\\x81\\x03ijO\\xe8\\xb3\\x1d.B\\x84\\r\\x934b\\xe3`G\\xa4\\xee\\xfd\\xfa\\xa6\\xa3c\\xe7\\xacK-\\xd8\\xc4\\x0656\\xbc\\xaaM\\xc1\\x82F\\x15\\xf0\\xed\\x9a\\xbbc\\xbd@\\x86\\x91S\\xd0\\x94=\\xec\\xb7uRM\\x01\\xa7\\xccg\\xdf\\x08\\xe8\\xff\\x05\\'dY7|\\x13\\xa8\\x82\\xb4\\x18\\xef\\xe8[&\\xf8-\\xc4oV\\xf67\\x06\\xa4\\xa7\\xaf\\xb7X\\r\\x02S|\\xb8\\xb7\\x88s\\x86L,-\\xbc\\xf4\\x9c1Z\\xbeCA\\xc2\\xc3\\xabB\\xa2\\xa2\\xa7(w\\xf6+-\\'\\xf2\\xbc\\xa4W\\x16J%E\\xcf\\xa2\\xb7\\x93\\x81\\xee\\xae\\xe8\\x8b\\xc7_\\x08\\x89\\x18\\xb1\\xa3\\xd0\\x1cF\\xc8\\x9bG\\xe3\\x7f\\xec@z\\x8eV\\xed\\xaeE\\xf3Z\\ny\\xff\\xc8v~\\xaf\\xa2\\xd4^yK\\xad\\x92P\\xa3\\xb9\\xd2\\xe3D\\x0208\\xd1\\x88\\xcc\\xba\\x8a\\xcf\\r3\\xe6)U\\xcd\\x92e\\x01\\xec\\x8f\\xfe\\xef\\xbcc\\xd3\\x91\\xbb\\x91\\x99l\\xb6jkK\\xa6\\xea\\xc1j\\xa4\\xe5\\xd3E\\xea\\x94JD\\xd5\\xffTp\\xe6\\xceE\\x19\\xd8N\\xcbD\\x1dd\\x07ov\\x93\\xa8&\\x9cX\\xd0\\xa0\\x8d\\x8eh\\xe8;\\x8a\\x11\\x0c\\x03\\xee[\\xce\\x9b\\xc2\\rR\\x90\\x92\\xf6\\x14=\\x85\\x1e:\\xd2#\\xfeXz\\xb8i\\x08\\x8b\\xa9\\x8cr?s\\xaa\\x83\\xf5\\x03\\xd5\\x98\\x1b>\\xbcK\\xac\\xa2\\xae.D\\xde\\xdc\\x1d\\xbf\\xc3\\x94\\xf7ibz\\xc78{Q$\\xd2\\x86V\\x93\\xf8m<\\xa2\\xb9\\rW\\xca\\xb1y\\xb9n\\xbai[i\\x83\\x1c\\x08\\xd7e\\x83\\x0c)TO\\x13\\x83*\\xed\\xe4\\xfb\\x8e?D>\\xbb\\xeb\\x02\\xfb\\xbe\\x81.\\xeb\\x16\\n\\xc2\\x8f$\\x89V\\xf8.g\\x1dr\\xe0\\x7fx\\x89\\x9c\\xdb\\n\\xd6\\r\\x94\\xac\\n\\x89\\xee\\xbeM\\xc3\\x9f\\x85&\\xfbK\\xdd\\xe1\\xa3\\x83\\xe3\\xba\\x96\\x811\\xc3\\xb0\\xfc\\xae8\\x98<4\\xdcr%\\xc4\\xbb\\x14\\x8cE\\xc9P\\xfb\\x971M\\xdeV0}\\xbaQ+f\\xa2\\x1d!-_\\xd6\\xa6\\xc49\\xf2\\xf5)\\xff\\xefH&\\x80Nf\\xfa\\xbb%q\\xf1R\\x890\\xb1\\xb1e\\x8a\\xe1@\\xd3\\xa8\\x07Scj\\x91\\xc8\\x0f\\x9c\\x92\\x89\\xbe-*V(,\\x9f~l\\xa2-\\xf1\\xf8\\x0b\\xff<\\xe4\\xf6M:N\\xc1\"X*\\x19\\xc7\\xd4gl(\\xa3\\x11>d\\xea`zY\\xea2\\x13\\xd5!\\x96\\xc3&\\x80\\xf6\\xba\\xb8\\x7f\\xd3\\xbe\\xab\\xb0\\x06P>B_\\x12\\xa2\\xe3,1 \\x86\\xacc3u\\xe6ejK\\xb7\\xcc\\xe4.\\r\\xf2\\xef.Q/\\xe7o\\xcc6\\x97\\xddt\\x1b&$\\xb4\\x00\\'\\x84\\xcdD\\x99\\xa3\\xa1\\xa9}4\\x80m$\\x85\\xac`\\xae\\x84\\x0b\\xc0\\xef\\xc7\\xca\\xea{\\xc4\\x85/v\\xb7\\x0b\\xa7\"TD\\xec\\x12jB\\xf1\\xf9G\\xd7u\\x18\\xe6Y%l\\xff\\x8fb{l\\x17\\xff\\xeaBW,\\xd6R\\x86\\x18\\xc7\\xc5\\xbd.a\\x80\\xeb\\x07\\xa7\\xa2\\xc9\\xc5\\xef.\\xfe\\xd2?\\xba\\xb6\\x12s\\x1d<\\xe4\\xd4\\xd6\\xa1\\xd5\\x89`\\x94\\xe4\\x18\\xb2Y\\x1a\\xd9\\x8c\\xb4vl,\\x98\\xa1\\xaa\\xc0\\xe4\\xe2\\xebUn}~\\x95J$\\xfa\\x940;\\xe9\\x1cF\\xfe\\x06*\\xad]\\xece)\\xac=!\\x15\\xae\\xa7S\\x95\\x10@[Jq\\xe1n\\x9f\\xf6)/\\xb4h\\x03ues\\xc9S\\xfc\\xd3\\xe8\\xe0E\\x14\\xf4\\x9c\\xc3;m\\xc0\\xa2s?\\xb7\\xcb\\x9cRX\\xf7\\x0exZ@\\xdf\\xe7I\\xcc\\x15\\xe5\\xc9]\\xecBD\\x80\\x8e-\\x07i\\xc4d\\x0488(\\xab\\xa2\\x9e\\xaf\\x98\\x1clVl!\\x8f\\xad\\xcc\\'\\xb0\\xfb\\xaaL\\x9ahMTL.<UW\\x1c\\t5\\xa8^zr\\xc1\\xc2&\\xfc\\x8d\\xf4}9j\\xf4w\\xad\\x10.\\x01L\\xad\\x91le]\\x1c\\x17\\xe6T\\x14\\xcbo\\x1f\\x9b\\xe9.s\\xf0FT%\\xc7v\\xab\\xcd\\x84\\xe4\\nI\\r\\xef\\x1f$gf\\xdb\\xe1\\x86%z\\xb1\\xeaP\\x05\\xae\\x0e\\x15\\xcd\\xe2#\\xbbT,G\\r&0 \\x14\\x9e\\xbdj\\xaaU\\x1d\\x96m\\xba\\xb1H\\xa1\\xaa\\x98<\\x88w\\x96\\xe6\\xc1\\xac\\xf1\\xe1\\xd3\\xa18\"\\xcb\\xa9\\xadAF\\xdeh~\\xe7\\xd5\\x11;5\\x08\\xae*\\x1b\\xdf\\xc2\\xc5\\x1d\\xa7-U\\xf3mV\\xe2\\xb5\\xb0\\xd5\\x1f\\t\\x12\\x00\\xa5\\xb4\\x93yuaL\\x8eI*-c\\xd7;\\xd4v\\xf8\\xb3\\x98\\x19\\x0c9\\x7f\\xea\\x90\\xd4\\xcdA\\xa7\\xe7RW\\xc8\\xd5\\xcfs\\xe2\\xb8\\xf3\\xfeYeK\\x8a\\xe0\\xdd\\xd8\\xcb\\xff$M\\xe8\\xee\\r^\\xc1f\\x86\\xf0\\xbc\\xae\\x8f+\\xf8b=\\xbd\\x12gt\\xea\\x8d\\x08h*\\x98\\xc85\\xb5\\xf3\\x1a\\xf1\\xe0\\xadSI\\x01Zu\\xbb|\\x84\\xcb\\xaf\\xb9\\xc5\\\\5\\xf1\\xed\\xb7$\\xdc\\xb6j\\xb55[\\xc9\\x17\\x81%\\x88\\x00\\xd7\\x07\\xaf\\x00\\xac\\x99\\xddA\\'\\r\\x07`\\xd1\\x81\\xf6\\x02\\x97\\x08\\xac\\xf6\\x00\\xfd\\x06a\\x8a\\xc8q\\xb2|\\xde9\\xcb\\x18\\xb2<\\xa0[\\x8c\\xf0\\x1fL\\x0eT\\xa8\\x01Y@e\\x94\\x9b}\\x95\\xe3\\xbc\\xf22l\\x01G\\xb0\\x07\\x88\\x9a\\xba\\x80\\xa9\\xe2\\xe0\\x0c`\\xedLi\\xb7\\xb5\\xfc\\x90\\xdd0\\x9a\\xee\\xca\\xad\\xc0\\xce\\xd4\\xc9\\xc0,\\x89\\xfd\\x18\\xc2\\xaf\\xfc\\x97\\xf4\\\\v\\xad\\x8d\\x1a\\x013\\xc2X\\x8e\\xa1?\\xec\\xec\\xeas\\\\\\xcc\\xd5\\x8eh\\x19^\\x85\\x08X\\xf1\\xa6\\x8eE\\xfb\\xb4\\xef?V\\xe4l\\x11\\x18\\xbdj>\\x15\\xfc\\x95\"s\\xfa\\xd3\\xaa\\xdd\\xedr\\xba\\xd9\\xbf{\\x8cDd\\x8a\\x04\\xfd W\\x15l\\x7fD'\n"
     ]
    }
   ],
   "source": [
    "BiConnection(Emitter,Receiver).auto()"
   ]
  },
  {
   "cell_type": "markdown",
   "metadata": {},
   "source": [
    "A comparação entre os valores dados por **gen_bytes** e por **decrypted** no output, por via da igualdade, permitem concluir que a mensagem que foi gerada é a mesma mensagem que foi decifrada."
   ]
  },
  {
   "cell_type": "markdown",
   "metadata": {},
   "source": [
    "## Sessão Síncrona com _Elliptic Curve Diffie-Hellman_"
   ]
  },
  {
   "cell_type": "markdown",
   "metadata": {},
   "source": [
    "### Geração das chaves permanentes dos agentes"
   ]
  },
  {
   "cell_type": "markdown",
   "metadata": {},
   "source": [
    "Esta secção tem como objetivo gerar as chaves permanentes de ambos os agentes, ou seja, as chaves que são utilizadas na autenticação dos mesmos."
   ]
  },
  {
   "cell_type": "code",
   "execution_count": 9,
   "metadata": {},
   "outputs": [],
   "source": [
    "# Geração das chaves do emissor\n",
    "emitter_ecdsa_sk = ec.generate_private_key(ec.SECP256R1(),default_backend()) #Chave privada\n",
    "emitter_ecdsa_pk = emitter_ecdsa_sk.public_key() #Chave pública\n",
    "\n",
    "# Geração das chaves do recetor\n",
    "receiver_ecdsa_sk = ec.generate_private_key(ec.SECP256R1(),default_backend()) #Chave privada\n",
    "receiver_ecdsa_pk = receiver_ecdsa_sk.public_key() #Chave pública"
   ]
  },
  {
   "cell_type": "markdown",
   "metadata": {},
   "source": [
    "### Definição do Emissor e do Recetor"
   ]
  },
  {
   "cell_type": "markdown",
   "metadata": {},
   "source": [
    "Nesta secção, é definido o comportamento de cada um dos agentes na sessão síncrona segura de troca de informação utilizando o protocolo **ECDH** e o algoritmo de assinatura **ECDSA**. É assumido que as chaves públicas **ECDSA** de cada agente já são conhecidas por ambos, pelo que podem ser utilizadas na autenticação dos agentes ao realizar o protocolo de acordo de chaves **ECDH**. As chaves **ECDH** são geradas por sessão, de forma a acordar uma chave de sessão temporária e comum que permita a utilização de uma primitiva simétrica."
   ]
  },
  {
   "cell_type": "code",
   "execution_count": 10,
   "metadata": {},
   "outputs": [],
   "source": [
    "def Emitter(connection):\n",
    "    #Implementação do protocolo Elliptic Curve Diffie-Hellman\n",
    "    emitter_ecdh_sk = ec.generate_private_key(ec.SECP521R1(), default_backend())\n",
    "    emitter_ecdh_pk = emitter_ecdh_sk.public_key()\n",
    "    pub = emitter_ecdh_pk.public_bytes(\n",
    "        encoding = serialization.Encoding.PEM,\n",
    "        format = serialization.PublicFormat.SubjectPublicKeyInfo\n",
    "    )\n",
    "    signature = emitter_ecdsa_sk.sign(\n",
    "        pub,\n",
    "        ec.ECDSA(hashes.SHA256())\n",
    "    )\n",
    "    message_to_send = {'pub': pub, 'sig': signature}\n",
    "    connection.send(message_to_send)\n",
    "    receiver_info = connection.recv()\n",
    "    receiver_ecdsa_pk.verify(receiver_info[\"sig\"],receiver_info[\"pub\"],ec.ECDSA(hashes.SHA256()))\n",
    "    receiver_pub = serialization.load_pem_public_key(receiver_info[\"pub\"],default_backend())\n",
    "    master_key = emitter_ecdh_sk.exchange(ec.ECDH(),receiver_pub)\n",
    "    shared_key = HKDF(\n",
    "        algorithm = hashes.SHA256(),\n",
    "        length = 32,\n",
    "        salt = None,\n",
    "        info = b'exchange data',\n",
    "        backend = default_backend()\n",
    "    ).derive(master_key)\n",
    "    \n",
    "    #Verificação da chave\n",
    "    shared_key_digest = Hash(shared_key)\n",
    "    signature = emitter_ecdsa_sk.sign(\n",
    "        shared_key_digest,\n",
    "        ec.ECDSA(hashes.SHA256())\n",
    "    )\n",
    "    msg = {'skd':shared_key_digest,'sig':signature}\n",
    "    connection.send(msg)\n",
    "    result = connection.recv()\n",
    "    receiver_ecdsa_pk.verify(result['sig'],result['msg'],ec.ECDSA(hashes.SHA256()))\n",
    "    if(result['msg'].decode('utf8') == 'OK'):\n",
    "        # Chave verificada. Iniciar processo de cifra\n",
    "        \n",
    "        message_size = 1600\n",
    "        gen_bytes = os.urandom(message_size)\n",
    "        \n",
    "        #Imprimir bytes a cifrar para posterior comparação\n",
    "        print('bytes before cipher:')\n",
    "        print(gen_bytes)\n",
    "        \n",
    "        inputs = io.BytesIO(gen_bytes)\n",
    "        \n",
    "        #Inicialização e envio dos primeiros 64 bits do tweak\n",
    "        tweak_init = calculate_nounce()\n",
    "        connection.send(tweak_init)\n",
    "        \n",
    "        buffer = bytearray(160)\n",
    "        cipher = Cipher(algorithms.AES(shared_key),modes.ECB(),backend=default_backend()).encryptor()\n",
    "        i = 1 #nr de bloco\n",
    "        try:\n",
    "            while inputs.readinto(buffer):\n",
    "                cipher_object = cifra_blocos(i,tweak_init,buffer,10,cipher)\n",
    "                cryptogram = cipher_object[\"crypt\"]\n",
    "                parity = cipher_object[\"parity\"]\n",
    "                auth_tweak = calculate_auth_tweak(tweak_init,10)\n",
    "                auth_tag = cifra(parity,auth_tweak,cipher)\n",
    "                i = cipher_object[\"i\"]\n",
    "                msg_to_send = {'crypt': cryptogram, 'tag': auth_tag}\n",
    "                connection.send(msg_to_send)\n",
    "                msg = connection.recv()\n",
    "                if(not(msg == 'OK')):\n",
    "                    sys.exit(\"Autenticação num superbloco falhou!\")\n",
    "        except Exception as err:\n",
    "            print('Erro no emissor! {0}'.format(err))\n",
    "        connection.send('finalized')   \n",
    "        inputs.close()\n",
    "    else:\n",
    "        print(result['msg'].decode('utf8'))\n",
    "    connection.close()\n",
    "    "
   ]
  },
  {
   "cell_type": "code",
   "execution_count": 11,
   "metadata": {},
   "outputs": [],
   "source": [
    "def Receiver(connection):\n",
    "    #Implementação do protocolo Elliptic Curve Diffie-Hellman\n",
    "    emitter_info = connection.recv()\n",
    "    emitter_pub = emitter_info[\"pub\"]\n",
    "    sig = emitter_info[\"sig\"]\n",
    "    emitter_ecdsa_pk.verify(sig,emitter_pub,ec.ECDSA(hashes.SHA256()))\n",
    "    receiver_ecdh_sk = ec.generate_private_key(ec.SECP521R1(),default_backend())\n",
    "    receiver_ecdh_pk = receiver_ecdh_sk.public_key()\n",
    "    pub = receiver_ecdh_pk.public_bytes(\n",
    "        encoding = serialization.Encoding.PEM,\n",
    "        format = serialization.PublicFormat.SubjectPublicKeyInfo\n",
    "    )\n",
    "    signature = receiver_ecdsa_sk.sign(\n",
    "        pub,\n",
    "        ec.ECDSA(hashes.SHA256())\n",
    "    )\n",
    "    message_to_send = {'pub': pub, 'sig': signature}\n",
    "    connection.send(message_to_send)\n",
    "    key_check_info = connection.recv()\n",
    "    emitter_ecdsa_pk.verify(key_check_info[\"sig\"],key_check_info[\"skd\"],ec.ECDSA(hashes.SHA256()))\n",
    "    emitter_pub = serialization.load_pem_public_key(emitter_pub,default_backend())\n",
    "    master_key = receiver_ecdh_sk.exchange(ec.ECDH(),emitter_pub)\n",
    "    shared_key = HKDF(\n",
    "        algorithm = hashes.SHA256(),\n",
    "        length = 32,\n",
    "        salt = None,\n",
    "        info = b'exchange data',\n",
    "        backend = default_backend()\n",
    "    ).derive(master_key)\n",
    "    \n",
    "    #Verificação da chave\n",
    "    shared_key_digest = Hash(shared_key)\n",
    "    if(shared_key_digest == key_check_info[\"skd\"]):\n",
    "        message = bytes(\"OK\",'utf8')\n",
    "        signature = receiver_ecdsa_sk.sign(\n",
    "            message,\n",
    "            ec.ECDSA(hashes.SHA256())\n",
    "        )\n",
    "        connection.send({'msg':message, 'sig': signature})\n",
    "        \n",
    "        # Iniciar processo de decifra\n",
    "        tweak_init = connection.recv()\n",
    "        outputs = io.BytesIO()\n",
    "        \n",
    "        cipher = Cipher(algorithms.AES(shared_key),modes.ECB(),backend=default_backend()).decryptor()\n",
    "        i = 1 # nr de bloco\n",
    "        try:\n",
    "            while True:\n",
    "                buffer = connection.recv()\n",
    "                if(buffer == 'finalized'):\n",
    "                    outputs.write(cipher.finalize())\n",
    "                    break\n",
    "                else:\n",
    "                    crypt = buffer['crypt']\n",
    "                    tag = buffer['tag']\n",
    "                    decipher_object = decifra_blocos(i, tweak_init,crypt,10,cipher)\n",
    "                    text = decipher_object[\"text\"]\n",
    "                    i = decipher_object[\"i\"]\n",
    "                    parity = decipher_object[\"parity\"]\n",
    "                    auth_tweak = calculate_auth_tweak(tweak_init,10)\n",
    "                    auth_tag = decifra(tag,auth_tweak,cipher)\n",
    "                    if(auth_tag == parity):\n",
    "                        connection.send('OK')\n",
    "                    else:\n",
    "                        connection.send('AUTH ERROR')\n",
    "                        sys.exit('Autenticação num superbloco falhou!')\n",
    "                    outputs.write(text)\n",
    "            print('decrypted:')\n",
    "            print(outputs.getvalue())\n",
    "        except Exception as Err:\n",
    "            print('Erro no recetor! {0}'.format(Err))\n",
    "\n",
    "        outputs.close()\n",
    "    else:\n",
    "        message = bytes(\"ERROR IN KEY CHECK\",'utf8')\n",
    "        signature = receiver_ecdsa_sk.sign(\n",
    "            message,\n",
    "            ec.ECDSA(hashes.SHA256())\n",
    "        )\n",
    "        connection.send({'msg':message, 'sig': signature})\n",
    "    connection.close()\n",
    "    "
   ]
  },
  {
   "cell_type": "code",
   "execution_count": 12,
   "metadata": {},
   "outputs": [
    {
     "name": "stdout",
     "output_type": "stream",
     "text": [
      "bytes before cipher:\n",
      "b'L\\x19\\x9c.\\xe3\\xe4\\xb5b\\x0b\\x1d+\\x1b\\x81\\x7f\\xf2T\\xb0CP%T\\xda\\x96\\x0c\\x82^\\xeb\\xdd]p\\xe1\\x94\\x1b\\xd3\\x86Z\\xfb\\xa6:\\xf6\\xcf\\x08\\x8cm\\xaa\\x8f\\xe8\\xfdu\\'\\xceM\\xc6\\xcc\\xed\\x1c6\\xe3\\xf4\\x92TIBs\\xa8\\xb8\\xb2|\\xbcm\\x19`\\x1c[\\xb7\\xcdA\\x88\\xa1M=\\xa8\\x01*\\xd5\\x1d\\xf3\\t\\x9b\\x02\\xdb\\x10\\xc3\\x14\\x94\\x19\\x9f^\\xad\\xf6{\\xa7bc\\x99\\xc2&\\\\\\xd8\\xd5\\x9a\\xfdz`\\x0e\\xae\\n^o\\x1d\\x8c*&\\x0f\\x92W\\x94\\xac\\xabr\\x9f\\xef\\xf0\\'\\x1evqjky\\xddT(\\x94\\xe7_\\xa8\\xfd\\xcd\\x82\\xd4\\xc6\\xb5\\xd7\\xe4\\x81\\xa2\\xe0\\rO\\x14#I\\xb2\\x8e\\xc3\\x80\\xf0(l\\x92\\x15$\\x82J\\xd4Jy\\xa5Y~)\\xf0\\x04\\xf3\\x0e\\xb9\\x82\\x00}|\\xc8L\\xf0\\xbf\\xe3!?\\x8b\\x8e\\xf7\\xc5\\xb4\\x93a\\xa1\\x02\"Yc&\\xd6\\xc6\\xdbx\\xd18A\\x9e\\xb0*\\x15\\x07\\xc4D\\x96<\\xaf\\x05\\x08\\\\\\xb2u~\\xb6\\x10\\xed}\\xc9;\\x0cXi9\\xcf\\xb3\\x93\\xa4 \\x8a\\xcaX\\xfd9x\\xfa\\xd1\\x1b\\xcc\\xa1T\\x83\\x99$\\xa3\\xecv\\xf9\\xb5d\\xc4\\x90\\x10\\xa4M\"p\\x87\\x12\\xb9z\\x14m\\x0b!\\xcf\\x9cZBd\\xdc\\x9a&ZZE\\xd8\\xae-PB\\x8a\\xc9\\x9bmJ\\xd72\\x1e\\xb2$\\x87\\x0f\\xe1\\xdcU!k\\x13\\xfbL\\x9f\\x9bx\\x8eQ\\xef\\xb1J\\x18\\x809\\xdbl\\xe5\\xdf`7\\xb4^J\\x1d\\xa0<\\x18}T?\\xf7\\xfd\\xfa^^w\\nq\\x90\\x83Zg\\x15V\\xd8\\x13\\xad\\xdaj\\xf1~\\xc1\\xce9\\x99\\xa4\\xf2\\xd03l\\x0e\\xa2\\x84y\\xd6*j~\\x98D\\x15\\xca\\x98~\\xbf\\xfc\\x1b\\xb5\\x7f\\xd6,`\\xf2\\xadT6tH\\x9bf\\xd3|\\x13\\x8f\\xd3\\xc1\\xd9\\'\\x12\\x08u\\x11$X\\xe7a+?\\xbbJ(\\xba\\xf2\\xe1\\xa7HCc\\xa6\\xfe\\x1c4\\xcc.\\x08\\xda\\xc4\\xff&\\xac2\\xa1\\xcfS\\xf4u@k\\\\\\xd6n\\xf0\\x15\\x14\\xe3_,\\xbd\\x07q\\x8f\\x8f\\x8d\\x9a\\x01\\xd1\\xce\\xdc\\xef;\\x04M\\x8f\\x86\\x8d\\xe6\\x94\\xcf\\xe90\\xc4E\\xd3$\\xa6\\x89v\\xf0,N\\x1d|L\\x10\\xa0\\x89\\xe5\\x84@z\\xf8\\x05i\\xbc\\x94\\xc8Slk*~\"\\x01{\\xce`\\x00p\\xf0\\x97,\\xcb\\xc1qrz25\\x05\\xf5\\xdc\\xfb0V3\\xb5EMc\\x0f%\\x0f\\x92Of\\xc4\\xa0|r\\x87\\x19&\\xd5\\xbat\\x03\\xf3\\x01c\\x94\\x0b\\xf6\\x88\\x89@\\xdd\\x02k\\x1c\\x8a\\xf7\\x01\\x00\\x9d\\x0b\\xf6\\x7fE\\x81\\x08\\x81\\xf3\\xd3\\x7f\\x91\\\\\\xe8\\xe1F\\xa69\\xd2\\xf9\\xb1\\xd1pg\\xe6s2\\x9eK\\x92w34]$% \\xcc\\x96\\x17A8\\xecW\\r\\xab\\xd4\\x00\\xc8\\xf0\\xc6D\\x16\\xd2Z\\xca-\\xe8%\\xa2\\x10\\xfc;)\\xabq\\x88\\xba %%\\x0c\\r6\\xe5\\xa4\\xd3}\\xf9SA\\xdf\\xf00 A\\xe9\\x00\\xf5+\\x0bb@\\xd4\\xf5\\xdd\\x95.\\xb5\\xc3\\xfa+\\x91\\xe2\\xa32\\xf4\\n\\x17\\xfc\\x8d*\\xd3\\x08\\xecL\\x0b\\x1eT4\\xa0\\xb3\\xfa\\xca\\xfek\\x05J\\xe61\\x1d\\x81\\xf0\\xb3\\xa0\\xa8\\x92y\\n\\xed3\\xba\\x04Ib^\\x94c\\xb8[|9\\xf9\\xf3>\\x06D\\xa6+L\\xcc\\xdcgB\\xd6\\x84({\\'&\\xac\\xe0\\x07\\xe7\\xbfyq\\xf06\\xb11\\xd0\\x83f\\x1b.\\x9b\\xd6~\\xa8^\\xab~\\xc0<+.\\xf6\\xd9\\xdcB\\xaf\\x81\\xf26!\\x87\\xf5\\x9co\\xae\\xb6`\\x9a_LL1t\\xbb\\xe5\\xd8\\'\\xbdC\\x89\\x1b\\x0c\\x17\\xfe\\xf0_\\xf8s\\xcaxV\\xe2U\\xa3\\xe4\\x02\\x15\\xd2\\xe4\\xee^\\x04L~\\x0e\\xc5n\\x8e\\x9c\\xcc\\xf5@\\xd7\\xe1(\\xc6\\xd8\\x04\\x1a[X\\xff\\xcb\\xbc\\x02V\\x19\\xef\\xabZ\\x1e\\xb6B\\x1b\\xe3\\xab\\xa6\\x9d\\x83\\xf8^\\xc9\\t\\xc8\\xa7\\xad\\xdf\\x15Y]z \\xa7\\t_\\xe6\\xccSa\\xbc\\x9a\\xbb/\\xbd\\x885\\xc4\\xc5\\xf7.\\x8cJ7\\x11\\xda;\\xbf\\x1a\\xeb\\xf5\\x05\\x90.\\x1d\\x8d\\nA\\x12\\x90\\x1c\\xafh\\xec{\\xe7\\t\\xc4-\\x1f\\xd31\\xa34 \\xb9\\xd0\\xe3\\xf5\\xa9a\\xa5\\xc7aF\\xcd\\x0b\\x82\\xa5\\x1aS\\x1eP\\xfa\\x03Z\\xe7\\x88\\xdc~\\xad\\xf9A\\xb08\\x89\\xbc\\xcd\\xdf#q\\xba\\xc7\\xa9Q\\xc9\\x99\\x1b[K.\\x0fV\\x0b\\x86:\\xd2Kc\\xa4n\\x8f\\xe3\\xe400.\\xb4}\\xeb*\\xc9\\x80aU\\xd4\\x9f\\x9d\\xf7f\\xef }cUp\\xfa\\x850\\xec\\xb5x\\xe7U\\nO\\xb6<\\x05c\\xf3\\xa3\\x14*\\x02\\xba\\xff\\'\\xdf\\xf3\\xf3\\xdf\\xf1\\x88o\\xce{b\\xfe\\x82\\xb7\\xf2\\x8f|n\\xcb\\xbe\\x90\\xd0a\\xa3v.:\\xea\\xccHC\\xd7\\x14\\xc79o\\xb0\\n\\xd9\\xb2\\xcb\\xb4\\x05\\xfez)\\x83F\\xe8F\\xeb|\\xc5\\x9d\\x07SY\\xf2\\x82o?\\xadG\\xe4\\xc1\\xd9\\xd3\\x83X\\xfaKZ\\xa1\\x05\\xae)\\xa17b\\xb57\\x98\\t\\xd5\\xa6\\xf8\\xfa\\xff\\xacC\\xd2U\\xd9q\\xb6\\xdeH5\\x1f\\xce\\x8d\\xbb\\x81!\\x93\\x02\\'\\xe3\\x98\\xefnv\\xba\\xcb&\\xc8N\\xfd^\\xb6\\xf4\\xd2\\xd6I\\x1c\\xb8\\xec\\xc2\\xb8\\x974\\xcdEk\\x86\\xdd\\xee/\\xc5\\x8bc\\x0b\\xf0\\xc6\\xf5\\xb6\\xceL:\\'\\xf9}K\\xb6U\\xd1A\\xc0\\x07\\xa9\\x7f\\x8c\\xfd\\x1f\\xff\\xebG\\xa1\\xb0\\xf8\\xc2\\xef-\\x90t\\xde\\xba\\xaf\\x06\\x83\\r\\x85i\\xec\\\\\\xc9\\xa2s\\xdd\\xbcM\\n\\xc5B?\\xf5\\x80x\\xd3?x\\x85\\xe6\\xa7o\\x1b\\xa0\\x1e:\\x84\\xd4\\x9f=\\xa2\\xbai8\\xad\\x80yaM\\x81J)\\x02P\\xcd\\xf38D[\\xd6gC\\x97\\xe0\\xb4\\xces\\xc4\\x9d\\x84\\xb5pq\\x13$\\xdac\\xd6R\\xe2\\x84\\xb8\\x917#(\\xb5`I1\\x13\\xb5\\x96\\xf8D\\x12\\x8f@H\\xe9}\\xe2\\x03_?\"\\xaf\\xdf,\\x8bL\\xa1\\x93S\\x9a\\xaf7\\xa1\\xae\\xa3j\\xab?S\\xa5\\xf6\\xa1uP%\\xf1\\xe2\\xdc\\xb9Qo\\xcd\\xfb\\x83\\xf7\\xd2E\\xb8]Q\\xf0\\xdd^\\xfe\\xaa\\x1b\\xc0\\xfd\\xe4\\xfe\\x18\\xf3\\xdf\\x0e@\\x03&\\x04[2\\x1b\\x02\\x17TXhb\\xf9\\x97I\\xc8N\\xf2}\\xa8M.\\x06\\x87\\xf3\\x8bb\\x83\\xbfM\\xadg\\n\\xb1\\xbeJ\\x15\\x8ea\\xe2B\\x8biju\\x12\\x1f\\xcelk}\\xc4\\x03\\xb6U\\xb3d\\x1cc\\xfc\\xa6\\xcd\\xcfF\\xfd-\\xcb\\xf9!\\xe0R\\xcck\\x9c\\xdc\\x88\\xb1\\xdb\\xab\\xdeX{\\xa9\\x9b\\xfe\\xe7\\x96\\xa73l\\xe9\\xde-\\x16\\xac\\x17\\xdb\\xff_\\xf3\\x8f\\xde\\xde\\xb1\\xc6\\x96Q\\xad\\xd4XK\\x89\\xe8\\xb9\\xd9\\xdb\\x8dSGM\\xbfG\\x9c\\x99\\x17\\xec\\xb9\\xebC|\\x88\\xd5?\\x1f,z2EOu\\x89\\xcb\\xcd\\xef K\\x9d\\x9d=\\xb9\\xf9\\xc8`\\x1a\\xd2\\xbf^\\x82\\xcf\\x02Y\\x88\\x8b|\\xf0\\x1b\\xaf\\xaf\\xea\\xed\\x17L\\xd3\\xeaClp\\x05\\x1d\\tt\\xa2\\xfb\\x1bQ\\xa2TW\\x92\\xbbJ\\xa6\\x89\\x15\\t{\\xb7\\x88v\\xe3f\\x9e\\xe9{e\\x86k\\xf0\\xc44v\\xaa\\x98Cm&\\x04\\xfc\\xbc\\xc3m\\xd4\\x15\\x83\\x8b\\xe2Q\\xda\\xab\\r\\x1f6$@'\n",
      "decrypted:\n",
      "b'L\\x19\\x9c.\\xe3\\xe4\\xb5b\\x0b\\x1d+\\x1b\\x81\\x7f\\xf2T\\xb0CP%T\\xda\\x96\\x0c\\x82^\\xeb\\xdd]p\\xe1\\x94\\x1b\\xd3\\x86Z\\xfb\\xa6:\\xf6\\xcf\\x08\\x8cm\\xaa\\x8f\\xe8\\xfdu\\'\\xceM\\xc6\\xcc\\xed\\x1c6\\xe3\\xf4\\x92TIBs\\xa8\\xb8\\xb2|\\xbcm\\x19`\\x1c[\\xb7\\xcdA\\x88\\xa1M=\\xa8\\x01*\\xd5\\x1d\\xf3\\t\\x9b\\x02\\xdb\\x10\\xc3\\x14\\x94\\x19\\x9f^\\xad\\xf6{\\xa7bc\\x99\\xc2&\\\\\\xd8\\xd5\\x9a\\xfdz`\\x0e\\xae\\n^o\\x1d\\x8c*&\\x0f\\x92W\\x94\\xac\\xabr\\x9f\\xef\\xf0\\'\\x1evqjky\\xddT(\\x94\\xe7_\\xa8\\xfd\\xcd\\x82\\xd4\\xc6\\xb5\\xd7\\xe4\\x81\\xa2\\xe0\\rO\\x14#I\\xb2\\x8e\\xc3\\x80\\xf0(l\\x92\\x15$\\x82J\\xd4Jy\\xa5Y~)\\xf0\\x04\\xf3\\x0e\\xb9\\x82\\x00}|\\xc8L\\xf0\\xbf\\xe3!?\\x8b\\x8e\\xf7\\xc5\\xb4\\x93a\\xa1\\x02\"Yc&\\xd6\\xc6\\xdbx\\xd18A\\x9e\\xb0*\\x15\\x07\\xc4D\\x96<\\xaf\\x05\\x08\\\\\\xb2u~\\xb6\\x10\\xed}\\xc9;\\x0cXi9\\xcf\\xb3\\x93\\xa4 \\x8a\\xcaX\\xfd9x\\xfa\\xd1\\x1b\\xcc\\xa1T\\x83\\x99$\\xa3\\xecv\\xf9\\xb5d\\xc4\\x90\\x10\\xa4M\"p\\x87\\x12\\xb9z\\x14m\\x0b!\\xcf\\x9cZBd\\xdc\\x9a&ZZE\\xd8\\xae-PB\\x8a\\xc9\\x9bmJ\\xd72\\x1e\\xb2$\\x87\\x0f\\xe1\\xdcU!k\\x13\\xfbL\\x9f\\x9bx\\x8eQ\\xef\\xb1J\\x18\\x809\\xdbl\\xe5\\xdf`7\\xb4^J\\x1d\\xa0<\\x18}T?\\xf7\\xfd\\xfa^^w\\nq\\x90\\x83Zg\\x15V\\xd8\\x13\\xad\\xdaj\\xf1~\\xc1\\xce9\\x99\\xa4\\xf2\\xd03l\\x0e\\xa2\\x84y\\xd6*j~\\x98D\\x15\\xca\\x98~\\xbf\\xfc\\x1b\\xb5\\x7f\\xd6,`\\xf2\\xadT6tH\\x9bf\\xd3|\\x13\\x8f\\xd3\\xc1\\xd9\\'\\x12\\x08u\\x11$X\\xe7a+?\\xbbJ(\\xba\\xf2\\xe1\\xa7HCc\\xa6\\xfe\\x1c4\\xcc.\\x08\\xda\\xc4\\xff&\\xac2\\xa1\\xcfS\\xf4u@k\\\\\\xd6n\\xf0\\x15\\x14\\xe3_,\\xbd\\x07q\\x8f\\x8f\\x8d\\x9a\\x01\\xd1\\xce\\xdc\\xef;\\x04M\\x8f\\x86\\x8d\\xe6\\x94\\xcf\\xe90\\xc4E\\xd3$\\xa6\\x89v\\xf0,N\\x1d|L\\x10\\xa0\\x89\\xe5\\x84@z\\xf8\\x05i\\xbc\\x94\\xc8Slk*~\"\\x01{\\xce`\\x00p\\xf0\\x97,\\xcb\\xc1qrz25\\x05\\xf5\\xdc\\xfb0V3\\xb5EMc\\x0f%\\x0f\\x92Of\\xc4\\xa0|r\\x87\\x19&\\xd5\\xbat\\x03\\xf3\\x01c\\x94\\x0b\\xf6\\x88\\x89@\\xdd\\x02k\\x1c\\x8a\\xf7\\x01\\x00\\x9d\\x0b\\xf6\\x7fE\\x81\\x08\\x81\\xf3\\xd3\\x7f\\x91\\\\\\xe8\\xe1F\\xa69\\xd2\\xf9\\xb1\\xd1pg\\xe6s2\\x9eK\\x92w34]$% \\xcc\\x96\\x17A8\\xecW\\r\\xab\\xd4\\x00\\xc8\\xf0\\xc6D\\x16\\xd2Z\\xca-\\xe8%\\xa2\\x10\\xfc;)\\xabq\\x88\\xba %%\\x0c\\r6\\xe5\\xa4\\xd3}\\xf9SA\\xdf\\xf00 A\\xe9\\x00\\xf5+\\x0bb@\\xd4\\xf5\\xdd\\x95.\\xb5\\xc3\\xfa+\\x91\\xe2\\xa32\\xf4\\n\\x17\\xfc\\x8d*\\xd3\\x08\\xecL\\x0b\\x1eT4\\xa0\\xb3\\xfa\\xca\\xfek\\x05J\\xe61\\x1d\\x81\\xf0\\xb3\\xa0\\xa8\\x92y\\n\\xed3\\xba\\x04Ib^\\x94c\\xb8[|9\\xf9\\xf3>\\x06D\\xa6+L\\xcc\\xdcgB\\xd6\\x84({\\'&\\xac\\xe0\\x07\\xe7\\xbfyq\\xf06\\xb11\\xd0\\x83f\\x1b.\\x9b\\xd6~\\xa8^\\xab~\\xc0<+.\\xf6\\xd9\\xdcB\\xaf\\x81\\xf26!\\x87\\xf5\\x9co\\xae\\xb6`\\x9a_LL1t\\xbb\\xe5\\xd8\\'\\xbdC\\x89\\x1b\\x0c\\x17\\xfe\\xf0_\\xf8s\\xcaxV\\xe2U\\xa3\\xe4\\x02\\x15\\xd2\\xe4\\xee^\\x04L~\\x0e\\xc5n\\x8e\\x9c\\xcc\\xf5@\\xd7\\xe1(\\xc6\\xd8\\x04\\x1a[X\\xff\\xcb\\xbc\\x02V\\x19\\xef\\xabZ\\x1e\\xb6B\\x1b\\xe3\\xab\\xa6\\x9d\\x83\\xf8^\\xc9\\t\\xc8\\xa7\\xad\\xdf\\x15Y]z \\xa7\\t_\\xe6\\xccSa\\xbc\\x9a\\xbb/\\xbd\\x885\\xc4\\xc5\\xf7.\\x8cJ7\\x11\\xda;\\xbf\\x1a\\xeb\\xf5\\x05\\x90.\\x1d\\x8d\\nA\\x12\\x90\\x1c\\xafh\\xec{\\xe7\\t\\xc4-\\x1f\\xd31\\xa34 \\xb9\\xd0\\xe3\\xf5\\xa9a\\xa5\\xc7aF\\xcd\\x0b\\x82\\xa5\\x1aS\\x1eP\\xfa\\x03Z\\xe7\\x88\\xdc~\\xad\\xf9A\\xb08\\x89\\xbc\\xcd\\xdf#q\\xba\\xc7\\xa9Q\\xc9\\x99\\x1b[K.\\x0fV\\x0b\\x86:\\xd2Kc\\xa4n\\x8f\\xe3\\xe400.\\xb4}\\xeb*\\xc9\\x80aU\\xd4\\x9f\\x9d\\xf7f\\xef }cUp\\xfa\\x850\\xec\\xb5x\\xe7U\\nO\\xb6<\\x05c\\xf3\\xa3\\x14*\\x02\\xba\\xff\\'\\xdf\\xf3\\xf3\\xdf\\xf1\\x88o\\xce{b\\xfe\\x82\\xb7\\xf2\\x8f|n\\xcb\\xbe\\x90\\xd0a\\xa3v.:\\xea\\xccHC\\xd7\\x14\\xc79o\\xb0\\n\\xd9\\xb2\\xcb\\xb4\\x05\\xfez)\\x83F\\xe8F\\xeb|\\xc5\\x9d\\x07SY\\xf2\\x82o?\\xadG\\xe4\\xc1\\xd9\\xd3\\x83X\\xfaKZ\\xa1\\x05\\xae)\\xa17b\\xb57\\x98\\t\\xd5\\xa6\\xf8\\xfa\\xff\\xacC\\xd2U\\xd9q\\xb6\\xdeH5\\x1f\\xce\\x8d\\xbb\\x81!\\x93\\x02\\'\\xe3\\x98\\xefnv\\xba\\xcb&\\xc8N\\xfd^\\xb6\\xf4\\xd2\\xd6I\\x1c\\xb8\\xec\\xc2\\xb8\\x974\\xcdEk\\x86\\xdd\\xee/\\xc5\\x8bc\\x0b\\xf0\\xc6\\xf5\\xb6\\xceL:\\'\\xf9}K\\xb6U\\xd1A\\xc0\\x07\\xa9\\x7f\\x8c\\xfd\\x1f\\xff\\xebG\\xa1\\xb0\\xf8\\xc2\\xef-\\x90t\\xde\\xba\\xaf\\x06\\x83\\r\\x85i\\xec\\\\\\xc9\\xa2s\\xdd\\xbcM\\n\\xc5B?\\xf5\\x80x\\xd3?x\\x85\\xe6\\xa7o\\x1b\\xa0\\x1e:\\x84\\xd4\\x9f=\\xa2\\xbai8\\xad\\x80yaM\\x81J)\\x02P\\xcd\\xf38D[\\xd6gC\\x97\\xe0\\xb4\\xces\\xc4\\x9d\\x84\\xb5pq\\x13$\\xdac\\xd6R\\xe2\\x84\\xb8\\x917#(\\xb5`I1\\x13\\xb5\\x96\\xf8D\\x12\\x8f@H\\xe9}\\xe2\\x03_?\"\\xaf\\xdf,\\x8bL\\xa1\\x93S\\x9a\\xaf7\\xa1\\xae\\xa3j\\xab?S\\xa5\\xf6\\xa1uP%\\xf1\\xe2\\xdc\\xb9Qo\\xcd\\xfb\\x83\\xf7\\xd2E\\xb8]Q\\xf0\\xdd^\\xfe\\xaa\\x1b\\xc0\\xfd\\xe4\\xfe\\x18\\xf3\\xdf\\x0e@\\x03&\\x04[2\\x1b\\x02\\x17TXhb\\xf9\\x97I\\xc8N\\xf2}\\xa8M.\\x06\\x87\\xf3\\x8bb\\x83\\xbfM\\xadg\\n\\xb1\\xbeJ\\x15\\x8ea\\xe2B\\x8biju\\x12\\x1f\\xcelk}\\xc4\\x03\\xb6U\\xb3d\\x1cc\\xfc\\xa6\\xcd\\xcfF\\xfd-\\xcb\\xf9!\\xe0R\\xcck\\x9c\\xdc\\x88\\xb1\\xdb\\xab\\xdeX{\\xa9\\x9b\\xfe\\xe7\\x96\\xa73l\\xe9\\xde-\\x16\\xac\\x17\\xdb\\xff_\\xf3\\x8f\\xde\\xde\\xb1\\xc6\\x96Q\\xad\\xd4XK\\x89\\xe8\\xb9\\xd9\\xdb\\x8dSGM\\xbfG\\x9c\\x99\\x17\\xec\\xb9\\xebC|\\x88\\xd5?\\x1f,z2EOu\\x89\\xcb\\xcd\\xef K\\x9d\\x9d=\\xb9\\xf9\\xc8`\\x1a\\xd2\\xbf^\\x82\\xcf\\x02Y\\x88\\x8b|\\xf0\\x1b\\xaf\\xaf\\xea\\xed\\x17L\\xd3\\xeaClp\\x05\\x1d\\tt\\xa2\\xfb\\x1bQ\\xa2TW\\x92\\xbbJ\\xa6\\x89\\x15\\t{\\xb7\\x88v\\xe3f\\x9e\\xe9{e\\x86k\\xf0\\xc44v\\xaa\\x98Cm&\\x04\\xfc\\xbc\\xc3m\\xd4\\x15\\x83\\x8b\\xe2Q\\xda\\xab\\r\\x1f6$@'\n"
     ]
    }
   ],
   "source": [
    "BiConnection(Emitter,Receiver).auto()"
   ]
  },
  {
   "cell_type": "markdown",
   "metadata": {},
   "source": [
    "A comparação entre os valores dados por **bytes before cipher** e por **decrypted** no output, por via da igualdade, permitem concluir que a mensagem que foi gerada é a mesma mensagem que foi decifrada."
   ]
  },
  {
   "cell_type": "markdown",
   "metadata": {},
   "source": [
    "## Conclusão"
   ]
  },
  {
   "cell_type": "markdown",
   "metadata": {},
   "source": [
    "Os resultados da realização deste trabalho prático são, na nossa opinião, muito satisfatórios visto que fomos capazes de cumprir com todos os objetivos propostos ao implementar duas sessões síncronas seguras de troca de informação entre agentes, uma utilizando o protocolo **DH** e o algoritmo de assinaturas **DSA** e outra utilizando o protocolo **ECDH** e o algoritmo de assinaturas **ECDSA**. Além disso, a apresentação dos resultados (código e explicação) está feita de tal forma que seja mais simples entender o que foi a estratégia do grupo para a resolução dos problemas propostos.\n",
    "\n",
    "No processo de resolução deste trabalho prático, o grupo deparou-se apenas com duas dificuldades que foram, eventualmente, ultrapassadas com mais ou menos esforço. Uma delas diz respeito à implementação do **TAES** devido ao facto de a primitiva ter que ser efetivamente implementada antes de a utilizar o que, no início, gerou um bocado de confusão em relação ao que devia ser feito. A segunda dificuldade esteve relacionada com o facto da especificação da sessão síncrona, visto que, esta foi a primeira vez que o grupo implementou algo do género, pelo que as características deste tipo de sessão tiveram que ser bem estabelecidades e diferenciadas em relação ao tipo de sessão que estávamos habituados a implementar (sessão assíncrona)."
   ]
  },
  {
   "cell_type": "markdown",
   "metadata": {},
   "source": [
    "## Referências"
   ]
  },
  {
   "cell_type": "markdown",
   "metadata": {},
   "source": [
    "1. [Worksheets TP2 fornecidas pelo professor](https://www.dropbox.com/sh/f0j9adiaw4v3deb/AADIuhV5bL5qqzbM_RLS-gMXa/WorkSheets/TP2?dl=0&subfolder_nav_tracking=1)\n",
    "2. [Cryptography - Elliptic Curve cryptography](https://cryptography.io/en/latest/hazmat/primitives/asymmetric/ec/#)\n",
    "3. [Cryptography - Diffie-Hellman Key Exchange](https://cryptography.io/en/latest/hazmat/primitives/asymmetric/dh/)\n",
    "4. [Tweakable Block Ciphers - paper by Liskov, Rivest and Wagner](https://people.eecs.berkeley.edu/~daw/papers/tweak-crypto02.pdf)\n",
    "5. [Tweakable Block Ciphers - Notas manuscritas do professor](https://www.dropbox.com/sh/f0j9adiaw4v3deb/AAC5XUPllha9QXo-vVxTHqXna/Docs/NOTAS_MANUSCRITAS?dl=0&preview=TWEAKABLE_BLOCK_CIPHERS.PDF&subfolder_nav_tracking=1)"
   ]
  }
 ],
 "metadata": {
  "kernelspec": {
   "display_name": "Python 3",
   "language": "python",
   "name": "python3"
  },
  "language_info": {
   "codemirror_mode": {
    "name": "ipython",
    "version": 3
   },
   "file_extension": ".py",
   "mimetype": "text/x-python",
   "name": "python",
   "nbconvert_exporter": "python",
   "pygments_lexer": "ipython3",
   "version": "3.7.2"
  }
 },
 "nbformat": 4,
 "nbformat_minor": 2
}
